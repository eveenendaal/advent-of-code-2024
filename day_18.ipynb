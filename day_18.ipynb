{
 "cells": [
  {
   "metadata": {
    "ExecuteTime": {
     "end_time": "2024-12-18T05:17:46.959929Z",
     "start_time": "2024-12-18T05:17:46.947492Z"
    }
   },
   "cell_type": "code",
   "source": [
    "from common.inputreader import InputReader, PuzzleWrapper\n",
    "from common.matrix import Matrix, MatrixNavigator\n",
    "\n",
    "puzzle = PuzzleWrapper(year=2024, day=int(\"18\"))\n",
    "\n",
    "puzzle.header()\n",
    "# example = get_code_block(puzzle, 5)"
   ],
   "id": "dec75b3898d7314f",
   "outputs": [
    {
     "data": {
      "text/plain": [
       "<IPython.core.display.Markdown object>"
      ],
      "text/markdown": "# RAM Run"
     },
     "metadata": {},
     "output_type": "display_data"
    },
    {
     "data": {
      "text/plain": [
       "<IPython.core.display.Markdown object>"
      ],
      "text/markdown": "[Open Website](https://adventofcode.com/2024/day/18)"
     },
     "metadata": {},
     "output_type": "display_data"
    }
   ],
   "execution_count": 17
  },
  {
   "metadata": {
    "ExecuteTime": {
     "end_time": "2024-12-18T05:26:45.512056Z",
     "start_time": "2024-12-18T05:26:45.505248Z"
    }
   },
   "cell_type": "code",
   "source": [
    "# helper functions\n",
    "def domain_from_input(input: InputReader, size: int) -> (Matrix, list):\n",
    "    lines = input.lines_as_strs()\n",
    "\n",
    "    # find points\n",
    "    points = []\n",
    "    for line in lines:\n",
    "        point = line[0].split(\",\")\n",
    "        points.append((int(point[0]), int(point[1])))\n",
    "\n",
    "    # create matrix\n",
    "    grid = []\n",
    "    for y in range(size + 1):\n",
    "        row = []\n",
    "        for x in range(size + 1):\n",
    "            row.append(\".\")\n",
    "        grid.append(row)\n",
    "\n",
    "    return Matrix(grid), points\n",
    "\n",
    "\n",
    "test_input, queue = domain_from_input(puzzle.example(0), 6)\n",
    "test_input.print()\n",
    "print(queue)"
   ],
   "id": "34dd2d43c40af29b",
   "outputs": [
    {
     "name": "stdout",
     "output_type": "stream",
     "text": [
      ".......\n",
      ".......\n",
      ".......\n",
      ".......\n",
      ".......\n",
      ".......\n",
      ".......\n",
      "[(5, 4), (4, 2), (4, 5), (3, 0), (2, 1), (6, 3), (2, 4), (1, 5), (0, 6), (3, 3), (2, 6), (5, 1), (1, 2), (5, 5), (2, 5), (6, 5), (1, 4), (0, 4), (6, 4), (1, 1), (6, 1), (1, 0), (0, 5), (1, 6), (2, 0)]\n"
     ]
    }
   ],
   "execution_count": 24
  },
  {
   "metadata": {
    "ExecuteTime": {
     "end_time": "2024-12-18T05:43:22.328145Z",
     "start_time": "2024-12-18T05:43:22.313301Z"
    }
   },
   "cell_type": "code",
   "source": [
    "from common.matrix import Direction, MatrixNavigator\n",
    "\n",
    "directions = [Direction.UP, Direction.DOWN, Direction.LEFT, Direction.RIGHT]\n",
    "\n",
    "\n",
    "def find_shortest_path(matrix: Matrix, start: (int, int), end: (int, int)) -> int:\n",
    "    queue = [(start, Direction.DOWN, 0), (start, Direction.RIGHT, 0)]\n",
    "    history = []\n",
    "\n",
    "    while queue:\n",
    "        # short queue by cost\n",
    "        for i in range(1, len(queue)):\n",
    "            if queue[i][2] < queue[0][2]:\n",
    "                queue[0], queue[i] = queue[i], queue[0]\n",
    "\n",
    "        # pop the node\n",
    "        point, direction, cost = queue.pop(0)\n",
    "\n",
    "        # check if we are done\n",
    "        if point == end:\n",
    "            return cost\n",
    "\n",
    "        # if point and direction in history stop\n",
    "        if (point, direction) in history:\n",
    "            continue\n",
    "        history.append((point, direction))\n",
    "\n",
    "        # move the pointer\n",
    "        pointer = MatrixNavigator(matrix, point[0], point[1])\n",
    "        pointer.move(direction)\n",
    "\n",
    "        # check all directions\n",
    "        for new_direction in directions:\n",
    "            ok, value = pointer.peek_value(new_direction)\n",
    "            if ok and value == \".\":\n",
    "                queue.append((pointer.get_position(), new_direction, cost + 1))\n",
    "\n",
    "\n",
    "# test case (part 1)\n",
    "def part_1(reader: InputReader, size: int, steps: int, debug: bool) -> int:\n",
    "    matrix, queue = domain_from_input(reader, size)\n",
    "\n",
    "    for i in range(0, steps):\n",
    "        point = queue[i]\n",
    "        matrix.set_value(point[0], point[1], \"#\")\n",
    "\n",
    "    if debug:\n",
    "        matrix.print()\n",
    "\n",
    "    start = (0, 0)\n",
    "    end = (size, size)\n",
    "    return find_shortest_path(matrix, start, end)\n",
    "\n",
    "\n",
    "result = part_1(puzzle.example(0), 6, 12, True)\n",
    "display(result)\n",
    "assert result == 22"
   ],
   "id": "6d23892a17117fed",
   "outputs": [
    {
     "name": "stdout",
     "output_type": "stream",
     "text": [
      "...#...\n",
      "..#..#.\n",
      "....#..\n",
      "...#..#\n",
      "..#..#.\n",
      ".#..#..\n",
      "#.#....\n"
     ]
    },
    {
     "data": {
      "text/plain": [
       "22"
      ]
     },
     "metadata": {},
     "output_type": "display_data"
    }
   ],
   "execution_count": 39
  },
  {
   "metadata": {
    "ExecuteTime": {
     "end_time": "2024-12-18T05:43:55.387314Z",
     "start_time": "2024-12-18T05:43:47.290906Z"
    }
   },
   "cell_type": "code",
   "source": [
    "# real case (part 1)\n",
    "result = part_1(puzzle.input(), 70, 1024, False)\n",
    "display(result)\n",
    "assert result == 304"
   ],
   "id": "66cab898e4711d42",
   "outputs": [
    {
     "data": {
      "text/plain": [
       "304"
      ]
     },
     "metadata": {},
     "output_type": "display_data"
    }
   ],
   "execution_count": 40
  },
  {
   "metadata": {},
   "cell_type": "code",
   "source": [
    "# test case (part 2)\n",
    "def part_2(reader: InputReader, debug: bool) -> int:\n",
    "    lines = domain_from_input(reader)\n",
    "    if debug:\n",
    "        display(lines)\n",
    "    return 0\n",
    "\n",
    "\n",
    "result = part_2(puzzle.example(0), True)\n",
    "display(result)\n",
    "assert result == 0"
   ],
   "id": "d2277c7db8ea0a5e",
   "outputs": [],
   "execution_count": null
  },
  {
   "metadata": {},
   "cell_type": "code",
   "source": [
    "# real case (part 2)\n",
    "result = part_2(puzzle.input(), False)\n",
    "display(result)"
   ],
   "id": "57c071f7c6d2914",
   "outputs": [],
   "execution_count": null
  },
  {
   "metadata": {},
   "cell_type": "code",
   "source": [
    "# print easters eggs\n",
    "puzzle.print_easter_eggs()"
   ],
   "id": "44e329cbb6ad2400",
   "outputs": [],
   "execution_count": null
  }
 ],
 "metadata": {
  "kernelspec": {
   "display_name": "Python 3",
   "language": "python",
   "name": "python3"
  },
  "language_info": {
   "codemirror_mode": {
    "name": "ipython",
    "version": 2
   },
   "file_extension": ".py",
   "mimetype": "text/x-python",
   "name": "python",
   "nbconvert_exporter": "python",
   "pygments_lexer": "ipython2",
   "version": "2.7.6"
  }
 },
 "nbformat": 4,
 "nbformat_minor": 5
}
