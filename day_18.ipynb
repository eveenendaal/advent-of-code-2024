{
 "cells": [
  {
   "metadata": {
    "ExecuteTime": {
     "end_time": "2024-12-18T18:17:40.466641Z",
     "start_time": "2024-12-18T18:17:40.436562Z"
    }
   },
   "cell_type": "code",
   "source": [
    "from common.inputreader import InputReader, PuzzleWrapper\n",
    "from common.matrix import Matrix, MatrixNavigator\n",
    "\n",
    "puzzle = PuzzleWrapper(year=2024, day=int(\"18\"))\n",
    "\n",
    "puzzle.header()\n",
    "# example = get_code_block(puzzle, 5)"
   ],
   "id": "110dd978a3021cfe",
   "outputs": [
    {
     "data": {
      "text/plain": [
       "<IPython.core.display.Markdown object>"
      ],
      "text/markdown": "# RAM Run"
     },
     "metadata": {},
     "output_type": "display_data"
    },
    {
     "data": {
      "text/plain": [
       "<IPython.core.display.Markdown object>"
      ],
      "text/markdown": "[Open Website](https://adventofcode.com/2024/day/18)"
     },
     "metadata": {},
     "output_type": "display_data"
    }
   ],
   "execution_count": 51
  },
  {
   "metadata": {
    "ExecuteTime": {
     "end_time": "2024-12-18T18:17:40.504504Z",
     "start_time": "2024-12-18T18:17:40.490660Z"
    }
   },
   "cell_type": "code",
   "source": [
    "# helper functions\n",
    "def domain_from_input(input: InputReader, size: int) -> (Matrix, list):\n",
    "    lines = input.lines_as_strs()\n",
    "\n",
    "    # find points\n",
    "    points = []\n",
    "    for line in lines:\n",
    "        point = line[0].split(\",\")\n",
    "        points.append((int(point[0]), int(point[1])))\n",
    "\n",
    "    # create matrix\n",
    "    grid = []\n",
    "    for y in range(size + 1):\n",
    "        row = []\n",
    "        for x in range(size + 1):\n",
    "            row.append(\".\")\n",
    "        grid.append(row)\n",
    "\n",
    "    return Matrix(grid), points\n",
    "\n",
    "\n",
    "test_input, queue = domain_from_input(puzzle.example(0), 6)\n",
    "test_input.print()\n",
    "print(queue)"
   ],
   "id": "2f8234e7a8442e6f",
   "outputs": [
    {
     "name": "stdout",
     "output_type": "stream",
     "text": [
      ".......\n",
      ".......\n",
      ".......\n",
      ".......\n",
      ".......\n",
      ".......\n",
      ".......\n",
      "[(5, 4), (4, 2), (4, 5), (3, 0), (2, 1), (6, 3), (2, 4), (1, 5), (0, 6), (3, 3), (2, 6), (5, 1), (1, 2), (5, 5), (2, 5), (6, 5), (1, 4), (0, 4), (6, 4), (1, 1), (6, 1), (1, 0), (0, 5), (1, 6), (2, 0)]\n"
     ]
    }
   ],
   "execution_count": 52
  },
  {
   "metadata": {
    "ExecuteTime": {
     "end_time": "2024-12-18T18:17:40.542060Z",
     "start_time": "2024-12-18T18:17:40.532654Z"
    }
   },
   "cell_type": "code",
   "source": [
    "from common.matrix import Direction, MatrixNavigator\n",
    "\n",
    "directions = [Direction.UP, Direction.DOWN, Direction.LEFT, Direction.RIGHT]\n",
    "\n",
    "\n",
    "def find_shortest_path(matrix: Matrix, start: (int, int), end: (int, int)) -> int:\n",
    "    queue = [(start, Direction.DOWN, 0), (start, Direction.RIGHT, 0)]\n",
    "    history = []\n",
    "\n",
    "    while queue:\n",
    "        # short queue by cost\n",
    "        for i in range(1, len(queue)):\n",
    "            if queue[i][2] < queue[0][2]:\n",
    "                queue[0], queue[i] = queue[i], queue[0]\n",
    "\n",
    "        # pop the node\n",
    "        point, direction, cost = queue.pop(0)\n",
    "\n",
    "        # check if we are done\n",
    "        if point == end:\n",
    "            return cost\n",
    "\n",
    "        # if point and direction in history stop\n",
    "        if (point, direction) in history:\n",
    "            continue\n",
    "        history.append((point, direction))\n",
    "\n",
    "        # move the pointer\n",
    "        pointer = MatrixNavigator(matrix, point[0], point[1])\n",
    "        pointer.move(direction)\n",
    "\n",
    "        # check all directions\n",
    "        for new_direction in directions:\n",
    "            ok, value = pointer.peek_value(new_direction)\n",
    "            if ok and value == \".\":\n",
    "                queue.append((pointer.get_position(), new_direction, cost + 1))\n",
    "\n",
    "\n",
    "# test case (part 1)\n",
    "def part_1(reader: InputReader, size: int, steps: int, debug: bool) -> int:\n",
    "    matrix, queue = domain_from_input(reader, size)\n",
    "\n",
    "    for i in range(0, steps):\n",
    "        point = queue[i]\n",
    "        matrix.set_value(point[0], point[1], \"#\")\n",
    "\n",
    "    if debug:\n",
    "        matrix.print()\n",
    "\n",
    "    start = (0, 0)\n",
    "    end = (size, size)\n",
    "    return find_shortest_path(matrix, start, end)\n",
    "\n",
    "\n",
    "result = part_1(puzzle.example(0), 6, 12, True)\n",
    "display(result)\n",
    "assert result == 22"
   ],
   "id": "a799f327f313866",
   "outputs": [
    {
     "name": "stdout",
     "output_type": "stream",
     "text": [
      "...#...\n",
      "..#..#.\n",
      "....#..\n",
      "...#..#\n",
      "..#..#.\n",
      ".#..#..\n",
      "#.#....\n"
     ]
    },
    {
     "data": {
      "text/plain": [
       "22"
      ]
     },
     "metadata": {},
     "output_type": "display_data"
    }
   ],
   "execution_count": 53
  },
  {
   "metadata": {
    "ExecuteTime": {
     "end_time": "2024-12-18T18:17:48.587836Z",
     "start_time": "2024-12-18T18:17:40.575164Z"
    }
   },
   "cell_type": "code",
   "source": [
    "# real case (part 1)\n",
    "result = part_1(puzzle.input(), 70, 1024, False)\n",
    "display(result)\n",
    "assert result == 304"
   ],
   "id": "2a696d96c7b671ab",
   "outputs": [
    {
     "data": {
      "text/plain": [
       "304"
      ]
     },
     "metadata": {},
     "output_type": "display_data"
    }
   ],
   "execution_count": 54
  },
  {
   "metadata": {
    "ExecuteTime": {
     "end_time": "2024-12-18T18:17:48.624793Z",
     "start_time": "2024-12-18T18:17:48.610274Z"
    }
   },
   "cell_type": "code",
   "source": [
    "def find_shortest_path_2(matrix: Matrix, start: (int, int), end: (int, int)) -> list:\n",
    "    queue = [(start, Direction.DOWN, 0, []), (start, Direction.RIGHT, 0, [])]\n",
    "    known = []\n",
    "\n",
    "    while queue:\n",
    "        # short queue by cost\n",
    "        for i in range(1, len(queue)):\n",
    "            if queue[i][2] < queue[0][2]:\n",
    "                queue[0], queue[i] = queue[i], queue[0]\n",
    "\n",
    "        # pop the node\n",
    "        point, direction, cost, history = queue.pop(0)\n",
    "\n",
    "        # check if we are done\n",
    "        if point == end:\n",
    "            return history\n",
    "\n",
    "        # if point and direction in history stop\n",
    "        if (point, direction) in known:\n",
    "            continue\n",
    "        known.append((point, direction))\n",
    "\n",
    "        # move the pointer\n",
    "        pointer = MatrixNavigator(matrix, point[0], point[1])\n",
    "        pointer.move(direction)\n",
    "\n",
    "        # check all directions\n",
    "        for new_direction in directions:\n",
    "            ok, value = pointer.peek_value(new_direction)\n",
    "            if ok and value == \".\":\n",
    "                history.append((point))\n",
    "                queue.append((pointer.get_position(), new_direction, cost + 1, history))\n",
    "\n",
    "    return []\n",
    "\n",
    "\n",
    "# test case (part 2)\n",
    "def part_2(reader: InputReader, size: int, skip: int) -> str:\n",
    "    matrix, queue = domain_from_input(reader, size)\n",
    "\n",
    "    last_steps = None\n",
    "    count = 0\n",
    "    start = (0, 0)\n",
    "    end = (size, size)\n",
    "\n",
    "    while True:\n",
    "        count += 1\n",
    "        point = queue.pop(0)\n",
    "        matrix.set_value(point[0], point[1], \"#\")\n",
    "        if skip > 0:\n",
    "            skip -= 1\n",
    "            continue\n",
    "\n",
    "        # if this is the first time we are here, run the shortest path\n",
    "        if last_steps is None:\n",
    "            last_steps = find_shortest_path_2(matrix, start, end)\n",
    "\n",
    "        # if point in last steps run simulation\n",
    "        if point in last_steps:\n",
    "            print(f\"start simulation as {count}\")\n",
    "            last_steps = find_shortest_path_2(matrix, start, end)\n",
    "            print(\"done\")\n",
    "\n",
    "        # if we are done\n",
    "        if len(last_steps) == 0:\n",
    "            return f\"{point[0]},{point[1]}\"\n",
    "\n",
    "\n",
    "result = part_2(puzzle.example(0), 6, 5)\n",
    "display(result)\n",
    "assert result == \"6,1\""
   ],
   "id": "cb4ebfef8677e73c",
   "outputs": [
    {
     "name": "stdout",
     "output_type": "stream",
     "text": [
      "start simulation as 7\n",
      "done\n",
      "start simulation as 8\n",
      "done\n",
      "start simulation as 9\n",
      "done\n",
      "start simulation as 10\n",
      "done\n",
      "start simulation as 11\n",
      "done\n",
      "start simulation as 12\n",
      "done\n",
      "start simulation as 13\n",
      "done\n",
      "start simulation as 14\n",
      "done\n",
      "start simulation as 15\n",
      "done\n",
      "start simulation as 17\n",
      "done\n",
      "start simulation as 18\n",
      "done\n",
      "start simulation as 20\n",
      "done\n",
      "start simulation as 21\n",
      "done\n"
     ]
    },
    {
     "data": {
      "text/plain": [
       "'6,1'"
      ]
     },
     "metadata": {},
     "output_type": "display_data"
    }
   ],
   "execution_count": 55
  },
  {
   "metadata": {
    "ExecuteTime": {
     "end_time": "2024-12-18T18:17:48.786551Z",
     "start_time": "2024-12-18T18:17:48.634677Z"
    }
   },
   "cell_type": "code",
   "source": [
    "# real case (part 2)\n",
    "result = part_2(puzzle.input(), 70, 2800)\n",
    "display(result)"
   ],
   "id": "f75d4a413658589e",
   "outputs": [
    {
     "name": "stdout",
     "output_type": "stream",
     "text": [
      "start simulation as 2805\n",
      "done\n",
      "start simulation as 2851\n",
      "done\n",
      "start simulation as 2864\n",
      "done\n",
      "start simulation as 2876\n",
      "done\n",
      "start simulation as 2877\n",
      "done\n"
     ]
    },
    {
     "data": {
      "text/plain": [
       "'50,28'"
      ]
     },
     "metadata": {},
     "output_type": "display_data"
    }
   ],
   "execution_count": 56
  },
  {
   "metadata": {
    "ExecuteTime": {
     "end_time": "2024-12-18T18:17:48.813099Z",
     "start_time": "2024-12-18T18:17:48.803290Z"
    }
   },
   "cell_type": "code",
   "source": [
    "# print easters eggs\n",
    "puzzle.print_easter_eggs()"
   ],
   "id": "680aef21c1de61b7",
   "outputs": [
    {
     "data": {
      "text/plain": [
       "<IPython.core.display.Markdown object>"
      ],
      "text/markdown": "## Easter Eggs"
     },
     "metadata": {},
     "output_type": "display_data"
    },
    {
     "data": {
      "text/plain": [
       "<IPython.core.display.Markdown object>"
      ],
      "text/markdown": "<span title=\"Pun intended.\">Run</span> (Pun intended.)"
     },
     "metadata": {},
     "output_type": "display_data"
    }
   ],
   "execution_count": 57
  }
 ],
 "metadata": {
  "kernelspec": {
   "display_name": "Python 3",
   "language": "python",
   "name": "python3"
  },
  "language_info": {
   "codemirror_mode": {
    "name": "ipython",
    "version": 2
   },
   "file_extension": ".py",
   "mimetype": "text/x-python",
   "name": "python",
   "nbconvert_exporter": "python",
   "pygments_lexer": "ipython2",
   "version": "2.7.6"
  }
 },
 "nbformat": 4,
 "nbformat_minor": 5
}
