{
 "cells": [
  {
   "metadata": {
    "ExecuteTime": {
     "end_time": "2024-12-11T06:50:03.075895Z",
     "start_time": "2024-12-11T06:50:02.972900Z"
    }
   },
   "cell_type": "code",
   "source": [
    "from common.inputreader import InputReader, PuzzleWrapper\n",
    "\n",
    "puzzle = PuzzleWrapper(year=2024, day=int(\"11\"))\n",
    "\n",
    "puzzle.header()\n",
    "# example = get_code_block(puzzle, 5)"
   ],
   "id": "dec75b3898d7314f",
   "outputs": [
    {
     "data": {
      "text/plain": [
       "<IPython.core.display.Markdown object>"
      ],
      "text/markdown": "# Plutonian Pebbles"
     },
     "metadata": {},
     "output_type": "display_data"
    },
    {
     "data": {
      "text/plain": [
       "<IPython.core.display.Markdown object>"
      ],
      "text/markdown": "[Open Website](https://adventofcode.com/2024/day/11)"
     },
     "metadata": {},
     "output_type": "display_data"
    }
   ],
   "execution_count": 1
  },
  {
   "metadata": {
    "ExecuteTime": {
     "end_time": "2024-12-11T06:50:03.385382Z",
     "start_time": "2024-12-11T06:50:03.379005Z"
    }
   },
   "cell_type": "code",
   "source": [
    "# helper functions\n",
    "def domain_from_input(input: InputReader) -> list:\n",
    "    return input.lines_as_strs()[0]\n",
    "\n",
    "\n",
    "test_input = domain_from_input(InputReader(\"125 17\"))\n",
    "display(test_input)"
   ],
   "id": "34dd2d43c40af29b",
   "outputs": [
    {
     "data": {
      "text/plain": [
       "['125', '17']"
      ]
     },
     "metadata": {},
     "output_type": "display_data"
    }
   ],
   "execution_count": 2
  },
  {
   "metadata": {
    "ExecuteTime": {
     "end_time": "2024-12-11T06:50:03.591839Z",
     "start_time": "2024-12-11T06:50:03.547057Z"
    }
   },
   "cell_type": "code",
   "source": [
    "# test case (part 1)\n",
    "def apply_rules(value: str) -> list:\n",
    "    if value == '0':\n",
    "        return ['1']\n",
    "    elif len(value) % 2 == 0:\n",
    "        # split string\n",
    "        half = len(value) // 2\n",
    "        left = int(value[:half])\n",
    "        right = int(value[half:])\n",
    "        return [str(left), str(right)]\n",
    "    else:\n",
    "        return [str(int(value) * 2024)]\n",
    "\n",
    "\n",
    "def part_1(reader: InputReader, debug: bool) -> int:\n",
    "    stones = domain_from_input(reader)\n",
    "    # convert to stones\n",
    "    rounds = 25\n",
    "    while rounds > 0:\n",
    "        rounds -= 1\n",
    "        new_stones = []\n",
    "        for stone in stones:\n",
    "            new_stones.extend(apply_rules(stone))\n",
    "        stones = new_stones\n",
    "        if debug:\n",
    "            display(\" \".join(stones))\n",
    "\n",
    "    return len(stones)\n",
    "\n",
    "\n",
    "result = part_1(InputReader(\"125 17\"), False)\n",
    "display(result)\n",
    "assert result == 55312"
   ],
   "id": "6d23892a17117fed",
   "outputs": [
    {
     "data": {
      "text/plain": [
       "55312"
      ]
     },
     "metadata": {},
     "output_type": "display_data"
    }
   ],
   "execution_count": 3
  },
  {
   "metadata": {
    "ExecuteTime": {
     "end_time": "2024-12-11T06:50:03.835680Z",
     "start_time": "2024-12-11T06:50:03.705753Z"
    }
   },
   "cell_type": "code",
   "source": [
    "# real case (part 1)\n",
    "result = part_1(puzzle.input(), False)\n",
    "display(result)"
   ],
   "id": "66cab898e4711d42",
   "outputs": [
    {
     "data": {
      "text/plain": [
       "183435"
      ]
     },
     "metadata": {},
     "output_type": "display_data"
    }
   ],
   "execution_count": 4
  },
  {
   "metadata": {
    "jupyter": {
     "is_executing": true
    },
    "ExecuteTime": {
     "start_time": "2024-12-11T06:50:07.460652Z"
    }
   },
   "cell_type": "code",
   "source": [
    "# test case (part 2)\n",
    "def part_2(reader: InputReader, debug: bool) -> int:\n",
    "    stones = domain_from_input(reader)\n",
    "    # convert to stones\n",
    "    rounds = 75\n",
    "    while rounds > 0:\n",
    "        rounds -= 1\n",
    "        new_stones = []\n",
    "        for stone in stones:\n",
    "            new_stones.extend(apply_rules(stone))\n",
    "        stones = new_stones\n",
    "        if debug:\n",
    "            display(\" \".join(stones))\n",
    "\n",
    "    return len(stones)\n",
    "\n",
    "\n",
    "result = part_2(InputReader(\"125 17\"), False)\n",
    "display(result)\n",
    "assert result == 0"
   ],
   "id": "d2277c7db8ea0a5e",
   "outputs": [],
   "execution_count": null
  },
  {
   "metadata": {},
   "cell_type": "code",
   "source": [
    "# real case (part 2)\n",
    "result = part_2(puzzle.input(), False)\n",
    "display(result)"
   ],
   "id": "57c071f7c6d2914",
   "outputs": [],
   "execution_count": null
  },
  {
   "metadata": {},
   "cell_type": "code",
   "source": [
    "# print easters eggs\n",
    "puzzle.print_easter_eggs()"
   ],
   "id": "44e329cbb6ad2400",
   "outputs": [],
   "execution_count": null
  }
 ],
 "metadata": {
  "kernelspec": {
   "display_name": "Python 3",
   "language": "python",
   "name": "python3"
  },
  "language_info": {
   "codemirror_mode": {
    "name": "ipython",
    "version": 2
   },
   "file_extension": ".py",
   "mimetype": "text/x-python",
   "name": "python",
   "nbconvert_exporter": "python",
   "pygments_lexer": "ipython2",
   "version": "2.7.6"
  }
 },
 "nbformat": 4,
 "nbformat_minor": 5
}
