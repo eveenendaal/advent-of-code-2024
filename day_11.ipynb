{
 "cells": [
  {
   "cell_type": "code",
   "execution_count": 33,
   "id": "dec75b3898d7314f",
   "metadata": {
    "ExecuteTime": {
     "end_time": "2024-12-11T06:50:03.075895Z",
     "start_time": "2024-12-11T06:50:02.972900Z"
    }
   },
   "outputs": [
    {
     "data": {
      "text/markdown": [
       "# Plutonian Pebbles"
      ],
      "text/plain": [
       "<IPython.core.display.Markdown object>"
      ]
     },
     "metadata": {},
     "output_type": "display_data"
    },
    {
     "data": {
      "text/markdown": [
       "[Open Website](https://adventofcode.com/2024/day/11)"
      ],
      "text/plain": [
       "<IPython.core.display.Markdown object>"
      ]
     },
     "metadata": {},
     "output_type": "display_data"
    }
   ],
   "source": [
    "from common.inputreader import InputReader, PuzzleWrapper\n",
    "\n",
    "puzzle = PuzzleWrapper(year=2024, day=int(\"11\"))\n",
    "\n",
    "puzzle.header()\n",
    "# example = get_code_block(puzzle, 5)"
   ]
  },
  {
   "cell_type": "code",
   "execution_count": 34,
   "id": "34dd2d43c40af29b",
   "metadata": {
    "ExecuteTime": {
     "end_time": "2024-12-11T06:50:03.385382Z",
     "start_time": "2024-12-11T06:50:03.379005Z"
    }
   },
   "outputs": [
    {
     "data": {
      "text/plain": [
       "['125', '17']"
      ]
     },
     "metadata": {},
     "output_type": "display_data"
    }
   ],
   "source": [
    "# helper functions\n",
    "def domain_from_input(input: InputReader) -> list:\n",
    "    return input.lines_as_strs()[0]\n",
    "\n",
    "\n",
    "test_input = domain_from_input(InputReader(\"125 17\"))\n",
    "display(test_input)"
   ]
  },
  {
   "cell_type": "code",
   "execution_count": 35,
   "id": "6d23892a17117fed",
   "metadata": {
    "ExecuteTime": {
     "end_time": "2024-12-11T06:50:03.591839Z",
     "start_time": "2024-12-11T06:50:03.547057Z"
    }
   },
   "outputs": [
    {
     "data": {
      "text/plain": [
       "55312"
      ]
     },
     "metadata": {},
     "output_type": "display_data"
    }
   ],
   "source": [
    "# test case (part 1)\n",
    "def apply_rules(value: str) -> list:\n",
    "    if value == '0':\n",
    "        return ['1']\n",
    "    elif len(value) % 2 == 0:\n",
    "        # split string\n",
    "        half = len(value) // 2\n",
    "        left = int(value[:half])\n",
    "        right = int(value[half:])\n",
    "        return [str(left), str(right)]\n",
    "    else:\n",
    "        return [str(int(value) * 2024)]\n",
    "\n",
    "\n",
    "def part_1(reader: InputReader, debug: bool) -> int:\n",
    "    stones = domain_from_input(reader)\n",
    "    # convert to stones\n",
    "    rounds = 25\n",
    "    while rounds > 0:\n",
    "        rounds -= 1\n",
    "        new_stones = []\n",
    "        for stone in stones:\n",
    "            new_stones.extend(apply_rules(stone))\n",
    "        stones = new_stones\n",
    "        if debug:\n",
    "            display(\" \".join(stones))\n",
    "\n",
    "    return len(stones)\n",
    "\n",
    "\n",
    "result = part_1(InputReader(\"125 17\"), False)\n",
    "display(result)\n",
    "assert result == 55312"
   ]
  },
  {
   "cell_type": "code",
   "execution_count": 36,
   "id": "66cab898e4711d42",
   "metadata": {
    "ExecuteTime": {
     "end_time": "2024-12-11T06:50:03.835680Z",
     "start_time": "2024-12-11T06:50:03.705753Z"
    }
   },
   "outputs": [
    {
     "data": {
      "text/plain": [
       "183435"
      ]
     },
     "metadata": {},
     "output_type": "display_data"
    }
   ],
   "source": [
    "# real case (part 1)\n",
    "result = part_1(puzzle.input(), False)\n",
    "display(result)"
   ]
  },
  {
   "cell_type": "code",
   "execution_count": 37,
   "id": "d2277c7db8ea0a5e",
   "metadata": {
    "ExecuteTime": {
     "start_time": "2024-12-11T06:50:07.460652Z"
    },
    "jupyter": {
     "is_executing": true
    }
   },
   "outputs": [
    {
     "data": {
      "text/plain": [
       "55312"
      ]
     },
     "metadata": {},
     "output_type": "display_data"
    }
   ],
   "source": [
    "# test case (part 2)\n",
    "def part_2(reader: InputReader, debug: bool, rounds=25) -> int:\n",
    "    stones = domain_from_input(reader)\n",
    "\n",
    "    stone_counts = {}\n",
    "    for stone in stones:\n",
    "        stone_counts[stone] = stone_counts.get(stone, 0) + 1\n",
    "\n",
    "    # convert to stones\n",
    "    while rounds > 0:\n",
    "        if debug:\n",
    "            display(stone_counts)\n",
    "\n",
    "        rounds -= 1\n",
    "        new_counts = {}\n",
    "        \n",
    "        for stone in stone_counts.keys():\n",
    "            new_stones = apply_rules(stone)\n",
    "            for new_stone in new_stones:\n",
    "                new_counts[new_stone] = new_counts.get(new_stone, 0) + stone_counts[stone]\n",
    "\n",
    "        stone_counts = new_counts\n",
    "\n",
    "    if debug:\n",
    "        display(stone_counts)\n",
    "\n",
    "    return sum(stone_counts.values())\n",
    "\n",
    "\n",
    "result = part_2(InputReader(\"125 17\"), False, 25)\n",
    "display(result)\n",
    "assert result == 55312"
   ]
  },
  {
   "cell_type": "code",
   "execution_count": 38,
   "id": "57c071f7c6d2914",
   "metadata": {},
   "outputs": [
    {
     "data": {
      "text/plain": [
       "218279375708592"
      ]
     },
     "metadata": {},
     "output_type": "display_data"
    }
   ],
   "source": [
    "# real case (part 2)\n",
    "result = part_2(puzzle.input(), False, 75)\n",
    "display(result)"
   ]
  },
  {
   "cell_type": "code",
   "execution_count": 39,
   "id": "44e329cbb6ad2400",
   "metadata": {},
   "outputs": [
    {
     "data": {
      "text/markdown": [
       "## Easter Eggs"
      ],
      "text/plain": [
       "<IPython.core.display.Markdown object>"
      ]
     },
     "metadata": {},
     "output_type": "display_data"
    },
    {
     "data": {
      "text/markdown": [
       "<span title=\"No, they're not statues. Why do you ask?\">blink</span> (No, they're not statues. Why do you ask?)"
      ],
      "text/plain": [
       "<IPython.core.display.Markdown object>"
      ]
     },
     "metadata": {},
     "output_type": "display_data"
    }
   ],
   "source": [
    "# print easters eggs\n",
    "puzzle.print_easter_eggs()"
   ]
  }
 ],
 "metadata": {
  "kernelspec": {
   "display_name": "Python 3",
   "language": "python",
   "name": "python3"
  },
  "language_info": {
   "codemirror_mode": {
    "name": "ipython",
    "version": 2
   },
   "file_extension": ".py",
   "mimetype": "text/x-python",
   "name": "python",
   "nbconvert_exporter": "python",
   "pygments_lexer": "ipython2",
   "version": "2.7.6"
  }
 },
 "nbformat": 4,
 "nbformat_minor": 5
}
