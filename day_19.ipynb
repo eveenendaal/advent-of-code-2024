{
 "cells": [
  {
   "cell_type": "code",
   "id": "dec75b3898d7314f",
   "metadata": {
    "ExecuteTime": {
     "end_time": "2024-12-19T07:53:32.831581Z",
     "start_time": "2024-12-19T07:53:32.827103Z"
    }
   },
   "source": [
    "from common.inputreader import InputReader, PuzzleWrapper\n",
    "\n",
    "puzzle = PuzzleWrapper(year=2024, day=int(\"19\"))\n",
    "\n",
    "puzzle.header()\n",
    "# example = get_code_block(puzzle, 5)"
   ],
   "outputs": [
    {
     "data": {
      "text/plain": [
       "<IPython.core.display.Markdown object>"
      ],
      "text/markdown": "# Linen Layout"
     },
     "metadata": {},
     "output_type": "display_data"
    },
    {
     "data": {
      "text/plain": [
       "<IPython.core.display.Markdown object>"
      ],
      "text/markdown": "[Open Website](https://adventofcode.com/2024/day/19)"
     },
     "metadata": {},
     "output_type": "display_data"
    }
   ],
   "execution_count": 12
  },
  {
   "cell_type": "code",
   "id": "34dd2d43c40af29b",
   "metadata": {
    "ExecuteTime": {
     "end_time": "2024-12-19T07:53:33.326883Z",
     "start_time": "2024-12-19T07:53:33.321472Z"
    }
   },
   "source": [
    "# helper functions\n",
    "def domain_from_input(input: InputReader) -> (list, list):\n",
    "    lines = input.lines_as_str()\n",
    "\n",
    "    read_options = True\n",
    "    options = []\n",
    "    candidates = []\n",
    "    for line in lines:\n",
    "        if len(line) == 0:\n",
    "            read_options = False\n",
    "            continue\n",
    "\n",
    "        if read_options:\n",
    "            for next in line.split(\",\"):\n",
    "                options.append(next.strip())\n",
    "        else:\n",
    "            candidates.append(line)\n",
    "\n",
    "    return options, candidates\n",
    "\n",
    "\n",
    "test_options, test_candidates = domain_from_input(puzzle.example(0))\n",
    "print(test_options)\n",
    "print(test_candidates)"
   ],
   "outputs": [
    {
     "name": "stdout",
     "output_type": "stream",
     "text": [
      "['r', 'wr', 'b', 'g', 'bwu', 'rb', 'gb', 'br']\n",
      "['brwrr', 'bggr', 'gbbr', 'rrbgbr', 'ubwu', 'bwurrg', 'brgr', 'bbrgwb']\n"
     ]
    }
   ],
   "execution_count": 13
  },
  {
   "cell_type": "code",
   "id": "6d23892a17117fed",
   "metadata": {
    "ExecuteTime": {
     "end_time": "2024-12-19T07:53:34.120865Z",
     "start_time": "2024-12-19T07:53:34.114035Z"
    }
   },
   "source": [
    "# test case (part 1)\n",
    "def find_options(candidate: str, options: list) -> list:\n",
    "    optional_positions = {}\n",
    "    for start in range(len(candidate) + 1):\n",
    "        optional_positions[start] = []\n",
    "\n",
    "    for option in options:\n",
    "        start = 0\n",
    "        while True:\n",
    "            start = candidate.find(option, start)\n",
    "            if start == -1:\n",
    "                break\n",
    "            optional_positions[start].append(option)\n",
    "            start += 1\n",
    "\n",
    "    return optional_positions\n",
    "\n",
    "\n",
    "def has_solution(candidate: str, options: list, debug: bool) -> bool:\n",
    "    if debug:\n",
    "        print(candidate)\n",
    "\n",
    "    positions = find_options(candidate, options)\n",
    "\n",
    "    queue = [0]\n",
    "    while queue:\n",
    "        next = queue.pop(0)\n",
    "        if next == len(candidate):\n",
    "            return True\n",
    "\n",
    "        for option in positions[next]:\n",
    "            next_position = next + len(option)\n",
    "            if next_position not in queue:\n",
    "                queue.append(next_position)\n",
    "\n",
    "    return False\n",
    "\n",
    "\n",
    "def part_1(reader: InputReader, debug: bool) -> int:\n",
    "    options, candidates = domain_from_input(reader)\n",
    "\n",
    "    result = 0\n",
    "    for candidate in candidates:\n",
    "        if has_solution(candidate, options, debug):\n",
    "            if debug:\n",
    "                print(f\"solution found for {candidate}\")\n",
    "            result += 1\n",
    "        else:\n",
    "            if debug:\n",
    "                print(f\"no solution found for {candidate}\")\n",
    "\n",
    "    return result\n",
    "\n",
    "\n",
    "result = part_1(puzzle.example(0), True)\n",
    "display(result)\n",
    "assert result == 6"
   ],
   "outputs": [
    {
     "name": "stdout",
     "output_type": "stream",
     "text": [
      "brwrr\n",
      "solution found for brwrr\n",
      "bggr\n",
      "solution found for bggr\n",
      "gbbr\n",
      "solution found for gbbr\n",
      "rrbgbr\n",
      "solution found for rrbgbr\n",
      "ubwu\n",
      "no solution found for ubwu\n",
      "bwurrg\n",
      "solution found for bwurrg\n",
      "brgr\n",
      "solution found for brgr\n",
      "bbrgwb\n",
      "no solution found for bbrgwb\n"
     ]
    },
    {
     "data": {
      "text/plain": [
       "6"
      ]
     },
     "metadata": {},
     "output_type": "display_data"
    }
   ],
   "execution_count": 14
  },
  {
   "cell_type": "code",
   "id": "66cab898e4711d42",
   "metadata": {
    "ExecuteTime": {
     "end_time": "2024-12-19T07:53:35.589019Z",
     "start_time": "2024-12-19T07:53:35.503605Z"
    }
   },
   "source": [
    "# real case (part 1)\n",
    "result = part_1(puzzle.input(), False)\n",
    "display(result)\n",
    "assert result == 206"
   ],
   "outputs": [
    {
     "data": {
      "text/plain": [
       "206"
      ]
     },
     "metadata": {},
     "output_type": "display_data"
    }
   ],
   "execution_count": 15
  },
  {
   "cell_type": "code",
   "id": "d2277c7db8ea0a5e",
   "metadata": {
    "ExecuteTime": {
     "end_time": "2024-12-19T08:21:25.810358Z",
     "start_time": "2024-12-19T08:21:25.803629Z"
    }
   },
   "source": [
    "# test case (part 2)\n",
    "def solution_count(candidate: str, options: list, debug: bool) -> int:\n",
    "    if not has_solution(candidate, options, debug):\n",
    "        return 0\n",
    "\n",
    "    if debug:\n",
    "        print(candidate)\n",
    "\n",
    "    positions = find_options(candidate, options)\n",
    "    cache = {}\n",
    "\n",
    "    def count_solutions(position: int) -> int:\n",
    "        if position in cache:\n",
    "            return cache[position]\n",
    "\n",
    "        if position == len(candidate):\n",
    "            return 1\n",
    "\n",
    "        if position not in positions:\n",
    "            return 0\n",
    "\n",
    "        total_solutions = 0\n",
    "        for option in positions[position]:\n",
    "            next_position = position + len(option)\n",
    "            total_solutions += count_solutions(next_position)\n",
    "\n",
    "        cache[position] = total_solutions\n",
    "        return total_solutions\n",
    "\n",
    "    return count_solutions(0)\n",
    "\n",
    "\n",
    "def part_2(reader: InputReader, debug: bool) -> int:\n",
    "    options, candidates = domain_from_input(reader)\n",
    "\n",
    "    result = 0\n",
    "    for candidate in candidates:\n",
    "        result += solution_count(candidate, options, debug)\n",
    "\n",
    "    return result\n",
    "\n",
    "\n",
    "result = part_2(puzzle.example(0), True)\n",
    "print(result)\n",
    "assert result == 16"
   ],
   "outputs": [
    {
     "name": "stdout",
     "output_type": "stream",
     "text": [
      "brwrr\n",
      "brwrr\n",
      "bggr\n",
      "bggr\n",
      "gbbr\n",
      "gbbr\n",
      "rrbgbr\n",
      "rrbgbr\n",
      "ubwu\n",
      "bwurrg\n",
      "bwurrg\n",
      "brgr\n",
      "brgr\n",
      "bbrgwb\n",
      "16\n"
     ]
    }
   ],
   "execution_count": 56
  },
  {
   "cell_type": "code",
   "id": "57c071f7c6d2914",
   "metadata": {
    "ExecuteTime": {
     "end_time": "2024-12-19T08:21:27.746957Z",
     "start_time": "2024-12-19T08:21:27.645683Z"
    }
   },
   "source": [
    "# real case (part 2)\n",
    "result = part_2(puzzle.input(), False)\n",
    "display(result)"
   ],
   "outputs": [
    {
     "data": {
      "text/plain": [
       "622121814629343"
      ]
     },
     "metadata": {},
     "output_type": "display_data"
    }
   ],
   "execution_count": 57
  },
  {
   "cell_type": "code",
   "execution_count": null,
   "id": "44e329cbb6ad2400",
   "metadata": {},
   "outputs": [],
   "source": [
    "# print easters eggs\n",
    "puzzle.print_easter_eggs()"
   ]
  }
 ],
 "metadata": {
  "kernelspec": {
   "display_name": "Python 3",
   "language": "python",
   "name": "python3"
  },
  "language_info": {
   "codemirror_mode": {
    "name": "ipython",
    "version": 3
   },
   "file_extension": ".py",
   "mimetype": "text/x-python",
   "name": "python",
   "nbconvert_exporter": "python",
   "pygments_lexer": "ipython3",
   "version": "3.12.1"
  }
 },
 "nbformat": 4,
 "nbformat_minor": 5
}
