{
 "cells": [
  {
   "cell_type": "code",
   "execution_count": 1,
   "id": "dec75b3898d7314f",
   "metadata": {
    "ExecuteTime": {
     "end_time": "2024-12-19T06:18:44.033702Z",
     "start_time": "2024-12-19T06:18:44.017518Z"
    }
   },
   "outputs": [
    {
     "data": {
      "text/markdown": [
       "# Linen Layout"
      ],
      "text/plain": [
       "<IPython.core.display.Markdown object>"
      ]
     },
     "metadata": {},
     "output_type": "display_data"
    },
    {
     "data": {
      "text/markdown": [
       "[Open Website](https://adventofcode.com/2024/day/19)"
      ],
      "text/plain": [
       "<IPython.core.display.Markdown object>"
      ]
     },
     "metadata": {},
     "output_type": "display_data"
    }
   ],
   "source": [
    "from common.inputreader import InputReader, PuzzleWrapper\n",
    "\n",
    "puzzle = PuzzleWrapper(year=2024, day=int(\"19\"))\n",
    "\n",
    "puzzle.header()\n",
    "# example = get_code_block(puzzle, 5)"
   ]
  },
  {
   "cell_type": "code",
   "execution_count": 2,
   "id": "34dd2d43c40af29b",
   "metadata": {
    "ExecuteTime": {
     "end_time": "2024-12-19T06:18:44.208699Z",
     "start_time": "2024-12-19T06:18:44.195256Z"
    }
   },
   "outputs": [
    {
     "name": "stdout",
     "output_type": "stream",
     "text": [
      "['r', 'wr', 'b', 'g', 'bwu', 'rb', 'gb', 'br']\n",
      "['brwrr', 'bggr', 'gbbr', 'rrbgbr', 'ubwu', 'bwurrg', 'brgr', 'bbrgwb']\n"
     ]
    }
   ],
   "source": [
    "# helper functions\n",
    "def domain_from_input(input: InputReader) -> (list, list):\n",
    "    lines = input.lines_as_str()\n",
    "\n",
    "    read_options = True\n",
    "    options = []\n",
    "    candidates = []\n",
    "    for line in lines:\n",
    "        if len(line) == 0:\n",
    "            read_options = False\n",
    "            continue\n",
    "\n",
    "        if read_options:\n",
    "            for next in line.split(\",\"):\n",
    "                options.append(next.strip())\n",
    "        else:\n",
    "            candidates.append(line)\n",
    "\n",
    "    return options, candidates\n",
    "\n",
    "\n",
    "test_options, test_candidates = domain_from_input(puzzle.example(0))\n",
    "print(test_options)\n",
    "print(test_candidates)"
   ]
  },
  {
   "cell_type": "code",
   "execution_count": 10,
   "id": "6d23892a17117fed",
   "metadata": {
    "ExecuteTime": {
     "end_time": "2024-12-19T06:25:11.965550Z",
     "start_time": "2024-12-19T06:25:11.951193Z"
    }
   },
   "outputs": [
    {
     "name": "stdout",
     "output_type": "stream",
     "text": [
      "brwrr\n",
      "solution found for brwrr\n",
      "bggr\n",
      "solution found for bggr\n",
      "gbbr\n",
      "solution found for gbbr\n",
      "rrbgbr\n",
      "solution found for rrbgbr\n",
      "ubwu\n",
      "no solution found for ubwu\n",
      "bwurrg\n",
      "solution found for bwurrg\n",
      "brgr\n",
      "solution found for brgr\n",
      "bbrgwb\n",
      "no solution found for bbrgwb\n"
     ]
    },
    {
     "data": {
      "text/plain": [
       "6"
      ]
     },
     "metadata": {},
     "output_type": "display_data"
    }
   ],
   "source": [
    "# test case (part 1)\n",
    "def part_1(reader: InputReader, debug: bool) -> int:\n",
    "    options, candidates = domain_from_input(reader)\n",
    "\n",
    "    def handle_candidate(candidate: str, options: list):\n",
    "        if debug:\n",
    "            print(candidate)\n",
    "\n",
    "        def find_options(candidate: str, options: list) -> list:\n",
    "            optional_positions = {}\n",
    "            for start in range(len(candidate) + 1):\n",
    "                optional_positions[start] = []\n",
    "\n",
    "            for option in options:\n",
    "                start = 0\n",
    "                while True:\n",
    "                    start = candidate.find(option, start)\n",
    "                    if start == -1:\n",
    "                        break\n",
    "                    optional_positions[start].append(option)\n",
    "                    start += 1\n",
    "\n",
    "            return optional_positions\n",
    "\n",
    "        positions = find_options(candidate, options)\n",
    "\n",
    "        queue = [0]\n",
    "        while queue:\n",
    "            next = queue.pop(0)\n",
    "            if next == len(candidate):\n",
    "                return True\n",
    "            \n",
    "            for option in positions[next]:\n",
    "                next_position = next + len(option)\n",
    "                if next_position not in queue:\n",
    "                    queue.append(next_position)\n",
    "        \n",
    "\n",
    "    result = 0\n",
    "    for candidate in candidates:\n",
    "        if handle_candidate(candidate, options):\n",
    "            if debug:\n",
    "                print(f\"solution found for {candidate}\")\n",
    "            result += 1\n",
    "        else:\n",
    "            if debug:\n",
    "                print(f\"no solution found for {candidate}\")\n",
    "\n",
    "    return result\n",
    "\n",
    "\n",
    "result = part_1(puzzle.example(0), True)\n",
    "display(result)\n",
    "assert result == 6"
   ]
  },
  {
   "cell_type": "code",
   "execution_count": 12,
   "id": "66cab898e4711d42",
   "metadata": {
    "ExecuteTime": {
     "end_time": "2024-12-19T06:25:10.313908Z",
     "start_time": "2024-12-19T06:25:00.718676Z"
    }
   },
   "outputs": [
    {
     "data": {
      "text/plain": [
       "206"
      ]
     },
     "metadata": {},
     "output_type": "display_data"
    }
   ],
   "source": [
    "# real case (part 1)\n",
    "result = part_1(puzzle.input(), False)\n",
    "display(result)"
   ]
  },
  {
   "cell_type": "code",
   "execution_count": null,
   "id": "d2277c7db8ea0a5e",
   "metadata": {},
   "outputs": [],
   "source": [
    "# test case (part 2)\n",
    "def part_2(reader: InputReader, debug: bool) -> int:\n",
    "    lines = domain_from_input(reader)\n",
    "    if debug:\n",
    "        display(lines)\n",
    "    return 0\n",
    "\n",
    "\n",
    "result = part_2(puzzle.example(0), True)\n",
    "display(result)\n",
    "assert result == 0"
   ]
  },
  {
   "cell_type": "code",
   "execution_count": null,
   "id": "57c071f7c6d2914",
   "metadata": {},
   "outputs": [],
   "source": [
    "# real case (part 2)\n",
    "result = part_2(puzzle.input(), False)\n",
    "display(result)"
   ]
  },
  {
   "cell_type": "code",
   "execution_count": null,
   "id": "44e329cbb6ad2400",
   "metadata": {},
   "outputs": [],
   "source": [
    "# print easters eggs\n",
    "puzzle.print_easter_eggs()"
   ]
  }
 ],
 "metadata": {
  "kernelspec": {
   "display_name": "Python 3",
   "language": "python",
   "name": "python3"
  },
  "language_info": {
   "codemirror_mode": {
    "name": "ipython",
    "version": 3
   },
   "file_extension": ".py",
   "mimetype": "text/x-python",
   "name": "python",
   "nbconvert_exporter": "python",
   "pygments_lexer": "ipython3",
   "version": "3.12.1"
  }
 },
 "nbformat": 4,
 "nbformat_minor": 5
}
