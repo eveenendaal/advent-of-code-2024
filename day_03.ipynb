{
 "cells": [
  {
   "cell_type": "code",
   "execution_count": 1,
   "id": "dec75b3898d7314f",
   "metadata": {
    "ExecuteTime": {
     "end_time": "2024-12-05T16:09:52.749203Z",
     "start_time": "2024-12-05T16:09:52.733668Z"
    }
   },
   "outputs": [
    {
     "data": {
      "text/markdown": [
       "# Mull It Over"
      ],
      "text/plain": [
       "<IPython.core.display.Markdown object>"
      ]
     },
     "metadata": {},
     "output_type": "display_data"
    },
    {
     "data": {
      "text/markdown": [
       "[Open Website](https://adventofcode.com/2024/day/3)"
      ],
      "text/plain": [
       "<IPython.core.display.Markdown object>"
      ]
     },
     "metadata": {},
     "output_type": "display_data"
    }
   ],
   "source": [
    "from IPython.core.display import Markdown\n",
    "from aocd.models import Puzzle\n",
    "\n",
    "from common.inputreader import InputReader, PuzzleWrapper\n",
    "\n",
    "puzzle = Puzzle(year=2024, day=int(\"03\"))\n",
    "\n",
    "display(Markdown(f\"# {puzzle.title}\"))\n",
    "display(Markdown(f\"[Open Website]({puzzle.url})\"))"
   ]
  },
  {
   "cell_type": "code",
   "execution_count": 2,
   "id": "6d23892a17117fed",
   "metadata": {
    "ExecuteTime": {
     "end_time": "2024-12-03T07:17:04.080255Z",
     "start_time": "2024-12-03T07:17:04.041356Z"
    }
   },
   "outputs": [
    {
     "data": {
      "text/plain": [
       "['xmul(2,4)%&mul[3,7]!@^do_not_mul(5,5)+mul(32,64]then(mul(11,8)mul(8,5))']"
      ]
     },
     "metadata": {},
     "output_type": "display_data"
    },
    {
     "data": {
      "text/plain": [
       "['mul(2,4)', 'mul(5,5)', 'mul(11,8)', 'mul(8,5)']"
      ]
     },
     "metadata": {},
     "output_type": "display_data"
    }
   ],
   "source": [
    "import re\n",
    "\n",
    "\n",
    "# test case (part 1)\n",
    "def part_1(input: InputReader, debug: bool) -> int:\n",
    "    lines = input.lines_as_str()\n",
    "\n",
    "    # write a regex that parses the input and finds all \"mul(\\d+,\\d+)\"\n",
    "    regex = re.compile(r\"mul\\(\\d+,\\d+\\)\")\n",
    "\n",
    "    if debug:\n",
    "        display(lines)\n",
    "\n",
    "    # find all matches in the input\n",
    "    matches = []\n",
    "    for line in lines:\n",
    "        matches += regex.findall(line)\n",
    "\n",
    "    if debug:\n",
    "        display(matches)\n",
    "\n",
    "    # parse out the numbers from the matches and multiply them\n",
    "    total = 0\n",
    "    for match in matches:\n",
    "        numbers = re.findall(r\"\\d+\", match)\n",
    "        first = int(numbers[0])\n",
    "        second = int(numbers[1])\n",
    "        total += first * second\n",
    "\n",
    "    return total\n",
    "\n",
    "\n",
    "example = puzzle.examples[0]\n",
    "result = part_1(InputReader(example.input_data), True)\n",
    "assert result == 161"
   ]
  },
  {
   "cell_type": "code",
   "execution_count": 3,
   "id": "66cab898e4711d42",
   "metadata": {
    "ExecuteTime": {
     "end_time": "2024-12-05T16:09:52.791883Z",
     "start_time": "2024-12-05T16:09:52.785742Z"
    }
   },
   "outputs": [
    {
     "data": {
      "text/plain": [
       "166905464"
      ]
     },
     "metadata": {},
     "output_type": "display_data"
    }
   ],
   "source": [
    "# real case (part 1)\n",
    "result = part_1(InputReader(puzzle.input_data), False)\n",
    "display(result)"
   ]
  },
  {
   "cell_type": "code",
   "execution_count": 4,
   "id": "d2277c7db8ea0a5e",
   "metadata": {
    "ExecuteTime": {
     "end_time": "2024-12-05T16:09:52.819951Z",
     "start_time": "2024-12-05T16:09:52.806200Z"
    }
   },
   "outputs": [
    {
     "ename": "IndexError",
     "evalue": "list index out of range",
     "output_type": "error",
     "traceback": [
      "\u001b[0;31m---------------------------------------------------------------------------\u001b[0m",
      "\u001b[0;31mIndexError\u001b[0m                                Traceback (most recent call last)",
      "Cell \u001b[0;32mIn[4], line 47\u001b[0m\n\u001b[1;32m     43\u001b[0m     \u001b[38;5;28;01mreturn\u001b[39;00m total\n\u001b[1;32m     45\u001b[0m \u001b[38;5;28;01mfrom\u001b[39;00m \u001b[38;5;21;01mcommon\u001b[39;00m\u001b[38;5;21;01m.\u001b[39;00m\u001b[38;5;21;01minputreader\u001b[39;00m \u001b[38;5;28;01mimport\u001b[39;00m PuzzleWrapper\n\u001b[0;32m---> 47\u001b[0m example \u001b[38;5;241m=\u001b[39m \u001b[43mPuzzleWrapper\u001b[49m\u001b[43m(\u001b[49m\u001b[43mpuzzle\u001b[49m\u001b[43m)\u001b[49m\u001b[38;5;241;43m.\u001b[39;49m\u001b[43mget_code_block\u001b[49m\u001b[43m(\u001b[49m\u001b[38;5;241;43m28\u001b[39;49m\u001b[43m)\u001b[49m\n\u001b[1;32m     48\u001b[0m result \u001b[38;5;241m=\u001b[39m part_2(InputReader(example), \u001b[38;5;28;01mTrue\u001b[39;00m)\n\u001b[1;32m     49\u001b[0m \u001b[38;5;28;01massert\u001b[39;00m result \u001b[38;5;241m==\u001b[39m \u001b[38;5;241m48\u001b[39m\n",
      "File \u001b[0;32m/workspaces/advent-of-code-2024/common/inputreader.py:89\u001b[0m, in \u001b[0;36mPuzzleWrapper.get_code_block\u001b[0;34m(self, block_number, min_length)\u001b[0m\n\u001b[1;32m     88\u001b[0m \u001b[38;5;28;01mdef\u001b[39;00m \u001b[38;5;21mget_code_block\u001b[39m(\u001b[38;5;28mself\u001b[39m, block_number: \u001b[38;5;28mint\u001b[39m, min_length\u001b[38;5;241m=\u001b[39m\u001b[38;5;241m30\u001b[39m) \u001b[38;5;241m-\u001b[39m\u001b[38;5;241m>\u001b[39m \u001b[38;5;28mstr\u001b[39m:\n\u001b[0;32m---> 89\u001b[0m     \u001b[38;5;28;01mreturn\u001b[39;00m \u001b[38;5;28;43mself\u001b[39;49m\u001b[38;5;241;43m.\u001b[39;49m\u001b[43mget_code_blocks\u001b[49m\u001b[43m(\u001b[49m\u001b[43mmin_length\u001b[49m\u001b[43m)\u001b[49m\u001b[43m[\u001b[49m\u001b[43mblock_number\u001b[49m\u001b[43m]\u001b[49m\n",
      "\u001b[0;31mIndexError\u001b[0m: list index out of range"
     ]
    }
   ],
   "source": [
    "# test case (part 2)\n",
    "def part_2(input: InputReader, debug: bool) -> int:\n",
    "    line = \"\".join(input.lines_as_str())\n",
    "\n",
    "    # write a regex that parses the input and finds all \"mul(\\d+,\\d+)\"\n",
    "    mul_re = re.compile(r\"mul\\(\\d+,\\d+\\)\")\n",
    "    do_re = re.compile(r\"do\\(\\)\")\n",
    "    dont_re = re.compile(r\"don't\\(\\)\")\n",
    "\n",
    "    # find all the do() and don't() positions\n",
    "    dos = []\n",
    "    donts = []\n",
    "    # find the position of the do_re matches\n",
    "    for match in do_re.finditer(line):\n",
    "        dos.append(match.start())\n",
    "    # find the position of the dont_re matches\n",
    "    for match in dont_re.finditer(line):\n",
    "        donts.append(match.start())\n",
    "\n",
    "    if debug:\n",
    "        display(line)\n",
    "\n",
    "    # find all matches in the input\n",
    "    total = 0\n",
    "    for match in mul_re.finditer(line):\n",
    "        start = match.start()\n",
    "        # find max  do before the match\n",
    "        max_do = 0\n",
    "        for do in dos:\n",
    "            if do < start:\n",
    "                max_do = max(max_do, do)\n",
    "        max_dont = 0\n",
    "        for dont in donts:\n",
    "            if dont < start:\n",
    "                max_dont = max(max_dont, dont)\n",
    "\n",
    "        if max_dont > max_do:\n",
    "            continue\n",
    "\n",
    "        numbers = re.findall(r\"\\d+\", match.group())\n",
    "        total += int(numbers[0]) * int(numbers[1])\n",
    "\n",
    "    return total\n",
    "\n",
    "from common.inputreader import PuzzleWrapper\n",
    "\n",
    "example = PuzzleWrapper(puzzle).get_code_block(28)\n",
    "result = part_2(InputReader(example), True)\n",
    "assert result == 48"
   ]
  },
  {
   "cell_type": "code",
   "execution_count": null,
   "id": "57c071f7c6d2914",
   "metadata": {
    "ExecuteTime": {
     "end_time": "2024-12-05T16:09:52.836432Z",
     "start_time": "2024-12-05T16:09:52.831236Z"
    }
   },
   "outputs": [
    {
     "data": {
      "text/plain": [
       "72948684"
      ]
     },
     "metadata": {},
     "output_type": "display_data"
    }
   ],
   "source": [
    "# real case (part 2)\n",
    "result = part_2(InputReader(puzzle.input_data), False)\n",
    "display(result)"
   ]
  },
  {
   "cell_type": "code",
   "execution_count": null,
   "id": "4dd82dbaffcffaf2",
   "metadata": {},
   "outputs": [],
   "source": []
  }
 ],
 "metadata": {
  "kernelspec": {
   "display_name": ".venv",
   "language": "python",
   "name": "python3"
  },
  "language_info": {
   "codemirror_mode": {
    "name": "ipython",
    "version": 3
   },
   "file_extension": ".py",
   "mimetype": "text/x-python",
   "name": "python",
   "nbconvert_exporter": "python",
   "pygments_lexer": "ipython3",
   "version": "3.12.1"
  }
 },
 "nbformat": 4,
 "nbformat_minor": 5
}
