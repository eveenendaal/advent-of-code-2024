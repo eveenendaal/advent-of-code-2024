{
 "cells": [
  {
   "metadata": {
    "ExecuteTime": {
     "end_time": "2024-12-03T05:26:26.619469Z",
     "start_time": "2024-12-03T05:26:26.527022Z"
    }
   },
   "cell_type": "code",
   "source": [
    "import re\n",
    "\n",
    "from IPython.core.display import Markdown\n",
    "from aocd.models import Puzzle\n",
    "\n",
    "from common.inputreader import InputReader\n",
    "\n",
    "puzzle = Puzzle(year=2024, day=int(\"03\"))\n",
    "\n",
    "display(Markdown(f\"# {puzzle.title}\"))\n",
    "display(Markdown(f\"[Open Website]({puzzle.url})\"))"
   ],
   "id": "dec75b3898d7314f",
   "outputs": [
    {
     "data": {
      "text/plain": [
       "<IPython.core.display.Markdown object>"
      ],
      "text/markdown": "# Mull It Over"
     },
     "metadata": {},
     "output_type": "display_data"
    },
    {
     "data": {
      "text/plain": [
       "<IPython.core.display.Markdown object>"
      ],
      "text/markdown": "[Open Website](https://adventofcode.com/2024/day/3)"
     },
     "metadata": {},
     "output_type": "display_data"
    }
   ],
   "execution_count": 1
  },
  {
   "metadata": {
    "ExecuteTime": {
     "end_time": "2024-12-03T05:10:06.929723Z",
     "start_time": "2024-12-03T05:10:06.918670Z"
    }
   },
   "cell_type": "code",
   "source": [
    "import re\n",
    "\n",
    "# test case (part 1)\n",
    "def part_1(input: InputReader, debug: bool) -> int:\n",
    "    lines = input.lines_as_str()\n",
    "\n",
    "    # write a regex that parses the input and finds all \"mul(\\d+,\\d+)\"\n",
    "    regex = re.compile(r\"mul\\(\\d+,\\d+\\)\")\n",
    "\n",
    "    if debug:\n",
    "        display(lines)\n",
    "\n",
    "    # find all matches in the input\n",
    "    matches = []\n",
    "    for line in lines:\n",
    "        matches += regex.findall(line)\n",
    "\n",
    "    if debug:\n",
    "        display(matches)\n",
    "\n",
    "    # parse out the numbers from the matches and multiply them\n",
    "    total = 0\n",
    "    for match in matches:\n",
    "        numbers = re.findall(r\"\\d+\", match)\n",
    "        first = int(numbers[0])\n",
    "        second = int(numbers[1])\n",
    "        total += first * second\n",
    "\n",
    "    return total\n",
    "\n",
    "\n",
    "example = puzzle.examples[0]\n",
    "result = part_1(InputReader(example.input_data), True)\n",
    "assert result == 161"
   ],
   "id": "6d23892a17117fed",
   "outputs": [
    {
     "data": {
      "text/plain": [
       "['xmul(2,4)%&mul[3,7]!@^do_not_mul(5,5)+mul(32,64]then(mul(11,8)mul(8,5))']"
      ]
     },
     "metadata": {},
     "output_type": "display_data"
    },
    {
     "data": {
      "text/plain": [
       "['mul(2,4)', 'mul(5,5)', 'mul(11,8)', 'mul(8,5)']"
      ]
     },
     "metadata": {},
     "output_type": "display_data"
    }
   ],
   "execution_count": 12
  },
  {
   "metadata": {
    "ExecuteTime": {
     "end_time": "2024-12-03T05:10:10.198424Z",
     "start_time": "2024-12-03T05:10:09.745579Z"
    }
   },
   "cell_type": "code",
   "source": [
    "# real case (part 1)\n",
    "result = part_1(InputReader(puzzle.input_data), False)\n",
    "display(result)"
   ],
   "id": "66cab898e4711d42",
   "outputs": [
    {
     "data": {
      "text/plain": [
       "166905464"
      ]
     },
     "metadata": {},
     "output_type": "display_data"
    }
   ],
   "execution_count": 13
  },
  {
   "metadata": {
    "ExecuteTime": {
     "end_time": "2024-12-03T05:53:10.909925Z",
     "start_time": "2024-12-03T05:53:10.898304Z"
    }
   },
   "cell_type": "code",
   "source": [
    "# test case (part 2)\n",
    "def part_2(input: InputReader, debug: bool) -> int:\n",
    "    lines = input.lines_as_str()\n",
    "\n",
    "    # write a regex that parses the input and finds all \"mul(\\d+,\\d+)\"\n",
    "    mul_re = re.compile(r\"mul\\(\\d+,\\d+\\)\")\n",
    "    do_re = re.compile(r\"do\\(\\)\")\n",
    "    dont_re = re.compile(r\"don't\\(\\)\")\n",
    "\n",
    "    # find all the do() and don't() positions\n",
    "    dos = []\n",
    "    donts = []\n",
    "    for line in lines:\n",
    "        # find the position of the do_re matches\n",
    "        for match in do_re.finditer(line):\n",
    "            dos.append(match.start())\n",
    "        # find the position of the dont_re matches\n",
    "        for match in dont_re.finditer(line):\n",
    "            donts.append(match.start())\n",
    "\n",
    "    if debug:\n",
    "        display(lines)\n",
    "\n",
    "    # find all matches in the input\n",
    "    total = 0\n",
    "    for line in lines:\n",
    "        for match in mul_re.finditer(line):\n",
    "            start = match.start()\n",
    "            # find max  do before the match\n",
    "            max_do = 0\n",
    "            for do in dos:\n",
    "                if do < start:\n",
    "                    max_do = max(max_do, do)\n",
    "            max_dont = 0\n",
    "            for dont in donts:\n",
    "                if dont < start:\n",
    "                    max_dont = max(max_dont, dont)\n",
    "\n",
    "            if max_dont > max_do:\n",
    "                continue\n",
    "\n",
    "            numbers = re.findall(r\"\\d+\", match.group())\n",
    "            total += int(numbers[0]) * int(numbers[1])\n",
    "\n",
    "\n",
    "    return total\n",
    "\n",
    "\n",
    "result = part_2(InputReader(\"xmul(2,4)&mul[3,7]!^don't()_mul(5,5)+mul(32,64](mul(11,8)undo()?mul(8,5))\"), True)\n",
    "assert result == 48"
   ],
   "id": "d2277c7db8ea0a5e",
   "outputs": [
    {
     "data": {
      "text/plain": [
       "[\"xmul(2,4)&mul[3,7]!^don't()_mul(5,5)+mul(32,64](mul(11,8)undo()?mul(8,5))\"]"
      ]
     },
     "metadata": {},
     "output_type": "display_data"
    }
   ],
   "execution_count": 6
  },
  {
   "metadata": {
    "ExecuteTime": {
     "end_time": "2024-12-03T05:53:14.437214Z",
     "start_time": "2024-12-03T05:53:14.424372Z"
    }
   },
   "cell_type": "code",
   "source": [
    "# real case (part 2)\n",
    "result = part_2(InputReader(puzzle.input_data), False)\n",
    "display(result)"
   ],
   "id": "57c071f7c6d2914",
   "outputs": [
    {
     "data": {
      "text/plain": [
       "86899760"
      ]
     },
     "metadata": {},
     "output_type": "display_data"
    }
   ],
   "execution_count": 7
  },
  {
   "metadata": {},
   "cell_type": "code",
   "outputs": [],
   "execution_count": null,
   "source": "",
   "id": "4dd82dbaffcffaf2"
  }
 ],
 "metadata": {
  "kernelspec": {
   "display_name": "Python 3",
   "language": "python",
   "name": "python3"
  },
  "language_info": {
   "codemirror_mode": {
    "name": "ipython",
    "version": 2
   },
   "file_extension": ".py",
   "mimetype": "text/x-python",
   "name": "python",
   "nbconvert_exporter": "python",
   "pygments_lexer": "ipython2",
   "version": "2.7.6"
  }
 },
 "nbformat": 4,
 "nbformat_minor": 5
}
