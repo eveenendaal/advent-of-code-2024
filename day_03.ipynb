{
 "cells": [
  {
   "cell_type": "code",
   "id": "dec75b3898d7314f",
   "metadata": {
    "ExecuteTime": {
     "end_time": "2024-12-05T16:54:38.267090Z",
     "start_time": "2024-12-05T16:54:38.256295Z"
    }
   },
   "source": [
    "from IPython.core.display import Markdown\n",
    "from aocd.models import Puzzle\n",
    "\n",
    "from common.inputreader import InputReader, PuzzleWrapper\n",
    "\n",
    "puzzle = Puzzle(year=2024, day=int(\"03\"))\n",
    "\n",
    "display(Markdown(f\"# {puzzle.title}\"))\n",
    "display(Markdown(f\"[Open Website]({puzzle.url})\"))"
   ],
   "outputs": [
    {
     "data": {
      "text/plain": [
       "<IPython.core.display.Markdown object>"
      ],
      "text/markdown": "# Mull It Over"
     },
     "metadata": {},
     "output_type": "display_data"
    },
    {
     "data": {
      "text/plain": [
       "<IPython.core.display.Markdown object>"
      ],
      "text/markdown": "[Open Website](https://adventofcode.com/2024/day/3)"
     },
     "metadata": {},
     "output_type": "display_data"
    }
   ],
   "execution_count": 7
  },
  {
   "cell_type": "code",
   "id": "6d23892a17117fed",
   "metadata": {
    "ExecuteTime": {
     "end_time": "2024-12-05T16:54:38.314935Z",
     "start_time": "2024-12-05T16:54:38.308286Z"
    }
   },
   "source": [
    "import re\n",
    "\n",
    "\n",
    "# test case (part 1)\n",
    "def part_1(input: InputReader, debug: bool) -> int:\n",
    "    lines = input.lines_as_str()\n",
    "\n",
    "    # write a regex that parses the input and finds all \"mul(\\d+,\\d+)\"\n",
    "    regex = re.compile(r\"mul\\(\\d+,\\d+\\)\")\n",
    "\n",
    "    if debug:\n",
    "        display(lines)\n",
    "\n",
    "    # find all matches in the input\n",
    "    matches = []\n",
    "    for line in lines:\n",
    "        matches += regex.findall(line)\n",
    "\n",
    "    if debug:\n",
    "        display(matches)\n",
    "\n",
    "    # parse out the numbers from the matches and multiply them\n",
    "    total = 0\n",
    "    for match in matches:\n",
    "        numbers = re.findall(r\"\\d+\", match)\n",
    "        first = int(numbers[0])\n",
    "        second = int(numbers[1])\n",
    "        total += first * second\n",
    "\n",
    "    return total\n",
    "\n",
    "\n",
    "example = puzzle.examples[0]\n",
    "result = part_1(InputReader(example.input_data), True)\n",
    "assert result == 161"
   ],
   "outputs": [
    {
     "data": {
      "text/plain": [
       "['xmul(2,4)%&mul[3,7]!@^do_not_mul(5,5)+mul(32,64]then(mul(11,8)mul(8,5))']"
      ]
     },
     "metadata": {},
     "output_type": "display_data"
    },
    {
     "data": {
      "text/plain": [
       "['mul(2,4)', 'mul(5,5)', 'mul(11,8)', 'mul(8,5)']"
      ]
     },
     "metadata": {},
     "output_type": "display_data"
    }
   ],
   "execution_count": 8
  },
  {
   "cell_type": "code",
   "id": "66cab898e4711d42",
   "metadata": {
    "ExecuteTime": {
     "end_time": "2024-12-05T16:54:38.349921Z",
     "start_time": "2024-12-05T16:54:38.345710Z"
    }
   },
   "source": [
    "# real case (part 1)\n",
    "result = part_1(InputReader(puzzle.input_data), False)\n",
    "display(result)"
   ],
   "outputs": [
    {
     "data": {
      "text/plain": [
       "166905464"
      ]
     },
     "metadata": {},
     "output_type": "display_data"
    }
   ],
   "execution_count": 9
  },
  {
   "metadata": {
    "ExecuteTime": {
     "end_time": "2024-12-05T16:54:38.400077Z",
     "start_time": "2024-12-05T16:54:38.377982Z"
    }
   },
   "cell_type": "code",
   "source": [
    "# test case (part 2)\n",
    "def part_2(input: InputReader, debug: bool) -> int:\n",
    "    line = \"\".join(input.lines_as_str())\n",
    "\n",
    "    # write a regex that parses the input and finds all \"mul(\\d+,\\d+)\"\n",
    "    mul_re = re.compile(r\"mul\\(\\d+,\\d+\\)\")\n",
    "    do_re = re.compile(r\"do\\(\\)\")\n",
    "    dont_re = re.compile(r\"don't\\(\\)\")\n",
    "\n",
    "    # find all the do() and don't() positions\n",
    "    dos = []\n",
    "    donts = []\n",
    "    # find the position of the do_re matches\n",
    "    for match in do_re.finditer(line):\n",
    "        dos.append(match.start())\n",
    "    # find the position of the dont_re matches\n",
    "    for match in dont_re.finditer(line):\n",
    "        donts.append(match.start())\n",
    "\n",
    "    if debug:\n",
    "        display(line)\n",
    "\n",
    "    # find all matches in the input\n",
    "    total = 0\n",
    "    for match in mul_re.finditer(line):\n",
    "        start = match.start()\n",
    "        # find max  do before the match\n",
    "        max_do = 0\n",
    "        for do in dos:\n",
    "            if do < start:\n",
    "                max_do = max(max_do, do)\n",
    "        max_dont = 0\n",
    "        for dont in donts:\n",
    "            if dont < start:\n",
    "                max_dont = max(max_dont, dont)\n",
    "\n",
    "        if max_dont > max_do:\n",
    "            continue\n",
    "\n",
    "        numbers = re.findall(r\"\\d+\", match.group())\n",
    "        total += int(numbers[0]) * int(numbers[1])\n",
    "\n",
    "    return total\n",
    "\n",
    "from common.inputreader import PuzzleWrapper\n",
    "\n",
    "example = PuzzleWrapper(puzzle).get_code_block(2)\n",
    "result = part_2(InputReader(example), True)\n",
    "assert result == 48"
   ],
   "id": "5166d8cb2e87e4f7",
   "outputs": [
    {
     "data": {
      "text/plain": [
       "\"xmul(2,4)&mul[3,7]!^don't()_mul(5,5)+mul(32,64](mul(11,8)undo()?mul(8,5))\""
      ]
     },
     "metadata": {},
     "output_type": "display_data"
    }
   ],
   "execution_count": 10
  },
  {
   "metadata": {
    "ExecuteTime": {
     "end_time": "2024-12-05T16:54:38.491604Z",
     "start_time": "2024-12-05T16:54:38.486044Z"
    }
   },
   "cell_type": "code",
   "source": [
    "# real case (part 2)\n",
    "result = part_2(InputReader(puzzle.input_data), False)\n",
    "display(result)"
   ],
   "id": "19743eda4727c20d",
   "outputs": [
    {
     "data": {
      "text/plain": [
       "72948684"
      ]
     },
     "metadata": {},
     "output_type": "display_data"
    }
   ],
   "execution_count": 11
  },
  {
   "cell_type": "code",
   "id": "4dd82dbaffcffaf2",
   "metadata": {
    "ExecuteTime": {
     "end_time": "2024-12-05T16:54:38.512656Z",
     "start_time": "2024-12-05T16:54:38.511082Z"
    }
   },
   "source": [],
   "outputs": [],
   "execution_count": null
  }
 ],
 "metadata": {
  "kernelspec": {
   "display_name": ".venv",
   "language": "python",
   "name": "python3"
  },
  "language_info": {
   "codemirror_mode": {
    "name": "ipython",
    "version": 3
   },
   "file_extension": ".py",
   "mimetype": "text/x-python",
   "name": "python",
   "nbconvert_exporter": "python",
   "pygments_lexer": "ipython3",
   "version": "3.12.1"
  }
 },
 "nbformat": 4,
 "nbformat_minor": 5
}
