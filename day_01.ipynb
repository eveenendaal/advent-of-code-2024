{
 "cells": [
  {
   "metadata": {
    "collapsed": true,
    "ExecuteTime": {
     "end_time": "2024-12-05T18:06:29.150803Z",
     "start_time": "2024-12-05T18:06:29.053677Z"
    }
   },
   "cell_type": "code",
   "source": [
    "from IPython.core.display import Markdown\n",
    "from aocd.models import Puzzle\n",
    "\n",
    "from common.inputreader import InputReader\n",
    "\n",
    "puzzle = Puzzle(year=2024, day=int(\"01\"))\n",
    "\n",
    "display(Markdown(f\"# {puzzle.title}\"))\n",
    "display(Markdown(f\"[Open Website]({puzzle.url})\"))"
   ],
   "id": "initial_id",
   "outputs": [
    {
     "data": {
      "text/plain": [
       "<IPython.core.display.Markdown object>"
      ],
      "text/markdown": "# Historian Hysteria"
     },
     "metadata": {},
     "output_type": "display_data"
    },
    {
     "data": {
      "text/plain": [
       "<IPython.core.display.Markdown object>"
      ],
      "text/markdown": "[Open Website](https://adventofcode.com/2024/day/1)"
     },
     "metadata": {},
     "output_type": "display_data"
    }
   ],
   "execution_count": 1
  },
  {
   "metadata": {
    "ExecuteTime": {
     "end_time": "2024-12-05T18:06:29.187468Z",
     "start_time": "2024-12-05T18:06:29.158699Z"
    }
   },
   "cell_type": "code",
   "source": [
    "# test case (part 1)\n",
    "\n",
    "def part_1(input: InputReader):\n",
    "    lines = input.lines_as_ints()\n",
    "\n",
    "    left = []\n",
    "    right = []\n",
    "\n",
    "    # iterate over the lines and split the line by whitespace and append to left and right\n",
    "    for line in lines:\n",
    "        left.append(line[0])\n",
    "        right.append(line[1])\n",
    "\n",
    "    # sort the left and right lists\n",
    "    left.sort()\n",
    "    right.sort()\n",
    "\n",
    "    # iterate over the lists and calculate the difference\n",
    "    diff = 0\n",
    "    for i in range(len(left)):\n",
    "        diff += abs(int(left[i]) - int(right[i]))\n",
    "\n",
    "    return diff\n",
    "\n",
    "\n",
    "result = part_1(InputReader(puzzle.examples[0].input_data))\n",
    "\n",
    "assert result == 11\n"
   ],
   "id": "10bac90b39b09cc2",
   "outputs": [],
   "execution_count": 2
  },
  {
   "metadata": {
    "ExecuteTime": {
     "end_time": "2024-12-05T18:06:29.285090Z",
     "start_time": "2024-12-05T18:06:29.280385Z"
    }
   },
   "cell_type": "code",
   "source": [
    "# real case (part 1)\n",
    "\n",
    "result = part_1(InputReader(puzzle.input_data))\n",
    "display(result)\n",
    "assert result == 1651298\n"
   ],
   "id": "792aea30f7e7be80",
   "outputs": [
    {
     "data": {
      "text/plain": [
       "1651298"
      ]
     },
     "metadata": {},
     "output_type": "display_data"
    }
   ],
   "execution_count": 3
  },
  {
   "metadata": {
    "ExecuteTime": {
     "end_time": "2024-12-05T18:06:29.311870Z",
     "start_time": "2024-12-05T18:06:29.306932Z"
    }
   },
   "cell_type": "code",
   "source": [
    "# test case (part 2)\n",
    "\n",
    "def part_2(input: InputReader):\n",
    "    lines = input.lines_as_ints()\n",
    "\n",
    "    left = []\n",
    "    right = []\n",
    "\n",
    "    # iterate over the lines and split the line by whitespace and append to left and right\n",
    "    for line in lines:\n",
    "        left.append(line[0])\n",
    "        right.append(line[1])\n",
    "\n",
    "    # iterate over the lists and calculate the difference\n",
    "    total = 0\n",
    "    for i in range(len(left)):\n",
    "        next_left = left[i]\n",
    "\n",
    "        # how many times does the next_left appear in the right list\n",
    "        count = right.count(next_left)\n",
    "\n",
    "        total += next_left * count\n",
    "\n",
    "    return total\n",
    "\n",
    "\n",
    "result = part_2(InputReader(puzzle.examples[0].input_data))\n",
    "\n",
    "assert result == 31\n"
   ],
   "id": "37e43670e40d8ff5",
   "outputs": [],
   "execution_count": 4
  },
  {
   "metadata": {
    "ExecuteTime": {
     "end_time": "2024-12-05T18:06:29.338856Z",
     "start_time": "2024-12-05T18:06:29.327071Z"
    }
   },
   "cell_type": "code",
   "source": [
    "# real case (part 2)\n",
    "result = part_2(InputReader(puzzle.input_data))\n",
    "display(result)\n",
    "assert result == 21306195"
   ],
   "id": "f80387c9b2081ccc",
   "outputs": [
    {
     "data": {
      "text/plain": [
       "21306195"
      ]
     },
     "metadata": {},
     "output_type": "display_data"
    }
   ],
   "execution_count": 5
  },
  {
   "metadata": {
    "ExecuteTime": {
     "end_time": "2024-12-05T18:06:29.350205Z",
     "start_time": "2024-12-05T18:06:29.348684Z"
    }
   },
   "cell_type": "code",
   "source": "",
   "id": "e1cd8f7e0af1c522",
   "outputs": [],
   "execution_count": null
  }
 ],
 "metadata": {
  "kernelspec": {
   "display_name": "Python 3",
   "language": "python",
   "name": "python3"
  },
  "language_info": {
   "codemirror_mode": {
    "name": "ipython",
    "version": 2
   },
   "file_extension": ".py",
   "mimetype": "text/x-python",
   "name": "python",
   "nbconvert_exporter": "python",
   "pygments_lexer": "ipython2",
   "version": "2.7.6"
  }
 },
 "nbformat": 4,
 "nbformat_minor": 5
}
