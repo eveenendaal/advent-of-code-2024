{
 "cells": [
  {
   "cell_type": "code",
   "execution_count": 1,
   "id": "initial_id",
   "metadata": {
    "ExecuteTime": {
     "end_time": "2024-12-05T18:06:29.150803Z",
     "start_time": "2024-12-05T18:06:29.053677Z"
    },
    "collapsed": true,
    "execution": {
     "iopub.execute_input": "2024-12-08T05:46:49.073965Z",
     "iopub.status.busy": "2024-12-08T05:46:49.073480Z",
     "iopub.status.idle": "2024-12-08T05:46:49.182406Z",
     "shell.execute_reply": "2024-12-08T05:46:49.182185Z"
    }
   },
   "outputs": [
    {
     "data": {
      "text/markdown": [
       "# Historian Hysteria"
      ],
      "text/plain": [
       "<IPython.core.display.Markdown object>"
      ]
     },
     "metadata": {},
     "output_type": "display_data"
    },
    {
     "data": {
      "text/markdown": [
       "[Open Website](https://adventofcode.com/2024/day/1)"
      ],
      "text/plain": [
       "<IPython.core.display.Markdown object>"
      ]
     },
     "metadata": {},
     "output_type": "display_data"
    }
   ],
   "source": [
    "from IPython.core.display import Markdown\n",
    "from aocd.models import Puzzle\n",
    "\n",
    "from common.inputreader import InputReader\n",
    "\n",
    "puzzle = Puzzle(year=2024, day=int(\"01\"))\n",
    "\n",
    "display(Markdown(f\"# {puzzle.title}\"))\n",
    "display(Markdown(f\"[Open Website]({puzzle.url})\"))"
   ]
  },
  {
   "cell_type": "code",
   "execution_count": 2,
   "id": "10bac90b39b09cc2",
   "metadata": {
    "ExecuteTime": {
     "end_time": "2024-12-05T18:06:29.187468Z",
     "start_time": "2024-12-05T18:06:29.158699Z"
    },
    "execution": {
     "iopub.execute_input": "2024-12-08T05:46:49.183620Z",
     "iopub.status.busy": "2024-12-08T05:46:49.183518Z",
     "iopub.status.idle": "2024-12-08T05:46:49.194929Z",
     "shell.execute_reply": "2024-12-08T05:46:49.194693Z"
    }
   },
   "outputs": [],
   "source": [
    "# test case (part 1)\n",
    "\n",
    "def part_1(input: InputReader):\n",
    "    lines = input.lines_as_ints()\n",
    "\n",
    "    left = []\n",
    "    right = []\n",
    "\n",
    "    # iterate over the lines and split the line by whitespace and append to left and right\n",
    "    for line in lines:\n",
    "        left.append(line[0])\n",
    "        right.append(line[1])\n",
    "\n",
    "    # sort the left and right lists\n",
    "    left.sort()\n",
    "    right.sort()\n",
    "\n",
    "    # iterate over the lists and calculate the difference\n",
    "    diff = 0\n",
    "    for i in range(len(left)):\n",
    "        diff += abs(int(left[i]) - int(right[i]))\n",
    "\n",
    "    return diff\n",
    "\n",
    "\n",
    "result = part_1(InputReader(puzzle.examples[0].input_data))\n",
    "\n",
    "assert result == 11\n"
   ]
  },
  {
   "cell_type": "code",
   "execution_count": 3,
   "id": "792aea30f7e7be80",
   "metadata": {
    "ExecuteTime": {
     "end_time": "2024-12-05T18:06:29.285090Z",
     "start_time": "2024-12-05T18:06:29.280385Z"
    },
    "execution": {
     "iopub.execute_input": "2024-12-08T05:46:49.196067Z",
     "iopub.status.busy": "2024-12-08T05:46:49.195969Z",
     "iopub.status.idle": "2024-12-08T05:46:49.198768Z",
     "shell.execute_reply": "2024-12-08T05:46:49.198566Z"
    }
   },
   "outputs": [
    {
     "data": {
      "text/plain": [
       "1651298"
      ]
     },
     "metadata": {},
     "output_type": "display_data"
    }
   ],
   "source": [
    "# real case (part 1)\n",
    "\n",
    "result = part_1(InputReader(puzzle.input_data))\n",
    "display(result)\n",
    "assert result == 1651298\n"
   ]
  },
  {
   "cell_type": "code",
   "execution_count": 4,
   "id": "37e43670e40d8ff5",
   "metadata": {
    "ExecuteTime": {
     "end_time": "2024-12-05T18:06:29.311870Z",
     "start_time": "2024-12-05T18:06:29.306932Z"
    },
    "execution": {
     "iopub.execute_input": "2024-12-08T05:46:49.199848Z",
     "iopub.status.busy": "2024-12-08T05:46:49.199757Z",
     "iopub.status.idle": "2024-12-08T05:46:49.203077Z",
     "shell.execute_reply": "2024-12-08T05:46:49.202867Z"
    }
   },
   "outputs": [],
   "source": [
    "# test case (part 2)\n",
    "\n",
    "def part_2(input: InputReader):\n",
    "    lines = input.lines_as_ints()\n",
    "\n",
    "    left = []\n",
    "    right = []\n",
    "\n",
    "    # iterate over the lines and split the line by whitespace and append to left and right\n",
    "    for line in lines:\n",
    "        left.append(line[0])\n",
    "        right.append(line[1])\n",
    "\n",
    "    # iterate over the lists and calculate the difference\n",
    "    total = 0\n",
    "    for i in range(len(left)):\n",
    "        next_left = left[i]\n",
    "\n",
    "        # how many times does the next_left appear in the right list\n",
    "        count = right.count(next_left)\n",
    "\n",
    "        total += next_left * count\n",
    "\n",
    "    return total\n",
    "\n",
    "\n",
    "result = part_2(InputReader(puzzle.examples[0].input_data))\n",
    "\n",
    "assert result == 31\n"
   ]
  },
  {
   "cell_type": "code",
   "execution_count": 5,
   "id": "f80387c9b2081ccc",
   "metadata": {
    "ExecuteTime": {
     "end_time": "2024-12-05T18:06:29.338856Z",
     "start_time": "2024-12-05T18:06:29.327071Z"
    },
    "execution": {
     "iopub.execute_input": "2024-12-08T05:46:49.204245Z",
     "iopub.status.busy": "2024-12-08T05:46:49.204165Z",
     "iopub.status.idle": "2024-12-08T05:46:49.213336Z",
     "shell.execute_reply": "2024-12-08T05:46:49.213117Z"
    }
   },
   "outputs": [
    {
     "data": {
      "text/plain": [
       "21306195"
      ]
     },
     "metadata": {},
     "output_type": "display_data"
    }
   ],
   "source": [
    "# real case (part 2)\n",
    "result = part_2(InputReader(puzzle.input_data))\n",
    "display(result)\n",
    "assert result == 21306195"
   ]
  },
  {
   "cell_type": "code",
   "execution_count": null,
   "id": "e1cd8f7e0af1c522",
   "metadata": {
    "ExecuteTime": {
     "end_time": "2024-12-05T18:06:29.350205Z",
     "start_time": "2024-12-05T18:06:29.348684Z"
    }
   },
   "outputs": [],
   "source": []
  }
 ],
 "metadata": {
  "kernelspec": {
   "display_name": "Python 3",
   "language": "python",
   "name": "python3"
  },
  "language_info": {
   "codemirror_mode": {
    "name": "ipython",
    "version": 3
   },
   "file_extension": ".py",
   "mimetype": "text/x-python",
   "name": "python",
   "nbconvert_exporter": "python",
   "pygments_lexer": "ipython3",
   "version": "3.13.0"
  }
 },
 "nbformat": 4,
 "nbformat_minor": 5
}
