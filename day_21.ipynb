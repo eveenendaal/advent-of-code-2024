{
 "cells": [
  {
   "cell_type": "code",
   "execution_count": 1,
   "id": "dec75b3898d7314f",
   "metadata": {
    "ExecuteTime": {
     "end_time": "2024-12-21T06:21:22.662437Z",
     "start_time": "2024-12-21T06:21:22.557820Z"
    }
   },
   "outputs": [
    {
     "data": {
      "text/markdown": [
       "# Keypad Conundrum"
      ],
      "text/plain": [
       "<IPython.core.display.Markdown object>"
      ]
     },
     "metadata": {},
     "output_type": "display_data"
    },
    {
     "data": {
      "text/markdown": [
       "[Open Website](https://adventofcode.com/2024/day/21)"
      ],
      "text/plain": [
       "<IPython.core.display.Markdown object>"
      ]
     },
     "metadata": {},
     "output_type": "display_data"
    }
   ],
   "source": [
    "from common.inputreader import InputReader, PuzzleWrapper\n",
    "\n",
    "puzzle = PuzzleWrapper(year=2024, day=int(\"21\"))\n",
    "\n",
    "puzzle.header()"
   ]
  },
  {
   "cell_type": "code",
   "execution_count": 6,
   "id": "34dd2d43c40af29b",
   "metadata": {
    "ExecuteTime": {
     "end_time": "2024-12-21T08:15:29.490818Z",
     "start_time": "2024-12-21T08:15:29.455567Z"
    }
   },
   "outputs": [
    {
     "name": "stdout",
     "output_type": "stream",
     "text": [
      "line: 029A\n",
      "total: 1972\n",
      "\n"
     ]
    },
    {
     "data": {
      "text/plain": [
       "1972"
      ]
     },
     "metadata": {},
     "output_type": "display_data"
    },
    {
     "name": "stdout",
     "output_type": "stream",
     "text": [
      "line: 980A\n",
      "total: 58800\n",
      "\n"
     ]
    },
    {
     "data": {
      "text/plain": [
       "58800"
      ]
     },
     "metadata": {},
     "output_type": "display_data"
    },
    {
     "name": "stdout",
     "output_type": "stream",
     "text": [
      "line: 179A\n",
      "total: 11456\n",
      "\n"
     ]
    },
    {
     "data": {
      "text/plain": [
       "11456"
      ]
     },
     "metadata": {},
     "output_type": "display_data"
    },
    {
     "name": "stdout",
     "output_type": "stream",
     "text": [
      "Expected 12172 but got 11456 for input 179A\n"
     ]
    },
    {
     "ename": "AssertionError",
     "evalue": "",
     "output_type": "error",
     "traceback": [
      "\u001b[0;31m---------------------------------------------------------------------------\u001b[0m",
      "\u001b[0;31mAssertionError\u001b[0m                            Traceback (most recent call last)",
      "Cell \u001b[0;32mIn[6], line 119\u001b[0m\n\u001b[1;32m    116\u001b[0m     \u001b[38;5;28;01mif\u001b[39;00m result \u001b[38;5;241m!=\u001b[39m answer:\n\u001b[1;32m    117\u001b[0m         \u001b[38;5;28mprint\u001b[39m(\u001b[38;5;124mf\u001b[39m\u001b[38;5;124m\"\u001b[39m\u001b[38;5;124mExpected \u001b[39m\u001b[38;5;132;01m{\u001b[39;00manswer\u001b[38;5;132;01m}\u001b[39;00m\u001b[38;5;124m but got \u001b[39m\u001b[38;5;132;01m{\u001b[39;00mresult\u001b[38;5;132;01m}\u001b[39;00m\u001b[38;5;124m for input \u001b[39m\u001b[38;5;132;01m{\u001b[39;00m\u001b[38;5;28minput\u001b[39m\u001b[38;5;132;01m}\u001b[39;00m\u001b[38;5;124m\"\u001b[39m)\n\u001b[0;32m--> 119\u001b[0m     \u001b[38;5;28;01massert\u001b[39;00m result \u001b[38;5;241m==\u001b[39m answer\n\u001b[1;32m    121\u001b[0m result \u001b[38;5;241m=\u001b[39m part_1(inputs, \u001b[38;5;28;01mTrue\u001b[39;00m)\n\u001b[1;32m    122\u001b[0m display(result)\n",
      "\u001b[0;31mAssertionError\u001b[0m: "
     ]
    }
   ],
   "source": [
    "import re\n",
    "from collections import deque\n",
    "from common.matrix import Direction, Matrix, MatrixNavigator\n",
    "from functools import cache\n",
    "\n",
    "\n",
    "direction_map = {\n",
    "    Direction.UP: '^',\n",
    "    Direction.DOWN: 'v',\n",
    "    Direction.LEFT: '<',\n",
    "    Direction.RIGHT: '>'\n",
    "}\n",
    "directions = direction_map.keys()\n",
    "\n",
    "def direction_string(direction: Direction) -> str:\n",
    "    return \"A\" if direction is None else direction_map[direction]\n",
    "\n",
    "@cache\n",
    "def generate_paths(matrix: Matrix, start: tuple, end: tuple) -> iter:\n",
    "    queue = deque([(start, \"\", [])])\n",
    "    paths = []\n",
    "    \n",
    "    \n",
    "    while queue:\n",
    "        current_point, path, history = queue.popleft()\n",
    "        if current_point == end:\n",
    "            paths.append(path)\n",
    "            continue\n",
    "\n",
    "        for direction in directions:\n",
    "            pointer = MatrixNavigator(matrix, *current_point)\n",
    "            ok = pointer.move(direction)\n",
    "            if ok:\n",
    "                if pointer.get_position() in history:\n",
    "                    continue\n",
    "                new_path = path + direction_string(direction)\n",
    "                queue.append((pointer.get_position(), new_path, history + [current_point]))\n",
    "\n",
    "    return paths\n",
    "\n",
    "\n",
    "@cache\n",
    "def find_shortest_path(pad: Matrix, code: str, robots: int) -> int:\n",
    "    if robots == 0:\n",
    "        return len(code)\n",
    "    \n",
    "    # find start\n",
    "    start = pad.find(\"A\")\n",
    "    min_length = 0\n",
    "    \n",
    "    for next in code:\n",
    "        end = pad.find(next)\n",
    "        all_paths = generate_paths(pad, start, end)\n",
    "        candidates = []\n",
    "        for sequence in all_paths:\n",
    "            candidates.append(find_shortest_path(direction_pad, sequence  + 'A', robots-1))\n",
    "        min_length += min(candidates)\n",
    "        start = pad.find(next)\n",
    "        \n",
    "    return min_length\n",
    "    \n",
    "\n",
    "number_pad = Matrix([\n",
    "        ['7', '8', '9'],\n",
    "        ['4', '5', '6'],\n",
    "        ['1', '2', '3'],\n",
    "        [' ', '0', 'A']\n",
    "    ])\n",
    "\n",
    "direction_pad = Matrix([\n",
    "        [' ', '^', 'A'],\n",
    "        ['<', 'v', '>']\n",
    "    ])\n",
    "\n",
    "def get_multiplier(line: str) -> int:\n",
    "    digits = re.compile(r'\\d+')\n",
    "    return int(digits.findall(line)[0])\n",
    "\n",
    "def handle_line(line: str, debug: bool) -> int:\n",
    "    # find first key presses\n",
    "    length = find_shortest_path(number_pad, line, 3)\n",
    "\n",
    "    total = get_multiplier(line) * length\n",
    "    if debug:\n",
    "        print(f'line: {line}')\n",
    "        print(f'total: {total}')\n",
    "\n",
    "    return total\n",
    "\n",
    "# test case (part 1)\n",
    "def part_1(inputs: list, debug: bool) -> int:\n",
    "    total = 0\n",
    "    for input in inputs:\n",
    "        total += handle_line(input, debug)\n",
    "        if debug:\n",
    "            print()\n",
    "    return total\n",
    "\n",
    "\n",
    "inputs = [\"029A\",\"980A\",\"179A\",\"456A\",\"379A\"]\n",
    "answers = {\n",
    "    \"029A\": \"<vA<AA>>^AvAA<^A>A<v<A>>^AvA^A<vA>^A<v<A>^A>AAvA^A<v<A>A>^AAAvA<^A>A\",\n",
    "    \"980A\": \"<v<A>>^AAAvA^A<vA<AA>>^AvAA<^A>A<v<A>A>^AAAvA<^A>A<vA>^A<A>A\",\n",
    "    \"179A\": \"<v<A>>^A<vA<A>>^AAvAA<^A>A<v<A>>^AAvA^A<vA>^AA<A>A<v<A>A>^AAAvA<^A>A\",\n",
    "    \"456A\": \"<v<A>>^AA<vA<A>>^AAvAA<^A>A<vA>^A<A>A<vA>^A<A>A<v<A>A>^AAvA<^A>A\",\n",
    "    \"379A\": \"<v<A>>^AvA^A<vA<AA>>^AAvA<^A>AAvA^A<vA>^AA<A>A<v<A>A>^AAAvA<^A>A\"\n",
    "}\n",
    "\n",
    "for input in inputs:\n",
    "    answer_inputs = answers[input]\n",
    "    multiplier = get_multiplier(input)\n",
    "    answer = len(answer_inputs) * multiplier\n",
    "    \n",
    "    result = part_1([input], True)\n",
    "    display(result)\n",
    "    if result != answer:\n",
    "        print(f\"Expected {answer} but got {result} for input {input}\")\n",
    "        \n",
    "    assert result == answer\n",
    "\n",
    "result = part_1(inputs, True)\n",
    "display(result)\n",
    "assert result == 126384"
   ]
  },
  {
   "cell_type": "code",
   "execution_count": 9,
   "id": "66cab898e4711d42",
   "metadata": {},
   "outputs": [
    {
     "data": {
      "text/plain": [
       "188078"
      ]
     },
     "metadata": {},
     "output_type": "display_data"
    }
   ],
   "source": [
    "# real case (part 1)\n",
    "result = part_1(puzzle.input().lines_as_str(), False)\n",
    "display(result)"
   ]
  },
  {
   "cell_type": "code",
   "execution_count": null,
   "id": "d2277c7db8ea0a5e",
   "metadata": {},
   "outputs": [],
   "source": [
    "# test case (part 2)\n",
    "def part_2(reader: InputReader, debug: bool) -> int:\n",
    "    lines = domain_from_input(reader)\n",
    "    if debug:\n",
    "        display(lines)\n",
    "    return 0\n",
    "\n",
    "\n",
    "result = part_2(puzzle.example(0), True)\n",
    "display(result)\n",
    "assert result == 0"
   ]
  },
  {
   "cell_type": "code",
   "execution_count": null,
   "id": "57c071f7c6d2914",
   "metadata": {},
   "outputs": [],
   "source": [
    "# real case (part 2)\n",
    "result = part_2(puzzle.input().lines_as_str(), False)\n",
    "display(result)"
   ]
  },
  {
   "cell_type": "code",
   "execution_count": null,
   "id": "44e329cbb6ad2400",
   "metadata": {},
   "outputs": [],
   "source": [
    "# print easters eggs\n",
    "puzzle.print_easter_eggs()"
   ]
  }
 ],
 "metadata": {
  "kernelspec": {
   "display_name": "Python 3",
   "language": "python",
   "name": "python3"
  },
  "language_info": {
   "codemirror_mode": {
    "name": "ipython",
    "version": 3
   },
   "file_extension": ".py",
   "mimetype": "text/x-python",
   "name": "python",
   "nbconvert_exporter": "python",
   "pygments_lexer": "ipython3",
   "version": "3.12.1"
  }
 },
 "nbformat": 4,
 "nbformat_minor": 5
}
