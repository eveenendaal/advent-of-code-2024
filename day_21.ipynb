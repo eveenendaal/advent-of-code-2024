{
 "cells": [
  {
   "cell_type": "code",
   "id": "dec75b3898d7314f",
   "metadata": {
    "ExecuteTime": {
     "end_time": "2024-12-21T15:05:43.223711Z",
     "start_time": "2024-12-21T15:05:43.115608Z"
    }
   },
   "source": [
    "from common.inputreader import InputReader, PuzzleWrapper\n",
    "\n",
    "puzzle = PuzzleWrapper(year=2024, day=int(\"21\"))\n",
    "\n",
    "puzzle.header()"
   ],
   "outputs": [
    {
     "data": {
      "text/plain": [
       "<IPython.core.display.Markdown object>"
      ],
      "text/markdown": "# Keypad Conundrum"
     },
     "metadata": {},
     "output_type": "display_data"
    },
    {
     "data": {
      "text/plain": [
       "<IPython.core.display.Markdown object>"
      ],
      "text/markdown": "[Open Website](https://adventofcode.com/2024/day/21)"
     },
     "metadata": {},
     "output_type": "display_data"
    }
   ],
   "execution_count": 1
  },
  {
   "cell_type": "code",
   "id": "34dd2d43c40af29b",
   "metadata": {
    "ExecuteTime": {
     "end_time": "2024-12-21T15:13:33.430465Z",
     "start_time": "2024-12-21T15:13:33.348961Z"
    }
   },
   "source": [
    "import re\n",
    "from collections import deque\n",
    "from common.matrix import Direction, Matrix, MatrixNavigator\n",
    "from functools import cache\n",
    "\n",
    "direction_map = {\n",
    "    Direction.UP: '^',\n",
    "    Direction.DOWN: 'v',\n",
    "    Direction.LEFT: '<',\n",
    "    Direction.RIGHT: '>'\n",
    "}\n",
    "directions = direction_map.keys()\n",
    "\n",
    "\n",
    "def direction_string(direction: Direction) -> str:\n",
    "    return \"A\" if direction is None else direction_map[direction]\n",
    "\n",
    "\n",
    "@cache\n",
    "def generate_paths(matrix: Matrix, start: tuple, end: tuple) -> iter:\n",
    "    queue = deque([(start, \"\", [])])\n",
    "    paths = []\n",
    "\n",
    "    while queue:\n",
    "        current_point, path, history = queue.popleft()\n",
    "        if current_point == end:\n",
    "            paths.append(path)\n",
    "            continue\n",
    "\n",
    "        for direction in directions:\n",
    "            pointer = MatrixNavigator(matrix, *current_point)\n",
    "            ok = pointer.move(direction)\n",
    "            if ok:\n",
    "                if pointer.get_position() in history:\n",
    "                    continue\n",
    "                new_path = path + direction_string(direction)\n",
    "                queue.append((pointer.get_position(), new_path, history + [current_point]))\n",
    "\n",
    "    return paths\n",
    "\n",
    "\n",
    "@cache\n",
    "def find_shortest_path(pad: Matrix, code: str, robots: int) -> int:\n",
    "    if robots == 0:\n",
    "        return len(code)\n",
    "\n",
    "    # find start\n",
    "    start = pad.find(\"A\")\n",
    "    min_length = 0\n",
    "    new_robots = robots - 1\n",
    "\n",
    "    for next in code:\n",
    "        end = pad.find(next)\n",
    "        candidates = []\n",
    "        for sequence in generate_paths(pad, start, end):\n",
    "            new_sequence = sequence + 'A'\n",
    "            candidates.append(find_shortest_path(direction_pad, new_sequence, new_robots))\n",
    "        min_length += min(candidates)\n",
    "        start = pad.find(next)\n",
    "\n",
    "    return min_length\n",
    "\n",
    "\n",
    "number_pad = Matrix([\n",
    "    ['7', '8', '9'],\n",
    "    ['4', '5', '6'],\n",
    "    ['1', '2', '3'],\n",
    "    [' ', '0', 'A']\n",
    "])\n",
    "\n",
    "direction_pad = Matrix([\n",
    "    [' ', '^', 'A'],\n",
    "    ['<', 'v', '>']\n",
    "])\n",
    "\n",
    "\n",
    "def get_multiplier(line: str) -> int:\n",
    "    digits = re.compile(r'\\d+')\n",
    "    return int(digits.findall(line)[0])\n",
    "\n",
    "\n",
    "def handle_line(line: str, debug: bool) -> int:\n",
    "    # find first key presses\n",
    "    length = find_shortest_path(number_pad, line, 3)\n",
    "    total = get_multiplier(line) * length\n",
    "    if debug:\n",
    "        print(f'line: {line}')\n",
    "        print(f'total: {total}')\n",
    "    return total\n",
    "\n",
    "\n",
    "# test case (part 1)\n",
    "def part_1(inputs: list, debug: bool) -> int:\n",
    "    return sum([handle_line(input, debug) for input in inputs])\n",
    "\n",
    "\n",
    "inputs = [\"029A\", \"980A\", \"179A\", \"456A\", \"379A\"]\n",
    "answers = {\n",
    "    \"029A\": 68 * 29,\n",
    "    \"980A\": 60 * 980,\n",
    "    \"179A\": 68 * 179,\n",
    "    \"456A\": 64 * 456,\n",
    "    \"379A\": 64 * 379\n",
    "}\n",
    "\n",
    "for input in inputs:\n",
    "    answer = answers[input]\n",
    "    multiplier = get_multiplier(input)\n",
    "\n",
    "    result = part_1([input], True)\n",
    "    display(result)\n",
    "    if result != answer:\n",
    "        print(f\"Expected {answer} but got {result} for input {input}\")\n",
    "\n",
    "    assert result == answer\n",
    "\n",
    "result = part_1(inputs, True)\n",
    "display(result)\n",
    "assert result == 126384"
   ],
   "outputs": [
    {
     "name": "stdout",
     "output_type": "stream",
     "text": [
      "line: 029A\n",
      "total: 1972\n"
     ]
    },
    {
     "data": {
      "text/plain": [
       "1972"
      ]
     },
     "metadata": {},
     "output_type": "display_data"
    },
    {
     "name": "stdout",
     "output_type": "stream",
     "text": [
      "line: 980A\n",
      "total: 58800\n"
     ]
    },
    {
     "data": {
      "text/plain": [
       "58800"
      ]
     },
     "metadata": {},
     "output_type": "display_data"
    },
    {
     "name": "stdout",
     "output_type": "stream",
     "text": [
      "line: 179A\n",
      "total: 11456\n"
     ]
    },
    {
     "data": {
      "text/plain": [
       "11456"
      ]
     },
     "metadata": {},
     "output_type": "display_data"
    },
    {
     "name": "stdout",
     "output_type": "stream",
     "text": [
      "Expected 12172 but got 11456 for input 179A\n"
     ]
    },
    {
     "ename": "AssertionError",
     "evalue": "",
     "output_type": "error",
     "traceback": [
      "\u001B[0;31m---------------------------------------------------------------------------\u001B[0m",
      "\u001B[0;31mAssertionError\u001B[0m                            Traceback (most recent call last)",
      "Cell \u001B[0;32mIn[5], line 115\u001B[0m\n\u001B[1;32m    112\u001B[0m     \u001B[38;5;28;01mif\u001B[39;00m result \u001B[38;5;241m!=\u001B[39m answer:\n\u001B[1;32m    113\u001B[0m         \u001B[38;5;28mprint\u001B[39m(\u001B[38;5;124mf\u001B[39m\u001B[38;5;124m\"\u001B[39m\u001B[38;5;124mExpected \u001B[39m\u001B[38;5;132;01m{\u001B[39;00manswer\u001B[38;5;132;01m}\u001B[39;00m\u001B[38;5;124m but got \u001B[39m\u001B[38;5;132;01m{\u001B[39;00mresult\u001B[38;5;132;01m}\u001B[39;00m\u001B[38;5;124m for input \u001B[39m\u001B[38;5;132;01m{\u001B[39;00m\u001B[38;5;28minput\u001B[39m\u001B[38;5;132;01m}\u001B[39;00m\u001B[38;5;124m\"\u001B[39m)\n\u001B[0;32m--> 115\u001B[0m     \u001B[38;5;28;01massert\u001B[39;00m result \u001B[38;5;241m==\u001B[39m answer\n\u001B[1;32m    117\u001B[0m result \u001B[38;5;241m=\u001B[39m part_1(inputs, \u001B[38;5;28;01mTrue\u001B[39;00m)\n\u001B[1;32m    118\u001B[0m display(result)\n",
      "\u001B[0;31mAssertionError\u001B[0m: "
     ]
    }
   ],
   "execution_count": 5
  },
  {
   "cell_type": "code",
   "execution_count": 9,
   "id": "66cab898e4711d42",
   "metadata": {},
   "outputs": [
    {
     "data": {
      "text/plain": [
       "188078"
      ]
     },
     "metadata": {},
     "output_type": "display_data"
    }
   ],
   "source": [
    "# real case (part 1)\n",
    "result = part_1(puzzle.input().lines_as_str(), False)\n",
    "display(result)"
   ]
  },
  {
   "cell_type": "code",
   "execution_count": null,
   "id": "d2277c7db8ea0a5e",
   "metadata": {},
   "outputs": [],
   "source": [
    "# test case (part 2)\n",
    "def part_2(reader: InputReader, debug: bool) -> int:\n",
    "    lines = domain_from_input(reader)\n",
    "    if debug:\n",
    "        display(lines)\n",
    "    return 0\n",
    "\n",
    "\n",
    "result = part_2(puzzle.example(0), True)\n",
    "display(result)\n",
    "assert result == 0"
   ]
  },
  {
   "cell_type": "code",
   "execution_count": null,
   "id": "57c071f7c6d2914",
   "metadata": {},
   "outputs": [],
   "source": [
    "# real case (part 2)\n",
    "result = part_2(puzzle.input().lines_as_str(), False)\n",
    "display(result)"
   ]
  },
  {
   "cell_type": "code",
   "execution_count": null,
   "id": "44e329cbb6ad2400",
   "metadata": {},
   "outputs": [],
   "source": [
    "# print easters eggs\n",
    "puzzle.print_easter_eggs()"
   ]
  }
 ],
 "metadata": {
  "kernelspec": {
   "display_name": "Python 3",
   "language": "python",
   "name": "python3"
  },
  "language_info": {
   "codemirror_mode": {
    "name": "ipython",
    "version": 3
   },
   "file_extension": ".py",
   "mimetype": "text/x-python",
   "name": "python",
   "nbconvert_exporter": "python",
   "pygments_lexer": "ipython3",
   "version": "3.12.1"
  }
 },
 "nbformat": 4,
 "nbformat_minor": 5
}
