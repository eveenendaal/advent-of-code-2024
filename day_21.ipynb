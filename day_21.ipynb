{
 "cells": [
  {
   "cell_type": "code",
   "execution_count": 1,
   "id": "dec75b3898d7314f",
   "metadata": {
    "ExecuteTime": {
     "end_time": "2024-12-21T06:21:22.662437Z",
     "start_time": "2024-12-21T06:21:22.557820Z"
    }
   },
   "outputs": [
    {
     "data": {
      "text/markdown": [
       "# Keypad Conundrum"
      ],
      "text/plain": [
       "<IPython.core.display.Markdown object>"
      ]
     },
     "metadata": {},
     "output_type": "display_data"
    },
    {
     "data": {
      "text/markdown": [
       "[Open Website](https://adventofcode.com/2024/day/21)"
      ],
      "text/plain": [
       "<IPython.core.display.Markdown object>"
      ]
     },
     "metadata": {},
     "output_type": "display_data"
    }
   ],
   "source": [
    "from common.inputreader import InputReader, PuzzleWrapper\n",
    "\n",
    "puzzle = PuzzleWrapper(year=2024, day=int(\"21\"))\n",
    "\n",
    "puzzle.header()\n",
    "# example = get_code_block(puzzle, 5)"
   ]
  },
  {
   "cell_type": "code",
   "id": "34dd2d43c40af29b",
   "metadata": {
    "ExecuteTime": {
     "end_time": "2024-12-21T08:15:29.490818Z",
     "start_time": "2024-12-21T08:15:29.455567Z"
    }
   },
   "source": [
    "import re\n",
    "from collections import deque\n",
    "from common.matrix import Direction, Matrix, MatrixNavigator\n",
    "\n",
    "\n",
    "# helper functions\n",
    "class KeyPad:\n",
    "    def __init__(self, input):\n",
    "        self.matrix = Matrix(input)\n",
    "        for x, y, value in self.matrix:\n",
    "            if value == 'A':\n",
    "                self.pointer = MatrixNavigator(self.matrix, x, y)\n",
    "                break\n",
    "\n",
    "    def move_to(self, value: str) -> list:\n",
    "        # find end\n",
    "        end = None\n",
    "        for x, y, v in self.matrix:\n",
    "            if v == value:\n",
    "                end = (x, y)\n",
    "                break\n",
    "\n",
    "        if end is None:\n",
    "            raise ValueError(f\"Value {value} not found in matrix\")\n",
    "\n",
    "        start = self.pointer.get_position()\n",
    "        path = find_shortest_path(self.matrix, start, end, {})\n",
    "        self.pointer.set_position(end[0], end[1])\n",
    "\n",
    "        return path\n",
    "\n",
    "    def input_value(self, string: str) -> str:\n",
    "        # find steps\n",
    "        presses = []\n",
    "        for next in list(string):\n",
    "            path = self.move_to(next)\n",
    "            for step in path:\n",
    "                presses.append(direction_string(step))\n",
    "            presses.append(\"A\")\n",
    "\n",
    "        return presses\n",
    "\n",
    "\n",
    "def direction_string(direction: Direction) -> str:\n",
    "    if direction == Direction.UP:\n",
    "        return \"^\"\n",
    "    elif direction == Direction.DOWN:\n",
    "        return \"v\"\n",
    "    elif direction == Direction.LEFT:\n",
    "        return \"<\"\n",
    "    elif direction == Direction.RIGHT:\n",
    "        return \">\"\n",
    "    else:\n",
    "        return \"A\"\n",
    "\n",
    "\n",
    "directions = [\n",
    "    Direction.UP,\n",
    "    Direction.DOWN,\n",
    "    Direction.LEFT,\n",
    "    Direction.RIGHT\n",
    "]\n",
    "\n",
    "direction_cost_cache = {}\n",
    "\n",
    "\n",
    "def cost_of_direction(last_key: Direction, next_key: Direction) -> int:\n",
    "    key = (last_key, next_key)\n",
    "    if key in direction_cost_cache:\n",
    "        return direction_cost_cache[key]\n",
    "\n",
    "    couple = (last_key, next_key)\n",
    "\n",
    "    if last_key is None:\n",
    "        if next_key == Direction.LEFT:\n",
    "            cost = 3\n",
    "        elif next_key == Direction.DOWN:\n",
    "            cost = 2\n",
    "        else:\n",
    "            cost = 1\n",
    "    else:\n",
    "        if last_key == next_key:\n",
    "            cost = 0\n",
    "        elif Direction.UP in couple and Direction.DOWN in couple:\n",
    "            cost = 1\n",
    "        else:\n",
    "            cost = 2\n",
    "\n",
    "    return cost\n",
    "\n",
    "\n",
    "def find_shortest_path(matrix: Matrix, start: tuple, end: tuple, cache: dict) -> list:\n",
    "    key = (start, end)\n",
    "    if start in cache:\n",
    "        return cache[key]\n",
    "\n",
    "    queue = deque([(start, 0, [])])\n",
    "    visited = set()\n",
    "    visited.add(start)\n",
    "\n",
    "    while queue:\n",
    "        current_point, cost, path = queue.popleft()\n",
    "        if current_point == end:\n",
    "            cache[key] = path\n",
    "            return path\n",
    "\n",
    "        for direction in directions:\n",
    "            pointer = MatrixNavigator(matrix, current_point[0], current_point[1])\n",
    "            last_direction = path[-1] if path else None\n",
    "            new_cost = cost_of_direction(last_direction, direction)\n",
    "            ok = pointer.move(direction)\n",
    "            if ok:\n",
    "                new_path = path + [direction]\n",
    "                queue.append((pointer.get_position(), cost + new_cost, new_path))\n",
    "\n",
    "    return []  # Return an empty list if no path is found\n",
    "\n",
    "\n",
    "def new_number_pad() -> KeyPad:\n",
    "    input = [\n",
    "        ['7', '8', '9'],\n",
    "        ['4', '5', '6'],\n",
    "        ['1', '2', '3'],\n",
    "        [' ', '0', 'A']\n",
    "    ]\n",
    "    return KeyPad(input)\n",
    "\n",
    "\n",
    "def new_direction_pad() -> KeyPad:\n",
    "    input = [\n",
    "        [' ', '^', 'A'],\n",
    "        ['<', 'v', '>']\n",
    "    ]\n",
    "    return KeyPad(input)\n",
    "\n",
    "\n",
    "def handle_line(line: str, debug: bool) -> int:\n",
    "    # find multiplier, get digits in string\n",
    "    digits = re.compile(r'\\d+')\n",
    "    multiplier = int(digits.findall(line)[0])\n",
    "\n",
    "    # find first key presses\n",
    "    num_pad = new_number_pad()\n",
    "    result = num_pad.input_value(line)\n",
    "\n",
    "    if debug:\n",
    "        print(f'line: {line}')\n",
    "\n",
    "    for i in range(0, 2):\n",
    "        if debug:\n",
    "            print(\"\".join(result))\n",
    "        dir_pad = new_direction_pad()\n",
    "        result = dir_pad.input_value(result)\n",
    "\n",
    "    total = multiplier * len(result)\n",
    "    if debug:\n",
    "        print(f'result: {\"\".join(result)} multiplier: {multiplier}')\n",
    "        print(f'total: {total}')\n",
    "\n",
    "    return total\n",
    "\n",
    "\n",
    "# test case (part 1)\n",
    "def part_1(inputs: list, debug: bool) -> int:\n",
    "    total = 0\n",
    "    for input in inputs:\n",
    "        total += handle_line(input, debug)\n",
    "        if debug:\n",
    "            print()\n",
    "    return total\n",
    "\n",
    "\n",
    "# 029A: <vA<AA>>^AvAA<^A>A<v<A>>^AvA^A<vA>^A<v<A>^A>AAvA^A<v<A>A>^AAAvA<^A>A\n",
    "# 980A: <v<A>>^AAAvA^A<vA<AA>>^AvAA<^A>A<v<A>A>^AAAvA<^A>A<vA>^A<A>A\n",
    "# 179A: <v<A>>^A<vA<A>>^AAvAA<^A>A<v<A>>^AAvA^A<vA>^AA<A>A<v<A>A>^AAAvA<^A>A\n",
    "# 456A: <v<A>>^AA<vA<A>>^AAvAA<^A>A<vA>^A<A>A<vA>^A<A>A<v<A>A>^AAvA<^A>A\n",
    "# 379A: <v<A>>^AvA^A<vA<AA>>^AAvA<^A>AAvA^A<vA>^AA<A>A<v<A>A>^AAAvA<^A>A\n",
    "\n",
    "inputs = [\n",
    "    \"029A\",\n",
    "    \"980A\",\n",
    "    \"179A\",\n",
    "    \"456A\",\n",
    "    \"379A\"\n",
    "]\n",
    "\n",
    "answers = [\n",
    "    1972,\n",
    "    58800,\n",
    "    12172,\n",
    "    29184,\n",
    "    24256\n",
    "]\n",
    "\n",
    "for input in inputs:\n",
    "    answer = answers[inputs.index(input)]\n",
    "    result = part_1([input], True)\n",
    "    display(result)\n",
    "    if result != answer:\n",
    "        print(f\"Expected {answer} but got {result} for input {input}\")\n",
    "    assert result == answer\n",
    "\n",
    "result = part_1(inputs, True)\n",
    "display(result)\n",
    "assert result == 126384"
   ],
   "outputs": [
    {
     "name": "stdout",
     "output_type": "stream",
     "text": [
      "line: 029A\n",
      "<A^A^^>AvvvA\n",
      "v<<A^>>A<A>A<AAv>A^Av<AAA^>A\n",
      "result: v<A<AA^>>A<Av>AA^Av<<A^>>AvA^Av<<A^>>AAv<A>A^A<A>Av<A<A^>>AAA<Av>A^A multiplier: 29\n",
      "total: 1972\n",
      "\n"
     ]
    },
    {
     "data": {
      "text/plain": [
       "1972"
      ]
     },
     "metadata": {},
     "output_type": "display_data"
    },
    {
     "name": "stdout",
     "output_type": "stream",
     "text": [
      "line: 980A\n",
      "^^^A<AvvvA>A\n",
      "<AAA>Av<<A^>>Av<AAA^>AvA^A\n",
      "result: v<<A^>>AAAvA^Av<A<AA^>>A<Av>AA^Av<A<A^>>AAA<Av>A^Av<A^>A<A>A multiplier: 980\n",
      "total: 58800\n",
      "\n"
     ]
    },
    {
     "data": {
      "text/plain": [
       "58800"
      ]
     },
     "metadata": {},
     "output_type": "display_data"
    },
    {
     "name": "stdout",
     "output_type": "stream",
     "text": [
      "line: 179A\n",
      "^<<A^^A>>AvvvA\n",
      "<Av<AA^>>A<AA>AvAA^Av<AAA^>A\n",
      "result: v<<A^>>Av<A<A^>>AA<Av>AA^Av<<A^>>AAvA^Av<A^>AA<A>Av<A<A^>>AAA<Av>A^A multiplier: 179\n",
      "total: 12172\n",
      "\n"
     ]
    },
    {
     "data": {
      "text/plain": [
       "12172"
      ]
     },
     "metadata": {},
     "output_type": "display_data"
    },
    {
     "name": "stdout",
     "output_type": "stream",
     "text": [
      "line: 456A\n",
      "^^<<A>A>AvvA\n",
      "<AAv<AA^>>AvA^AvA^Av<AA^>A\n",
      "result: v<<A^>>AAv<A<A^>>AA<Av>AA^Av<A^>A<A>Av<A^>A<A>Av<A<A^>>AA<Av>A^A multiplier: 456\n",
      "total: 29184\n",
      "\n"
     ]
    },
    {
     "data": {
      "text/plain": [
       "29184"
      ]
     },
     "metadata": {},
     "output_type": "display_data"
    },
    {
     "name": "stdout",
     "output_type": "stream",
     "text": [
      "line: 379A\n",
      "^A^^<<A>>AvvvA\n",
      "<A>A<AAv<AA^>>AvAA^Av<AAA^>A\n",
      "result: v<<A^>>AvA^Av<<A^>>AAv<A<A^>>AA<Av>AA^Av<A^>AA<A>Av<A<A^>>AAA<Av>A^A multiplier: 379\n",
      "total: 25772\n",
      "\n"
     ]
    },
    {
     "data": {
      "text/plain": [
       "25772"
      ]
     },
     "metadata": {},
     "output_type": "display_data"
    },
    {
     "name": "stdout",
     "output_type": "stream",
     "text": [
      "Expected 24256 but got 25772 for input 379A\n"
     ]
    },
    {
     "ename": "AssertionError",
     "evalue": "",
     "output_type": "error",
     "traceback": [
      "\u001B[0;31m---------------------------------------------------------------------------\u001B[0m",
      "\u001B[0;31mAssertionError\u001B[0m                            Traceback (most recent call last)",
      "Cell \u001B[0;32mIn[42], line 201\u001B[0m\n\u001B[1;32m    199\u001B[0m     \u001B[38;5;28;01mif\u001B[39;00m result \u001B[38;5;241m!=\u001B[39m answer:\n\u001B[1;32m    200\u001B[0m         \u001B[38;5;28mprint\u001B[39m(\u001B[38;5;124mf\u001B[39m\u001B[38;5;124m\"\u001B[39m\u001B[38;5;124mExpected \u001B[39m\u001B[38;5;132;01m{\u001B[39;00manswer\u001B[38;5;132;01m}\u001B[39;00m\u001B[38;5;124m but got \u001B[39m\u001B[38;5;132;01m{\u001B[39;00mresult\u001B[38;5;132;01m}\u001B[39;00m\u001B[38;5;124m for input \u001B[39m\u001B[38;5;132;01m{\u001B[39;00m\u001B[38;5;28minput\u001B[39m\u001B[38;5;132;01m}\u001B[39;00m\u001B[38;5;124m\"\u001B[39m)\n\u001B[0;32m--> 201\u001B[0m     \u001B[38;5;28;01massert\u001B[39;00m result \u001B[38;5;241m==\u001B[39m answer\n\u001B[1;32m    203\u001B[0m result \u001B[38;5;241m=\u001B[39m part_1(inputs, \u001B[38;5;28;01mTrue\u001B[39;00m)\n\u001B[1;32m    204\u001B[0m display(result)\n",
      "\u001B[0;31mAssertionError\u001B[0m: "
     ]
    }
   ],
   "execution_count": 42
  },
  {
   "cell_type": "code",
   "execution_count": null,
   "id": "66cab898e4711d42",
   "metadata": {},
   "outputs": [],
   "source": [
    "# real case (part 1)\n",
    "result = part_1(puzzle.input(), False)\n",
    "display(result)"
   ]
  },
  {
   "cell_type": "code",
   "execution_count": null,
   "id": "d2277c7db8ea0a5e",
   "metadata": {},
   "outputs": [],
   "source": [
    "# test case (part 2)\n",
    "def part_2(reader: InputReader, debug: bool) -> int:\n",
    "    lines = domain_from_input(reader)\n",
    "    if debug:\n",
    "        display(lines)\n",
    "    return 0\n",
    "\n",
    "\n",
    "result = part_2(puzzle.example(0), True)\n",
    "display(result)\n",
    "assert result == 0"
   ]
  },
  {
   "cell_type": "code",
   "execution_count": null,
   "id": "57c071f7c6d2914",
   "metadata": {},
   "outputs": [],
   "source": [
    "# real case (part 2)\n",
    "result = part_2(puzzle.input(), False)\n",
    "display(result)"
   ]
  },
  {
   "cell_type": "code",
   "execution_count": null,
   "id": "44e329cbb6ad2400",
   "metadata": {},
   "outputs": [],
   "source": [
    "# print easters eggs\n",
    "puzzle.print_easter_eggs()"
   ]
  }
 ],
 "metadata": {
  "kernelspec": {
   "display_name": ".venv",
   "language": "python",
   "name": "python3"
  },
  "language_info": {
   "codemirror_mode": {
    "name": "ipython",
    "version": 3
   },
   "file_extension": ".py",
   "mimetype": "text/x-python",
   "name": "python",
   "nbconvert_exporter": "python",
   "pygments_lexer": "ipython3",
   "version": "3.12.1"
  }
 },
 "nbformat": 4,
 "nbformat_minor": 5
}
