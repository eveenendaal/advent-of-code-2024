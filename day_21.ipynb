{
 "cells": [
  {
   "metadata": {
    "ExecuteTime": {
     "end_time": "2024-12-21T06:21:22.662437Z",
     "start_time": "2024-12-21T06:21:22.557820Z"
    }
   },
   "cell_type": "code",
   "source": [
    "from common.inputreader import InputReader, PuzzleWrapper\n",
    "\n",
    "puzzle = PuzzleWrapper(year=2024, day=int(\"21\"))\n",
    "\n",
    "puzzle.header()\n",
    "# example = get_code_block(puzzle, 5)"
   ],
   "id": "dec75b3898d7314f",
   "outputs": [
    {
     "data": {
      "text/plain": [
       "<IPython.core.display.Markdown object>"
      ],
      "text/markdown": "# Keypad Conundrum"
     },
     "metadata": {},
     "output_type": "display_data"
    },
    {
     "data": {
      "text/plain": [
       "<IPython.core.display.Markdown object>"
      ],
      "text/markdown": "[Open Website](https://adventofcode.com/2024/day/21)"
     },
     "metadata": {},
     "output_type": "display_data"
    }
   ],
   "execution_count": 1
  },
  {
   "metadata": {
    "ExecuteTime": {
     "end_time": "2024-12-21T06:45:24.469349Z",
     "start_time": "2024-12-21T06:45:24.459841Z"
    }
   },
   "cell_type": "code",
   "source": [
    "from collections import deque\n",
    "from common.matrix import Direction, Matrix, MatrixNavigator\n",
    "\n",
    "\n",
    "# helper functions\n",
    "class KeyPad:\n",
    "    def __init__(self, input):\n",
    "        self.matrix = Matrix(input)\n",
    "        for x, y, value in self.matrix:\n",
    "            if value == 'A':\n",
    "                self.pointer = MatrixNavigator(self.matrix, x, y)\n",
    "                break\n",
    "\n",
    "    def move_to(self, value: str) -> list:\n",
    "        # find end\n",
    "        end = None\n",
    "        for x, y, v in self.matrix:\n",
    "            if v == value:\n",
    "                end = (x, y)\n",
    "                break\n",
    "\n",
    "        if end is None:\n",
    "            raise ValueError(f\"Value {value} not found in matrix\")\n",
    "\n",
    "        # calculate manhattan distance\n",
    "        start = self.pointer.get_position()\n",
    "        path = find_shortest_path(self.matrix, start, end, {})\n",
    "        self.pointer.set_position(end[0], end[1])\n",
    "\n",
    "        return path\n",
    "\n",
    "    def input_value(self, string: str) -> str:\n",
    "        # find multiplier, get digits in string\n",
    "        multiplier = int(\"\".join([char for char in string if char.isdigit()]))\n",
    "\n",
    "        # find steps\n",
    "        presses = []\n",
    "        for next in list(string):\n",
    "            path = self.move_to(next)\n",
    "            for step in path:\n",
    "                presses.append(direction_string(step))\n",
    "            presses.append(\"A\")\n",
    "\n",
    "        print(f\"Presses: {''.join(presses)}, Multiplier: {multiplier}\")\n",
    "        return len(presses)\n",
    "\n",
    "\n",
    "def direction_string(direction: Direction) -> str:\n",
    "    if direction == Direction.UP:\n",
    "        return \"^\"\n",
    "    elif direction == Direction.DOWN:\n",
    "        return \"V\"\n",
    "    elif direction == Direction.LEFT:\n",
    "        return \"<\"\n",
    "    elif direction == Direction.RIGHT:\n",
    "        return \">\"\n",
    "    else:\n",
    "        return \"X\"\n",
    "\n",
    "\n",
    "directions = [\n",
    "    Direction.UP,\n",
    "    Direction.DOWN,\n",
    "    Direction.LEFT,\n",
    "    Direction.RIGHT\n",
    "]\n",
    "\n",
    "\n",
    "def find_shortest_path(matrix: Matrix, start: tuple, end: tuple, cache: dict) -> list:\n",
    "    key = (start, end)\n",
    "    if start in cache:\n",
    "        return cache[key]\n",
    "\n",
    "    queue = deque([(start, [])])\n",
    "    visited = set()\n",
    "    visited.add(start)\n",
    "\n",
    "    while queue:\n",
    "        current_point, path = queue.popleft()\n",
    "        if current_point == end:\n",
    "            cache[key] = path\n",
    "            return path\n",
    "\n",
    "        for direction in directions:\n",
    "            pointer = MatrixNavigator(matrix, current_point[0], current_point[1])\n",
    "            ok = pointer.move(direction)\n",
    "            if ok:\n",
    "                queue.append((pointer.get_position(), path + [direction]))\n",
    "\n",
    "    return []  # Return an empty list if no path is found\n",
    "\n",
    "\n",
    "def new_number_pad() -> KeyPad:\n",
    "    input = [\n",
    "        ['7', '8', '9'],\n",
    "        ['4', '5', '6'],\n",
    "        ['1', '2', '3'],\n",
    "        [' ', '0', 'A']\n",
    "    ]\n",
    "    return KeyPad(input)\n",
    "\n",
    "\n",
    "def new_direction_pad() -> KeyPad:\n",
    "    input = [\n",
    "        [' ', '^', 'A'],\n",
    "        ['<', 'V', '>']\n",
    "    ]\n",
    "    return KeyPad(input)\n",
    "\n",
    "# <vA<AA>>^AvAA<^A>A<v<A>>^AvA^A<vA>^A<v<A>^A>AAvA^A<v<A>A>^AAAvA<^A>A\n",
    "# v<<A>>^A<A>AvA<^AA>A<vAAA>^A\n",
    "# <A^A>^^AvvvA\n",
    "# 029A\n",
    "\n",
    "def domain_from_input(input: str) -> list:\n",
    "    num_pad = new_number_pad()\n",
    "\n",
    "    num_pad.input_value(input)\n",
    "\n",
    "    return []\n",
    "\n",
    "\n",
    "test_input = domain_from_input(\"029A\")\n",
    "display(test_input)"
   ],
   "id": "34dd2d43c40af29b",
   "outputs": [
    {
     "name": "stdout",
     "output_type": "stream",
     "text": [
      "Presses: <A^A^^>AVVVA, Multiplier: 29\n"
     ]
    },
    {
     "data": {
      "text/plain": [
       "[]"
      ]
     },
     "metadata": {},
     "output_type": "display_data"
    }
   ],
   "execution_count": 11
  },
  {
   "metadata": {
    "ExecuteTime": {
     "end_time": "2024-12-21T06:39:38.715698Z",
     "start_time": "2024-12-21T06:39:38.115427Z"
    }
   },
   "cell_type": "code",
   "source": [
    "# test case (part 1)\n",
    "def part_1(reader: InputReader, debug: bool) -> int:\n",
    "    lines = domain_from_input(reader)\n",
    "    if debug:\n",
    "        display(lines)\n",
    "    return 0\n",
    "\n",
    "\n",
    "result = part_1(puzzle.example(0), True)\n",
    "display(result)\n",
    "assert result == 0"
   ],
   "id": "6d23892a17117fed",
   "outputs": [
    {
     "ename": "NameError",
     "evalue": "name 'InputReader' is not defined",
     "output_type": "error",
     "traceback": [
      "\u001B[0;31m---------------------------------------------------------------------------\u001B[0m",
      "\u001B[0;31mNameError\u001B[0m                                 Traceback (most recent call last)",
      "Cell \u001B[0;32mIn[3], line 2\u001B[0m\n\u001B[1;32m      1\u001B[0m \u001B[38;5;66;03m# test case (part 1)\u001B[39;00m\n\u001B[0;32m----> 2\u001B[0m \u001B[38;5;28;01mdef\u001B[39;00m \u001B[38;5;21mpart_1\u001B[39m(reader: \u001B[43mInputReader\u001B[49m, debug: \u001B[38;5;28mbool\u001B[39m) \u001B[38;5;241m-\u001B[39m\u001B[38;5;241m>\u001B[39m \u001B[38;5;28mint\u001B[39m:\n\u001B[1;32m      3\u001B[0m     lines \u001B[38;5;241m=\u001B[39m domain_from_input(reader)\n\u001B[1;32m      4\u001B[0m     \u001B[38;5;28;01mif\u001B[39;00m debug:\n",
      "\u001B[0;31mNameError\u001B[0m: name 'InputReader' is not defined"
     ]
    }
   ],
   "execution_count": 3
  },
  {
   "metadata": {},
   "cell_type": "code",
   "source": [
    "# real case (part 1)\n",
    "result = part_1(puzzle.input(), False)\n",
    "display(result)"
   ],
   "id": "66cab898e4711d42",
   "outputs": [],
   "execution_count": null
  },
  {
   "metadata": {},
   "cell_type": "code",
   "source": [
    "# test case (part 2)\n",
    "def part_2(reader: InputReader, debug: bool) -> int:\n",
    "    lines = domain_from_input(reader)\n",
    "    if debug:\n",
    "        display(lines)\n",
    "    return 0\n",
    "\n",
    "\n",
    "result = part_2(puzzle.example(0), True)\n",
    "display(result)\n",
    "assert result == 0"
   ],
   "id": "d2277c7db8ea0a5e",
   "outputs": [],
   "execution_count": null
  },
  {
   "metadata": {},
   "cell_type": "code",
   "source": [
    "# real case (part 2)\n",
    "result = part_2(puzzle.input(), False)\n",
    "display(result)"
   ],
   "id": "57c071f7c6d2914",
   "outputs": [],
   "execution_count": null
  },
  {
   "metadata": {},
   "cell_type": "code",
   "source": [
    "# print easters eggs\n",
    "puzzle.print_easter_eggs()"
   ],
   "id": "44e329cbb6ad2400",
   "outputs": [],
   "execution_count": null
  }
 ],
 "metadata": {
  "kernelspec": {
   "display_name": "Python 3",
   "language": "python",
   "name": "python3"
  },
  "language_info": {
   "codemirror_mode": {
    "name": "ipython",
    "version": 2
   },
   "file_extension": ".py",
   "mimetype": "text/x-python",
   "name": "python",
   "nbconvert_exporter": "python",
   "pygments_lexer": "ipython2",
   "version": "2.7.6"
  }
 },
 "nbformat": 4,
 "nbformat_minor": 5
}
