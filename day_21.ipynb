{
 "cells": [
  {
   "metadata": {
    "ExecuteTime": {
     "end_time": "2024-12-21T05:54:22.621985Z",
     "start_time": "2024-12-21T05:54:22.033064Z"
    }
   },
   "cell_type": "code",
   "source": [
    "from common.inputreader import InputReader, PuzzleWrapper\n",
    "\n",
    "puzzle = PuzzleWrapper(year=2024, day=int(\"21\"))\n",
    "\n",
    "puzzle.header()\n",
    "# example = get_code_block(puzzle, 5)"
   ],
   "id": "dec75b3898d7314f",
   "outputs": [
    {
     "data": {
      "text/plain": [
       "<IPython.core.display.Markdown object>"
      ],
      "text/markdown": "# Keypad Conundrum"
     },
     "metadata": {},
     "output_type": "display_data"
    },
    {
     "data": {
      "text/plain": [
       "<IPython.core.display.Markdown object>"
      ],
      "text/markdown": "[Open Website](https://adventofcode.com/2024/day/21)"
     },
     "metadata": {},
     "output_type": "display_data"
    }
   ],
   "execution_count": 1
  },
  {
   "metadata": {
    "ExecuteTime": {
     "end_time": "2024-12-21T05:54:23.261613Z",
     "start_time": "2024-12-21T05:54:23.219762Z"
    }
   },
   "cell_type": "code",
   "source": [
    "from common.matrix import Direction, Matrix, MatrixNavigator\n",
    "\n",
    "\n",
    "# helper functions\n",
    "class NumberPad:\n",
    "    def __init__(self):\n",
    "        input = [\n",
    "            ['7', '8', '9'],\n",
    "            ['4', '5', '6'],\n",
    "            ['1', '2', '3'],\n",
    "            [' ', '0', 'A']\n",
    "        ]\n",
    "        self.matrix = Matrix(input)\n",
    "        for x, y, value in self.matrix:\n",
    "            if value == 'A':\n",
    "                self.pointer = MatrixNavigator(self.matrix, (x, y))\n",
    "                break\n",
    "\n",
    "    def move(self, direction: Direction):\n",
    "        self.pointer.move(direction)\n",
    "\n",
    "\n",
    "class KeyPad:\n",
    "    def __init__(self):\n",
    "        input = [\n",
    "            [' ', '^', 'A'],\n",
    "            ['<', 'V', '>']\n",
    "        ]\n",
    "        self.matrix = Matrix(input)\n",
    "        for x, y, value in self.matrix:\n",
    "            if value == 'A':\n",
    "                self.pointer = MatrixNavigator(self.matrix, (x, y))\n",
    "                break\n",
    "\n",
    "    def move(self, direction: Direction):\n",
    "        self.pointer.move(direction)\n",
    "\n",
    "\n",
    "def domain_from_input(input: InputReader) -> list:\n",
    "    lines = input.lines_as_strs()\n",
    "\n",
    "    return lines\n",
    "\n",
    "\n",
    "test_input = domain_from_input(puzzle.get_code_block(0))\n",
    "display(test_input)"
   ],
   "id": "34dd2d43c40af29b",
   "outputs": [
    {
     "data": {
      "text/plain": [
       "[['+---+---+---+'],\n",
       " ['|', '7', '|', '8', '|', '9', '|'],\n",
       " ['+---+---+---+'],\n",
       " ['|', '4', '|', '5', '|', '6', '|'],\n",
       " ['+---+---+---+'],\n",
       " ['|', '1', '|', '2', '|', '3', '|'],\n",
       " ['+---+---+---+'],\n",
       " ['|', '0', '|', 'A', '|'],\n",
       " ['+---+---+']]"
      ]
     },
     "metadata": {},
     "output_type": "display_data"
    }
   ],
   "execution_count": 2
  },
  {
   "metadata": {},
   "cell_type": "code",
   "source": [
    "# test case (part 1)\n",
    "def part_1(reader: InputReader, debug: bool) -> int:\n",
    "    lines = domain_from_input(reader)\n",
    "    if debug:\n",
    "        display(lines)\n",
    "    return 0\n",
    "\n",
    "\n",
    "result = part_1(puzzle.example(0), True)\n",
    "display(result)\n",
    "assert result == 0"
   ],
   "id": "6d23892a17117fed",
   "outputs": [],
   "execution_count": null
  },
  {
   "metadata": {},
   "cell_type": "code",
   "source": [
    "# real case (part 1)\n",
    "result = part_1(puzzle.input(), False)\n",
    "display(result)"
   ],
   "id": "66cab898e4711d42",
   "outputs": [],
   "execution_count": null
  },
  {
   "metadata": {},
   "cell_type": "code",
   "source": [
    "# test case (part 2)\n",
    "def part_2(reader: InputReader, debug: bool) -> int:\n",
    "    lines = domain_from_input(reader)\n",
    "    if debug:\n",
    "        display(lines)\n",
    "    return 0\n",
    "\n",
    "\n",
    "result = part_2(puzzle.example(0), True)\n",
    "display(result)\n",
    "assert result == 0"
   ],
   "id": "d2277c7db8ea0a5e",
   "outputs": [],
   "execution_count": null
  },
  {
   "metadata": {},
   "cell_type": "code",
   "source": [
    "# real case (part 2)\n",
    "result = part_2(puzzle.input(), False)\n",
    "display(result)"
   ],
   "id": "57c071f7c6d2914",
   "outputs": [],
   "execution_count": null
  },
  {
   "metadata": {},
   "cell_type": "code",
   "source": [
    "# print easters eggs\n",
    "puzzle.print_easter_eggs()"
   ],
   "id": "44e329cbb6ad2400",
   "outputs": [],
   "execution_count": null
  }
 ],
 "metadata": {
  "kernelspec": {
   "display_name": "Python 3",
   "language": "python",
   "name": "python3"
  },
  "language_info": {
   "codemirror_mode": {
    "name": "ipython",
    "version": 2
   },
   "file_extension": ".py",
   "mimetype": "text/x-python",
   "name": "python",
   "nbconvert_exporter": "python",
   "pygments_lexer": "ipython2",
   "version": "2.7.6"
  }
 },
 "nbformat": 4,
 "nbformat_minor": 5
}
