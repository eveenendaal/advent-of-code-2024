{
 "cells": [
  {
   "cell_type": "code",
   "execution_count": 1,
   "id": "dec75b3898d7314f",
   "metadata": {
    "ExecuteTime": {
     "end_time": "2024-12-21T06:21:22.662437Z",
     "start_time": "2024-12-21T06:21:22.557820Z"
    }
   },
   "outputs": [
    {
     "data": {
      "text/markdown": [
       "# Keypad Conundrum"
      ],
      "text/plain": [
       "<IPython.core.display.Markdown object>"
      ]
     },
     "metadata": {},
     "output_type": "display_data"
    },
    {
     "data": {
      "text/markdown": [
       "[Open Website](https://adventofcode.com/2024/day/21)"
      ],
      "text/plain": [
       "<IPython.core.display.Markdown object>"
      ]
     },
     "metadata": {},
     "output_type": "display_data"
    }
   ],
   "source": [
    "from common.inputreader import InputReader, PuzzleWrapper\n",
    "\n",
    "puzzle = PuzzleWrapper(year=2024, day=int(\"21\"))\n",
    "\n",
    "puzzle.header()\n",
    "# example = get_code_block(puzzle, 5)"
   ]
  },
  {
   "cell_type": "code",
   "execution_count": 13,
   "id": "34dd2d43c40af29b",
   "metadata": {
    "ExecuteTime": {
     "end_time": "2024-12-21T08:15:29.490818Z",
     "start_time": "2024-12-21T08:15:29.455567Z"
    }
   },
   "outputs": [
    {
     "name": "stdout",
     "output_type": "stream",
     "text": [
      "^A^^<<A>>AvvvA (14)\n",
      "<A>A<AAv<AA>>^AvAA^Av<AAA^>A (28)\n",
      "line: 379A\n",
      "result: v<<A>>^AvA^Av<<A>>^AAv<A<A>>^AAvAA^<A>Av<A^>AA<A>Av<A<A>>^AAA<A>vA^A\n",
      "length: 68\n",
      "total: 25772\n",
      "\n"
     ]
    },
    {
     "data": {
      "text/plain": [
       "25772"
      ]
     },
     "metadata": {},
     "output_type": "display_data"
    },
    {
     "name": "stdout",
     "output_type": "stream",
     "text": [
      "Expected 24256 but got 25772 for input 379A\n",
      "<A>Av<<AA>^AA>AvAA^A<vAAA>^A (28)\n",
      "^A<<^^A>>AvvvA (14)\n"
     ]
    },
    {
     "ename": "AssertionError",
     "evalue": "",
     "output_type": "error",
     "traceback": [
      "\u001b[0;31m---------------------------------------------------------------------------\u001b[0m",
      "\u001b[0;31mAssertionError\u001b[0m                            Traceback (most recent call last)",
      "Cell \u001b[0;32mIn[13], line 211\u001b[0m\n\u001b[1;32m    208\u001b[0m         \u001b[38;5;28mprint\u001b[39m(\u001b[38;5;124mf\u001b[39m\u001b[38;5;124m\"\u001b[39m\u001b[38;5;132;01m{\u001b[39;00mnext_input\u001b[38;5;132;01m}\u001b[39;00m\u001b[38;5;124m (\u001b[39m\u001b[38;5;132;01m{\u001b[39;00m\u001b[38;5;28mlen\u001b[39m(next_input)\u001b[38;5;132;01m}\u001b[39;00m\u001b[38;5;124m)\u001b[39m\u001b[38;5;124m\"\u001b[39m)\n\u001b[1;32m    209\u001b[0m         next_input \u001b[38;5;241m=\u001b[39m reverse_answer(next_input)\n\u001b[0;32m--> 211\u001b[0m     \u001b[38;5;28;01massert\u001b[39;00m result \u001b[38;5;241m==\u001b[39m answer\n\u001b[1;32m    213\u001b[0m result \u001b[38;5;241m=\u001b[39m part_1(inputs, \u001b[38;5;28;01mTrue\u001b[39;00m)\n\u001b[1;32m    214\u001b[0m display(result)\n",
      "\u001b[0;31mAssertionError\u001b[0m: "
     ]
    }
   ],
   "source": [
    "import re\n",
    "from collections import deque\n",
    "from common.matrix import Direction, Matrix, MatrixNavigator\n",
    "\n",
    "\n",
    "# helper functions\n",
    "class KeyPad:\n",
    "    def __init__(self, input):\n",
    "        self.matrix = Matrix(input)\n",
    "        for x, y, value in self.matrix:\n",
    "            if value == 'A':\n",
    "                self.pointer = MatrixNavigator(self.matrix, x, y)\n",
    "                break\n",
    "\n",
    "    def move_to(self, value: str) -> list:\n",
    "        # find end\n",
    "        end = None\n",
    "        for x, y, v in self.matrix:\n",
    "            if v == value:\n",
    "                end = (x, y)\n",
    "                break\n",
    "\n",
    "        if end is None:\n",
    "            raise ValueError(f\"Value {value} not found in matrix\")\n",
    "\n",
    "        start = self.pointer.get_position()\n",
    "        path = find_shortest_path(self.matrix, start, end, {})\n",
    "        self.pointer.set_position(end[0], end[1])\n",
    "\n",
    "        return path\n",
    "\n",
    "    def input_value(self, string: str) -> str:\n",
    "        # find steps\n",
    "        presses = []\n",
    "        for next in list(string):\n",
    "            path = self.move_to(next)\n",
    "            for step in path:\n",
    "                presses.append(direction_string(step))\n",
    "            presses.append(\"A\")\n",
    "\n",
    "        return presses\n",
    "\n",
    "\n",
    "def direction_string(direction: Direction) -> str:\n",
    "    return \"A\" if direction is None else dir_map[direction]\n",
    "\n",
    "directions = [\n",
    "    Direction.LEFT,\n",
    "    Direction.UP,\n",
    "    Direction.DOWN,\n",
    "    Direction.RIGHT\n",
    "]\n",
    "\n",
    "dir_map = {\n",
    "    Direction.UP: '^',\n",
    "    Direction.DOWN: 'v',\n",
    "    Direction.LEFT: '<',\n",
    "    Direction.RIGHT: '>'\n",
    "}\n",
    "direction_cost_cache = {}\n",
    "\n",
    "def cost_of_direction(last_key: Direction, next_key: Direction, expansions: int) -> int:\n",
    "    key = (last_key, next_key)\n",
    "    if key in direction_cost_cache:\n",
    "        return direction_cost_cache[key]\n",
    "    \n",
    "    dir_pad = new_direction_pad()\n",
    "    last_value = direction_string(last_key)\n",
    "    next_value = direction_string(next_key)\n",
    "    last_point = None\n",
    "    next_point = None\n",
    "    for x, y, value in dir_pad.matrix:\n",
    "        if value == last_value:\n",
    "            last_point = (x, y)\n",
    "        if value == next_value:\n",
    "            next_point = (x, y)\n",
    "\n",
    "    # calculate manhattan distance\n",
    "    distance = abs(last_point[0] - next_point[0]) + abs(last_point[1] - next_point[1])\n",
    "    direction_cost_cache[key] = distance\n",
    "    return distance\n",
    "\n",
    "def find_shortest_path(matrix: Matrix, start: tuple, end: tuple, cache: dict) -> list:\n",
    "    key = (start, end)\n",
    "    if start in cache:\n",
    "        return cache[key]\n",
    "\n",
    "    queue = deque([(start, 0, [])])\n",
    "    visited = set()\n",
    "    visited.add(start)\n",
    "\n",
    "    while queue:\n",
    "        # sort queue by cost\n",
    "        queue = deque(sorted(queue, key=lambda x: x[1]))\n",
    "        \n",
    "        current_point, cost, path = queue.popleft()\n",
    "        if current_point == end:\n",
    "            cache[key] = path\n",
    "            return path\n",
    "\n",
    "        for direction in directions:\n",
    "            pointer = MatrixNavigator(matrix, current_point[0], current_point[1])\n",
    "            last_direction = path[-1] if path else None\n",
    "            new_cost = cost_of_direction(last_direction, direction)\n",
    "            ok = pointer.move(direction)\n",
    "            if ok:\n",
    "                new_path = path + [direction]\n",
    "                queue.append((pointer.get_position(), cost + new_cost, new_path))\n",
    "\n",
    "    return []  # Return an empty list if no path is found\n",
    "\n",
    "\n",
    "def new_number_pad() -> KeyPad:\n",
    "    input = [\n",
    "        ['7', '8', '9'],\n",
    "        ['4', '5', '6'],\n",
    "        ['1', '2', '3'],\n",
    "        [' ', '0', 'A']\n",
    "    ]\n",
    "    return KeyPad(input)\n",
    "\n",
    "\n",
    "def new_direction_pad() -> KeyPad:\n",
    "    input = [\n",
    "        [' ', '^', 'A'],\n",
    "        ['<', 'v', '>']\n",
    "    ]\n",
    "    return KeyPad(input)\n",
    "\n",
    "def get_multiplier(line: str) -> int:\n",
    "    digits = re.compile(r'\\d+')\n",
    "    return int(digits.findall(line)[0])\n",
    "\n",
    "def handle_line(line: str, debug: bool) -> int:\n",
    "    # find first key presses\n",
    "    num_pad = new_number_pad()\n",
    "    result = num_pad.input_value(line)\n",
    "\n",
    "    for i in range(0, 2):\n",
    "        if debug:\n",
    "            string = \"\".join(result)\n",
    "            print(f\"{string} ({len(string)})\")\n",
    "        dir_pad = new_direction_pad()\n",
    "        result = dir_pad.input_value(result)\n",
    "\n",
    "    total = get_multiplier(line) * len(result)\n",
    "    if debug:\n",
    "        print(f'line: {line}')\n",
    "        print(f'result: {\"\".join(result)}')\n",
    "        print(f'length: {len(result)}')\n",
    "        print(f'total: {total}')\n",
    "\n",
    "    return total\n",
    "\n",
    "\n",
    "# test case (part 1)\n",
    "def part_1(inputs: list, debug: bool) -> int:\n",
    "    total = 0\n",
    "    for input in inputs:\n",
    "        total += handle_line(input, debug)\n",
    "        if debug:\n",
    "            print()\n",
    "    return total\n",
    "\n",
    "\n",
    "inputs = [\"029A\",\"980A\",\"179A\",\"456A\",\"379A\"]\n",
    "answers = {\n",
    "    \"029A\": \"<vA<AA>>^AvAA<^A>A<v<A>>^AvA^A<vA>^A<v<A>^A>AAvA^A<v<A>A>^AAAvA<^A>A\",\n",
    "    \"980A\": \"<v<A>>^AAAvA^A<vA<AA>>^AvAA<^A>A<v<A>A>^AAAvA<^A>A<vA>^A<A>A\",\n",
    "    \"179A\": \"<v<A>>^A<vA<A>>^AAvAA<^A>A<v<A>>^AAvA^A<vA>^AA<A>A<v<A>A>^AAAvA<^A>A\",\n",
    "    \"456A\": \"<v<A>>^AA<vA<A>>^AAvAA<^A>A<vA>^A<A>A<vA>^A<A>A<v<A>A>^AAvA<^A>A\",\n",
    "    \"379A\": \"<v<A>>^AvA^A<vA<AA>>^AAvA<^A>AAvA^A<vA>^AA<A>A<v<A>A>^AAAvA<^A>A\"\n",
    "}\n",
    "\n",
    "def reverse_answer(answer: str) -> str:\n",
    "    result = []\n",
    "    pointer = new_direction_pad().pointer\n",
    "    \n",
    "    for next in list(answer):\n",
    "        if next == '^':\n",
    "            pointer.move(Direction.UP)\n",
    "        elif next == 'v':\n",
    "            pointer.move(Direction.DOWN)\n",
    "        elif next == '<':\n",
    "            pointer.move(Direction.LEFT)\n",
    "        elif next == '>':\n",
    "            pointer.move(Direction.RIGHT)\n",
    "        elif next == 'A':\n",
    "            result.append(pointer.get_value())\n",
    "\n",
    "    return \"\".join(result)\n",
    "            \n",
    "    \n",
    "\n",
    "for input in inputs[::-1]:\n",
    "    answer_inputs = answers[input]\n",
    "    multiplier = get_multiplier(input)\n",
    "    answer = len(answer_inputs) * multiplier\n",
    "    \n",
    "    result = part_1([input], True)\n",
    "    display(result)\n",
    "    if result != answer:\n",
    "        print(f\"Expected {answer} but got {result} for input {input}\")\n",
    "        next_input = reverse_answer(answer_inputs)\n",
    "        print(f\"{next_input} ({len(next_input)})\")\n",
    "        next_input = reverse_answer(next_input)\n",
    "        print(f\"{next_input} ({len(next_input)})\")\n",
    "        next_input = reverse_answer(next_input)\n",
    "        \n",
    "    assert result == answer\n",
    "\n",
    "result = part_1(inputs, True)\n",
    "display(result)\n",
    "assert result == 126384"
   ]
  },
  {
   "cell_type": "code",
   "execution_count": 9,
   "id": "66cab898e4711d42",
   "metadata": {},
   "outputs": [
    {
     "data": {
      "text/plain": [
       "188078"
      ]
     },
     "metadata": {},
     "output_type": "display_data"
    }
   ],
   "source": [
    "# real case (part 1)\n",
    "result = part_1(puzzle.input().lines_as_str(), False)\n",
    "display(result)"
   ]
  },
  {
   "cell_type": "code",
   "execution_count": null,
   "id": "d2277c7db8ea0a5e",
   "metadata": {},
   "outputs": [],
   "source": [
    "# test case (part 2)\n",
    "def part_2(reader: InputReader, debug: bool) -> int:\n",
    "    lines = domain_from_input(reader)\n",
    "    if debug:\n",
    "        display(lines)\n",
    "    return 0\n",
    "\n",
    "\n",
    "result = part_2(puzzle.example(0), True)\n",
    "display(result)\n",
    "assert result == 0"
   ]
  },
  {
   "cell_type": "code",
   "execution_count": null,
   "id": "57c071f7c6d2914",
   "metadata": {},
   "outputs": [],
   "source": [
    "# real case (part 2)\n",
    "result = part_2(puzzle.input().lines_as_str(), False)\n",
    "display(result)"
   ]
  },
  {
   "cell_type": "code",
   "execution_count": null,
   "id": "44e329cbb6ad2400",
   "metadata": {},
   "outputs": [],
   "source": [
    "# print easters eggs\n",
    "puzzle.print_easter_eggs()"
   ]
  }
 ],
 "metadata": {
  "kernelspec": {
   "display_name": "Python 3",
   "language": "python",
   "name": "python3"
  },
  "language_info": {
   "codemirror_mode": {
    "name": "ipython",
    "version": 3
   },
   "file_extension": ".py",
   "mimetype": "text/x-python",
   "name": "python",
   "nbconvert_exporter": "python",
   "pygments_lexer": "ipython3",
   "version": "3.12.1"
  }
 },
 "nbformat": 4,
 "nbformat_minor": 5
}
