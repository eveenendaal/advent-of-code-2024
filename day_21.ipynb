{
 "cells": [
  {
   "cell_type": "code",
   "execution_count": 1,
   "id": "dec75b3898d7314f",
   "metadata": {
    "ExecuteTime": {
     "end_time": "2024-12-21T06:21:22.662437Z",
     "start_time": "2024-12-21T06:21:22.557820Z"
    }
   },
   "outputs": [
    {
     "data": {
      "text/markdown": [
       "# Keypad Conundrum"
      ],
      "text/plain": [
       "<IPython.core.display.Markdown object>"
      ]
     },
     "metadata": {},
     "output_type": "display_data"
    },
    {
     "data": {
      "text/markdown": [
       "[Open Website](https://adventofcode.com/2024/day/21)"
      ],
      "text/plain": [
       "<IPython.core.display.Markdown object>"
      ]
     },
     "metadata": {},
     "output_type": "display_data"
    }
   ],
   "source": [
    "from common.inputreader import InputReader, PuzzleWrapper\n",
    "\n",
    "puzzle = PuzzleWrapper(year=2024, day=int(\"21\"))\n",
    "\n",
    "puzzle.header()\n",
    "# example = get_code_block(puzzle, 5)"
   ]
  },
  {
   "cell_type": "code",
   "execution_count": null,
   "id": "34dd2d43c40af29b",
   "metadata": {
    "ExecuteTime": {
     "end_time": "2024-12-21T06:45:24.469349Z",
     "start_time": "2024-12-21T06:45:24.459841Z"
    }
   },
   "outputs": [
    {
     "ename": "TypeError",
     "evalue": "'method' object is not iterable",
     "output_type": "error",
     "traceback": [
      "\u001b[0;31m---------------------------------------------------------------------------\u001b[0m",
      "\u001b[0;31mTypeError\u001b[0m                                 Traceback (most recent call last)",
      "Cell \u001b[0;32mIn[2], line 161\u001b[0m\n\u001b[1;32m    157\u001b[0m         handle_line(\u001b[38;5;28minput\u001b[39m, debug)\n\u001b[1;32m    158\u001b[0m     \u001b[38;5;28;01mreturn\u001b[39;00m \u001b[38;5;241m0\u001b[39m\n\u001b[0;32m--> 161\u001b[0m result \u001b[38;5;241m=\u001b[39m \u001b[43mpart_1\u001b[49m\u001b[43m(\u001b[49m\u001b[43m[\u001b[49m\u001b[38;5;124;43m\"\u001b[39;49m\u001b[38;5;124;43m029A\u001b[39;49m\u001b[38;5;124;43m\"\u001b[39;49m\u001b[43m]\u001b[49m\u001b[43m,\u001b[49m\u001b[43m \u001b[49m\u001b[38;5;28;43;01mTrue\u001b[39;49;00m\u001b[43m)\u001b[49m\n\u001b[1;32m    162\u001b[0m display(result)\n\u001b[1;32m    163\u001b[0m \u001b[38;5;28;01massert\u001b[39;00m result \u001b[38;5;241m==\u001b[39m \u001b[38;5;241m126384\u001b[39m\n",
      "Cell \u001b[0;32mIn[2], line 157\u001b[0m, in \u001b[0;36mpart_1\u001b[0;34m(inputs, debug)\u001b[0m\n\u001b[1;32m    155\u001b[0m \u001b[38;5;28;01mdef\u001b[39;00m \u001b[38;5;21mpart_1\u001b[39m(inputs: \u001b[38;5;28mlist\u001b[39m, debug: \u001b[38;5;28mbool\u001b[39m) \u001b[38;5;241m-\u001b[39m\u001b[38;5;241m>\u001b[39m \u001b[38;5;28mint\u001b[39m:\n\u001b[1;32m    156\u001b[0m     \u001b[38;5;28;01mfor\u001b[39;00m \u001b[38;5;28minput\u001b[39m \u001b[38;5;129;01min\u001b[39;00m inputs:\n\u001b[0;32m--> 157\u001b[0m         \u001b[43mhandle_line\u001b[49m\u001b[43m(\u001b[49m\u001b[38;5;28;43minput\u001b[39;49m\u001b[43m,\u001b[49m\u001b[43m \u001b[49m\u001b[43mdebug\u001b[49m\u001b[43m)\u001b[49m\n\u001b[1;32m    158\u001b[0m     \u001b[38;5;28;01mreturn\u001b[39;00m \u001b[38;5;241m0\u001b[39m\n",
      "Cell \u001b[0;32mIn[2], line 149\u001b[0m, in \u001b[0;36mhandle_line\u001b[0;34m(line, debug)\u001b[0m\n\u001b[1;32m    147\u001b[0m \u001b[38;5;66;03m# find first key presses\u001b[39;00m\n\u001b[1;32m    148\u001b[0m num_pad \u001b[38;5;241m=\u001b[39m new_number_pad()\n\u001b[0;32m--> 149\u001b[0m result \u001b[38;5;241m=\u001b[39m \u001b[43mnum_pad\u001b[49m\u001b[38;5;241;43m.\u001b[39;49m\u001b[43minput_value\u001b[49m\u001b[43m(\u001b[49m\u001b[38;5;28;43minput\u001b[39;49m\u001b[43m,\u001b[49m\u001b[43m \u001b[49m\u001b[43mdebug\u001b[49m\u001b[43m)\u001b[49m\n\u001b[1;32m    150\u001b[0m \u001b[38;5;28;01mif\u001b[39;00m debug:\n\u001b[1;32m    151\u001b[0m     \u001b[38;5;28mprint\u001b[39m(result)\n",
      "Cell \u001b[0;32mIn[2], line 35\u001b[0m, in \u001b[0;36mKeyPad.input_value\u001b[0;34m(self, string, debug)\u001b[0m\n\u001b[1;32m     32\u001b[0m \u001b[38;5;28;01mdef\u001b[39;00m \u001b[38;5;21minput_value\u001b[39m(\u001b[38;5;28mself\u001b[39m, string: \u001b[38;5;28mstr\u001b[39m, debug: \u001b[38;5;28mbool\u001b[39m) \u001b[38;5;241m-\u001b[39m\u001b[38;5;241m>\u001b[39m \u001b[38;5;28mstr\u001b[39m:\n\u001b[1;32m     33\u001b[0m     \u001b[38;5;66;03m# find steps\u001b[39;00m\n\u001b[1;32m     34\u001b[0m     presses \u001b[38;5;241m=\u001b[39m []\n\u001b[0;32m---> 35\u001b[0m     \u001b[38;5;28;01mfor\u001b[39;00m \u001b[38;5;28mnext\u001b[39m \u001b[38;5;129;01min\u001b[39;00m \u001b[38;5;28;43mlist\u001b[39;49m\u001b[43m(\u001b[49m\u001b[43mstring\u001b[49m\u001b[43m)\u001b[49m:\n\u001b[1;32m     36\u001b[0m         \u001b[38;5;28;01mif\u001b[39;00m debug:\n\u001b[1;32m     37\u001b[0m             \u001b[38;5;28mprint\u001b[39m(\u001b[38;5;124mf\u001b[39m\u001b[38;5;124m\"\u001b[39m\u001b[38;5;124mPress \u001b[39m\u001b[38;5;132;01m{\u001b[39;00m\u001b[38;5;28mnext\u001b[39m\u001b[38;5;132;01m}\u001b[39;00m\u001b[38;5;124m next\u001b[39m\u001b[38;5;124m\"\u001b[39m)\n",
      "\u001b[0;31mTypeError\u001b[0m: 'method' object is not iterable"
     ]
    }
   ],
   "source": [
    "from collections import deque\n",
    "from common.matrix import Direction, Matrix, MatrixNavigator\n",
    "\n",
    "\n",
    "# helper functions\n",
    "class KeyPad:\n",
    "    def __init__(self, input):\n",
    "        self.matrix = Matrix(input)\n",
    "        for x, y, value in self.matrix:\n",
    "            if value == 'A':\n",
    "                self.pointer = MatrixNavigator(self.matrix, x, y)\n",
    "                break\n",
    "\n",
    "    def move_to(self, value: str) -> list:\n",
    "        # find end\n",
    "        end = None\n",
    "        for x, y, v in self.matrix:\n",
    "            if v == value:\n",
    "                end = (x, y)\n",
    "                break\n",
    "\n",
    "        if end is None:\n",
    "            raise ValueError(f\"Value {value} not found in matrix\")\n",
    "\n",
    "        start = self.pointer.get_position()\n",
    "        path = find_shortest_path(self.matrix, start, end, {})\n",
    "        self.pointer.set_position(end[0], end[1])\n",
    "\n",
    "        return path\n",
    "\n",
    "    def input_value(self, string: str, debug: bool) -> str:\n",
    "        # find steps\n",
    "        presses = []\n",
    "        for next in list(string):\n",
    "            if debug:\n",
    "                print(f\"Press {next} next\")\n",
    "            path = self.move_to(next)\n",
    "            for step in path:\n",
    "                presses.append(direction_string(step))\n",
    "            presses.append(\"A\")\n",
    "\n",
    "        return presses\n",
    "\n",
    "\n",
    "def direction_string(direction: Direction) -> str:\n",
    "    if direction == Direction.UP:\n",
    "        return \"^\"\n",
    "    elif direction == Direction.DOWN:\n",
    "        return \"v\"\n",
    "    elif direction == Direction.LEFT:\n",
    "        return \"<\"\n",
    "    elif direction == Direction.RIGHT:\n",
    "        return \">\"\n",
    "    else:\n",
    "        return \"A\"\n",
    "\n",
    "\n",
    "directions = [\n",
    "    Direction.UP,\n",
    "    Direction.DOWN,\n",
    "    Direction.LEFT,\n",
    "    Direction.RIGHT\n",
    "]\n",
    "\n",
    "\n",
    "direction_cost_cache = {}\n",
    "def cost_of_direction(last_key: Direction, next_key: Direction) -> int:\n",
    "    key = (last_key, next_key)\n",
    "    if key in direction_cost_cache:\n",
    "        return direction_cost_cache[key]\n",
    "    \n",
    "    couple = (last_key, next_key)\n",
    "    \n",
    "    if last_key is None:\n",
    "        if next_key == Direction.LEFT:\n",
    "            cost = 3\n",
    "        elif next_key == Direction.DOWN:\n",
    "            cost = 2\n",
    "        else:\n",
    "            cost = 1\n",
    "    else:\n",
    "        if last_key == next_key:\n",
    "            cost = 0\n",
    "        elif Direction.UP in couple and Direction.DOWN in couple:\n",
    "            cost = 1\n",
    "        else:\n",
    "            cost = 2\n",
    "    \n",
    "    return cost\n",
    "        \n",
    "    \n",
    "\n",
    "def find_shortest_path(matrix: Matrix, start: tuple, end: tuple, cache: dict) -> list:\n",
    "    key = (start, end)\n",
    "    if start in cache:\n",
    "        return cache[key]\n",
    "\n",
    "    queue = deque([(start, 0, [])])\n",
    "    visited = set()\n",
    "    visited.add(start)\n",
    "\n",
    "    while queue:\n",
    "        current_point, cost, path = queue.popleft()\n",
    "        if current_point == end:\n",
    "            cache[key] = path\n",
    "            return path\n",
    "\n",
    "        for direction in directions:\n",
    "            pointer = MatrixNavigator(matrix, current_point[0], current_point[1])\n",
    "            last_direction = path[-1] if path else None\n",
    "            new_cost = cost_of_direction(last_direction, direction)\n",
    "            ok = pointer.move(direction)\n",
    "            if ok:\n",
    "                new_path = path + [direction]\n",
    "                queue.append((pointer.get_position(), cost + new_cost, new_path))\n",
    "\n",
    "    return []  # Return an empty list if no path is found\n",
    "\n",
    "\n",
    "def new_number_pad() -> KeyPad:\n",
    "    input = [\n",
    "        ['7', '8', '9'],\n",
    "        ['4', '5', '6'],\n",
    "        ['1', '2', '3'],\n",
    "        [' ', '0', 'A']\n",
    "    ]\n",
    "    return KeyPad(input)\n",
    "\n",
    "\n",
    "def new_direction_pad() -> KeyPad:\n",
    "    input = [\n",
    "        [' ', '^', 'A'],\n",
    "        ['<', 'v', '>']\n",
    "    ]\n",
    "    return KeyPad(input)\n",
    "\n",
    "# <vA<AA>>^AvAA<^A>A<v<A>>^AvA^A<vA>^A<v<A>^A>AAvA^A<v<A>A>^AAAvA<^A>A\n",
    "# v<<A>>^A<A>AvA<^AA>A<vAAA>^A\n",
    "# <A^A>^^AvvvA\n",
    "# 029A\n",
    "\n",
    "def handle_line(line: str, debug: bool) -> int:\n",
    "    # find multiplier, get digits in string\n",
    "    multiplier = int(\"\".join([char for char in line if char.isdigit()]))\n",
    "    \n",
    "    # find first key presses\n",
    "    num_pad = new_number_pad()\n",
    "    result = num_pad.input_value(input, debug)\n",
    "    if debug:\n",
    "        print(result)\n",
    "        print(multiplier)\n",
    "\n",
    "# test case (part 1)\n",
    "def part_1(inputs: list, debug: bool) -> int:\n",
    "    for input in inputs:\n",
    "        handle_line(input, debug)\n",
    "    return 0\n",
    "\n",
    "\n",
    "result = part_1([\"029A\"], True)\n",
    "display(result)\n",
    "# assert result == 126384"
   ]
  },
  {
   "cell_type": "code",
   "execution_count": null,
   "id": "66cab898e4711d42",
   "metadata": {},
   "outputs": [],
   "source": [
    "# real case (part 1)\n",
    "result = part_1(puzzle.input(), False)\n",
    "display(result)"
   ]
  },
  {
   "cell_type": "code",
   "execution_count": null,
   "id": "d2277c7db8ea0a5e",
   "metadata": {},
   "outputs": [],
   "source": [
    "# test case (part 2)\n",
    "def part_2(reader: InputReader, debug: bool) -> int:\n",
    "    lines = domain_from_input(reader)\n",
    "    if debug:\n",
    "        display(lines)\n",
    "    return 0\n",
    "\n",
    "\n",
    "result = part_2(puzzle.example(0), True)\n",
    "display(result)\n",
    "assert result == 0"
   ]
  },
  {
   "cell_type": "code",
   "execution_count": null,
   "id": "57c071f7c6d2914",
   "metadata": {},
   "outputs": [],
   "source": [
    "# real case (part 2)\n",
    "result = part_2(puzzle.input(), False)\n",
    "display(result)"
   ]
  },
  {
   "cell_type": "code",
   "execution_count": null,
   "id": "44e329cbb6ad2400",
   "metadata": {},
   "outputs": [],
   "source": [
    "# print easters eggs\n",
    "puzzle.print_easter_eggs()"
   ]
  }
 ],
 "metadata": {
  "kernelspec": {
   "display_name": ".venv",
   "language": "python",
   "name": "python3"
  },
  "language_info": {
   "codemirror_mode": {
    "name": "ipython",
    "version": 3
   },
   "file_extension": ".py",
   "mimetype": "text/x-python",
   "name": "python",
   "nbconvert_exporter": "python",
   "pygments_lexer": "ipython3",
   "version": "3.12.1"
  }
 },
 "nbformat": 4,
 "nbformat_minor": 5
}
