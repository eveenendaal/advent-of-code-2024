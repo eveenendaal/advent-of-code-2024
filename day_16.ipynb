{
 "cells": [
  {
   "metadata": {
    "ExecuteTime": {
     "end_time": "2024-12-16T06:35:42.270195Z",
     "start_time": "2024-12-16T06:35:42.174226Z"
    }
   },
   "cell_type": "code",
   "source": [
    "from common.inputreader import InputReader, PuzzleWrapper\n",
    "\n",
    "puzzle = PuzzleWrapper(year=2024, day=int(\"16\"))\n",
    "\n",
    "puzzle.header()\n",
    "# example = get_code_block(puzzle, 5)"
   ],
   "id": "dec75b3898d7314f",
   "outputs": [
    {
     "data": {
      "text/plain": [
       "<IPython.core.display.Markdown object>"
      ],
      "text/markdown": "# Reindeer Maze"
     },
     "metadata": {},
     "output_type": "display_data"
    },
    {
     "data": {
      "text/plain": [
       "<IPython.core.display.Markdown object>"
      ],
      "text/markdown": "[Open Website](https://adventofcode.com/2024/day/16)"
     },
     "metadata": {},
     "output_type": "display_data"
    }
   ],
   "execution_count": 1
  },
  {
   "metadata": {
    "ExecuteTime": {
     "end_time": "2024-12-16T06:35:42.400471Z",
     "start_time": "2024-12-16T06:35:42.376895Z"
    }
   },
   "cell_type": "code",
   "source": [
    "# helper functions\n",
    "def domain_from_input(input: InputReader) -> list:\n",
    "    lines = input.matrix()\n",
    "\n",
    "    return lines\n",
    "\n",
    "\n",
    "test_input = domain_from_input(puzzle.example(0))\n",
    "test_input.print()"
   ],
   "id": "34dd2d43c40af29b",
   "outputs": [
    {
     "name": "stdout",
     "output_type": "stream",
     "text": [
      "###############\n",
      "#.......#....E#\n",
      "#.#.###.#.###.#\n",
      "#.....#.#...#.#\n",
      "#.###.#####.#.#\n",
      "#.#.#.......#.#\n",
      "#.#.#####.###.#\n",
      "#...........#.#\n",
      "###.#.#####.#.#\n",
      "#...#.....#.#.#\n",
      "#.#.#.###.#.#.#\n",
      "#.....#...#.#.#\n",
      "#.###.#.#.#.#.#\n",
      "#S..#.....#...#\n",
      "###############\n"
     ]
    }
   ],
   "execution_count": 2
  },
  {
   "metadata": {
    "ExecuteTime": {
     "end_time": "2024-12-16T06:35:42.837496Z",
     "start_time": "2024-12-16T06:35:42.810879Z"
    }
   },
   "cell_type": "code",
   "source": [
    "from common.matrix import Direction, MatrixNavigator\n",
    "\n",
    "\n",
    "# test case (part 1)\n",
    "def part_1(reader: InputReader, debug: bool) -> int:\n",
    "    matrix = domain_from_input(reader)\n",
    "\n",
    "    if debug:\n",
    "        matrix.print()\n",
    "\n",
    "    queue = []\n",
    "    # find start\n",
    "    for x, y, value in matrix:\n",
    "        if value == 'S':\n",
    "            queue.append((x, y, 0, Direction.RIGHT, []))\n",
    "            break\n",
    "\n",
    "    def new_directions(direction):\n",
    "        if direction == Direction.UP:\n",
    "            return [Direction.LEFT, Direction.RIGHT]\n",
    "        if direction == Direction.DOWN:\n",
    "            return [Direction.LEFT, Direction.RIGHT]\n",
    "        if direction == Direction.LEFT:\n",
    "            return [Direction.UP, Direction.DOWN]\n",
    "        if direction == Direction.RIGHT:\n",
    "            return [Direction.UP, Direction.DOWN]\n",
    "\n",
    "    # perform a BFS to find the shortest path\n",
    "    while queue:\n",
    "        # find node with the lowest cost\n",
    "        for i in range(1, len(queue)):\n",
    "            if queue[i][2] < queue[0][2]:\n",
    "                queue[0], queue[i] = queue[i], queue[0]\n",
    "        # pop the node\n",
    "        x, y, cost, last_direction, history = queue.pop(0)\n",
    "\n",
    "        pointer = MatrixNavigator(matrix, x, y)\n",
    "        if pointer.get_value() == 'E':\n",
    "            return cost\n",
    "\n",
    "        # if we have been here before, skip\n",
    "        if (x, y) in history:\n",
    "            continue\n",
    "        history.append((x, y))\n",
    "\n",
    "        # check if we can move forward\n",
    "        ok, value = pointer.peek_value(last_direction)\n",
    "        if ok and value != '#':\n",
    "            new_pointer = pointer.copy()\n",
    "            new_pointer.move(last_direction)\n",
    "            dx, dy = new_pointer.get_position()\n",
    "            queue.append((dx, dy, cost + 1, last_direction, history))\n",
    "\n",
    "        # check if we can turn\n",
    "        for direction in new_directions(last_direction):\n",
    "            ok, value = pointer.peek_value(direction)\n",
    "            if ok and value != '#':\n",
    "                new_pointer = pointer.copy()\n",
    "                new_pointer.move(direction)\n",
    "                dx, dy = new_pointer.get_position()\n",
    "                new_history = history.copy()\n",
    "                new_history.append((dx, dy))\n",
    "                queue.append((dx, dy, cost + 1001, direction, history))\n",
    "\n",
    "    return 0\n",
    "\n",
    "\n",
    "result = part_1(puzzle.get_code_block(0), True)\n",
    "display(result)\n",
    "assert result == 7036\n",
    "\n",
    "result = part_1(puzzle.get_code_block(2), True)\n",
    "display(result)\n",
    "assert result == 11048"
   ],
   "id": "6d23892a17117fed",
   "outputs": [
    {
     "name": "stdout",
     "output_type": "stream",
     "text": [
      "###############\n",
      "#.......#....E#\n",
      "#.#.###.#.###.#\n",
      "#.....#.#...#.#\n",
      "#.###.#####.#.#\n",
      "#.#.#.......#.#\n",
      "#.#.#####.###.#\n",
      "#...........#.#\n",
      "###.#.#####.#.#\n",
      "#...#.....#.#.#\n",
      "#.#.#.###.#.#.#\n",
      "#.....#...#.#.#\n",
      "#.###.#.#.#.#.#\n",
      "#S..#.....#...#\n",
      "###############\n"
     ]
    },
    {
     "data": {
      "text/plain": [
       "7036"
      ]
     },
     "metadata": {},
     "output_type": "display_data"
    },
    {
     "name": "stdout",
     "output_type": "stream",
     "text": [
      "#################\n",
      "#...#...#...#..E#\n",
      "#.#.#.#.#.#.#.#.#\n",
      "#.#.#.#...#...#.#\n",
      "#.#.#.#.###.#.#.#\n",
      "#...#.#.#.....#.#\n",
      "#.#.#.#.#.#####.#\n",
      "#.#...#.#.#.....#\n",
      "#.#.#####.#.###.#\n",
      "#.#.#.......#...#\n",
      "#.#.###.#####.###\n",
      "#.#.#...#.....#.#\n",
      "#.#.#.#####.###.#\n",
      "#.#.#.........#.#\n",
      "#.#.#.#########.#\n",
      "#S#.............#\n",
      "#################\n"
     ]
    },
    {
     "data": {
      "text/plain": [
       "11048"
      ]
     },
     "metadata": {},
     "output_type": "display_data"
    }
   ],
   "execution_count": 3
  },
  {
   "metadata": {
    "ExecuteTime": {
     "end_time": "2024-12-16T06:35:48.255733Z",
     "start_time": "2024-12-16T06:35:47.508934Z"
    }
   },
   "cell_type": "code",
   "source": [
    "# real case (part 1)\n",
    "result = part_1(puzzle.input(), False)\n",
    "display(result)"
   ],
   "id": "66cab898e4711d42",
   "outputs": [
    {
     "data": {
      "text/plain": [
       "115500"
      ]
     },
     "metadata": {},
     "output_type": "display_data"
    }
   ],
   "execution_count": 4
  },
  {
   "metadata": {},
   "cell_type": "code",
   "source": [
    "# test case (part 2)\n",
    "def part_2(reader: InputReader, debug: bool) -> int:\n",
    "    lines = domain_from_input(reader)\n",
    "    if debug:\n",
    "        display(lines)\n",
    "    return 0\n",
    "\n",
    "\n",
    "result = part_2(puzzle.example(0), True)\n",
    "display(result)\n",
    "assert result == 0"
   ],
   "id": "d2277c7db8ea0a5e",
   "outputs": [],
   "execution_count": null
  },
  {
   "metadata": {},
   "cell_type": "code",
   "source": [
    "# real case (part 2)\n",
    "result = part_2(puzzle.input(), False)\n",
    "display(result)"
   ],
   "id": "57c071f7c6d2914",
   "outputs": [],
   "execution_count": null
  },
  {
   "metadata": {},
   "cell_type": "code",
   "source": [
    "# print easters eggs\n",
    "puzzle.print_easter_eggs()"
   ],
   "id": "44e329cbb6ad2400",
   "outputs": [],
   "execution_count": null
  }
 ],
 "metadata": {
  "kernelspec": {
   "display_name": "Python 3",
   "language": "python",
   "name": "python3"
  },
  "language_info": {
   "codemirror_mode": {
    "name": "ipython",
    "version": 2
   },
   "file_extension": ".py",
   "mimetype": "text/x-python",
   "name": "python",
   "nbconvert_exporter": "python",
   "pygments_lexer": "ipython2",
   "version": "2.7.6"
  }
 },
 "nbformat": 4,
 "nbformat_minor": 5
}
