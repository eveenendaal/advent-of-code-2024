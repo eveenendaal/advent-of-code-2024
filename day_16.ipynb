{
 "cells": [
  {
   "metadata": {
    "ExecuteTime": {
     "end_time": "2024-12-16T09:55:37.761287Z",
     "start_time": "2024-12-16T09:55:37.727412Z"
    }
   },
   "cell_type": "code",
   "source": [
    "from common.inputreader import InputReader, PuzzleWrapper\n",
    "\n",
    "puzzle = PuzzleWrapper(year=2024, day=int(\"16\"))\n",
    "\n",
    "puzzle.header()\n",
    "# example = get_code_block(puzzle, 5)"
   ],
   "id": "dec75b3898d7314f",
   "outputs": [
    {
     "data": {
      "text/plain": [
       "<IPython.core.display.Markdown object>"
      ],
      "text/markdown": "# Reindeer Maze"
     },
     "metadata": {},
     "output_type": "display_data"
    },
    {
     "data": {
      "text/plain": [
       "<IPython.core.display.Markdown object>"
      ],
      "text/markdown": "[Open Website](https://adventofcode.com/2024/day/16)"
     },
     "metadata": {},
     "output_type": "display_data"
    }
   ],
   "execution_count": 20
  },
  {
   "metadata": {
    "ExecuteTime": {
     "end_time": "2024-12-16T09:55:37.778314Z",
     "start_time": "2024-12-16T09:55:37.768647Z"
    }
   },
   "cell_type": "code",
   "source": [
    "# helper functions\n",
    "def domain_from_input(input: InputReader) -> list:\n",
    "    lines = input.matrix()\n",
    "\n",
    "    return lines\n",
    "\n",
    "\n",
    "test_input = domain_from_input(puzzle.example(0))\n",
    "test_input.print()"
   ],
   "id": "34dd2d43c40af29b",
   "outputs": [
    {
     "name": "stdout",
     "output_type": "stream",
     "text": [
      "###############\n",
      "#.......#....E#\n",
      "#.#.###.#.###.#\n",
      "#.....#.#...#.#\n",
      "#.###.#####.#.#\n",
      "#.#.#.......#.#\n",
      "#.#.#####.###.#\n",
      "#...........#.#\n",
      "###.#.#####.#.#\n",
      "#...#.....#.#.#\n",
      "#.#.#.###.#.#.#\n",
      "#.....#...#.#.#\n",
      "#.###.#.#.#.#.#\n",
      "#S..#.....#...#\n",
      "###############\n"
     ]
    }
   ],
   "execution_count": 21
  },
  {
   "metadata": {
    "ExecuteTime": {
     "end_time": "2024-12-16T09:55:37.810841Z",
     "start_time": "2024-12-16T09:55:37.789518Z"
    }
   },
   "cell_type": "code",
   "source": [
    "from common.matrix import Direction, MatrixNavigator\n",
    "\n",
    "\n",
    "# test case (part 1)\n",
    "def part_1(reader: InputReader, debug: bool) -> int:\n",
    "    matrix = domain_from_input(reader)\n",
    "\n",
    "    if debug:\n",
    "        matrix.print()\n",
    "\n",
    "    queue = []\n",
    "    # find start\n",
    "    for x, y, value in matrix:\n",
    "        if value == 'S':\n",
    "            queue.append((x, y, 0, Direction.RIGHT, []))\n",
    "            break\n",
    "\n",
    "    def new_directions(direction):\n",
    "        if direction == Direction.UP:\n",
    "            return [Direction.LEFT, Direction.RIGHT]\n",
    "        if direction == Direction.DOWN:\n",
    "            return [Direction.LEFT, Direction.RIGHT]\n",
    "        if direction == Direction.LEFT:\n",
    "            return [Direction.UP, Direction.DOWN]\n",
    "        if direction == Direction.RIGHT:\n",
    "            return [Direction.UP, Direction.DOWN]\n",
    "\n",
    "    # perform a BFS to find the shortest path\n",
    "    while queue:\n",
    "        # find node with the lowest cost\n",
    "        for i in range(1, len(queue)):\n",
    "            if queue[i][2] < queue[0][2]:\n",
    "                queue[0], queue[i] = queue[i], queue[0]\n",
    "        # pop the node\n",
    "        x, y, cost, last_direction, history = queue.pop(0)\n",
    "\n",
    "        pointer = MatrixNavigator(matrix, x, y)\n",
    "        if pointer.get_value() == 'E':\n",
    "            return cost\n",
    "\n",
    "        # if we have been here before, skip\n",
    "        if (x, y) in history:\n",
    "            continue\n",
    "        history.append((x, y))\n",
    "\n",
    "        # check if we can move forward\n",
    "        ok, value = pointer.peek_value(last_direction)\n",
    "        if ok and value != '#':\n",
    "            new_pointer = pointer.copy()\n",
    "            new_pointer.move(last_direction)\n",
    "            dx, dy = new_pointer.get_position()\n",
    "            queue.append((dx, dy, cost + 1, last_direction, history))\n",
    "\n",
    "        # check if we can turn\n",
    "        for direction in new_directions(last_direction):\n",
    "            ok, value = pointer.peek_value(direction)\n",
    "            if ok and value != '#':\n",
    "                new_pointer = pointer.copy()\n",
    "                new_pointer.move(direction)\n",
    "                dx, dy = new_pointer.get_position()\n",
    "                new_history = history.copy()\n",
    "                new_history.append((dx, dy))\n",
    "                queue.append((dx, dy, cost + 1001, direction, history))\n",
    "\n",
    "    return 0\n",
    "\n",
    "\n",
    "result = part_1(puzzle.get_code_block(0), True)\n",
    "display(result)\n",
    "assert result == 7036\n",
    "\n",
    "result = part_1(puzzle.get_code_block(2), True)\n",
    "display(result)\n",
    "assert result == 11048"
   ],
   "id": "6d23892a17117fed",
   "outputs": [
    {
     "name": "stdout",
     "output_type": "stream",
     "text": [
      "###############\n",
      "#.......#....E#\n",
      "#.#.###.#.###.#\n",
      "#.....#.#...#.#\n",
      "#.###.#####.#.#\n",
      "#.#.#.......#.#\n",
      "#.#.#####.###.#\n",
      "#...........#.#\n",
      "###.#.#####.#.#\n",
      "#...#.....#.#.#\n",
      "#.#.#.###.#.#.#\n",
      "#.....#...#.#.#\n",
      "#.###.#.#.#.#.#\n",
      "#S..#.....#...#\n",
      "###############\n"
     ]
    },
    {
     "data": {
      "text/plain": [
       "7036"
      ]
     },
     "metadata": {},
     "output_type": "display_data"
    },
    {
     "name": "stdout",
     "output_type": "stream",
     "text": [
      "#################\n",
      "#...#...#...#..E#\n",
      "#.#.#.#.#.#.#.#.#\n",
      "#.#.#.#...#...#.#\n",
      "#.#.#.#.###.#.#.#\n",
      "#...#.#.#.....#.#\n",
      "#.#.#.#.#.#####.#\n",
      "#.#...#.#.#.....#\n",
      "#.#.#####.#.###.#\n",
      "#.#.#.......#...#\n",
      "#.#.###.#####.###\n",
      "#.#.#...#.....#.#\n",
      "#.#.#.#####.###.#\n",
      "#.#.#.........#.#\n",
      "#.#.#.#########.#\n",
      "#S#.............#\n",
      "#################\n"
     ]
    },
    {
     "data": {
      "text/plain": [
       "11048"
      ]
     },
     "metadata": {},
     "output_type": "display_data"
    }
   ],
   "execution_count": 22
  },
  {
   "metadata": {
    "ExecuteTime": {
     "end_time": "2024-12-16T09:55:38.589102Z",
     "start_time": "2024-12-16T09:55:37.821147Z"
    }
   },
   "cell_type": "code",
   "source": [
    "# real case (part 1)\n",
    "result = part_1(puzzle.input(), False)\n",
    "display(result)\n",
    "assert result == 115500"
   ],
   "id": "66cab898e4711d42",
   "outputs": [
    {
     "data": {
      "text/plain": [
       "115500"
      ]
     },
     "metadata": {},
     "output_type": "display_data"
    }
   ],
   "execution_count": 23
  },
  {
   "metadata": {
    "ExecuteTime": {
     "end_time": "2024-12-16T09:55:38.614338Z",
     "start_time": "2024-12-16T09:55:38.595944Z"
    }
   },
   "cell_type": "code",
   "source": [
    "# test case (part 2)\n",
    "def part_2(reader: InputReader, debug: bool) -> int:\n",
    "    matrix = domain_from_input(reader)\n",
    "\n",
    "    if debug:\n",
    "        matrix.print()\n",
    "        print()\n",
    "\n",
    "    queue = []\n",
    "    # find start\n",
    "    for x, y, value in matrix:\n",
    "        if value == 'S':\n",
    "            queue.append(((x, y), 0, Direction.RIGHT, []))\n",
    "            break\n",
    "\n",
    "    def new_directions(direction):\n",
    "        if direction == Direction.UP:\n",
    "            return [Direction.LEFT, Direction.RIGHT]\n",
    "        if direction == Direction.DOWN:\n",
    "            return [Direction.LEFT, Direction.RIGHT]\n",
    "        if direction == Direction.LEFT:\n",
    "            return [Direction.UP, Direction.DOWN]\n",
    "        if direction == Direction.RIGHT:\n",
    "            return [Direction.UP, Direction.DOWN]\n",
    "\n",
    "    solution_points = []\n",
    "    visited = {}\n",
    "    solution = None\n",
    "\n",
    "    # perform a BFS to find the shortest path\n",
    "    while queue:\n",
    "        # find node with the lowest cost\n",
    "        for i in range(1, len(queue)):\n",
    "            if queue[i][1] < queue[0][1]:\n",
    "                queue[0], queue[i] = queue[i], queue[0]\n",
    "        (x, y), cost, last_direction, path = queue.pop(0)\n",
    "\n",
    "        path = path.copy()\n",
    "        path.append((x, y))\n",
    "\n",
    "        # check for end\n",
    "        pointer = MatrixNavigator(matrix, x, y)\n",
    "        if pointer.get_value() == 'E':\n",
    "            if solution is None:\n",
    "                solution = cost\n",
    "\n",
    "            if cost == solution:\n",
    "                for point in path:\n",
    "                    solution_points.append(point)\n",
    "            continue\n",
    "\n",
    "        # check for visited\n",
    "        current_situation = ((x, y), last_direction)\n",
    "        if current_situation in visited:\n",
    "            if visited[current_situation] < cost:\n",
    "                continue\n",
    "        visited[current_situation] = cost\n",
    "\n",
    "        # check if we can move forward\n",
    "        ok, value = pointer.peek_value(last_direction)\n",
    "        if ok and value != '#':\n",
    "            new_pointer = pointer.copy()\n",
    "            new_pointer.move(last_direction)\n",
    "            queue.append((new_pointer.get_position(), cost + 1, last_direction, path))\n",
    "\n",
    "        # check if we can turn\n",
    "        for direction in new_directions(last_direction):\n",
    "            ok, value = pointer.peek_value(direction)\n",
    "            if ok and value != '#':\n",
    "                new_pointer = pointer.copy()\n",
    "                new_pointer.move(direction)\n",
    "                queue.append((new_pointer.get_position(), cost + 1001, direction, path))\n",
    "\n",
    "    # join all the solutions\n",
    "    if debug:\n",
    "        for point in solution_points:\n",
    "            matrix.set_value(point[0], point[1], 'O')\n",
    "        matrix.print()\n",
    "\n",
    "    return len(set(solution_points))\n",
    "\n",
    "\n",
    "result = part_2(puzzle.get_code_block(0), True)\n",
    "display(result)\n",
    "assert result == 45\n",
    "\n",
    "result = part_2(puzzle.get_code_block(2), True)\n",
    "display(result)\n",
    "assert result == 64"
   ],
   "id": "d2277c7db8ea0a5e",
   "outputs": [
    {
     "name": "stdout",
     "output_type": "stream",
     "text": [
      "###############\n",
      "#.......#....E#\n",
      "#.#.###.#.###.#\n",
      "#.....#.#...#.#\n",
      "#.###.#####.#.#\n",
      "#.#.#.......#.#\n",
      "#.#.#####.###.#\n",
      "#...........#.#\n",
      "###.#.#####.#.#\n",
      "#...#.....#.#.#\n",
      "#.#.#.###.#.#.#\n",
      "#.....#...#.#.#\n",
      "#.###.#.#.#.#.#\n",
      "#S..#.....#...#\n",
      "###############\n",
      "\n",
      "###############\n",
      "#.......#....O#\n",
      "#.#.###.#.###O#\n",
      "#.....#.#...#O#\n",
      "#.###.#####.#O#\n",
      "#.#.#.......#O#\n",
      "#.#.#####.###O#\n",
      "#..OOOOOOOOO#O#\n",
      "###O#O#####O#O#\n",
      "#OOO#O....#O#O#\n",
      "#O#O#O###.#O#O#\n",
      "#OOOOO#...#O#O#\n",
      "#O###.#.#.#O#O#\n",
      "#O..#.....#OOO#\n",
      "###############\n"
     ]
    },
    {
     "data": {
      "text/plain": [
       "45"
      ]
     },
     "metadata": {},
     "output_type": "display_data"
    },
    {
     "name": "stdout",
     "output_type": "stream",
     "text": [
      "#################\n",
      "#...#...#...#..E#\n",
      "#.#.#.#.#.#.#.#.#\n",
      "#.#.#.#...#...#.#\n",
      "#.#.#.#.###.#.#.#\n",
      "#...#.#.#.....#.#\n",
      "#.#.#.#.#.#####.#\n",
      "#.#...#.#.#.....#\n",
      "#.#.#####.#.###.#\n",
      "#.#.#.......#...#\n",
      "#.#.###.#####.###\n",
      "#.#.#...#.....#.#\n",
      "#.#.#.#####.###.#\n",
      "#.#.#.........#.#\n",
      "#.#.#.#########.#\n",
      "#S#.............#\n",
      "#################\n",
      "\n",
      "#################\n",
      "#...#...#...#..O#\n",
      "#.#.#.#.#.#.#.#O#\n",
      "#.#.#.#...#...#O#\n",
      "#.#.#.#.###.#.#O#\n",
      "#OOO#.#.#.....#O#\n",
      "#O#O#.#.#.#####O#\n",
      "#O#O..#.#.#OOOOO#\n",
      "#O#O#####.#O###O#\n",
      "#O#O#..OOOOO#OOO#\n",
      "#O#O###O#####O###\n",
      "#O#O#OOO#..OOO#.#\n",
      "#O#O#O#####O###.#\n",
      "#O#O#OOOOOOO..#.#\n",
      "#O#O#O#########.#\n",
      "#O#OOO..........#\n",
      "#################\n"
     ]
    },
    {
     "data": {
      "text/plain": [
       "64"
      ]
     },
     "metadata": {},
     "output_type": "display_data"
    }
   ],
   "execution_count": 24
  },
  {
   "metadata": {
    "ExecuteTime": {
     "end_time": "2024-12-16T09:56:46.066832Z",
     "start_time": "2024-12-16T09:55:38.670504Z"
    }
   },
   "cell_type": "code",
   "source": [
    "# real case (part 2)\n",
    "result = part_2(puzzle.input(), False)\n",
    "display(result)\n",
    "assert result == 679"
   ],
   "id": "acbf7649450e1ab5",
   "outputs": [
    {
     "data": {
      "text/plain": [
       "679"
      ]
     },
     "metadata": {},
     "output_type": "display_data"
    }
   ],
   "execution_count": 25
  },
  {
   "metadata": {
    "ExecuteTime": {
     "end_time": "2024-12-16T09:56:46.112533Z",
     "start_time": "2024-12-16T09:56:46.104777Z"
    }
   },
   "cell_type": "code",
   "source": [
    "# print easters eggs\n",
    "puzzle.print_easter_eggs()"
   ],
   "id": "5ef2b78b05f77d03",
   "outputs": [
    {
     "data": {
      "text/plain": [
       "<IPython.core.display.Markdown object>"
      ],
      "text/markdown": "## Easter Eggs"
     },
     "metadata": {},
     "output_type": "display_data"
    },
    {
     "data": {
      "text/plain": [
       "<IPython.core.display.Markdown object>"
      ],
      "text/markdown": "<span title=\"I would say it's like Reindeer Golf, but knowing Reindeer, it's almost certainly nothing like Reindeer Golf.\">lowest score</span> (I would say it's like Reindeer Golf, but knowing Reindeer, it's almost certainly nothing like Reindeer Golf.)"
     },
     "metadata": {},
     "output_type": "display_data"
    }
   ],
   "execution_count": 26
  }
 ],
 "metadata": {
  "kernelspec": {
   "display_name": "Python 3",
   "language": "python",
   "name": "python3"
  },
  "language_info": {
   "codemirror_mode": {
    "name": "ipython",
    "version": 2
   },
   "file_extension": ".py",
   "mimetype": "text/x-python",
   "name": "python",
   "nbconvert_exporter": "python",
   "pygments_lexer": "ipython2",
   "version": "2.7.6"
  }
 },
 "nbformat": 4,
 "nbformat_minor": 5
}
