{
 "cells": [
  {
   "metadata": {
    "ExecuteTime": {
     "end_time": "2024-12-02T05:01:33.114337Z",
     "start_time": "2024-12-02T05:01:33.028362Z"
    }
   },
   "cell_type": "code",
   "source": [
    "from aocd.models import Puzzle\n",
    "from dotenv import load_dotenv\n",
    "\n",
    "from common.inputreader import InputReader\n",
    "\n",
    "load_dotenv()\n",
    "puzzle = Puzzle(year=2024, day=2)"
   ],
   "id": "dec75b3898d7314f",
   "outputs": [],
   "execution_count": 1
  },
  {
   "metadata": {
    "ExecuteTime": {
     "end_time": "2024-12-02T05:17:33.788085Z",
     "start_time": "2024-12-02T05:17:33.767998Z"
    }
   },
   "cell_type": "code",
   "source": [
    "# test case (part 1)\n",
    "def part_1(input: InputReader, debug: bool) -> int:\n",
    "    lines = input.lines_as_ints()\n",
    "    safes = 0\n",
    "\n",
    "    for line in lines:\n",
    "        diffs = []\n",
    "        abs_diffs = []\n",
    "        pairs = []\n",
    "        increases = 0\n",
    "        decreases = 0\n",
    "\n",
    "        # split into pairs\n",
    "        for i in range(len(line) - 1):\n",
    "            pairs.append((line[i], line[i + 1]))\n",
    "        # calculate differences\n",
    "        for pair in pairs:\n",
    "            diffs.append(pair[1] - pair[0])\n",
    "            abs_diffs.append(abs(pair[1] - pair[0]))\n",
    "\n",
    "        unsafe = False\n",
    "\n",
    "        min_diff = min(abs_diffs)\n",
    "        max_diff = max(abs_diffs)\n",
    "\n",
    "        # if any of the diffs are greater than 2, it's unsafe\n",
    "        for diff in diffs:\n",
    "            if diff > 0:\n",
    "                increases += 1\n",
    "            elif diff < 0:\n",
    "                decreases += 1\n",
    "\n",
    "        # it's a mix of increases and decreases, it's unsafe\n",
    "        if increases > 0 and decreases > 0:\n",
    "            unsafe = True\n",
    "\n",
    "        if min_diff < 1 or max_diff > 3:\n",
    "            unsafe = True\n",
    "\n",
    "        if not unsafe:\n",
    "            safes += 1\n",
    "\n",
    "        if debug:\n",
    "            display(line)\n",
    "            display(f\"min_diff: {min_diff}, max_diff: {max_diff}\")\n",
    "            display(f\"increases: {increases}, decreases: {decreases}, unsafe: {unsafe}\")\n",
    "\n",
    "    return safes\n",
    "\n",
    "\n",
    "result = part_1(InputReader(puzzle.examples[0].input_data), True)\n",
    "assert result == 2"
   ],
   "id": "6d23892a17117fed",
   "outputs": [
    {
     "data": {
      "text/plain": [
       "[7, 6, 4, 2, 1]"
      ]
     },
     "metadata": {},
     "output_type": "display_data"
    },
    {
     "data": {
      "text/plain": [
       "'min_diff: 1, max_diff: 2'"
      ]
     },
     "metadata": {},
     "output_type": "display_data"
    },
    {
     "data": {
      "text/plain": [
       "'increases: 0, decreases: 4, unsafe: False'"
      ]
     },
     "metadata": {},
     "output_type": "display_data"
    },
    {
     "data": {
      "text/plain": [
       "[1, 2, 7, 8, 9]"
      ]
     },
     "metadata": {},
     "output_type": "display_data"
    },
    {
     "data": {
      "text/plain": [
       "'min_diff: 1, max_diff: 5'"
      ]
     },
     "metadata": {},
     "output_type": "display_data"
    },
    {
     "data": {
      "text/plain": [
       "'increases: 4, decreases: 0, unsafe: True'"
      ]
     },
     "metadata": {},
     "output_type": "display_data"
    },
    {
     "data": {
      "text/plain": [
       "[9, 7, 6, 2, 1]"
      ]
     },
     "metadata": {},
     "output_type": "display_data"
    },
    {
     "data": {
      "text/plain": [
       "'min_diff: 1, max_diff: 4'"
      ]
     },
     "metadata": {},
     "output_type": "display_data"
    },
    {
     "data": {
      "text/plain": [
       "'increases: 0, decreases: 4, unsafe: True'"
      ]
     },
     "metadata": {},
     "output_type": "display_data"
    },
    {
     "data": {
      "text/plain": [
       "[1, 3, 2, 4, 5]"
      ]
     },
     "metadata": {},
     "output_type": "display_data"
    },
    {
     "data": {
      "text/plain": [
       "'min_diff: 1, max_diff: 2'"
      ]
     },
     "metadata": {},
     "output_type": "display_data"
    },
    {
     "data": {
      "text/plain": [
       "'increases: 3, decreases: 1, unsafe: True'"
      ]
     },
     "metadata": {},
     "output_type": "display_data"
    },
    {
     "data": {
      "text/plain": [
       "[8, 6, 4, 4, 1]"
      ]
     },
     "metadata": {},
     "output_type": "display_data"
    },
    {
     "data": {
      "text/plain": [
       "'min_diff: 0, max_diff: 3'"
      ]
     },
     "metadata": {},
     "output_type": "display_data"
    },
    {
     "data": {
      "text/plain": [
       "'increases: 0, decreases: 3, unsafe: True'"
      ]
     },
     "metadata": {},
     "output_type": "display_data"
    },
    {
     "data": {
      "text/plain": [
       "[1, 3, 6, 7, 9]"
      ]
     },
     "metadata": {},
     "output_type": "display_data"
    },
    {
     "data": {
      "text/plain": [
       "'min_diff: 1, max_diff: 3'"
      ]
     },
     "metadata": {},
     "output_type": "display_data"
    },
    {
     "data": {
      "text/plain": [
       "'increases: 4, decreases: 0, unsafe: False'"
      ]
     },
     "metadata": {},
     "output_type": "display_data"
    }
   ],
   "execution_count": 22
  },
  {
   "metadata": {
    "ExecuteTime": {
     "end_time": "2024-12-02T05:17:38.869073Z",
     "start_time": "2024-12-02T05:17:38.864626Z"
    }
   },
   "cell_type": "code",
   "source": [
    "# real case (part 1)\n",
    "result = part_1(InputReader(puzzle.input_data), False)\n",
    "display(result)"
   ],
   "id": "66cab898e4711d42",
   "outputs": [
    {
     "data": {
      "text/plain": [
       "524"
      ]
     },
     "metadata": {},
     "output_type": "display_data"
    }
   ],
   "execution_count": 23
  },
  {
   "metadata": {
    "ExecuteTime": {
     "end_time": "2024-12-02T05:43:34.755433Z",
     "start_time": "2024-12-02T05:43:34.721106Z"
    }
   },
   "cell_type": "code",
   "source": [
    "# test case (part 2)\n",
    "def line_safe(line: list, debug: bool) -> bool:\n",
    "    diffs = []\n",
    "    abs_diffs = []\n",
    "    pairs = []\n",
    "    increases = 0\n",
    "    decreases = 0\n",
    "\n",
    "    # split into pairs\n",
    "    for i in range(len(line) - 1):\n",
    "        pairs.append((line[i], line[i + 1]))\n",
    "    # calculate differences\n",
    "    for pair in pairs:\n",
    "        diffs.append(pair[1] - pair[0])\n",
    "        abs_diffs.append(abs(pair[1] - pair[0]))\n",
    "\n",
    "    min_diff = min(abs_diffs)\n",
    "    max_diff = max(abs_diffs)\n",
    "\n",
    "    # if any of the diffs are greater than 2, it's unsafe\n",
    "    for diff in diffs:\n",
    "        if diff > 0:\n",
    "            increases += 1\n",
    "        elif diff < 0:\n",
    "            decreases += 1\n",
    "\n",
    "    if debug:\n",
    "        display(f\"min_diff: {min_diff}, max_diff: {max_diff}\")\n",
    "        display(f\"increases: {increases}, decreases: {decreases}\")\n",
    "\n",
    "    # it's a mix of increases and decreases, it's unsafe\n",
    "    if increases > 0 and decreases > 0:\n",
    "        return False\n",
    "\n",
    "    if min_diff < 1 or max_diff > 3:\n",
    "        return False\n",
    "\n",
    "    return True\n",
    "\n",
    "\n",
    "def part_2(input: InputReader, debug: bool) -> int:\n",
    "    lines = input.lines_as_ints()\n",
    "    safes = 0\n",
    "\n",
    "    for line in lines:\n",
    "        if debug:\n",
    "            display(line)\n",
    "\n",
    "        if line_safe(line, debug):\n",
    "            safes += 1\n",
    "            if debug:\n",
    "                display(\"line is safe\")\n",
    "            continue\n",
    "\n",
    "        # try removing one element at a time\n",
    "        for i in range(len(line)):\n",
    "            new_line = line.copy()\n",
    "            new_line.pop(i)\n",
    "            if debug:\n",
    "                display(new_line)\n",
    "            if line_safe(new_line, False):\n",
    "                safes += 1\n",
    "                break\n",
    "\n",
    "    return safes\n",
    "\n",
    "result = part_2(InputReader(puzzle.examples[0].input_data), True)\n",
    "assert result == 4"
   ],
   "id": "d2277c7db8ea0a5e",
   "outputs": [
    {
     "data": {
      "text/plain": [
       "[7, 6, 4, 2, 1]"
      ]
     },
     "metadata": {},
     "output_type": "display_data"
    },
    {
     "data": {
      "text/plain": [
       "'min_diff: 1, max_diff: 2'"
      ]
     },
     "metadata": {},
     "output_type": "display_data"
    },
    {
     "data": {
      "text/plain": [
       "'increases: 0, decreases: 4'"
      ]
     },
     "metadata": {},
     "output_type": "display_data"
    },
    {
     "data": {
      "text/plain": [
       "'line is safe'"
      ]
     },
     "metadata": {},
     "output_type": "display_data"
    },
    {
     "data": {
      "text/plain": [
       "[1, 2, 7, 8, 9]"
      ]
     },
     "metadata": {},
     "output_type": "display_data"
    },
    {
     "data": {
      "text/plain": [
       "'min_diff: 1, max_diff: 5'"
      ]
     },
     "metadata": {},
     "output_type": "display_data"
    },
    {
     "data": {
      "text/plain": [
       "'increases: 4, decreases: 0'"
      ]
     },
     "metadata": {},
     "output_type": "display_data"
    },
    {
     "data": {
      "text/plain": [
       "[2, 7, 8, 9]"
      ]
     },
     "metadata": {},
     "output_type": "display_data"
    },
    {
     "data": {
      "text/plain": [
       "[1, 7, 8, 9]"
      ]
     },
     "metadata": {},
     "output_type": "display_data"
    },
    {
     "data": {
      "text/plain": [
       "[1, 2, 8, 9]"
      ]
     },
     "metadata": {},
     "output_type": "display_data"
    },
    {
     "data": {
      "text/plain": [
       "[1, 2, 7, 9]"
      ]
     },
     "metadata": {},
     "output_type": "display_data"
    },
    {
     "data": {
      "text/plain": [
       "[1, 2, 7, 8]"
      ]
     },
     "metadata": {},
     "output_type": "display_data"
    },
    {
     "data": {
      "text/plain": [
       "[9, 7, 6, 2, 1]"
      ]
     },
     "metadata": {},
     "output_type": "display_data"
    },
    {
     "data": {
      "text/plain": [
       "'min_diff: 1, max_diff: 4'"
      ]
     },
     "metadata": {},
     "output_type": "display_data"
    },
    {
     "data": {
      "text/plain": [
       "'increases: 0, decreases: 4'"
      ]
     },
     "metadata": {},
     "output_type": "display_data"
    },
    {
     "data": {
      "text/plain": [
       "[7, 6, 2, 1]"
      ]
     },
     "metadata": {},
     "output_type": "display_data"
    },
    {
     "data": {
      "text/plain": [
       "[9, 6, 2, 1]"
      ]
     },
     "metadata": {},
     "output_type": "display_data"
    },
    {
     "data": {
      "text/plain": [
       "[9, 7, 2, 1]"
      ]
     },
     "metadata": {},
     "output_type": "display_data"
    },
    {
     "data": {
      "text/plain": [
       "[9, 7, 6, 1]"
      ]
     },
     "metadata": {},
     "output_type": "display_data"
    },
    {
     "data": {
      "text/plain": [
       "[9, 7, 6, 2]"
      ]
     },
     "metadata": {},
     "output_type": "display_data"
    },
    {
     "data": {
      "text/plain": [
       "[1, 3, 2, 4, 5]"
      ]
     },
     "metadata": {},
     "output_type": "display_data"
    },
    {
     "data": {
      "text/plain": [
       "'min_diff: 1, max_diff: 2'"
      ]
     },
     "metadata": {},
     "output_type": "display_data"
    },
    {
     "data": {
      "text/plain": [
       "'increases: 3, decreases: 1'"
      ]
     },
     "metadata": {},
     "output_type": "display_data"
    },
    {
     "data": {
      "text/plain": [
       "[3, 2, 4, 5]"
      ]
     },
     "metadata": {},
     "output_type": "display_data"
    },
    {
     "data": {
      "text/plain": [
       "[1, 2, 4, 5]"
      ]
     },
     "metadata": {},
     "output_type": "display_data"
    },
    {
     "data": {
      "text/plain": [
       "[8, 6, 4, 4, 1]"
      ]
     },
     "metadata": {},
     "output_type": "display_data"
    },
    {
     "data": {
      "text/plain": [
       "'min_diff: 0, max_diff: 3'"
      ]
     },
     "metadata": {},
     "output_type": "display_data"
    },
    {
     "data": {
      "text/plain": [
       "'increases: 0, decreases: 3'"
      ]
     },
     "metadata": {},
     "output_type": "display_data"
    },
    {
     "data": {
      "text/plain": [
       "[6, 4, 4, 1]"
      ]
     },
     "metadata": {},
     "output_type": "display_data"
    },
    {
     "data": {
      "text/plain": [
       "[8, 4, 4, 1]"
      ]
     },
     "metadata": {},
     "output_type": "display_data"
    },
    {
     "data": {
      "text/plain": [
       "[8, 6, 4, 1]"
      ]
     },
     "metadata": {},
     "output_type": "display_data"
    },
    {
     "data": {
      "text/plain": [
       "[1, 3, 6, 7, 9]"
      ]
     },
     "metadata": {},
     "output_type": "display_data"
    },
    {
     "data": {
      "text/plain": [
       "'min_diff: 1, max_diff: 3'"
      ]
     },
     "metadata": {},
     "output_type": "display_data"
    },
    {
     "data": {
      "text/plain": [
       "'increases: 4, decreases: 0'"
      ]
     },
     "metadata": {},
     "output_type": "display_data"
    },
    {
     "data": {
      "text/plain": [
       "'line is safe'"
      ]
     },
     "metadata": {},
     "output_type": "display_data"
    }
   ],
   "execution_count": 29
  },
  {
   "metadata": {
    "ExecuteTime": {
     "end_time": "2024-12-02T05:43:44.720593Z",
     "start_time": "2024-12-02T05:43:44.702242Z"
    }
   },
   "cell_type": "code",
   "source": [
    "# real case (part 2)\n",
    "result = part_2(InputReader(puzzle.input_data), False)\n",
    "display(result)"
   ],
   "id": "57c071f7c6d2914",
   "outputs": [
    {
     "data": {
      "text/plain": [
       "569"
      ]
     },
     "metadata": {},
     "output_type": "display_data"
    }
   ],
   "execution_count": 30
  },
  {
   "metadata": {},
   "cell_type": "code",
   "outputs": [],
   "execution_count": null,
   "source": "",
   "id": "6c883b51d0037a51"
  }
 ],
 "metadata": {
  "kernelspec": {
   "display_name": "Python 3",
   "language": "python",
   "name": "python3"
  },
  "language_info": {
   "codemirror_mode": {
    "name": "ipython",
    "version": 2
   },
   "file_extension": ".py",
   "mimetype": "text/x-python",
   "name": "python",
   "nbconvert_exporter": "python",
   "pygments_lexer": "ipython2",
   "version": "2.7.6"
  }
 },
 "nbformat": 4,
 "nbformat_minor": 5
}
