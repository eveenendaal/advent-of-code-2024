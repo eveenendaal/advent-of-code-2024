{
 "cells": [
  {
   "metadata": {
    "ExecuteTime": {
     "end_time": "2024-12-09T05:33:56.089549Z",
     "start_time": "2024-12-09T05:33:55.996150Z"
    }
   },
   "cell_type": "code",
   "source": [
    "from common.inputreader import InputReader, PuzzleWrapper\n",
    "\n",
    "puzzle = PuzzleWrapper(year=2024, day=int(\"09\"))\n",
    "\n",
    "puzzle.header()\n",
    "# example = get_code_block(puzzle, 5)"
   ],
   "id": "dec75b3898d7314f",
   "outputs": [
    {
     "data": {
      "text/plain": [
       "<IPython.core.display.Markdown object>"
      ],
      "text/markdown": "# Disk Fragmenter"
     },
     "metadata": {},
     "output_type": "display_data"
    },
    {
     "data": {
      "text/plain": [
       "<IPython.core.display.Markdown object>"
      ],
      "text/markdown": "[Open Website](https://adventofcode.com/2024/day/9)"
     },
     "metadata": {},
     "output_type": "display_data"
    }
   ],
   "execution_count": 1
  },
  {
   "metadata": {
    "ExecuteTime": {
     "end_time": "2024-12-09T05:33:56.233161Z",
     "start_time": "2024-12-09T05:33:56.226358Z"
    }
   },
   "cell_type": "code",
   "source": [
    "# print part 1\n",
    "puzzle.print_article(0)"
   ],
   "id": "c97873c00b553f02",
   "outputs": [
    {
     "data": {
      "text/plain": [
       "<IPython.core.display.HTML object>"
      ],
      "text/html": [
       "<article class=\"day-desc\">\n",
       " <h2>\n",
       "  --- Day 9: Disk Fragmenter ---\n",
       " </h2>\n",
       " <p>\n",
       "  Another push of the button leaves you in the familiar hallways of some friendly\n",
       "  <a href=\"/2021/day/23\">\n",
       "   amphipods\n",
       "  </a>\n",
       "  ! Good thing you each somehow got your own personal mini submarine. The Historians jet away in search of the Chief, mostly by driving directly into walls.\n",
       " </p>\n",
       " <p>\n",
       "  While The Historians quickly figure out how to pilot these things, you notice an amphipod in the corner struggling with his computer. He's trying to make more contiguous free space by compacting all of the files, but his program isn't working; you offer to help.\n",
       " </p>\n",
       " <p>\n",
       "  He shows you the\n",
       "  <em>\n",
       "   disk map\n",
       "  </em>\n",
       "  (your puzzle input) he's already generated. For example:\n",
       " </p>\n",
       " <pre><code>2333133121414131402</code></pre>\n",
       " <p>\n",
       "  The disk map uses a dense format to represent the layout of\n",
       "  <em>\n",
       "   files\n",
       "  </em>\n",
       "  and\n",
       "  <em>\n",
       "   free space\n",
       "  </em>\n",
       "  on the disk. The digits alternate between indicating the length of a file and the length of free space.\n",
       " </p>\n",
       " <p>\n",
       "  So, a disk map like\n",
       "  <code>\n",
       "   12345\n",
       "  </code>\n",
       "  would represent a one-block file, two blocks of free space, a three-block file, four blocks of free space, and then a five-block file. A disk map like\n",
       "  <code>\n",
       "   90909\n",
       "  </code>\n",
       "  would represent three nine-block files in a row (with no free space between them).\n",
       " </p>\n",
       " <p>\n",
       "  Each file on disk also has an\n",
       "  <em>\n",
       "   ID number\n",
       "  </em>\n",
       "  based on the order of the files as they appear\n",
       "  <em>\n",
       "   before\n",
       "  </em>\n",
       "  they are rearranged, starting with ID\n",
       "  <code>\n",
       "   0\n",
       "  </code>\n",
       "  . So, the disk map\n",
       "  <code>\n",
       "   12345\n",
       "  </code>\n",
       "  has three files: a one-block file with ID\n",
       "  <code>\n",
       "   0\n",
       "  </code>\n",
       "  , a three-block file with ID\n",
       "  <code>\n",
       "   1\n",
       "  </code>\n",
       "  , and a five-block file with ID\n",
       "  <code>\n",
       "   2\n",
       "  </code>\n",
       "  . Using one character for each block where digits are the file ID and\n",
       "  <code>\n",
       "   .\n",
       "  </code>\n",
       "  is free space, the disk map\n",
       "  <code>\n",
       "   12345\n",
       "  </code>\n",
       "  represents these individual blocks:\n",
       " </p>\n",
       " <pre><code>0..111....22222</code></pre>\n",
       " <p>\n",
       "  The first example above,\n",
       "  <code>\n",
       "   2333133121414131402\n",
       "  </code>\n",
       "  , represents these individual blocks:\n",
       " </p>\n",
       " <pre><code>00...111...2...333.44.5555.6666.777.888899</code></pre>\n",
       " <p>\n",
       "  The amphipod would like to\n",
       "  <em>\n",
       "   move file blocks one at a time\n",
       "  </em>\n",
       "  from the end of the disk to the leftmost free space block (until there are no gaps remaining between file blocks). For the disk map\n",
       "  <code>\n",
       "   12345\n",
       "  </code>\n",
       "  , the process looks like this:\n",
       " </p>\n",
       " <pre><code>0..111....22222\n",
       "02.111....2222.\n",
       "022111....222..\n",
       "0221112...22...\n",
       "02211122..2....\n",
       "022111222......\n",
       "</code></pre>\n",
       " <p>\n",
       "  The first example requires a few more steps:\n",
       " </p>\n",
       " <pre><code>00...111...2...333.44.5555.6666.777.888899\n",
       "009..111...2...333.44.5555.6666.777.88889.\n",
       "0099.111...2...333.44.5555.6666.777.8888..\n",
       "00998111...2...333.44.5555.6666.777.888...\n",
       "009981118..2...333.44.5555.6666.777.88....\n",
       "0099811188.2...333.44.5555.6666.777.8.....\n",
       "009981118882...333.44.5555.6666.777.......\n",
       "0099811188827..333.44.5555.6666.77........\n",
       "00998111888277.333.44.5555.6666.7.........\n",
       "009981118882777333.44.5555.6666...........\n",
       "009981118882777333644.5555.666............\n",
       "00998111888277733364465555.66.............\n",
       "0099811188827773336446555566..............\n",
       "</code></pre>\n",
       " <p>\n",
       "  The final step of this file-compacting process is to update the\n",
       "  <em>\n",
       "   filesystem checksum\n",
       "  </em>\n",
       "  . To calculate the checksum, add up the result of multiplying each of these blocks' position with the file ID number it contains. The leftmost block is in position\n",
       "  <code>\n",
       "   0\n",
       "  </code>\n",
       "  . If a block contains free space, skip it instead.\n",
       " </p>\n",
       " <p>\n",
       "  Continuing the first example, the first few blocks' position multiplied by its file ID number are\n",
       "  <code>\n",
       "   0 * 0 = 0\n",
       "  </code>\n",
       "  ,\n",
       "  <code>\n",
       "   1 * 0 = 0\n",
       "  </code>\n",
       "  ,\n",
       "  <code>\n",
       "   2 * 9 = 18\n",
       "  </code>\n",
       "  ,\n",
       "  <code>\n",
       "   3 * 9 = 27\n",
       "  </code>\n",
       "  ,\n",
       "  <code>\n",
       "   4 * 8 = 32\n",
       "  </code>\n",
       "  , and so on. In this example, the checksum is the sum of these,\n",
       "  <code>\n",
       "   <em>\n",
       "    1928\n",
       "   </em>\n",
       "  </code>\n",
       "  .\n",
       " </p>\n",
       " <p>\n",
       "  <span title=\"Bonus points if you make a cool animation of this process.\">\n",
       "   Compact the amphipod's hard drive\n",
       "  </span>\n",
       "  using the process he requested.\n",
       "  <em>\n",
       "   What is the resulting filesystem checksum?\n",
       "  </em>\n",
       "  <span class=\"quiet\">\n",
       "   (Be careful copy/pasting the input for this puzzle; it is a single, very long line.)\n",
       "  </span>\n",
       " </p>\n",
       "</article>\n"
      ]
     },
     "metadata": {},
     "output_type": "display_data"
    }
   ],
   "execution_count": 2
  },
  {
   "metadata": {
    "ExecuteTime": {
     "end_time": "2024-12-09T05:49:29.443477Z",
     "start_time": "2024-12-09T05:49:29.400546Z"
    }
   },
   "cell_type": "code",
   "source": [
    "# helper functions\n",
    "def domain_from_input(input: InputReader) -> list:\n",
    "    lines = input.as_str()\n",
    "\n",
    "    is_data = True\n",
    "    counter = 0\n",
    "    disk = []\n",
    "    # iterate over each digit\n",
    "    for i in range(len(lines)):\n",
    "        digit_count = int(lines[i])\n",
    "        if is_data:\n",
    "            for j in range(digit_count):\n",
    "                disk.append(counter)\n",
    "            counter += 1\n",
    "        else:\n",
    "            for j in range(digit_count):\n",
    "                disk.append(-1)\n",
    "        is_data = not is_data\n",
    "\n",
    "    return disk\n",
    "\n",
    "\n",
    "test_input = domain_from_input(puzzle.example(0))\n",
    "print(test_input)"
   ],
   "id": "34dd2d43c40af29b",
   "outputs": [
    {
     "ename": "IndexError",
     "evalue": "list assignment index out of range",
     "output_type": "error",
     "traceback": [
      "\u001B[0;31m---------------------------------------------------------------------------\u001B[0m",
      "\u001B[0;31mIndexError\u001B[0m                                Traceback (most recent call last)",
      "Cell \u001B[0;32mIn[7], line 26\u001B[0m\n\u001B[1;32m     21\u001B[0m         is_data \u001B[38;5;241m=\u001B[39m \u001B[38;5;129;01mnot\u001B[39;00m is_data\n\u001B[1;32m     23\u001B[0m     \u001B[38;5;28;01mreturn\u001B[39;00m disk, blocks\n\u001B[0;32m---> 26\u001B[0m test_input \u001B[38;5;241m=\u001B[39m \u001B[43mdomain_from_input\u001B[49m\u001B[43m(\u001B[49m\u001B[43mpuzzle\u001B[49m\u001B[38;5;241;43m.\u001B[39;49m\u001B[43mexample\u001B[49m\u001B[43m(\u001B[49m\u001B[38;5;241;43m0\u001B[39;49m\u001B[43m)\u001B[49m\u001B[43m)\u001B[49m\n\u001B[1;32m     27\u001B[0m \u001B[38;5;28mprint\u001B[39m(test_input)\n",
      "Cell \u001B[0;32mIn[7], line 17\u001B[0m, in \u001B[0;36mdomain_from_input\u001B[0;34m(input)\u001B[0m\n\u001B[1;32m     15\u001B[0m         disk\u001B[38;5;241m.\u001B[39mappend(counter)\n\u001B[1;32m     16\u001B[0m     counter \u001B[38;5;241m+\u001B[39m\u001B[38;5;241m=\u001B[39m \u001B[38;5;241m1\u001B[39m\n\u001B[0;32m---> 17\u001B[0m     \u001B[43mblocks\u001B[49m\u001B[43m[\u001B[49m\u001B[43mi\u001B[49m\u001B[43m]\u001B[49m \u001B[38;5;241m=\u001B[39m (counter, digit_count)\n\u001B[1;32m     18\u001B[0m \u001B[38;5;28;01melse\u001B[39;00m:\n\u001B[1;32m     19\u001B[0m     \u001B[38;5;28;01mfor\u001B[39;00m j \u001B[38;5;129;01min\u001B[39;00m \u001B[38;5;28mrange\u001B[39m(digit_count):\n",
      "\u001B[0;31mIndexError\u001B[0m: list assignment index out of range"
     ]
    }
   ],
   "execution_count": 7
  },
  {
   "metadata": {
    "ExecuteTime": {
     "end_time": "2024-12-09T05:33:59.777334Z",
     "start_time": "2024-12-09T05:33:59.762866Z"
    }
   },
   "cell_type": "code",
   "source": [
    "def is_sorted(disk: list) -> bool:\n",
    "    last_number = -1\n",
    "    first_space = -1\n",
    "    # find the first -1\n",
    "    for j in range(len(disk)):\n",
    "        if disk[j] == -1 and first_space == -1:\n",
    "            first_space = j\n",
    "        elif disk[j] != -1:\n",
    "            last_number = j\n",
    "\n",
    "    if first_space - 1 == last_number:\n",
    "        return True\n",
    "    return False\n",
    "\n",
    "\n",
    "def print_disk(disk: list):\n",
    "    output = []\n",
    "    for i in range(len(disk)):\n",
    "        if disk[i] == -1:\n",
    "            output.append(\".\")\n",
    "        else:\n",
    "            output.append(str(disk[i]))\n",
    "    print(\"\".join(output))\n",
    "\n",
    "\n",
    "def checksum(disk: list) -> int:\n",
    "    total = 0\n",
    "    for i in range(len(disk)):\n",
    "        if disk[i] != -1:\n",
    "            total += disk[i] * i\n",
    "    return total\n",
    "\n",
    "\n",
    "# test case (part 1)\n",
    "def part_1(reader: InputReader, debug: bool) -> int:\n",
    "    disk = domain_from_input(reader)\n",
    "\n",
    "    # starting from the end of the disk, swap any number that is not -1 with a -1 at the start of the disk\n",
    "    for i in range(len(disk) - 1, -1, -1):\n",
    "        if disk[i] != -1:\n",
    "            for j in range(len(disk)):\n",
    "                if disk[j] == -1:\n",
    "                    disk[i], disk[j] = disk[j], disk[i]\n",
    "                    if debug:\n",
    "                        print_disk(disk)\n",
    "                    break\n",
    "\n",
    "        if is_sorted(disk):\n",
    "            break\n",
    "\n",
    "    return checksum(disk)\n",
    "\n",
    "\n",
    "result = part_1(puzzle.example(0), True)\n",
    "display(result)\n",
    "assert result == 1928"
   ],
   "id": "6d23892a17117fed",
   "outputs": [
    {
     "name": "stdout",
     "output_type": "stream",
     "text": [
      "009..111...2...333.44.5555.6666.777.88889.\n",
      "0099.111...2...333.44.5555.6666.777.8888..\n",
      "00998111...2...333.44.5555.6666.777.888...\n",
      "009981118..2...333.44.5555.6666.777.88....\n",
      "0099811188.2...333.44.5555.6666.777.8.....\n",
      "009981118882...333.44.5555.6666.777.......\n",
      "0099811188827..333.44.5555.6666.77........\n",
      "00998111888277.333.44.5555.6666.7.........\n",
      "009981118882777333.44.5555.6666...........\n",
      "009981118882777333644.5555.666............\n",
      "00998111888277733364465555.66.............\n",
      "0099811188827773336446555566..............\n"
     ]
    },
    {
     "data": {
      "text/plain": [
       "1928"
      ]
     },
     "metadata": {},
     "output_type": "display_data"
    }
   ],
   "execution_count": 4
  },
  {
   "metadata": {
    "ExecuteTime": {
     "end_time": "2024-12-09T05:31:25.874020Z",
     "start_time": "2024-12-09T05:27:29.275986Z"
    }
   },
   "cell_type": "code",
   "source": [
    "# real case (part 1)\n",
    "result = part_1(puzzle.input(), False)\n",
    "display(result)"
   ],
   "id": "66cab898e4711d42",
   "outputs": [
    {
     "data": {
      "text/plain": [
       "6356833654075"
      ]
     },
     "metadata": {},
     "output_type": "display_data"
    }
   ],
   "execution_count": 7
  },
  {
   "metadata": {
    "ExecuteTime": {
     "end_time": "2024-12-09T05:34:02.279213Z",
     "start_time": "2024-12-09T05:34:02.164364Z"
    }
   },
   "cell_type": "code",
   "source": [
    "# print part 2\n",
    "puzzle.print_article(1)"
   ],
   "id": "7e93726c408fb734",
   "outputs": [
    {
     "ename": "IndexError",
     "evalue": "list index out of range",
     "output_type": "error",
     "traceback": [
      "\u001B[0;31m---------------------------------------------------------------------------\u001B[0m",
      "\u001B[0;31mIndexError\u001B[0m                                Traceback (most recent call last)",
      "Cell \u001B[0;32mIn[5], line 2\u001B[0m\n\u001B[1;32m      1\u001B[0m \u001B[38;5;66;03m# print part 2\u001B[39;00m\n\u001B[0;32m----> 2\u001B[0m \u001B[43mpuzzle\u001B[49m\u001B[38;5;241;43m.\u001B[39;49m\u001B[43mprint_article\u001B[49m\u001B[43m(\u001B[49m\u001B[38;5;241;43m1\u001B[39;49m\u001B[43m)\u001B[49m\n",
      "File \u001B[0;32m~/Source/Personal/AOC2024/common/inputreader.py:114\u001B[0m, in \u001B[0;36mPuzzleWrapper.print_article\u001B[0;34m(self, part)\u001B[0m\n\u001B[1;32m    111\u001B[0m         \u001B[38;5;28;01mfor\u001B[39;00m article \u001B[38;5;129;01min\u001B[39;00m soup\u001B[38;5;241m.\u001B[39mfind_all(\u001B[38;5;124m\"\u001B[39m\u001B[38;5;124marticle\u001B[39m\u001B[38;5;124m\"\u001B[39m):\n\u001B[1;32m    112\u001B[0m             articles\u001B[38;5;241m.\u001B[39mappend(article)\n\u001B[0;32m--> 114\u001B[0m display(HTML(\u001B[43marticles\u001B[49m\u001B[43m[\u001B[49m\u001B[43mpart\u001B[49m\u001B[43m]\u001B[49m\u001B[38;5;241m.\u001B[39mprettify()))\n",
      "\u001B[0;31mIndexError\u001B[0m: list index out of range"
     ]
    }
   ],
   "execution_count": 5
  },
  {
   "metadata": {
    "ExecuteTime": {
     "end_time": "2024-12-09T06:15:34.851418Z",
     "start_time": "2024-12-09T06:15:34.810082Z"
    }
   },
   "cell_type": "code",
   "source": [
    "# test case (part 2)\n",
    "def domains_from_input(input: InputReader) -> (list, list):\n",
    "    lines = input.as_str()\n",
    "\n",
    "    is_data = True\n",
    "    counter = 0\n",
    "    disk = []\n",
    "    data_groups = []\n",
    "\n",
    "    # iterate over each digit\n",
    "    for i in range(len(lines)):\n",
    "        digit_count = int(lines[i])\n",
    "        if is_data:\n",
    "            data_groups.append((len(disk), counter, digit_count))\n",
    "            for j in range(digit_count):\n",
    "                disk.append(counter)\n",
    "            counter += 1\n",
    "        else:\n",
    "            for j in range(digit_count):\n",
    "                disk.append(-1)\n",
    "        is_data = not is_data\n",
    "\n",
    "    return disk, data_groups\n",
    "\n",
    "\n",
    "def part_2(reader: InputReader, debug: bool) -> int:\n",
    "    disk, data_groups = domains_from_input(reader)\n",
    "\n",
    "    def next_free_space(disk: list, start: int) -> (int, int):\n",
    "        # find next free space and size of it\n",
    "        for i in range(start, len(disk)):\n",
    "            free_count = 0\n",
    "            if disk[i] == -1:\n",
    "                position = i\n",
    "                free_count += 1\n",
    "            elif free_count > 0:\n",
    "                break\n",
    "\n",
    "    # starting from the end of the disk, swap any number that is not -1 with a -1 at the start of the disk\n",
    "    while not is_sorted(disk):\n",
    "\n",
    "        # find next free space and size of it\n",
    "        for i in range(len(disk)):\n",
    "            free_count = 0\n",
    "            if disk[i] == -1:\n",
    "                position = i\n",
    "                free_count += 1\n",
    "            elif free_count > 0:\n",
    "                break\n",
    "\n",
    "        print_disk(disk)\n",
    "\n",
    "        # iterate over each data group in reverse order\n",
    "        for data_group in data_groups[::-1]:\n",
    "            data_position = data_group[0]\n",
    "            data_count = data_group[2]\n",
    "            if data_count <= free_count:\n",
    "                # move the data to the free space\n",
    "                for i in range(data_count):\n",
    "                    disk[position + i] = disk[data_position + i]\n",
    "                    disk[data_position + i] = -1\n",
    "\n",
    "                free_count -= data_count\n",
    "                position += data_count\n",
    "\n",
    "            if free_count == 0:\n",
    "                break\n",
    "\n",
    "    return checksum(disk)\n",
    "\n",
    "\n",
    "result = part_2(puzzle.example(0), True)\n",
    "display(result)\n",
    "assert result == 2858"
   ],
   "id": "d2277c7db8ea0a5e",
   "outputs": [
    {
     "name": "stdout",
     "output_type": "stream",
     "text": [
      "[(0, 0, 2), (5, 1, 3), (11, 2, 1), (15, 3, 3), (19, 4, 2), (22, 5, 4), (27, 6, 4), (32, 7, 3), (36, 8, 4), (40, 9, 2)]\n",
      "[(2, 3), (8, 3), (12, 3), (18, 1), (21, 1), (26, 1), (31, 1), (35, 1), (40, 0)]\n",
      "00...111...2...333.44.5555.6666.777.888899\n",
      "00992111.......333.44.5555.6666.777.8888..\n",
      "00992111.......333.44.5555.6666.777.8888..\n",
      "00992111.......333.44.5555.6666.777.8888..\n",
      "00992111.......333.44.5555.6666.777.8888..\n",
      "00992111.......333.44.5555.6666.777.8888..\n",
      "00992111.......333.44.5555.6666.777.8888..\n",
      "00992111.......333.44.5555.6666.777.8888..\n",
      "00992111.......333.44.5555.6666.777.8888..\n"
     ]
    },
    {
     "data": {
      "text/plain": [
       "3418"
      ]
     },
     "metadata": {},
     "output_type": "display_data"
    },
    {
     "ename": "AssertionError",
     "evalue": "",
     "output_type": "error",
     "traceback": [
      "\u001B[0;31m---------------------------------------------------------------------------\u001B[0m",
      "\u001B[0;31mAssertionError\u001B[0m                            Traceback (most recent call last)",
      "Cell \u001B[0;32mIn[24], line 62\u001B[0m\n\u001B[1;32m     60\u001B[0m result \u001B[38;5;241m=\u001B[39m part_2(puzzle\u001B[38;5;241m.\u001B[39mexample(\u001B[38;5;241m0\u001B[39m), \u001B[38;5;28;01mTrue\u001B[39;00m)\n\u001B[1;32m     61\u001B[0m display(result)\n\u001B[0;32m---> 62\u001B[0m \u001B[38;5;28;01massert\u001B[39;00m result \u001B[38;5;241m==\u001B[39m \u001B[38;5;241m2858\u001B[39m\n",
      "\u001B[0;31mAssertionError\u001B[0m: "
     ]
    }
   ],
   "execution_count": 24
  },
  {
   "metadata": {},
   "cell_type": "code",
   "source": [
    "# real case (part 2)\n",
    "result = part_2(InputReader(puzzle.input_data), False)\n",
    "display(result)"
   ],
   "id": "57c071f7c6d2914",
   "outputs": [],
   "execution_count": null
  },
  {
   "metadata": {},
   "cell_type": "code",
   "outputs": [],
   "execution_count": null,
   "source": [
    "# print easters eggs\n",
    "puzzle.print_easter_eggs()"
   ],
   "id": "44e329cbb6ad2400"
  }
 ],
 "metadata": {
  "kernelspec": {
   "display_name": "Python 3",
   "language": "python",
   "name": "python3"
  },
  "language_info": {
   "codemirror_mode": {
    "name": "ipython",
    "version": 2
   },
   "file_extension": ".py",
   "mimetype": "text/x-python",
   "name": "python",
   "nbconvert_exporter": "python",
   "pygments_lexer": "ipython2",
   "version": "2.7.6"
  }
 },
 "nbformat": 4,
 "nbformat_minor": 5
}
