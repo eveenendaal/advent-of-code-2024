{
 "cells": [
  {
   "metadata": {
    "ExecuteTime": {
     "end_time": "2024-12-09T09:22:29.466025Z",
     "start_time": "2024-12-09T09:22:29.447224Z"
    }
   },
   "cell_type": "code",
   "source": [
    "from common.inputreader import InputReader, PuzzleWrapper\n",
    "\n",
    "puzzle = PuzzleWrapper(year=2024, day=int(\"09\"))\n",
    "\n",
    "puzzle.header()\n",
    "# example = get_code_block(puzzle, 5)"
   ],
   "id": "dec75b3898d7314f",
   "outputs": [
    {
     "data": {
      "text/plain": [
       "<IPython.core.display.Markdown object>"
      ],
      "text/markdown": "# Disk Fragmenter"
     },
     "metadata": {},
     "output_type": "display_data"
    },
    {
     "data": {
      "text/plain": [
       "<IPython.core.display.Markdown object>"
      ],
      "text/markdown": "[Open Website](https://adventofcode.com/2024/day/9)"
     },
     "metadata": {},
     "output_type": "display_data"
    }
   ],
   "execution_count": 25
  },
  {
   "metadata": {
    "ExecuteTime": {
     "end_time": "2024-12-09T09:22:29.488747Z",
     "start_time": "2024-12-09T09:22:29.482827Z"
    }
   },
   "cell_type": "code",
   "source": [
    "# helper functions\n",
    "def domain_from_input(input: InputReader) -> list:\n",
    "    lines = input.as_str()\n",
    "\n",
    "    is_data = True\n",
    "    counter = 0\n",
    "    disk = []\n",
    "    # iterate over each digit\n",
    "    for i in range(len(lines)):\n",
    "        digit_count = int(lines[i])\n",
    "        if is_data:\n",
    "            for j in range(digit_count):\n",
    "                disk.append(counter)\n",
    "            counter += 1\n",
    "        else:\n",
    "            for j in range(digit_count):\n",
    "                disk.append(-1)\n",
    "        is_data = not is_data\n",
    "\n",
    "    return disk\n",
    "\n",
    "\n",
    "test_input = domain_from_input(puzzle.example(0))\n",
    "print(test_input)"
   ],
   "id": "34dd2d43c40af29b",
   "outputs": [
    {
     "name": "stdout",
     "output_type": "stream",
     "text": [
      "[0, 0, -1, -1, -1, 1, 1, 1, -1, -1, -1, 2, -1, -1, -1, 3, 3, 3, -1, 4, 4, -1, 5, 5, 5, 5, -1, 6, 6, 6, 6, -1, 7, 7, 7, -1, 8, 8, 8, 8, 9, 9]\n"
     ]
    }
   ],
   "execution_count": 26
  },
  {
   "metadata": {
    "ExecuteTime": {
     "end_time": "2024-12-09T09:22:29.515621Z",
     "start_time": "2024-12-09T09:22:29.506802Z"
    }
   },
   "cell_type": "code",
   "source": [
    "def is_sorted(disk: list) -> bool:\n",
    "    last_number = -1\n",
    "    first_space = -1\n",
    "    # find the first -1\n",
    "    for j in range(len(disk)):\n",
    "        if disk[j] == -1 and first_space == -1:\n",
    "            first_space = j\n",
    "        elif disk[j] != -1:\n",
    "            last_number = j\n",
    "\n",
    "    if first_space - 1 == last_number:\n",
    "        return True\n",
    "    return False\n",
    "\n",
    "\n",
    "def print_disk(disk: list):\n",
    "    output = []\n",
    "    for i in range(len(disk)):\n",
    "        if disk[i] == -1:\n",
    "            output.append(\".\")\n",
    "        else:\n",
    "            output.append(str(disk[i]))\n",
    "    print(\"\".join(output))\n",
    "\n",
    "\n",
    "def checksum(disk: list) -> int:\n",
    "    total = 0\n",
    "    for i in range(len(disk)):\n",
    "        if disk[i] != -1:\n",
    "            total += disk[i] * i\n",
    "    return total\n",
    "\n",
    "\n",
    "# test case (part 1)\n",
    "def part_1(reader: InputReader, debug: bool) -> int:\n",
    "    disk = domain_from_input(reader)\n",
    "\n",
    "    # starting from the end of the disk, swap any number that is not -1 with a -1 at the start of the disk\n",
    "    for i in range(len(disk) - 1, -1, -1):\n",
    "        if disk[i] != -1:\n",
    "            for j in range(len(disk)):\n",
    "                if disk[j] == -1:\n",
    "                    disk[i], disk[j] = disk[j], disk[i]\n",
    "                    if debug:\n",
    "                        print_disk(disk)\n",
    "                    break\n",
    "\n",
    "        if is_sorted(disk):\n",
    "            break\n",
    "\n",
    "    return checksum(disk)\n",
    "\n",
    "\n",
    "result = part_1(puzzle.example(0), True)\n",
    "display(result)\n",
    "assert result == 1928"
   ],
   "id": "6d23892a17117fed",
   "outputs": [
    {
     "name": "stdout",
     "output_type": "stream",
     "text": [
      "009..111...2...333.44.5555.6666.777.88889.\n",
      "0099.111...2...333.44.5555.6666.777.8888..\n",
      "00998111...2...333.44.5555.6666.777.888...\n",
      "009981118..2...333.44.5555.6666.777.88....\n",
      "0099811188.2...333.44.5555.6666.777.8.....\n",
      "009981118882...333.44.5555.6666.777.......\n",
      "0099811188827..333.44.5555.6666.77........\n",
      "00998111888277.333.44.5555.6666.7.........\n",
      "009981118882777333.44.5555.6666...........\n",
      "009981118882777333644.5555.666............\n",
      "00998111888277733364465555.66.............\n",
      "0099811188827773336446555566..............\n"
     ]
    },
    {
     "data": {
      "text/plain": [
       "1928"
      ]
     },
     "metadata": {},
     "output_type": "display_data"
    }
   ],
   "execution_count": 27
  },
  {
   "metadata": {
    "ExecuteTime": {
     "end_time": "2024-12-09T09:22:48.886256Z",
     "start_time": "2024-12-09T09:22:29.538724Z"
    }
   },
   "cell_type": "code",
   "source": [
    "# real case (part 1)\n",
    "result = part_1(puzzle.input(), False)\n",
    "display(result)"
   ],
   "id": "66cab898e4711d42",
   "outputs": [
    {
     "ename": "KeyboardInterrupt",
     "evalue": "",
     "output_type": "error",
     "traceback": [
      "\u001B[0;31m---------------------------------------------------------------------------\u001B[0m",
      "\u001B[0;31mKeyboardInterrupt\u001B[0m                         Traceback (most recent call last)",
      "Cell \u001B[0;32mIn[28], line 2\u001B[0m\n\u001B[1;32m      1\u001B[0m \u001B[38;5;66;03m# real case (part 1)\u001B[39;00m\n\u001B[0;32m----> 2\u001B[0m result \u001B[38;5;241m=\u001B[39m \u001B[43mpart_1\u001B[49m\u001B[43m(\u001B[49m\u001B[43mpuzzle\u001B[49m\u001B[38;5;241;43m.\u001B[39;49m\u001B[43minput\u001B[49m\u001B[43m(\u001B[49m\u001B[43m)\u001B[49m\u001B[43m,\u001B[49m\u001B[43m \u001B[49m\u001B[38;5;28;43;01mFalse\u001B[39;49;00m\u001B[43m)\u001B[49m\n\u001B[1;32m      3\u001B[0m display(result)\n",
      "Cell \u001B[0;32mIn[27], line 48\u001B[0m, in \u001B[0;36mpart_1\u001B[0;34m(reader, debug)\u001B[0m\n\u001B[1;32m     45\u001B[0m                     print_disk(disk)\n\u001B[1;32m     46\u001B[0m                 \u001B[38;5;28;01mbreak\u001B[39;00m\n\u001B[0;32m---> 48\u001B[0m     \u001B[38;5;28;01mif\u001B[39;00m \u001B[43mis_sorted\u001B[49m\u001B[43m(\u001B[49m\u001B[43mdisk\u001B[49m\u001B[43m)\u001B[49m:\n\u001B[1;32m     49\u001B[0m         \u001B[38;5;28;01mbreak\u001B[39;00m\n\u001B[1;32m     51\u001B[0m \u001B[38;5;28;01mreturn\u001B[39;00m checksum(disk)\n",
      "Cell \u001B[0;32mIn[27], line 9\u001B[0m, in \u001B[0;36mis_sorted\u001B[0;34m(disk)\u001B[0m\n\u001B[1;32m      7\u001B[0m         first_space \u001B[38;5;241m=\u001B[39m j\n\u001B[1;32m      8\u001B[0m     \u001B[38;5;28;01melif\u001B[39;00m disk[j] \u001B[38;5;241m!=\u001B[39m \u001B[38;5;241m-\u001B[39m\u001B[38;5;241m1\u001B[39m:\n\u001B[0;32m----> 9\u001B[0m         last_number \u001B[38;5;241m=\u001B[39m j\n\u001B[1;32m     11\u001B[0m \u001B[38;5;28;01mif\u001B[39;00m first_space \u001B[38;5;241m-\u001B[39m \u001B[38;5;241m1\u001B[39m \u001B[38;5;241m==\u001B[39m last_number:\n\u001B[1;32m     12\u001B[0m     \u001B[38;5;28;01mreturn\u001B[39;00m \u001B[38;5;28;01mTrue\u001B[39;00m\n",
      "\u001B[0;31mKeyboardInterrupt\u001B[0m: "
     ]
    }
   ],
   "execution_count": 28
  },
  {
   "metadata": {
    "ExecuteTime": {
     "end_time": "2024-12-09T09:22:48.892285Z",
     "start_time": "2024-12-09T07:08:37.688817Z"
    }
   },
   "cell_type": "code",
   "source": [
    "# print part 2\n",
    "puzzle.print_article(1)"
   ],
   "id": "7e93726c408fb734",
   "outputs": [
    {
     "data": {
      "text/plain": [
       "<IPython.core.display.HTML object>"
      ],
      "text/html": [
       "<article class=\"day-desc\">\n",
       " <h2 id=\"part2\">\n",
       "  --- Part Two ---\n",
       " </h2>\n",
       " <p>\n",
       "  Upon completion, two things immediately become clear. First, the disk definitely has a lot more contiguous free space, just like the amphipod hoped. Second, the computer is running much more slowly! Maybe introducing all of that\n",
       "  <a href=\"https://en.wikipedia.org/wiki/File_system_fragmentation\" target=\"_blank\">\n",
       "   file system fragmentation\n",
       "  </a>\n",
       "  was a bad idea?\n",
       " </p>\n",
       " <p>\n",
       "  The eager amphipod already has a new plan: rather than move individual blocks, he'd like to try compacting the files on his disk by moving\n",
       "  <em>\n",
       "   whole files\n",
       "  </em>\n",
       "  instead.\n",
       " </p>\n",
       " <p>\n",
       "  This time, attempt to move whole files to the leftmost span of free space blocks that could fit the file. Attempt to move each file exactly once in order of\n",
       "  <em>\n",
       "   decreasing file ID number\n",
       "  </em>\n",
       "  starting with the file with the highest file ID number. If there is no span of free space to the left of a file that is large enough to fit the file, the file does not move.\n",
       " </p>\n",
       " <p>\n",
       "  The first example from above now proceeds differently:\n",
       " </p>\n",
       " <pre><code>00...111...2...333.44.5555.6666.777.888899\n",
       "0099.111...2...333.44.5555.6666.777.8888..\n",
       "0099.1117772...333.44.5555.6666.....8888..\n",
       "0099.111777244.333....5555.6666.....8888..\n",
       "00992111777.44.333....5555.6666.....8888..\n",
       "</code></pre>\n",
       " <p>\n",
       "  The process of updating the filesystem checksum is the same; now, this example's checksum would be\n",
       "  <code>\n",
       "   <em>\n",
       "    2858\n",
       "   </em>\n",
       "  </code>\n",
       "  .\n",
       " </p>\n",
       " <p>\n",
       "  Start over, now compacting the amphipod's hard drive using this new method instead.\n",
       "  <em>\n",
       "   What is the resulting filesystem checksum?\n",
       "  </em>\n",
       " </p>\n",
       "</article>\n"
      ]
     },
     "metadata": {},
     "output_type": "display_data"
    }
   ],
   "execution_count": 4
  },
  {
   "metadata": {
    "ExecuteTime": {
     "end_time": "2024-12-09T09:22:55.693500Z",
     "start_time": "2024-12-09T09:22:55.678184Z"
    }
   },
   "cell_type": "code",
   "source": [
    "# test case (part 2)\n",
    "class Sector:\n",
    "    def __init__(self, start: int, size: int, number: int):\n",
    "        self.start = start\n",
    "        self.size = size\n",
    "        self.number = number\n",
    "\n",
    "    def __str__(self):\n",
    "        return f\"sector: {self.number} (start: {self.start}, size: {self.size})\"\n",
    "\n",
    "\n",
    "class Space:\n",
    "    def __init__(self, start: int, size: int):\n",
    "        self.start = start\n",
    "        self.size = size\n",
    "\n",
    "    def __str__(self):\n",
    "        return f\"space: (start: {self.start}, size: {self.size})\"\n",
    "\n",
    "\n",
    "class Disk:\n",
    "    def __init__(self, disk: list, sectors: list, spaces: list):\n",
    "        self.spaces = spaces\n",
    "        self.sectors = sectors\n",
    "        self.disk = disk\n",
    "        self.sectors.sort(key=lambda x: x.start)\n",
    "        self.spaces.sort(key=lambda x: x.start)\n",
    "\n",
    "    def sector_iterator(self):\n",
    "        # return the sectors in reverse position\n",
    "        for i in range(len(self.sectors) - 1, -1, -1):\n",
    "            next_sector  = self.sectors[i]\n",
    "            if next_sector.size > 0 and next_sector.start > self.first_space().start:\n",
    "                yield self.sectors[i]\n",
    "\n",
    "    def first_space(self) -> int:\n",
    "        for i in range(len(self.spaces)):\n",
    "            if self.spaces[i].size > 0:\n",
    "                return self.spaces[i]\n",
    "\n",
    "    def space_iterator(self):\n",
    "        # return the spaces in sorted position\n",
    "        for i in range(len(self.spaces)):\n",
    "            if self.spaces[i].size > 0:\n",
    "                yield self.spaces[i]\n",
    "\n",
    "    def find_space(self, sector: Sector) -> Space:\n",
    "        for space in self.space_iterator():\n",
    "            if space.size >= sector.size and space.start <= sector.start:\n",
    "                return space\n",
    "\n",
    "    def rebuild_spaces(self):\n",
    "        self.spaces = []\n",
    "        start = 0\n",
    "        size = 0\n",
    "        for i in range(len(self.disk)):\n",
    "            if self.disk[i] == -1:\n",
    "                if size == 0:\n",
    "                    start = i\n",
    "                size += 1\n",
    "            else:\n",
    "                if size > 0:\n",
    "                    self.spaces.append(Space(start, size))\n",
    "                    size = 0\n",
    "        if size > 0:\n",
    "            self.spaces.append(Space(start, size))\n",
    "\n",
    "    def move_sector(self, sector: Sector, space: Space):\n",
    "        for i in range(sector.size):\n",
    "            self.disk[space.start + i] = sector.number\n",
    "        for i in range(sector.size):\n",
    "            self.disk[sector.start + i] = -1\n",
    "\n",
    "        # remove sector from list\n",
    "        self.sectors.remove(sector)\n",
    "\n",
    "        # rebuild spaces\n",
    "        self.rebuild_spaces()\n",
    "\n",
    "    def print(self):\n",
    "        output = []\n",
    "        for i in range(len(self.disk)):\n",
    "            if self.disk[i] == -1:\n",
    "                output.append(\".\")\n",
    "            else:\n",
    "                output.append(str(self.disk[i]))\n",
    "        print(\"\".join(output))\n",
    "        print(\"\")\n",
    "        # print sectors\n",
    "        for sector in self.sector_iterator():\n",
    "            print(sector)\n",
    "\n",
    "        for space in self.space_iterator():\n",
    "            print(space)\n",
    "\n",
    "    def checksum(self) -> int:\n",
    "        total = 0\n",
    "        for i in range(len(self.disk)):\n",
    "            if self.disk[i] != -1:\n",
    "                total += self.disk[i] * i\n",
    "        return total\n",
    "\n",
    "\n",
    "def domains_from_input(input: InputReader) -> Disk:\n",
    "    lines = input.as_str()\n",
    "\n",
    "    is_data = True\n",
    "    counter = 0\n",
    "    disk = []\n",
    "    sectors = []\n",
    "    spaces = []\n",
    "\n",
    "    # iterate over each digit\n",
    "    for i in range(len(lines)):\n",
    "        digit_count = int(lines[i])\n",
    "        if is_data:\n",
    "            number = counter\n",
    "            sectors.append(Sector(len(disk), digit_count, number))\n",
    "            for j in range(digit_count):\n",
    "                disk.append(counter)\n",
    "            counter += 1\n",
    "        else:\n",
    "            spaces.append(Space(len(disk), digit_count))\n",
    "            for j in range(digit_count):\n",
    "                disk.append(-1)\n",
    "        is_data = not is_data\n",
    "\n",
    "    return Disk(disk, sectors, spaces)\n",
    "\n",
    "\n",
    "def part_2(reader: InputReader, debug: bool) -> int:\n",
    "    disk = domains_from_input(reader)\n",
    "\n",
    "    # starting from the end of the disk, swap any number that is not -1 with a -1 at the start of the disk\n",
    "    for sector in disk.sector_iterator():\n",
    "        if debug:\n",
    "            print(f\"sector: {sector}\")\n",
    "        space = disk.find_space(sector)\n",
    "        if space is not None:\n",
    "            disk.move_sector(sector, space)\n",
    "            if debug:\n",
    "                print(f\"sector: {sector} -> space: {space}\")\n",
    "        else:\n",
    "            if debug:\n",
    "                print(f\"sector: {sector} -> no space found\")\n",
    "\n",
    "    if debug:\n",
    "        print(disk.print())\n",
    "\n",
    "    return disk.checksum()\n",
    "\n",
    "\n",
    "result = part_2(puzzle.example(0), True)\n",
    "display(result)\n",
    "# 00992111777.44.333....5555.6666.....8888..\n",
    "assert result == 2858"
   ],
   "id": "d2277c7db8ea0a5e",
   "outputs": [
    {
     "name": "stdout",
     "output_type": "stream",
     "text": [
      "sector: sector: 9 (start: 40, size: 2)\n",
      "sector: sector: 9 (start: 40, size: 2) -> space: space: (start: 2, size: 3)\n",
      "sector: sector: 8 (start: 36, size: 4)\n",
      "sector: sector: 8 (start: 36, size: 4) -> no space found\n",
      "sector: sector: 7 (start: 32, size: 3)\n",
      "sector: sector: 7 (start: 32, size: 3) -> space: space: (start: 8, size: 3)\n",
      "sector: sector: 6 (start: 27, size: 4)\n",
      "sector: sector: 6 (start: 27, size: 4) -> no space found\n",
      "sector: sector: 5 (start: 22, size: 4)\n",
      "sector: sector: 5 (start: 22, size: 4) -> no space found\n",
      "sector: sector: 4 (start: 19, size: 2)\n",
      "sector: sector: 4 (start: 19, size: 2) -> space: space: (start: 12, size: 3)\n",
      "sector: sector: 3 (start: 15, size: 3)\n",
      "sector: sector: 3 (start: 15, size: 3) -> no space found\n",
      "sector: sector: 2 (start: 11, size: 1)\n",
      "sector: sector: 2 (start: 11, size: 1) -> space: space: (start: 4, size: 1)\n",
      "00992111777.44.333....5555.6666.....8888..\n",
      "\n",
      "sector: 8 (start: 36, size: 4)\n",
      "sector: 6 (start: 27, size: 4)\n",
      "sector: 5 (start: 22, size: 4)\n",
      "sector: 3 (start: 15, size: 3)\n",
      "space: (start: 11, size: 1)\n",
      "space: (start: 14, size: 1)\n",
      "space: (start: 18, size: 4)\n",
      "space: (start: 26, size: 1)\n",
      "space: (start: 31, size: 5)\n",
      "space: (start: 40, size: 2)\n",
      "None\n"
     ]
    },
    {
     "data": {
      "text/plain": [
       "2858"
      ]
     },
     "metadata": {},
     "output_type": "display_data"
    }
   ],
   "execution_count": 29
  },
  {
   "metadata": {
    "ExecuteTime": {
     "end_time": "2024-12-09T09:23:25.210219Z",
     "start_time": "2024-12-09T09:22:56.472323Z"
    }
   },
   "cell_type": "code",
   "source": [
    "# real case (part 2)\n",
    "result = part_2(puzzle.input(), False)\n",
    "print(result)"
   ],
   "id": "57c071f7c6d2914",
   "outputs": [
    {
     "name": "stdout",
     "output_type": "stream",
     "text": [
      "6389911791746\n"
     ]
    }
   ],
   "execution_count": 30
  },
  {
   "metadata": {
    "ExecuteTime": {
     "end_time": "2024-12-09T09:23:25.289254Z",
     "start_time": "2024-12-09T09:23:25.281453Z"
    }
   },
   "cell_type": "code",
   "source": [
    "# print easters eggs\n",
    "puzzle.print_easter_eggs()"
   ],
   "id": "44e329cbb6ad2400",
   "outputs": [
    {
     "data": {
      "text/plain": [
       "<IPython.core.display.Markdown object>"
      ],
      "text/markdown": "## Easter Eggs"
     },
     "metadata": {},
     "output_type": "display_data"
    },
    {
     "data": {
      "text/plain": [
       "<IPython.core.display.Markdown object>"
      ],
      "text/markdown": "<span title=\"Bonus points if you make a cool animation of this process.\">Compact the amphipod's hard drive</span> (Bonus points if you make a cool animation of this process.)"
     },
     "metadata": {},
     "output_type": "display_data"
    }
   ],
   "execution_count": 31
  },
  {
   "metadata": {},
   "cell_type": "code",
   "outputs": [],
   "execution_count": null,
   "source": "",
   "id": "b1d3d67d8de84755"
  }
 ],
 "metadata": {
  "kernelspec": {
   "display_name": "Python 3",
   "language": "python",
   "name": "python3"
  },
  "language_info": {
   "codemirror_mode": {
    "name": "ipython",
    "version": 2
   },
   "file_extension": ".py",
   "mimetype": "text/x-python",
   "name": "python",
   "nbconvert_exporter": "python",
   "pygments_lexer": "ipython2",
   "version": "2.7.6"
  }
 },
 "nbformat": 4,
 "nbformat_minor": 5
}
