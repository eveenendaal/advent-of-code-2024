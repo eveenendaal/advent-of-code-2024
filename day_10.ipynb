{
 "cells": [
  {
   "metadata": {
    "ExecuteTime": {
     "end_time": "2024-12-10T05:08:29.610132Z",
     "start_time": "2024-12-10T05:08:29.519289Z"
    }
   },
   "cell_type": "code",
   "source": [
    "from common.inputreader import InputReader, PuzzleWrapper\n",
    "from common.matrix import Matrix\n",
    "\n",
    "puzzle = PuzzleWrapper(year=2024, day=int(\"10\"))\n",
    "\n",
    "puzzle.header()\n",
    "# example = get_code_block(puzzle, 5)"
   ],
   "id": "dec75b3898d7314f",
   "outputs": [
    {
     "data": {
      "text/plain": [
       "<IPython.core.display.Markdown object>"
      ],
      "text/markdown": "# Hoof It"
     },
     "metadata": {},
     "output_type": "display_data"
    },
    {
     "data": {
      "text/plain": [
       "<IPython.core.display.Markdown object>"
      ],
      "text/markdown": "[Open Website](https://adventofcode.com/2024/day/10)"
     },
     "metadata": {},
     "output_type": "display_data"
    }
   ],
   "execution_count": 1
  },
  {
   "metadata": {
    "ExecuteTime": {
     "end_time": "2024-12-10T05:08:30.252282Z",
     "start_time": "2024-12-10T05:08:30.242180Z"
    }
   },
   "cell_type": "code",
   "source": [
    "# helper functions\n",
    "def domain_from_input(input: InputReader) -> Matrix:\n",
    "    matrix = input.matrix()\n",
    "\n",
    "    return matrix\n",
    "\n",
    "\n",
    "test_input = domain_from_input(puzzle.get_code_block(3))\n",
    "test_input.print()"
   ],
   "id": "34dd2d43c40af29b",
   "outputs": [
    {
     "name": "stdout",
     "output_type": "stream",
     "text": [
      "89010123\n",
      "78121874\n",
      "87430965\n",
      "96549874\n",
      "45678903\n",
      "32019012\n",
      "01329801\n",
      "10456732\n"
     ]
    }
   ],
   "execution_count": 2
  },
  {
   "metadata": {
    "ExecuteTime": {
     "end_time": "2024-12-10T05:10:22.452899Z",
     "start_time": "2024-12-10T05:10:22.440861Z"
    }
   },
   "cell_type": "code",
   "source": [
    "from common.matrix import Direction\n",
    "\n",
    "\n",
    "# test case (part 1)\n",
    "def part_1(reader: InputReader, debug: bool) -> int:\n",
    "    matrix = domain_from_input(reader)\n",
    "\n",
    "    starts = []\n",
    "\n",
    "    # find 0s\n",
    "    for x, y, next in matrix:\n",
    "        if next == \"0\":\n",
    "            starts.append((x, y, 0, False))\n",
    "\n",
    "    directions = [\n",
    "        Direction.UP,\n",
    "        Direction.DOWN,\n",
    "        Direction.LEFT,\n",
    "        Direction.RIGHT,\n",
    "    ]\n",
    "\n",
    "    done = False\n",
    "    while not done:\n",
    "        for i in range(len(starts)):\n",
    "            x, y, steps, done = starts[i]\n",
    "            if done:\n",
    "                continue\n",
    "            if matrix.get(x, y) == \"1\":\n",
    "                print(f\"Found 1 at {x}, {y} after {steps} steps\")\n",
    "                done = True\n",
    "                break\n",
    "            matrix.set(x, y, \"X\")\n",
    "\n",
    "\n",
    "    if debug:\n",
    "        print(f'Starting at {starts}')\n",
    "        matrix.print()\n",
    "    return 0\n",
    "\n",
    "\n",
    "result = part_1(puzzle.get_code_block(3), True)\n",
    "display(result)\n",
    "assert result == 0"
   ],
   "id": "6d23892a17117fed",
   "outputs": [
    {
     "name": "stdout",
     "output_type": "stream",
     "text": [
      "Starting at [(2, 0), (4, 0), (4, 2), (6, 4), (2, 5), (5, 5), (0, 6), (6, 6), (1, 7)]\n",
      "89010123\n",
      "78121874\n",
      "87430965\n",
      "96549874\n",
      "45678903\n",
      "32019012\n",
      "01329801\n",
      "10456732\n"
     ]
    },
    {
     "data": {
      "text/plain": [
       "0"
      ]
     },
     "metadata": {},
     "output_type": "display_data"
    }
   ],
   "execution_count": 6
  },
  {
   "metadata": {},
   "cell_type": "code",
   "source": [
    "# real case (part 1)\n",
    "result = part_1(puzzle.input(), False)\n",
    "display(result)"
   ],
   "id": "66cab898e4711d42",
   "outputs": [],
   "execution_count": null
  },
  {
   "metadata": {},
   "cell_type": "code",
   "source": [
    "# test case (part 2)\n",
    "def part_2(reader: InputReader, debug: bool) -> int:\n",
    "    lines = domain_from_input(reader)\n",
    "    if debug:\n",
    "        display(lines)\n",
    "    return 0\n",
    "\n",
    "\n",
    "result = part_2(puzzle.example(0), True)\n",
    "display(result)\n",
    "assert result == 0"
   ],
   "id": "d2277c7db8ea0a5e",
   "outputs": [],
   "execution_count": null
  },
  {
   "metadata": {},
   "cell_type": "code",
   "source": [
    "# real case (part 2)\n",
    "result = part_2(puzzle.input(), False)\n",
    "display(result)"
   ],
   "id": "57c071f7c6d2914",
   "outputs": [],
   "execution_count": null
  },
  {
   "metadata": {},
   "cell_type": "code",
   "source": [
    "# print easters eggs\n",
    "puzzle.print_easter_eggs()"
   ],
   "id": "44e329cbb6ad2400",
   "outputs": [],
   "execution_count": null
  }
 ],
 "metadata": {
  "kernelspec": {
   "display_name": "Python 3",
   "language": "python",
   "name": "python3"
  },
  "language_info": {
   "codemirror_mode": {
    "name": "ipython",
    "version": 2
   },
   "file_extension": ".py",
   "mimetype": "text/x-python",
   "name": "python",
   "nbconvert_exporter": "python",
   "pygments_lexer": "ipython2",
   "version": "2.7.6"
  }
 },
 "nbformat": 4,
 "nbformat_minor": 5
}
