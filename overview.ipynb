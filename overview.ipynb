{
 "cells": [
  {
   "cell_type": "code",
   "execution_count": 1,
   "id": "1cd5b109322c9063",
   "metadata": {
    "ExecuteTime": {
     "end_time": "2024-12-04T07:29:42.621906Z",
     "start_time": "2024-12-04T07:29:42.289962Z"
    },
    "execution": {
     "iopub.execute_input": "2024-12-05T03:16:33.575448Z",
     "iopub.status.busy": "2024-12-05T03:16:33.575234Z",
     "iopub.status.idle": "2024-12-05T03:16:34.131367Z",
     "shell.execute_reply": "2024-12-05T03:16:34.130782Z"
    }
   },
   "outputs": [
    {
     "data": {
      "text/markdown": [
       "# Overview"
      ],
      "text/plain": [
       "<IPython.core.display.Markdown object>"
      ]
     },
     "metadata": {},
     "output_type": "display_data"
    },
    {
     "data": {
      "text/markdown": [
       "**Updated:** 2024-12-05 03:16:34"
      ],
      "text/plain": [
       "<IPython.core.display.Markdown object>"
      ]
     },
     "metadata": {},
     "output_type": "display_data"
    },
    {
     "data": {
      "text/markdown": [
       "[Personal Stats](https://adventofcode.com/2024/leaderboard/self)"
      ],
      "text/plain": [
       "<IPython.core.display.Markdown object>"
      ]
     },
     "metadata": {},
     "output_type": "display_data"
    },
    {
     "data": {
      "text/html": [
       "<div>\n",
       "<style scoped>\n",
       "    .dataframe tbody tr th:only-of-type {\n",
       "        vertical-align: middle;\n",
       "    }\n",
       "\n",
       "    .dataframe tbody tr th {\n",
       "        vertical-align: top;\n",
       "    }\n",
       "\n",
       "    .dataframe thead th {\n",
       "        text-align: right;\n",
       "    }\n",
       "</style>\n",
       "<table border=\"1\" class=\"dataframe\">\n",
       "  <thead>\n",
       "    <tr style=\"text-align: right;\">\n",
       "      <th></th>\n",
       "      <th>Time A</th>\n",
       "      <th>Rank A</th>\n",
       "      <th>Time B</th>\n",
       "      <th>Rank B</th>\n",
       "    </tr>\n",
       "    <tr>\n",
       "      <th>Day</th>\n",
       "      <th></th>\n",
       "      <th></th>\n",
       "      <th></th>\n",
       "      <th></th>\n",
       "    </tr>\n",
       "  </thead>\n",
       "  <tbody>\n",
       "    <tr>\n",
       "      <th>2024/01</th>\n",
       "      <td>0 days 01:13:28</td>\n",
       "      <td>11034</td>\n",
       "      <td>0 days 01:21:03</td>\n",
       "      <td>10524</td>\n",
       "    </tr>\n",
       "    <tr>\n",
       "      <th>2024/02</th>\n",
       "      <td>0 days 00:17:44</td>\n",
       "      <td>6086</td>\n",
       "      <td>0 days 00:43:49</td>\n",
       "      <td>6609</td>\n",
       "    </tr>\n",
       "    <tr>\n",
       "      <th>2024/03</th>\n",
       "      <td>0 days 00:10:14</td>\n",
       "      <td>4303</td>\n",
       "      <td>0 days 02:18:43</td>\n",
       "      <td>18637</td>\n",
       "    </tr>\n",
       "    <tr>\n",
       "      <th>2024/04</th>\n",
       "      <td>0 days 00:10:21</td>\n",
       "      <td>1685</td>\n",
       "      <td>0 days 02:21:45</td>\n",
       "      <td>14636</td>\n",
       "    </tr>\n",
       "  </tbody>\n",
       "</table>\n",
       "</div>"
      ],
      "text/plain": [
       "                 Time A Rank A          Time B Rank B\n",
       "Day                                                  \n",
       "2024/01 0 days 01:13:28  11034 0 days 01:21:03  10524\n",
       "2024/02 0 days 00:17:44   6086 0 days 00:43:49   6609\n",
       "2024/03 0 days 00:10:14   4303 0 days 02:18:43  18637\n",
       "2024/04 0 days 00:10:21   1685 0 days 02:21:45  14636"
      ]
     },
     "metadata": {},
     "output_type": "display_data"
    }
   ],
   "source": [
    "from IPython.core.display import Markdown\n",
    "\n",
    "from common.overview import get_personal_overview\n",
    "\n",
    "display(Markdown(\"# Overview\"))\n",
    "get_personal_overview()\n"
   ]
  },
  {
   "cell_type": "code",
   "execution_count": 2,
   "id": "bb6a3f4f249d83b8",
   "metadata": {
    "ExecuteTime": {
     "end_time": "2024-12-04T07:29:43.460683Z",
     "start_time": "2024-12-04T07:29:42.650746Z"
    },
    "execution": {
     "iopub.execute_input": "2024-12-05T03:16:34.133397Z",
     "iopub.status.busy": "2024-12-05T03:16:34.132981Z",
     "iopub.status.idle": "2024-12-05T03:16:34.339748Z",
     "shell.execute_reply": "2024-12-05T03:16:34.339274Z"
    }
   },
   "outputs": [
    {
     "data": {
      "text/markdown": [
       "# Leaderboards"
      ],
      "text/plain": [
       "<IPython.core.display.Markdown object>"
      ]
     },
     "metadata": {},
     "output_type": "display_data"
    },
    {
     "data": {
      "text/markdown": [
       "## Bol"
      ],
      "text/plain": [
       "<IPython.core.display.Markdown object>"
      ]
     },
     "metadata": {},
     "output_type": "display_data"
    },
    {
     "data": {
      "text/markdown": [
       "**Updated:** 2024-12-05 03:16:34"
      ],
      "text/plain": [
       "<IPython.core.display.Markdown object>"
      ]
     },
     "metadata": {},
     "output_type": "display_data"
    },
    {
     "data": {
      "text/markdown": [
       "[Private Leaderboard](https://adventofcode.com/2024/leaderboard/private/view/257356)"
      ],
      "text/plain": [
       "<IPython.core.display.Markdown object>"
      ]
     },
     "metadata": {},
     "output_type": "display_data"
    },
    {
     "data": {
      "text/html": [
       "<div>\n",
       "<style scoped>\n",
       "    .dataframe tbody tr th:only-of-type {\n",
       "        vertical-align: middle;\n",
       "    }\n",
       "\n",
       "    .dataframe tbody tr th {\n",
       "        vertical-align: top;\n",
       "    }\n",
       "\n",
       "    .dataframe thead th {\n",
       "        text-align: right;\n",
       "    }\n",
       "</style>\n",
       "<table border=\"1\" class=\"dataframe\">\n",
       "  <thead>\n",
       "    <tr style=\"text-align: right;\">\n",
       "      <th></th>\n",
       "      <th>Name</th>\n",
       "      <th>Score</th>\n",
       "      <th>Stars</th>\n",
       "      <th>Progress</th>\n",
       "    </tr>\n",
       "  </thead>\n",
       "  <tbody>\n",
       "    <tr>\n",
       "      <th>0</th>\n",
       "      <td>Eric Veenendaal</td>\n",
       "      <td>537</td>\n",
       "      <td>8</td>\n",
       "      <td>🌟🌟🌟🌟⬜⬜⬜⬜⬜⬜⬜⬜⬜⬜⬜⬜⬜⬜⬜⬜⬜⬜⬜⬜⬜</td>\n",
       "    </tr>\n",
       "    <tr>\n",
       "      <th>1</th>\n",
       "      <td>Felipe Flores</td>\n",
       "      <td>512</td>\n",
       "      <td>8</td>\n",
       "      <td>🌟🌟🌟🌟⬜⬜⬜⬜⬜⬜⬜⬜⬜⬜⬜⬜⬜⬜⬜⬜⬜⬜⬜⬜⬜</td>\n",
       "    </tr>\n",
       "    <tr>\n",
       "      <th>2</th>\n",
       "      <td>EgbertW</td>\n",
       "      <td>505</td>\n",
       "      <td>8</td>\n",
       "      <td>🌟🌟🌟🌟⬜⬜⬜⬜⬜⬜⬜⬜⬜⬜⬜⬜⬜⬜⬜⬜⬜⬜⬜⬜⬜</td>\n",
       "    </tr>\n",
       "    <tr>\n",
       "      <th>3</th>\n",
       "      <td>HSteffensen</td>\n",
       "      <td>497</td>\n",
       "      <td>8</td>\n",
       "      <td>🌟🌟🌟🌟⬜⬜⬜⬜⬜⬜⬜⬜⬜⬜⬜⬜⬜⬜⬜⬜⬜⬜⬜⬜⬜</td>\n",
       "    </tr>\n",
       "    <tr>\n",
       "      <th>4</th>\n",
       "      <td>Marco Nel</td>\n",
       "      <td>494</td>\n",
       "      <td>8</td>\n",
       "      <td>🌟🌟🌟🌟⬜⬜⬜⬜⬜⬜⬜⬜⬜⬜⬜⬜⬜⬜⬜⬜⬜⬜⬜⬜⬜</td>\n",
       "    </tr>\n",
       "    <tr>\n",
       "      <th>5</th>\n",
       "      <td>Bart Enkelaar</td>\n",
       "      <td>491</td>\n",
       "      <td>8</td>\n",
       "      <td>🌟🌟🌟🌟⬜⬜⬜⬜⬜⬜⬜⬜⬜⬜⬜⬜⬜⬜⬜⬜⬜⬜⬜⬜⬜</td>\n",
       "    </tr>\n",
       "    <tr>\n",
       "      <th>6</th>\n",
       "      <td>Jorisvanrheden</td>\n",
       "      <td>472</td>\n",
       "      <td>8</td>\n",
       "      <td>🌟🌟🌟🌟⬜⬜⬜⬜⬜⬜⬜⬜⬜⬜⬜⬜⬜⬜⬜⬜⬜⬜⬜⬜⬜</td>\n",
       "    </tr>\n",
       "    <tr>\n",
       "      <th>7</th>\n",
       "      <td>Carst Tankink</td>\n",
       "      <td>458</td>\n",
       "      <td>8</td>\n",
       "      <td>🌟🌟🌟🌟⬜⬜⬜⬜⬜⬜⬜⬜⬜⬜⬜⬜⬜⬜⬜⬜⬜⬜⬜⬜⬜</td>\n",
       "    </tr>\n",
       "    <tr>\n",
       "      <th>8</th>\n",
       "      <td>Dave Franken</td>\n",
       "      <td>454</td>\n",
       "      <td>8</td>\n",
       "      <td>🌟🌟🌟🌟⬜⬜⬜⬜⬜⬜⬜⬜⬜⬜⬜⬜⬜⬜⬜⬜⬜⬜⬜⬜⬜</td>\n",
       "    </tr>\n",
       "    <tr>\n",
       "      <th>9</th>\n",
       "      <td>Naval Bhagat</td>\n",
       "      <td>452</td>\n",
       "      <td>8</td>\n",
       "      <td>🌟🌟🌟🌟⬜⬜⬜⬜⬜⬜⬜⬜⬜⬜⬜⬜⬜⬜⬜⬜⬜⬜⬜⬜⬜</td>\n",
       "    </tr>\n",
       "    <tr>\n",
       "      <th>10</th>\n",
       "      <td>Paul van der Bles</td>\n",
       "      <td>452</td>\n",
       "      <td>8</td>\n",
       "      <td>🌟🌟🌟🌟⬜⬜⬜⬜⬜⬜⬜⬜⬜⬜⬜⬜⬜⬜⬜⬜⬜⬜⬜⬜⬜</td>\n",
       "    </tr>\n",
       "    <tr>\n",
       "      <th>11</th>\n",
       "      <td>Thom van de Vin</td>\n",
       "      <td>438</td>\n",
       "      <td>8</td>\n",
       "      <td>🌟🌟🌟🌟⬜⬜⬜⬜⬜⬜⬜⬜⬜⬜⬜⬜⬜⬜⬜⬜⬜⬜⬜⬜⬜</td>\n",
       "    </tr>\n",
       "    <tr>\n",
       "      <th>12</th>\n",
       "      <td>Lex Ruesink</td>\n",
       "      <td>432</td>\n",
       "      <td>8</td>\n",
       "      <td>🌟🌟🌟🌟⬜⬜⬜⬜⬜⬜⬜⬜⬜⬜⬜⬜⬜⬜⬜⬜⬜⬜⬜⬜⬜</td>\n",
       "    </tr>\n",
       "    <tr>\n",
       "      <th>13</th>\n",
       "      <td>mvanede</td>\n",
       "      <td>431</td>\n",
       "      <td>8</td>\n",
       "      <td>🌟🌟🌟🌟⬜⬜⬜⬜⬜⬜⬜⬜⬜⬜⬜⬜⬜⬜⬜⬜⬜⬜⬜⬜⬜</td>\n",
       "    </tr>\n",
       "    <tr>\n",
       "      <th>14</th>\n",
       "      <td>Michel Schudel</td>\n",
       "      <td>427</td>\n",
       "      <td>8</td>\n",
       "      <td>🌟🌟🌟🌟⬜⬜⬜⬜⬜⬜⬜⬜⬜⬜⬜⬜⬜⬜⬜⬜⬜⬜⬜⬜⬜</td>\n",
       "    </tr>\n",
       "    <tr>\n",
       "      <th>15</th>\n",
       "      <td>mmeiboom</td>\n",
       "      <td>420</td>\n",
       "      <td>8</td>\n",
       "      <td>🌟🌟🌟🌟⬜⬜⬜⬜⬜⬜⬜⬜⬜⬜⬜⬜⬜⬜⬜⬜⬜⬜⬜⬜⬜</td>\n",
       "    </tr>\n",
       "    <tr>\n",
       "      <th>16</th>\n",
       "      <td>Lulu</td>\n",
       "      <td>405</td>\n",
       "      <td>8</td>\n",
       "      <td>🌟🌟🌟🌟⬜⬜⬜⬜⬜⬜⬜⬜⬜⬜⬜⬜⬜⬜⬜⬜⬜⬜⬜⬜⬜</td>\n",
       "    </tr>\n",
       "    <tr>\n",
       "      <th>17</th>\n",
       "      <td>Marco Plaisier</td>\n",
       "      <td>403</td>\n",
       "      <td>7</td>\n",
       "      <td>🌟🌟🌟⭐⬜⬜⬜⬜⬜⬜⬜⬜⬜⬜⬜⬜⬜⬜⬜⬜⬜⬜⬜⬜⬜</td>\n",
       "    </tr>\n",
       "    <tr>\n",
       "      <th>18</th>\n",
       "      <td>Navya Govind</td>\n",
       "      <td>399</td>\n",
       "      <td>8</td>\n",
       "      <td>🌟🌟🌟🌟⬜⬜⬜⬜⬜⬜⬜⬜⬜⬜⬜⬜⬜⬜⬜⬜⬜⬜⬜⬜⬜</td>\n",
       "    </tr>\n",
       "    <tr>\n",
       "      <th>19</th>\n",
       "      <td>Fabrício Yamamoto</td>\n",
       "      <td>388</td>\n",
       "      <td>8</td>\n",
       "      <td>🌟🌟🌟🌟⬜⬜⬜⬜⬜⬜⬜⬜⬜⬜⬜⬜⬜⬜⬜⬜⬜⬜⬜⬜⬜</td>\n",
       "    </tr>\n",
       "  </tbody>\n",
       "</table>\n",
       "</div>"
      ],
      "text/plain": [
       "                 Name  Score  Stars                   Progress\n",
       "0     Eric Veenendaal    537      8  🌟🌟🌟🌟⬜⬜⬜⬜⬜⬜⬜⬜⬜⬜⬜⬜⬜⬜⬜⬜⬜⬜⬜⬜⬜\n",
       "1       Felipe Flores    512      8  🌟🌟🌟🌟⬜⬜⬜⬜⬜⬜⬜⬜⬜⬜⬜⬜⬜⬜⬜⬜⬜⬜⬜⬜⬜\n",
       "2             EgbertW    505      8  🌟🌟🌟🌟⬜⬜⬜⬜⬜⬜⬜⬜⬜⬜⬜⬜⬜⬜⬜⬜⬜⬜⬜⬜⬜\n",
       "3         HSteffensen    497      8  🌟🌟🌟🌟⬜⬜⬜⬜⬜⬜⬜⬜⬜⬜⬜⬜⬜⬜⬜⬜⬜⬜⬜⬜⬜\n",
       "4           Marco Nel    494      8  🌟🌟🌟🌟⬜⬜⬜⬜⬜⬜⬜⬜⬜⬜⬜⬜⬜⬜⬜⬜⬜⬜⬜⬜⬜\n",
       "5       Bart Enkelaar    491      8  🌟🌟🌟🌟⬜⬜⬜⬜⬜⬜⬜⬜⬜⬜⬜⬜⬜⬜⬜⬜⬜⬜⬜⬜⬜\n",
       "6      Jorisvanrheden    472      8  🌟🌟🌟🌟⬜⬜⬜⬜⬜⬜⬜⬜⬜⬜⬜⬜⬜⬜⬜⬜⬜⬜⬜⬜⬜\n",
       "7       Carst Tankink    458      8  🌟🌟🌟🌟⬜⬜⬜⬜⬜⬜⬜⬜⬜⬜⬜⬜⬜⬜⬜⬜⬜⬜⬜⬜⬜\n",
       "8        Dave Franken    454      8  🌟🌟🌟🌟⬜⬜⬜⬜⬜⬜⬜⬜⬜⬜⬜⬜⬜⬜⬜⬜⬜⬜⬜⬜⬜\n",
       "9        Naval Bhagat    452      8  🌟🌟🌟🌟⬜⬜⬜⬜⬜⬜⬜⬜⬜⬜⬜⬜⬜⬜⬜⬜⬜⬜⬜⬜⬜\n",
       "10  Paul van der Bles    452      8  🌟🌟🌟🌟⬜⬜⬜⬜⬜⬜⬜⬜⬜⬜⬜⬜⬜⬜⬜⬜⬜⬜⬜⬜⬜\n",
       "11    Thom van de Vin    438      8  🌟🌟🌟🌟⬜⬜⬜⬜⬜⬜⬜⬜⬜⬜⬜⬜⬜⬜⬜⬜⬜⬜⬜⬜⬜\n",
       "12        Lex Ruesink    432      8  🌟🌟🌟🌟⬜⬜⬜⬜⬜⬜⬜⬜⬜⬜⬜⬜⬜⬜⬜⬜⬜⬜⬜⬜⬜\n",
       "13            mvanede    431      8  🌟🌟🌟🌟⬜⬜⬜⬜⬜⬜⬜⬜⬜⬜⬜⬜⬜⬜⬜⬜⬜⬜⬜⬜⬜\n",
       "14     Michel Schudel    427      8  🌟🌟🌟🌟⬜⬜⬜⬜⬜⬜⬜⬜⬜⬜⬜⬜⬜⬜⬜⬜⬜⬜⬜⬜⬜\n",
       "15           mmeiboom    420      8  🌟🌟🌟🌟⬜⬜⬜⬜⬜⬜⬜⬜⬜⬜⬜⬜⬜⬜⬜⬜⬜⬜⬜⬜⬜\n",
       "16               Lulu    405      8  🌟🌟🌟🌟⬜⬜⬜⬜⬜⬜⬜⬜⬜⬜⬜⬜⬜⬜⬜⬜⬜⬜⬜⬜⬜\n",
       "17     Marco Plaisier    403      7  🌟🌟🌟⭐⬜⬜⬜⬜⬜⬜⬜⬜⬜⬜⬜⬜⬜⬜⬜⬜⬜⬜⬜⬜⬜\n",
       "18       Navya Govind    399      8  🌟🌟🌟🌟⬜⬜⬜⬜⬜⬜⬜⬜⬜⬜⬜⬜⬜⬜⬜⬜⬜⬜⬜⬜⬜\n",
       "19  Fabrício Yamamoto    388      8  🌟🌟🌟🌟⬜⬜⬜⬜⬜⬜⬜⬜⬜⬜⬜⬜⬜⬜⬜⬜⬜⬜⬜⬜⬜"
      ]
     },
     "metadata": {},
     "output_type": "display_data"
    },
    {
     "data": {
      "text/markdown": [
       "## Twit"
      ],
      "text/plain": [
       "<IPython.core.display.Markdown object>"
      ]
     },
     "metadata": {},
     "output_type": "display_data"
    },
    {
     "data": {
      "text/markdown": [
       "**Updated:** 2024-12-05 03:16:34"
      ],
      "text/plain": [
       "<IPython.core.display.Markdown object>"
      ]
     },
     "metadata": {},
     "output_type": "display_data"
    },
    {
     "data": {
      "text/markdown": [
       "[Private Leaderboard](https://adventofcode.com/2024/leaderboard/private/view/1651008)"
      ],
      "text/plain": [
       "<IPython.core.display.Markdown object>"
      ]
     },
     "metadata": {},
     "output_type": "display_data"
    },
    {
     "data": {
      "text/html": [
       "<div>\n",
       "<style scoped>\n",
       "    .dataframe tbody tr th:only-of-type {\n",
       "        vertical-align: middle;\n",
       "    }\n",
       "\n",
       "    .dataframe tbody tr th {\n",
       "        vertical-align: top;\n",
       "    }\n",
       "\n",
       "    .dataframe thead th {\n",
       "        text-align: right;\n",
       "    }\n",
       "</style>\n",
       "<table border=\"1\" class=\"dataframe\">\n",
       "  <thead>\n",
       "    <tr style=\"text-align: right;\">\n",
       "      <th></th>\n",
       "      <th>Name</th>\n",
       "      <th>Score</th>\n",
       "      <th>Stars</th>\n",
       "      <th>Progress</th>\n",
       "    </tr>\n",
       "  </thead>\n",
       "  <tbody>\n",
       "    <tr>\n",
       "      <th>0</th>\n",
       "      <td>cyphase</td>\n",
       "      <td>455</td>\n",
       "      <td>8</td>\n",
       "      <td>🌟🌟🌟🌟⬜⬜⬜⬜⬜⬜⬜⬜⬜⬜⬜⬜⬜⬜⬜⬜⬜⬜⬜⬜⬜</td>\n",
       "    </tr>\n",
       "    <tr>\n",
       "      <th>1</th>\n",
       "      <td>Place Holder</td>\n",
       "      <td>449</td>\n",
       "      <td>8</td>\n",
       "      <td>🌟🌟🌟🌟⬜⬜⬜⬜⬜⬜⬜⬜⬜⬜⬜⬜⬜⬜⬜⬜⬜⬜⬜⬜⬜</td>\n",
       "    </tr>\n",
       "    <tr>\n",
       "      <th>2</th>\n",
       "      <td>Darren Oakey</td>\n",
       "      <td>445</td>\n",
       "      <td>8</td>\n",
       "      <td>🌟🌟🌟🌟⬜⬜⬜⬜⬜⬜⬜⬜⬜⬜⬜⬜⬜⬜⬜⬜⬜⬜⬜⬜⬜</td>\n",
       "    </tr>\n",
       "    <tr>\n",
       "      <th>3</th>\n",
       "      <td>Eric Veenendaal</td>\n",
       "      <td>427</td>\n",
       "      <td>8</td>\n",
       "      <td>🌟🌟🌟🌟⬜⬜⬜⬜⬜⬜⬜⬜⬜⬜⬜⬜⬜⬜⬜⬜⬜⬜⬜⬜⬜</td>\n",
       "    </tr>\n",
       "    <tr>\n",
       "      <th>4</th>\n",
       "      <td>ty2k</td>\n",
       "      <td>423</td>\n",
       "      <td>8</td>\n",
       "      <td>🌟🌟🌟🌟⬜⬜⬜⬜⬜⬜⬜⬜⬜⬜⬜⬜⬜⬜⬜⬜⬜⬜⬜⬜⬜</td>\n",
       "    </tr>\n",
       "    <tr>\n",
       "      <th>5</th>\n",
       "      <td>Leo Laporte</td>\n",
       "      <td>418</td>\n",
       "      <td>8</td>\n",
       "      <td>🌟🌟🌟🌟⬜⬜⬜⬜⬜⬜⬜⬜⬜⬜⬜⬜⬜⬜⬜⬜⬜⬜⬜⬜⬜</td>\n",
       "    </tr>\n",
       "    <tr>\n",
       "      <th>6</th>\n",
       "      <td>Torbjörn Pettersson</td>\n",
       "      <td>391</td>\n",
       "      <td>8</td>\n",
       "      <td>🌟🌟🌟🌟⬜⬜⬜⬜⬜⬜⬜⬜⬜⬜⬜⬜⬜⬜⬜⬜⬜⬜⬜⬜⬜</td>\n",
       "    </tr>\n",
       "    <tr>\n",
       "      <th>7</th>\n",
       "      <td>Simon Wall</td>\n",
       "      <td>390</td>\n",
       "      <td>8</td>\n",
       "      <td>🌟🌟🌟🌟⬜⬜⬜⬜⬜⬜⬜⬜⬜⬜⬜⬜⬜⬜⬜⬜⬜⬜⬜⬜⬜</td>\n",
       "    </tr>\n",
       "    <tr>\n",
       "      <th>8</th>\n",
       "      <td>Manny Ledoux</td>\n",
       "      <td>386</td>\n",
       "      <td>8</td>\n",
       "      <td>🌟🌟🌟🌟⬜⬜⬜⬜⬜⬜⬜⬜⬜⬜⬜⬜⬜⬜⬜⬜⬜⬜⬜⬜⬜</td>\n",
       "    </tr>\n",
       "    <tr>\n",
       "      <th>9</th>\n",
       "      <td>-Whatever--</td>\n",
       "      <td>381</td>\n",
       "      <td>8</td>\n",
       "      <td>🌟🌟🌟🌟⬜⬜⬜⬜⬜⬜⬜⬜⬜⬜⬜⬜⬜⬜⬜⬜⬜⬜⬜⬜⬜</td>\n",
       "    </tr>\n",
       "    <tr>\n",
       "      <th>10</th>\n",
       "      <td>John Arnold</td>\n",
       "      <td>371</td>\n",
       "      <td>8</td>\n",
       "      <td>🌟🌟🌟🌟⬜⬜⬜⬜⬜⬜⬜⬜⬜⬜⬜⬜⬜⬜⬜⬜⬜⬜⬜⬜⬜</td>\n",
       "    </tr>\n",
       "    <tr>\n",
       "      <th>11</th>\n",
       "      <td>Sarah Sorlien</td>\n",
       "      <td>363</td>\n",
       "      <td>8</td>\n",
       "      <td>🌟🌟🌟🌟⬜⬜⬜⬜⬜⬜⬜⬜⬜⬜⬜⬜⬜⬜⬜⬜⬜⬜⬜⬜⬜</td>\n",
       "    </tr>\n",
       "    <tr>\n",
       "      <th>12</th>\n",
       "      <td>bitsofeight</td>\n",
       "      <td>351</td>\n",
       "      <td>8</td>\n",
       "      <td>🌟🌟🌟🌟⬜⬜⬜⬜⬜⬜⬜⬜⬜⬜⬜⬜⬜⬜⬜⬜⬜⬜⬜⬜⬜</td>\n",
       "    </tr>\n",
       "    <tr>\n",
       "      <th>13</th>\n",
       "      <td>Morgan Davis</td>\n",
       "      <td>326</td>\n",
       "      <td>8</td>\n",
       "      <td>🌟🌟🌟🌟⬜⬜⬜⬜⬜⬜⬜⬜⬜⬜⬜⬜⬜⬜⬜⬜⬜⬜⬜⬜⬜</td>\n",
       "    </tr>\n",
       "    <tr>\n",
       "      <th>14</th>\n",
       "      <td>Gillian Law</td>\n",
       "      <td>322</td>\n",
       "      <td>7</td>\n",
       "      <td>🌟🌟🌟⭐⬜⬜⬜⬜⬜⬜⬜⬜⬜⬜⬜⬜⬜⬜⬜⬜⬜⬜⬜⬜⬜</td>\n",
       "    </tr>\n",
       "    <tr>\n",
       "      <th>15</th>\n",
       "      <td>RL Brown</td>\n",
       "      <td>316</td>\n",
       "      <td>8</td>\n",
       "      <td>🌟🌟🌟🌟⬜⬜⬜⬜⬜⬜⬜⬜⬜⬜⬜⬜⬜⬜⬜⬜⬜⬜⬜⬜⬜</td>\n",
       "    </tr>\n",
       "    <tr>\n",
       "      <th>16</th>\n",
       "      <td>Markus Peltola</td>\n",
       "      <td>304</td>\n",
       "      <td>7</td>\n",
       "      <td>🌟⭐🌟🌟⬜⬜⬜⬜⬜⬜⬜⬜⬜⬜⬜⬜⬜⬜⬜⬜⬜⬜⬜⬜⬜</td>\n",
       "    </tr>\n",
       "    <tr>\n",
       "      <th>17</th>\n",
       "      <td>Doug Mason</td>\n",
       "      <td>300</td>\n",
       "      <td>8</td>\n",
       "      <td>🌟🌟🌟🌟⬜⬜⬜⬜⬜⬜⬜⬜⬜⬜⬜⬜⬜⬜⬜⬜⬜⬜⬜⬜⬜</td>\n",
       "    </tr>\n",
       "    <tr>\n",
       "      <th>18</th>\n",
       "      <td>Alex</td>\n",
       "      <td>298</td>\n",
       "      <td>8</td>\n",
       "      <td>🌟🌟🌟🌟⬜⬜⬜⬜⬜⬜⬜⬜⬜⬜⬜⬜⬜⬜⬜⬜⬜⬜⬜⬜⬜</td>\n",
       "    </tr>\n",
       "    <tr>\n",
       "      <th>19</th>\n",
       "      <td>Macon Pegram</td>\n",
       "      <td>286</td>\n",
       "      <td>7</td>\n",
       "      <td>🌟⭐🌟🌟⬜⬜⬜⬜⬜⬜⬜⬜⬜⬜⬜⬜⬜⬜⬜⬜⬜⬜⬜⬜⬜</td>\n",
       "    </tr>\n",
       "  </tbody>\n",
       "</table>\n",
       "</div>"
      ],
      "text/plain": [
       "                   Name  Score  Stars                   Progress\n",
       "0               cyphase    455      8  🌟🌟🌟🌟⬜⬜⬜⬜⬜⬜⬜⬜⬜⬜⬜⬜⬜⬜⬜⬜⬜⬜⬜⬜⬜\n",
       "1          Place Holder    449      8  🌟🌟🌟🌟⬜⬜⬜⬜⬜⬜⬜⬜⬜⬜⬜⬜⬜⬜⬜⬜⬜⬜⬜⬜⬜\n",
       "2          Darren Oakey    445      8  🌟🌟🌟🌟⬜⬜⬜⬜⬜⬜⬜⬜⬜⬜⬜⬜⬜⬜⬜⬜⬜⬜⬜⬜⬜\n",
       "3       Eric Veenendaal    427      8  🌟🌟🌟🌟⬜⬜⬜⬜⬜⬜⬜⬜⬜⬜⬜⬜⬜⬜⬜⬜⬜⬜⬜⬜⬜\n",
       "4                  ty2k    423      8  🌟🌟🌟🌟⬜⬜⬜⬜⬜⬜⬜⬜⬜⬜⬜⬜⬜⬜⬜⬜⬜⬜⬜⬜⬜\n",
       "5           Leo Laporte    418      8  🌟🌟🌟🌟⬜⬜⬜⬜⬜⬜⬜⬜⬜⬜⬜⬜⬜⬜⬜⬜⬜⬜⬜⬜⬜\n",
       "6   Torbjörn Pettersson    391      8  🌟🌟🌟🌟⬜⬜⬜⬜⬜⬜⬜⬜⬜⬜⬜⬜⬜⬜⬜⬜⬜⬜⬜⬜⬜\n",
       "7            Simon Wall    390      8  🌟🌟🌟🌟⬜⬜⬜⬜⬜⬜⬜⬜⬜⬜⬜⬜⬜⬜⬜⬜⬜⬜⬜⬜⬜\n",
       "8          Manny Ledoux    386      8  🌟🌟🌟🌟⬜⬜⬜⬜⬜⬜⬜⬜⬜⬜⬜⬜⬜⬜⬜⬜⬜⬜⬜⬜⬜\n",
       "9           -Whatever--    381      8  🌟🌟🌟🌟⬜⬜⬜⬜⬜⬜⬜⬜⬜⬜⬜⬜⬜⬜⬜⬜⬜⬜⬜⬜⬜\n",
       "10          John Arnold    371      8  🌟🌟🌟🌟⬜⬜⬜⬜⬜⬜⬜⬜⬜⬜⬜⬜⬜⬜⬜⬜⬜⬜⬜⬜⬜\n",
       "11        Sarah Sorlien    363      8  🌟🌟🌟🌟⬜⬜⬜⬜⬜⬜⬜⬜⬜⬜⬜⬜⬜⬜⬜⬜⬜⬜⬜⬜⬜\n",
       "12          bitsofeight    351      8  🌟🌟🌟🌟⬜⬜⬜⬜⬜⬜⬜⬜⬜⬜⬜⬜⬜⬜⬜⬜⬜⬜⬜⬜⬜\n",
       "13         Morgan Davis    326      8  🌟🌟🌟🌟⬜⬜⬜⬜⬜⬜⬜⬜⬜⬜⬜⬜⬜⬜⬜⬜⬜⬜⬜⬜⬜\n",
       "14          Gillian Law    322      7  🌟🌟🌟⭐⬜⬜⬜⬜⬜⬜⬜⬜⬜⬜⬜⬜⬜⬜⬜⬜⬜⬜⬜⬜⬜\n",
       "15             RL Brown    316      8  🌟🌟🌟🌟⬜⬜⬜⬜⬜⬜⬜⬜⬜⬜⬜⬜⬜⬜⬜⬜⬜⬜⬜⬜⬜\n",
       "16       Markus Peltola    304      7  🌟⭐🌟🌟⬜⬜⬜⬜⬜⬜⬜⬜⬜⬜⬜⬜⬜⬜⬜⬜⬜⬜⬜⬜⬜\n",
       "17           Doug Mason    300      8  🌟🌟🌟🌟⬜⬜⬜⬜⬜⬜⬜⬜⬜⬜⬜⬜⬜⬜⬜⬜⬜⬜⬜⬜⬜\n",
       "18                 Alex    298      8  🌟🌟🌟🌟⬜⬜⬜⬜⬜⬜⬜⬜⬜⬜⬜⬜⬜⬜⬜⬜⬜⬜⬜⬜⬜\n",
       "19         Macon Pegram    286      7  🌟⭐🌟🌟⬜⬜⬜⬜⬜⬜⬜⬜⬜⬜⬜⬜⬜⬜⬜⬜⬜⬜⬜⬜⬜"
      ]
     },
     "metadata": {},
     "output_type": "display_data"
    }
   ],
   "source": [
    "from IPython.core.display import Markdown\n",
    "\n",
    "from common.overview import print_leaderboard\n",
    "\n",
    "display(Markdown(\"# Leaderboards\"))\n",
    "print_leaderboard(\"Bol\", 257356, 20)\n",
    "print_leaderboard(\"Twit\", 1651008, 20)"
   ]
  },
  {
   "cell_type": "code",
   "execution_count": null,
   "id": "aa546508bbc9f31",
   "metadata": {
    "ExecuteTime": {
     "end_time": "2024-12-04T07:29:43.478776Z",
     "start_time": "2024-12-04T07:29:43.476828Z"
    }
   },
   "outputs": [],
   "source": []
  }
 ],
 "metadata": {
  "kernelspec": {
   "display_name": "Python 3",
   "language": "python",
   "name": "python3"
  },
  "language_info": {
   "codemirror_mode": {
    "name": "ipython",
    "version": 3
   },
   "file_extension": ".py",
   "mimetype": "text/x-python",
   "name": "python",
   "nbconvert_exporter": "python",
   "pygments_lexer": "ipython3",
   "version": "3.13.1"
  }
 },
 "nbformat": 4,
 "nbformat_minor": 5
}
