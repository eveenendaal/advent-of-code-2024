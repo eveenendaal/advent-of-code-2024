{
 "cells": [
  {
   "cell_type": "code",
   "execution_count": 1,
   "id": "1cd5b109322c9063",
   "metadata": {
    "ExecuteTime": {
     "end_time": "2024-12-02T18:14:52.697188Z",
     "start_time": "2024-12-02T18:14:51.945183Z"
    },
    "execution": {
     "iopub.execute_input": "2024-12-03T08:34:02.044945Z",
     "iopub.status.busy": "2024-12-03T08:34:02.044454Z",
     "iopub.status.idle": "2024-12-03T08:34:02.822200Z",
     "shell.execute_reply": "2024-12-03T08:34:02.821608Z"
    }
   },
   "outputs": [
    {
     "data": {
      "text/markdown": [
       "# Overview"
      ],
      "text/plain": [
       "<IPython.core.display.Markdown object>"
      ]
     },
     "metadata": {},
     "output_type": "display_data"
    },
    {
     "data": {
      "text/markdown": [
       "**Updated:** 2024-12-03 08:34:02"
      ],
      "text/plain": [
       "<IPython.core.display.Markdown object>"
      ]
     },
     "metadata": {},
     "output_type": "display_data"
    },
    {
     "data": {
      "text/markdown": [
       "[Personal Stats](https://adventofcode.com/2024/leaderboard/self)"
      ],
      "text/plain": [
       "<IPython.core.display.Markdown object>"
      ]
     },
     "metadata": {},
     "output_type": "display_data"
    },
    {
     "data": {
      "text/html": [
       "<div>\n",
       "<style scoped>\n",
       "    .dataframe tbody tr th:only-of-type {\n",
       "        vertical-align: middle;\n",
       "    }\n",
       "\n",
       "    .dataframe tbody tr th {\n",
       "        vertical-align: top;\n",
       "    }\n",
       "\n",
       "    .dataframe thead th {\n",
       "        text-align: right;\n",
       "    }\n",
       "</style>\n",
       "<table border=\"1\" class=\"dataframe\">\n",
       "  <thead>\n",
       "    <tr style=\"text-align: right;\">\n",
       "      <th></th>\n",
       "      <th>Time A</th>\n",
       "      <th>Rank A</th>\n",
       "      <th>Time B</th>\n",
       "      <th>Rank B</th>\n",
       "    </tr>\n",
       "    <tr>\n",
       "      <th>Day</th>\n",
       "      <th></th>\n",
       "      <th></th>\n",
       "      <th></th>\n",
       "      <th></th>\n",
       "    </tr>\n",
       "  </thead>\n",
       "  <tbody>\n",
       "    <tr>\n",
       "      <th>2024/01</th>\n",
       "      <td>0 days 01:13:28</td>\n",
       "      <td>11034</td>\n",
       "      <td>0 days 01:21:03</td>\n",
       "      <td>10524</td>\n",
       "    </tr>\n",
       "    <tr>\n",
       "      <th>2024/02</th>\n",
       "      <td>0 days 00:17:44</td>\n",
       "      <td>6086</td>\n",
       "      <td>0 days 00:43:49</td>\n",
       "      <td>6609</td>\n",
       "    </tr>\n",
       "    <tr>\n",
       "      <th>2024/03</th>\n",
       "      <td>0 days 00:10:14</td>\n",
       "      <td>4303</td>\n",
       "      <td>0 days 02:18:43</td>\n",
       "      <td>18637</td>\n",
       "    </tr>\n",
       "  </tbody>\n",
       "</table>\n",
       "</div>"
      ],
      "text/plain": [
       "                 Time A Rank A          Time B Rank B\n",
       "Day                                                  \n",
       "2024/01 0 days 01:13:28  11034 0 days 01:21:03  10524\n",
       "2024/02 0 days 00:17:44   6086 0 days 00:43:49   6609\n",
       "2024/03 0 days 00:10:14   4303 0 days 02:18:43  18637"
      ]
     },
     "metadata": {},
     "output_type": "display_data"
    }
   ],
   "source": [
    "from IPython.core.display import Markdown\n",
    "\n",
    "from common.overview import get_personal_overview\n",
    "\n",
    "display(Markdown(\"# Overview\"))\n",
    "get_personal_overview()\n"
   ]
  },
  {
   "cell_type": "code",
   "execution_count": 2,
   "id": "bb6a3f4f249d83b8",
   "metadata": {
    "ExecuteTime": {
     "end_time": "2024-12-02T18:14:53.451Z",
     "start_time": "2024-12-02T18:14:52.707832Z"
    },
    "execution": {
     "iopub.execute_input": "2024-12-03T08:34:02.824685Z",
     "iopub.status.busy": "2024-12-03T08:34:02.824087Z",
     "iopub.status.idle": "2024-12-03T08:34:03.409107Z",
     "shell.execute_reply": "2024-12-03T08:34:03.408501Z"
    }
   },
   "outputs": [
    {
     "data": {
      "text/markdown": [
       "# Leaderboards"
      ],
      "text/plain": [
       "<IPython.core.display.Markdown object>"
      ]
     },
     "metadata": {},
     "output_type": "display_data"
    },
    {
     "data": {
      "text/markdown": [
       "## Bol"
      ],
      "text/plain": [
       "<IPython.core.display.Markdown object>"
      ]
     },
     "metadata": {},
     "output_type": "display_data"
    },
    {
     "data": {
      "text/markdown": [
       "**Updated:** 2024-12-03 08:34:03"
      ],
      "text/plain": [
       "<IPython.core.display.Markdown object>"
      ]
     },
     "metadata": {},
     "output_type": "display_data"
    },
    {
     "data": {
      "text/markdown": [
       "[Private Leaderboard](https://adventofcode.com/2024/leaderboard/private/view/257356)"
      ],
      "text/plain": [
       "<IPython.core.display.Markdown object>"
      ]
     },
     "metadata": {},
     "output_type": "display_data"
    },
    {
     "data": {
      "text/html": [
       "<div>\n",
       "<style scoped>\n",
       "    .dataframe tbody tr th:only-of-type {\n",
       "        vertical-align: middle;\n",
       "    }\n",
       "\n",
       "    .dataframe tbody tr th {\n",
       "        vertical-align: top;\n",
       "    }\n",
       "\n",
       "    .dataframe thead th {\n",
       "        text-align: right;\n",
       "    }\n",
       "</style>\n",
       "<table border=\"1\" class=\"dataframe\">\n",
       "  <thead>\n",
       "    <tr style=\"text-align: right;\">\n",
       "      <th></th>\n",
       "      <th>Name</th>\n",
       "      <th>Score</th>\n",
       "      <th>Stars</th>\n",
       "      <th>Progress</th>\n",
       "    </tr>\n",
       "  </thead>\n",
       "  <tbody>\n",
       "    <tr>\n",
       "      <th>0</th>\n",
       "      <td>Eric Veenendaal</td>\n",
       "      <td>392</td>\n",
       "      <td>6</td>\n",
       "      <td>🌟🌟🌟⬜⬜⬜⬜⬜⬜⬜⬜⬜⬜⬜⬜⬜⬜⬜⬜⬜⬜⬜⬜⬜⬜</td>\n",
       "    </tr>\n",
       "    <tr>\n",
       "      <th>1</th>\n",
       "      <td>Felipe Flores</td>\n",
       "      <td>372</td>\n",
       "      <td>6</td>\n",
       "      <td>🌟🌟🌟⬜⬜⬜⬜⬜⬜⬜⬜⬜⬜⬜⬜⬜⬜⬜⬜⬜⬜⬜⬜⬜⬜</td>\n",
       "    </tr>\n",
       "    <tr>\n",
       "      <th>2</th>\n",
       "      <td>EgbertW</td>\n",
       "      <td>368</td>\n",
       "      <td>6</td>\n",
       "      <td>🌟🌟🌟⬜⬜⬜⬜⬜⬜⬜⬜⬜⬜⬜⬜⬜⬜⬜⬜⬜⬜⬜⬜⬜⬜</td>\n",
       "    </tr>\n",
       "    <tr>\n",
       "      <th>3</th>\n",
       "      <td>HSteffensen</td>\n",
       "      <td>368</td>\n",
       "      <td>6</td>\n",
       "      <td>🌟🌟🌟⬜⬜⬜⬜⬜⬜⬜⬜⬜⬜⬜⬜⬜⬜⬜⬜⬜⬜⬜⬜⬜⬜</td>\n",
       "    </tr>\n",
       "    <tr>\n",
       "      <th>4</th>\n",
       "      <td>Bart Enkelaar</td>\n",
       "      <td>360</td>\n",
       "      <td>6</td>\n",
       "      <td>🌟🌟🌟⬜⬜⬜⬜⬜⬜⬜⬜⬜⬜⬜⬜⬜⬜⬜⬜⬜⬜⬜⬜⬜⬜</td>\n",
       "    </tr>\n",
       "    <tr>\n",
       "      <th>5</th>\n",
       "      <td>Michel Schudel</td>\n",
       "      <td>321</td>\n",
       "      <td>6</td>\n",
       "      <td>🌟🌟🌟⬜⬜⬜⬜⬜⬜⬜⬜⬜⬜⬜⬜⬜⬜⬜⬜⬜⬜⬜⬜⬜⬜</td>\n",
       "    </tr>\n",
       "    <tr>\n",
       "      <th>6</th>\n",
       "      <td>mvanede</td>\n",
       "      <td>311</td>\n",
       "      <td>6</td>\n",
       "      <td>🌟🌟🌟⬜⬜⬜⬜⬜⬜⬜⬜⬜⬜⬜⬜⬜⬜⬜⬜⬜⬜⬜⬜⬜⬜</td>\n",
       "    </tr>\n",
       "    <tr>\n",
       "      <th>7</th>\n",
       "      <td>Jorisvanrheden</td>\n",
       "      <td>300</td>\n",
       "      <td>5</td>\n",
       "      <td>🌟🌟⭐⬜⬜⬜⬜⬜⬜⬜⬜⬜⬜⬜⬜⬜⬜⬜⬜⬜⬜⬜⬜⬜⬜</td>\n",
       "    </tr>\n",
       "    <tr>\n",
       "      <th>8</th>\n",
       "      <td>Carst Tankink</td>\n",
       "      <td>293</td>\n",
       "      <td>5</td>\n",
       "      <td>🌟🌟⭐⬜⬜⬜⬜⬜⬜⬜⬜⬜⬜⬜⬜⬜⬜⬜⬜⬜⬜⬜⬜⬜⬜</td>\n",
       "    </tr>\n",
       "    <tr>\n",
       "      <th>9</th>\n",
       "      <td>Lulu</td>\n",
       "      <td>282</td>\n",
       "      <td>6</td>\n",
       "      <td>🌟🌟🌟⬜⬜⬜⬜⬜⬜⬜⬜⬜⬜⬜⬜⬜⬜⬜⬜⬜⬜⬜⬜⬜⬜</td>\n",
       "    </tr>\n",
       "  </tbody>\n",
       "</table>\n",
       "</div>"
      ],
      "text/plain": [
       "              Name  Score  Stars                   Progress\n",
       "0  Eric Veenendaal    392      6  🌟🌟🌟⬜⬜⬜⬜⬜⬜⬜⬜⬜⬜⬜⬜⬜⬜⬜⬜⬜⬜⬜⬜⬜⬜\n",
       "1    Felipe Flores    372      6  🌟🌟🌟⬜⬜⬜⬜⬜⬜⬜⬜⬜⬜⬜⬜⬜⬜⬜⬜⬜⬜⬜⬜⬜⬜\n",
       "2          EgbertW    368      6  🌟🌟🌟⬜⬜⬜⬜⬜⬜⬜⬜⬜⬜⬜⬜⬜⬜⬜⬜⬜⬜⬜⬜⬜⬜\n",
       "3      HSteffensen    368      6  🌟🌟🌟⬜⬜⬜⬜⬜⬜⬜⬜⬜⬜⬜⬜⬜⬜⬜⬜⬜⬜⬜⬜⬜⬜\n",
       "4    Bart Enkelaar    360      6  🌟🌟🌟⬜⬜⬜⬜⬜⬜⬜⬜⬜⬜⬜⬜⬜⬜⬜⬜⬜⬜⬜⬜⬜⬜\n",
       "5   Michel Schudel    321      6  🌟🌟🌟⬜⬜⬜⬜⬜⬜⬜⬜⬜⬜⬜⬜⬜⬜⬜⬜⬜⬜⬜⬜⬜⬜\n",
       "6          mvanede    311      6  🌟🌟🌟⬜⬜⬜⬜⬜⬜⬜⬜⬜⬜⬜⬜⬜⬜⬜⬜⬜⬜⬜⬜⬜⬜\n",
       "7   Jorisvanrheden    300      5  🌟🌟⭐⬜⬜⬜⬜⬜⬜⬜⬜⬜⬜⬜⬜⬜⬜⬜⬜⬜⬜⬜⬜⬜⬜\n",
       "8    Carst Tankink    293      5  🌟🌟⭐⬜⬜⬜⬜⬜⬜⬜⬜⬜⬜⬜⬜⬜⬜⬜⬜⬜⬜⬜⬜⬜⬜\n",
       "9             Lulu    282      6  🌟🌟🌟⬜⬜⬜⬜⬜⬜⬜⬜⬜⬜⬜⬜⬜⬜⬜⬜⬜⬜⬜⬜⬜⬜"
      ]
     },
     "metadata": {},
     "output_type": "display_data"
    },
    {
     "data": {
      "text/markdown": [
       "## Twit"
      ],
      "text/plain": [
       "<IPython.core.display.Markdown object>"
      ]
     },
     "metadata": {},
     "output_type": "display_data"
    },
    {
     "data": {
      "text/markdown": [
       "**Updated:** 2024-12-03 08:34:03"
      ],
      "text/plain": [
       "<IPython.core.display.Markdown object>"
      ]
     },
     "metadata": {},
     "output_type": "display_data"
    },
    {
     "data": {
      "text/markdown": [
       "[Private Leaderboard](https://adventofcode.com/2024/leaderboard/private/view/1651008)"
      ],
      "text/plain": [
       "<IPython.core.display.Markdown object>"
      ]
     },
     "metadata": {},
     "output_type": "display_data"
    },
    {
     "data": {
      "text/html": [
       "<div>\n",
       "<style scoped>\n",
       "    .dataframe tbody tr th:only-of-type {\n",
       "        vertical-align: middle;\n",
       "    }\n",
       "\n",
       "    .dataframe tbody tr th {\n",
       "        vertical-align: top;\n",
       "    }\n",
       "\n",
       "    .dataframe thead th {\n",
       "        text-align: right;\n",
       "    }\n",
       "</style>\n",
       "<table border=\"1\" class=\"dataframe\">\n",
       "  <thead>\n",
       "    <tr style=\"text-align: right;\">\n",
       "      <th></th>\n",
       "      <th>Name</th>\n",
       "      <th>Score</th>\n",
       "      <th>Stars</th>\n",
       "      <th>Progress</th>\n",
       "    </tr>\n",
       "  </thead>\n",
       "  <tbody>\n",
       "    <tr>\n",
       "      <th>0</th>\n",
       "      <td>cyphase</td>\n",
       "      <td>334</td>\n",
       "      <td>6</td>\n",
       "      <td>🌟🌟🌟⬜⬜⬜⬜⬜⬜⬜⬜⬜⬜⬜⬜⬜⬜⬜⬜⬜⬜⬜⬜⬜⬜</td>\n",
       "    </tr>\n",
       "    <tr>\n",
       "      <th>1</th>\n",
       "      <td>Place Holder</td>\n",
       "      <td>324</td>\n",
       "      <td>6</td>\n",
       "      <td>🌟🌟🌟⬜⬜⬜⬜⬜⬜⬜⬜⬜⬜⬜⬜⬜⬜⬜⬜⬜⬜⬜⬜⬜⬜</td>\n",
       "    </tr>\n",
       "    <tr>\n",
       "      <th>2</th>\n",
       "      <td>Darren Oakey</td>\n",
       "      <td>317</td>\n",
       "      <td>6</td>\n",
       "      <td>🌟🌟🌟⬜⬜⬜⬜⬜⬜⬜⬜⬜⬜⬜⬜⬜⬜⬜⬜⬜⬜⬜⬜⬜⬜</td>\n",
       "    </tr>\n",
       "    <tr>\n",
       "      <th>3</th>\n",
       "      <td>Eric Veenendaal</td>\n",
       "      <td>306</td>\n",
       "      <td>6</td>\n",
       "      <td>🌟🌟🌟⬜⬜⬜⬜⬜⬜⬜⬜⬜⬜⬜⬜⬜⬜⬜⬜⬜⬜⬜⬜⬜⬜</td>\n",
       "    </tr>\n",
       "    <tr>\n",
       "      <th>4</th>\n",
       "      <td>ty2k</td>\n",
       "      <td>304</td>\n",
       "      <td>6</td>\n",
       "      <td>🌟🌟🌟⬜⬜⬜⬜⬜⬜⬜⬜⬜⬜⬜⬜⬜⬜⬜⬜⬜⬜⬜⬜⬜⬜</td>\n",
       "    </tr>\n",
       "    <tr>\n",
       "      <th>5</th>\n",
       "      <td>Leo Laporte</td>\n",
       "      <td>304</td>\n",
       "      <td>6</td>\n",
       "      <td>🌟🌟🌟⬜⬜⬜⬜⬜⬜⬜⬜⬜⬜⬜⬜⬜⬜⬜⬜⬜⬜⬜⬜⬜⬜</td>\n",
       "    </tr>\n",
       "    <tr>\n",
       "      <th>6</th>\n",
       "      <td>Simon Wall</td>\n",
       "      <td>278</td>\n",
       "      <td>6</td>\n",
       "      <td>🌟🌟🌟⬜⬜⬜⬜⬜⬜⬜⬜⬜⬜⬜⬜⬜⬜⬜⬜⬜⬜⬜⬜⬜⬜</td>\n",
       "    </tr>\n",
       "    <tr>\n",
       "      <th>7</th>\n",
       "      <td>Gillian Law</td>\n",
       "      <td>261</td>\n",
       "      <td>6</td>\n",
       "      <td>🌟🌟🌟⬜⬜⬜⬜⬜⬜⬜⬜⬜⬜⬜⬜⬜⬜⬜⬜⬜⬜⬜⬜⬜⬜</td>\n",
       "    </tr>\n",
       "    <tr>\n",
       "      <th>8</th>\n",
       "      <td>Torbjörn Pettersson</td>\n",
       "      <td>238</td>\n",
       "      <td>5</td>\n",
       "      <td>🌟🌟⭐⬜⬜⬜⬜⬜⬜⬜⬜⬜⬜⬜⬜⬜⬜⬜⬜⬜⬜⬜⬜⬜⬜</td>\n",
       "    </tr>\n",
       "    <tr>\n",
       "      <th>9</th>\n",
       "      <td>-Whatever--</td>\n",
       "      <td>203</td>\n",
       "      <td>4</td>\n",
       "      <td>🌟🌟⬜⬜⬜⬜⬜⬜⬜⬜⬜⬜⬜⬜⬜⬜⬜⬜⬜⬜⬜⬜⬜⬜⬜</td>\n",
       "    </tr>\n",
       "  </tbody>\n",
       "</table>\n",
       "</div>"
      ],
      "text/plain": [
       "                  Name  Score  Stars                   Progress\n",
       "0              cyphase    334      6  🌟🌟🌟⬜⬜⬜⬜⬜⬜⬜⬜⬜⬜⬜⬜⬜⬜⬜⬜⬜⬜⬜⬜⬜⬜\n",
       "1         Place Holder    324      6  🌟🌟🌟⬜⬜⬜⬜⬜⬜⬜⬜⬜⬜⬜⬜⬜⬜⬜⬜⬜⬜⬜⬜⬜⬜\n",
       "2         Darren Oakey    317      6  🌟🌟🌟⬜⬜⬜⬜⬜⬜⬜⬜⬜⬜⬜⬜⬜⬜⬜⬜⬜⬜⬜⬜⬜⬜\n",
       "3      Eric Veenendaal    306      6  🌟🌟🌟⬜⬜⬜⬜⬜⬜⬜⬜⬜⬜⬜⬜⬜⬜⬜⬜⬜⬜⬜⬜⬜⬜\n",
       "4                 ty2k    304      6  🌟🌟🌟⬜⬜⬜⬜⬜⬜⬜⬜⬜⬜⬜⬜⬜⬜⬜⬜⬜⬜⬜⬜⬜⬜\n",
       "5          Leo Laporte    304      6  🌟🌟🌟⬜⬜⬜⬜⬜⬜⬜⬜⬜⬜⬜⬜⬜⬜⬜⬜⬜⬜⬜⬜⬜⬜\n",
       "6           Simon Wall    278      6  🌟🌟🌟⬜⬜⬜⬜⬜⬜⬜⬜⬜⬜⬜⬜⬜⬜⬜⬜⬜⬜⬜⬜⬜⬜\n",
       "7          Gillian Law    261      6  🌟🌟🌟⬜⬜⬜⬜⬜⬜⬜⬜⬜⬜⬜⬜⬜⬜⬜⬜⬜⬜⬜⬜⬜⬜\n",
       "8  Torbjörn Pettersson    238      5  🌟🌟⭐⬜⬜⬜⬜⬜⬜⬜⬜⬜⬜⬜⬜⬜⬜⬜⬜⬜⬜⬜⬜⬜⬜\n",
       "9          -Whatever--    203      4  🌟🌟⬜⬜⬜⬜⬜⬜⬜⬜⬜⬜⬜⬜⬜⬜⬜⬜⬜⬜⬜⬜⬜⬜⬜"
      ]
     },
     "metadata": {},
     "output_type": "display_data"
    }
   ],
   "source": [
    "from IPython.core.display import Markdown\n",
    "\n",
    "from common.overview import print_leaderboard\n",
    "\n",
    "display(Markdown(\"# Leaderboards\"))\n",
    "print_leaderboard(\"Bol\", 257356)\n",
    "print_leaderboard(\"Twit\", 1651008)"
   ]
  },
  {
   "cell_type": "code",
   "execution_count": null,
   "id": "aa546508bbc9f31",
   "metadata": {
    "ExecuteTime": {
     "end_time": "2024-12-02T18:14:53.577969Z",
     "start_time": "2024-12-02T18:14:53.576222Z"
    }
   },
   "outputs": [],
   "source": []
  }
 ],
 "metadata": {
  "kernelspec": {
   "display_name": "Python 3",
   "language": "python",
   "name": "python3"
  },
  "language_info": {
   "codemirror_mode": {
    "name": "ipython",
    "version": 3
   },
   "file_extension": ".py",
   "mimetype": "text/x-python",
   "name": "python",
   "nbconvert_exporter": "python",
   "pygments_lexer": "ipython3",
   "version": "3.13.0"
  }
 },
 "nbformat": 4,
 "nbformat_minor": 5
}
