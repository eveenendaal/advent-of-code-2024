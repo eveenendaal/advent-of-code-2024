{
 "cells": [
  {
   "cell_type": "code",
   "id": "initial_id",
   "metadata": {
    "collapsed": true,
    "ExecuteTime": {
     "end_time": "2024-12-01T11:33:18.969550Z",
     "start_time": "2024-12-01T11:33:18.855346Z"
    }
   },
   "source": [
    "from aocd.models import default_user\n",
    "from dotenv import load_dotenv\n",
    "\n",
    "load_dotenv()\n",
    "user = default_user()\n",
    "\n",
    "stats = user.get_stats(2024)\n",
    "\n",
    "display(stats)"
   ],
   "outputs": [
    {
     "data": {
      "text/plain": [
       "{'2024/01': {'a': {'time': datetime.timedelta(seconds=4408),\n",
       "   'rank': 11034,\n",
       "   'score': 0},\n",
       "  'b': {'time': datetime.timedelta(seconds=4863), 'rank': 10524, 'score': 0}}}"
      ]
     },
     "metadata": {},
     "output_type": "display_data"
    }
   ],
   "execution_count": 5
  },
  {
   "metadata": {},
   "cell_type": "code",
   "outputs": [],
   "execution_count": null,
   "source": "",
   "id": "de03fb92b38e5a7b"
  }
 ],
 "metadata": {
  "kernelspec": {
   "display_name": "Python 3",
   "language": "python",
   "name": "python3"
  },
  "language_info": {
   "codemirror_mode": {
    "name": "ipython",
    "version": 2
   },
   "file_extension": ".py",
   "mimetype": "text/x-python",
   "name": "python",
   "nbconvert_exporter": "python",
   "pygments_lexer": "ipython2",
   "version": "2.7.6"
  }
 },
 "nbformat": 4,
 "nbformat_minor": 5
}
