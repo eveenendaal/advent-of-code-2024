{
 "cells": [
  {
   "cell_type": "code",
   "id": "1cd5b109322c9063",
   "metadata": {
    "execution": {
     "iopub.execute_input": "2024-12-04T03:16:10.163500Z",
     "iopub.status.busy": "2024-12-04T03:16:10.163309Z",
     "iopub.status.idle": "2024-12-04T03:16:10.729653Z",
     "shell.execute_reply": "2024-12-04T03:16:10.729176Z"
    },
    "ExecuteTime": {
     "end_time": "2024-12-04T07:23:23.444677Z",
     "start_time": "2024-12-04T07:23:20.952149Z"
    }
   },
   "source": [
    "from IPython.core.display import Markdown\n",
    "\n",
    "from common.overview import get_personal_overview\n",
    "\n",
    "display(Markdown(\"# Overview\"))\n",
    "get_personal_overview()\n"
   ],
   "outputs": [
    {
     "data": {
      "text/plain": [
       "<IPython.core.display.Markdown object>"
      ],
      "text/markdown": "# Overview"
     },
     "metadata": {},
     "output_type": "display_data"
    },
    {
     "data": {
      "text/plain": [
       "<IPython.core.display.Markdown object>"
      ],
      "text/markdown": "**Updated:** 2024-12-04 08:23:23"
     },
     "metadata": {},
     "output_type": "display_data"
    },
    {
     "data": {
      "text/plain": [
       "<IPython.core.display.Markdown object>"
      ],
      "text/markdown": "[Personal Stats](https://adventofcode.com/2024/leaderboard/self)"
     },
     "metadata": {},
     "output_type": "display_data"
    },
    {
     "data": {
      "text/plain": [
       "                 Time A Rank A          Time B Rank B\n",
       "Day                                                  \n",
       "2024/01 0 days 01:13:28  11034 0 days 01:21:03  10524\n",
       "2024/02 0 days 00:17:44   6086 0 days 00:43:49   6609\n",
       "2024/03 0 days 00:10:14   4303 0 days 02:18:43  18637\n",
       "2024/04 0 days 00:10:21   1685 0 days 02:21:45  14636"
      ],
      "text/html": [
       "<div>\n",
       "<style scoped>\n",
       "    .dataframe tbody tr th:only-of-type {\n",
       "        vertical-align: middle;\n",
       "    }\n",
       "\n",
       "    .dataframe tbody tr th {\n",
       "        vertical-align: top;\n",
       "    }\n",
       "\n",
       "    .dataframe thead th {\n",
       "        text-align: right;\n",
       "    }\n",
       "</style>\n",
       "<table border=\"1\" class=\"dataframe\">\n",
       "  <thead>\n",
       "    <tr style=\"text-align: right;\">\n",
       "      <th></th>\n",
       "      <th>Time A</th>\n",
       "      <th>Rank A</th>\n",
       "      <th>Time B</th>\n",
       "      <th>Rank B</th>\n",
       "    </tr>\n",
       "    <tr>\n",
       "      <th>Day</th>\n",
       "      <th></th>\n",
       "      <th></th>\n",
       "      <th></th>\n",
       "      <th></th>\n",
       "    </tr>\n",
       "  </thead>\n",
       "  <tbody>\n",
       "    <tr>\n",
       "      <th>2024/01</th>\n",
       "      <td>0 days 01:13:28</td>\n",
       "      <td>11034</td>\n",
       "      <td>0 days 01:21:03</td>\n",
       "      <td>10524</td>\n",
       "    </tr>\n",
       "    <tr>\n",
       "      <th>2024/02</th>\n",
       "      <td>0 days 00:17:44</td>\n",
       "      <td>6086</td>\n",
       "      <td>0 days 00:43:49</td>\n",
       "      <td>6609</td>\n",
       "    </tr>\n",
       "    <tr>\n",
       "      <th>2024/03</th>\n",
       "      <td>0 days 00:10:14</td>\n",
       "      <td>4303</td>\n",
       "      <td>0 days 02:18:43</td>\n",
       "      <td>18637</td>\n",
       "    </tr>\n",
       "    <tr>\n",
       "      <th>2024/04</th>\n",
       "      <td>0 days 00:10:21</td>\n",
       "      <td>1685</td>\n",
       "      <td>0 days 02:21:45</td>\n",
       "      <td>14636</td>\n",
       "    </tr>\n",
       "  </tbody>\n",
       "</table>\n",
       "</div>"
      ]
     },
     "metadata": {},
     "output_type": "display_data"
    }
   ],
   "execution_count": 1
  },
  {
   "cell_type": "code",
   "id": "bb6a3f4f249d83b8",
   "metadata": {
    "execution": {
     "iopub.execute_input": "2024-12-04T03:16:10.731507Z",
     "iopub.status.busy": "2024-12-04T03:16:10.731132Z",
     "iopub.status.idle": "2024-12-04T03:16:10.939681Z",
     "shell.execute_reply": "2024-12-04T03:16:10.939221Z"
    },
    "ExecuteTime": {
     "end_time": "2024-12-04T07:23:24.237482Z",
     "start_time": "2024-12-04T07:23:23.465196Z"
    }
   },
   "source": [
    "from IPython.core.display import Markdown\n",
    "\n",
    "from common.overview import print_leaderboard\n",
    "\n",
    "display(Markdown(\"# Leaderboards\"))\n",
    "print_leaderboard(\"Bol\", 257356)\n",
    "print_leaderboard(\"Twit\", 1651008)"
   ],
   "outputs": [
    {
     "data": {
      "text/plain": [
       "<IPython.core.display.Markdown object>"
      ],
      "text/markdown": "# Leaderboards"
     },
     "metadata": {},
     "output_type": "display_data"
    },
    {
     "data": {
      "text/plain": [
       "<IPython.core.display.Markdown object>"
      ],
      "text/markdown": "## Bol"
     },
     "metadata": {},
     "output_type": "display_data"
    },
    {
     "data": {
      "text/plain": [
       "<IPython.core.display.Markdown object>"
      ],
      "text/markdown": "**Updated:** 2024-12-04 08:23:23"
     },
     "metadata": {},
     "output_type": "display_data"
    },
    {
     "data": {
      "text/plain": [
       "<IPython.core.display.Markdown object>"
      ],
      "text/markdown": "[Private Leaderboard](https://adventofcode.com/2024/leaderboard/private/view/257356)"
     },
     "metadata": {},
     "output_type": "display_data"
    },
    {
     "data": {
      "text/plain": [
       "              Name  Score  Stars                   Progress\n",
       "0  Eric Veenendaal    529      8  🌟🌟🌟🌟⬜⬜⬜⬜⬜⬜⬜⬜⬜⬜⬜⬜⬜⬜⬜⬜⬜⬜⬜⬜⬜\n",
       "1    Felipe Flores    508      8  🌟🌟🌟🌟⬜⬜⬜⬜⬜⬜⬜⬜⬜⬜⬜⬜⬜⬜⬜⬜⬜⬜⬜⬜⬜\n",
       "2        Marco Nel    486      8  🌟🌟🌟🌟⬜⬜⬜⬜⬜⬜⬜⬜⬜⬜⬜⬜⬜⬜⬜⬜⬜⬜⬜⬜⬜\n",
       "3     Naval Bhagat    448      8  🌟🌟🌟🌟⬜⬜⬜⬜⬜⬜⬜⬜⬜⬜⬜⬜⬜⬜⬜⬜⬜⬜⬜⬜⬜\n",
       "4          EgbertW    436      7  🌟🌟🌟⭐⬜⬜⬜⬜⬜⬜⬜⬜⬜⬜⬜⬜⬜⬜⬜⬜⬜⬜⬜⬜⬜\n",
       "5   Marco Plaisier    400      7  🌟🌟🌟⭐⬜⬜⬜⬜⬜⬜⬜⬜⬜⬜⬜⬜⬜⬜⬜⬜⬜⬜⬜⬜⬜\n",
       "6      HSteffensen    374      6  🌟🌟🌟⬜⬜⬜⬜⬜⬜⬜⬜⬜⬜⬜⬜⬜⬜⬜⬜⬜⬜⬜⬜⬜⬜\n",
       "7    Bart Enkelaar    364      6  🌟🌟🌟⬜⬜⬜⬜⬜⬜⬜⬜⬜⬜⬜⬜⬜⬜⬜⬜⬜⬜⬜⬜⬜⬜\n",
       "8   Jorisvanrheden    358      6  🌟🌟🌟⬜⬜⬜⬜⬜⬜⬜⬜⬜⬜⬜⬜⬜⬜⬜⬜⬜⬜⬜⬜⬜⬜\n",
       "9    Carst Tankink    346      6  🌟🌟🌟⬜⬜⬜⬜⬜⬜⬜⬜⬜⬜⬜⬜⬜⬜⬜⬜⬜⬜⬜⬜⬜⬜"
      ],
      "text/html": [
       "<div>\n",
       "<style scoped>\n",
       "    .dataframe tbody tr th:only-of-type {\n",
       "        vertical-align: middle;\n",
       "    }\n",
       "\n",
       "    .dataframe tbody tr th {\n",
       "        vertical-align: top;\n",
       "    }\n",
       "\n",
       "    .dataframe thead th {\n",
       "        text-align: right;\n",
       "    }\n",
       "</style>\n",
       "<table border=\"1\" class=\"dataframe\">\n",
       "  <thead>\n",
       "    <tr style=\"text-align: right;\">\n",
       "      <th></th>\n",
       "      <th>Name</th>\n",
       "      <th>Score</th>\n",
       "      <th>Stars</th>\n",
       "      <th>Progress</th>\n",
       "    </tr>\n",
       "  </thead>\n",
       "  <tbody>\n",
       "    <tr>\n",
       "      <th>0</th>\n",
       "      <td>Eric Veenendaal</td>\n",
       "      <td>529</td>\n",
       "      <td>8</td>\n",
       "      <td>🌟🌟🌟🌟⬜⬜⬜⬜⬜⬜⬜⬜⬜⬜⬜⬜⬜⬜⬜⬜⬜⬜⬜⬜⬜</td>\n",
       "    </tr>\n",
       "    <tr>\n",
       "      <th>1</th>\n",
       "      <td>Felipe Flores</td>\n",
       "      <td>508</td>\n",
       "      <td>8</td>\n",
       "      <td>🌟🌟🌟🌟⬜⬜⬜⬜⬜⬜⬜⬜⬜⬜⬜⬜⬜⬜⬜⬜⬜⬜⬜⬜⬜</td>\n",
       "    </tr>\n",
       "    <tr>\n",
       "      <th>2</th>\n",
       "      <td>Marco Nel</td>\n",
       "      <td>486</td>\n",
       "      <td>8</td>\n",
       "      <td>🌟🌟🌟🌟⬜⬜⬜⬜⬜⬜⬜⬜⬜⬜⬜⬜⬜⬜⬜⬜⬜⬜⬜⬜⬜</td>\n",
       "    </tr>\n",
       "    <tr>\n",
       "      <th>3</th>\n",
       "      <td>Naval Bhagat</td>\n",
       "      <td>448</td>\n",
       "      <td>8</td>\n",
       "      <td>🌟🌟🌟🌟⬜⬜⬜⬜⬜⬜⬜⬜⬜⬜⬜⬜⬜⬜⬜⬜⬜⬜⬜⬜⬜</td>\n",
       "    </tr>\n",
       "    <tr>\n",
       "      <th>4</th>\n",
       "      <td>EgbertW</td>\n",
       "      <td>436</td>\n",
       "      <td>7</td>\n",
       "      <td>🌟🌟🌟⭐⬜⬜⬜⬜⬜⬜⬜⬜⬜⬜⬜⬜⬜⬜⬜⬜⬜⬜⬜⬜⬜</td>\n",
       "    </tr>\n",
       "    <tr>\n",
       "      <th>5</th>\n",
       "      <td>Marco Plaisier</td>\n",
       "      <td>400</td>\n",
       "      <td>7</td>\n",
       "      <td>🌟🌟🌟⭐⬜⬜⬜⬜⬜⬜⬜⬜⬜⬜⬜⬜⬜⬜⬜⬜⬜⬜⬜⬜⬜</td>\n",
       "    </tr>\n",
       "    <tr>\n",
       "      <th>6</th>\n",
       "      <td>HSteffensen</td>\n",
       "      <td>374</td>\n",
       "      <td>6</td>\n",
       "      <td>🌟🌟🌟⬜⬜⬜⬜⬜⬜⬜⬜⬜⬜⬜⬜⬜⬜⬜⬜⬜⬜⬜⬜⬜⬜</td>\n",
       "    </tr>\n",
       "    <tr>\n",
       "      <th>7</th>\n",
       "      <td>Bart Enkelaar</td>\n",
       "      <td>364</td>\n",
       "      <td>6</td>\n",
       "      <td>🌟🌟🌟⬜⬜⬜⬜⬜⬜⬜⬜⬜⬜⬜⬜⬜⬜⬜⬜⬜⬜⬜⬜⬜⬜</td>\n",
       "    </tr>\n",
       "    <tr>\n",
       "      <th>8</th>\n",
       "      <td>Jorisvanrheden</td>\n",
       "      <td>358</td>\n",
       "      <td>6</td>\n",
       "      <td>🌟🌟🌟⬜⬜⬜⬜⬜⬜⬜⬜⬜⬜⬜⬜⬜⬜⬜⬜⬜⬜⬜⬜⬜⬜</td>\n",
       "    </tr>\n",
       "    <tr>\n",
       "      <th>9</th>\n",
       "      <td>Carst Tankink</td>\n",
       "      <td>346</td>\n",
       "      <td>6</td>\n",
       "      <td>🌟🌟🌟⬜⬜⬜⬜⬜⬜⬜⬜⬜⬜⬜⬜⬜⬜⬜⬜⬜⬜⬜⬜⬜⬜</td>\n",
       "    </tr>\n",
       "  </tbody>\n",
       "</table>\n",
       "</div>"
      ]
     },
     "metadata": {},
     "output_type": "display_data"
    },
    {
     "data": {
      "text/plain": [
       "<IPython.core.display.Markdown object>"
      ],
      "text/markdown": "## Twit"
     },
     "metadata": {},
     "output_type": "display_data"
    },
    {
     "data": {
      "text/plain": [
       "<IPython.core.display.Markdown object>"
      ],
      "text/markdown": "**Updated:** 2024-12-04 08:23:24"
     },
     "metadata": {},
     "output_type": "display_data"
    },
    {
     "data": {
      "text/plain": [
       "<IPython.core.display.Markdown object>"
      ],
      "text/markdown": "[Private Leaderboard](https://adventofcode.com/2024/leaderboard/private/view/1651008)"
     },
     "metadata": {},
     "output_type": "display_data"
    },
    {
     "data": {
      "text/plain": [
       "                  Name  Score  Stars                   Progress\n",
       "0              cyphase    455      8  🌟🌟🌟🌟⬜⬜⬜⬜⬜⬜⬜⬜⬜⬜⬜⬜⬜⬜⬜⬜⬜⬜⬜⬜⬜\n",
       "1         Place Holder    449      8  🌟🌟🌟🌟⬜⬜⬜⬜⬜⬜⬜⬜⬜⬜⬜⬜⬜⬜⬜⬜⬜⬜⬜⬜⬜\n",
       "2         Darren Oakey    445      8  🌟🌟🌟🌟⬜⬜⬜⬜⬜⬜⬜⬜⬜⬜⬜⬜⬜⬜⬜⬜⬜⬜⬜⬜⬜\n",
       "3      Eric Veenendaal    427      8  🌟🌟🌟🌟⬜⬜⬜⬜⬜⬜⬜⬜⬜⬜⬜⬜⬜⬜⬜⬜⬜⬜⬜⬜⬜\n",
       "4                 ty2k    423      8  🌟🌟🌟🌟⬜⬜⬜⬜⬜⬜⬜⬜⬜⬜⬜⬜⬜⬜⬜⬜⬜⬜⬜⬜⬜\n",
       "5          Leo Laporte    367      7  🌟🌟🌟⭐⬜⬜⬜⬜⬜⬜⬜⬜⬜⬜⬜⬜⬜⬜⬜⬜⬜⬜⬜⬜⬜\n",
       "6         Morgan Davis    326      8  🌟🌟🌟🌟⬜⬜⬜⬜⬜⬜⬜⬜⬜⬜⬜⬜⬜⬜⬜⬜⬜⬜⬜⬜⬜\n",
       "7                 Alex    298      8  🌟🌟🌟🌟⬜⬜⬜⬜⬜⬜⬜⬜⬜⬜⬜⬜⬜⬜⬜⬜⬜⬜⬜⬜⬜\n",
       "8  Torbjörn Pettersson    298      6  🌟🌟🌟⬜⬜⬜⬜⬜⬜⬜⬜⬜⬜⬜⬜⬜⬜⬜⬜⬜⬜⬜⬜⬜⬜\n",
       "9          -Whatever--    292      6  🌟🌟🌟⬜⬜⬜⬜⬜⬜⬜⬜⬜⬜⬜⬜⬜⬜⬜⬜⬜⬜⬜⬜⬜⬜"
      ],
      "text/html": [
       "<div>\n",
       "<style scoped>\n",
       "    .dataframe tbody tr th:only-of-type {\n",
       "        vertical-align: middle;\n",
       "    }\n",
       "\n",
       "    .dataframe tbody tr th {\n",
       "        vertical-align: top;\n",
       "    }\n",
       "\n",
       "    .dataframe thead th {\n",
       "        text-align: right;\n",
       "    }\n",
       "</style>\n",
       "<table border=\"1\" class=\"dataframe\">\n",
       "  <thead>\n",
       "    <tr style=\"text-align: right;\">\n",
       "      <th></th>\n",
       "      <th>Name</th>\n",
       "      <th>Score</th>\n",
       "      <th>Stars</th>\n",
       "      <th>Progress</th>\n",
       "    </tr>\n",
       "  </thead>\n",
       "  <tbody>\n",
       "    <tr>\n",
       "      <th>0</th>\n",
       "      <td>cyphase</td>\n",
       "      <td>455</td>\n",
       "      <td>8</td>\n",
       "      <td>🌟🌟🌟🌟⬜⬜⬜⬜⬜⬜⬜⬜⬜⬜⬜⬜⬜⬜⬜⬜⬜⬜⬜⬜⬜</td>\n",
       "    </tr>\n",
       "    <tr>\n",
       "      <th>1</th>\n",
       "      <td>Place Holder</td>\n",
       "      <td>449</td>\n",
       "      <td>8</td>\n",
       "      <td>🌟🌟🌟🌟⬜⬜⬜⬜⬜⬜⬜⬜⬜⬜⬜⬜⬜⬜⬜⬜⬜⬜⬜⬜⬜</td>\n",
       "    </tr>\n",
       "    <tr>\n",
       "      <th>2</th>\n",
       "      <td>Darren Oakey</td>\n",
       "      <td>445</td>\n",
       "      <td>8</td>\n",
       "      <td>🌟🌟🌟🌟⬜⬜⬜⬜⬜⬜⬜⬜⬜⬜⬜⬜⬜⬜⬜⬜⬜⬜⬜⬜⬜</td>\n",
       "    </tr>\n",
       "    <tr>\n",
       "      <th>3</th>\n",
       "      <td>Eric Veenendaal</td>\n",
       "      <td>427</td>\n",
       "      <td>8</td>\n",
       "      <td>🌟🌟🌟🌟⬜⬜⬜⬜⬜⬜⬜⬜⬜⬜⬜⬜⬜⬜⬜⬜⬜⬜⬜⬜⬜</td>\n",
       "    </tr>\n",
       "    <tr>\n",
       "      <th>4</th>\n",
       "      <td>ty2k</td>\n",
       "      <td>423</td>\n",
       "      <td>8</td>\n",
       "      <td>🌟🌟🌟🌟⬜⬜⬜⬜⬜⬜⬜⬜⬜⬜⬜⬜⬜⬜⬜⬜⬜⬜⬜⬜⬜</td>\n",
       "    </tr>\n",
       "    <tr>\n",
       "      <th>5</th>\n",
       "      <td>Leo Laporte</td>\n",
       "      <td>367</td>\n",
       "      <td>7</td>\n",
       "      <td>🌟🌟🌟⭐⬜⬜⬜⬜⬜⬜⬜⬜⬜⬜⬜⬜⬜⬜⬜⬜⬜⬜⬜⬜⬜</td>\n",
       "    </tr>\n",
       "    <tr>\n",
       "      <th>6</th>\n",
       "      <td>Morgan Davis</td>\n",
       "      <td>326</td>\n",
       "      <td>8</td>\n",
       "      <td>🌟🌟🌟🌟⬜⬜⬜⬜⬜⬜⬜⬜⬜⬜⬜⬜⬜⬜⬜⬜⬜⬜⬜⬜⬜</td>\n",
       "    </tr>\n",
       "    <tr>\n",
       "      <th>7</th>\n",
       "      <td>Alex</td>\n",
       "      <td>298</td>\n",
       "      <td>8</td>\n",
       "      <td>🌟🌟🌟🌟⬜⬜⬜⬜⬜⬜⬜⬜⬜⬜⬜⬜⬜⬜⬜⬜⬜⬜⬜⬜⬜</td>\n",
       "    </tr>\n",
       "    <tr>\n",
       "      <th>8</th>\n",
       "      <td>Torbjörn Pettersson</td>\n",
       "      <td>298</td>\n",
       "      <td>6</td>\n",
       "      <td>🌟🌟🌟⬜⬜⬜⬜⬜⬜⬜⬜⬜⬜⬜⬜⬜⬜⬜⬜⬜⬜⬜⬜⬜⬜</td>\n",
       "    </tr>\n",
       "    <tr>\n",
       "      <th>9</th>\n",
       "      <td>-Whatever--</td>\n",
       "      <td>292</td>\n",
       "      <td>6</td>\n",
       "      <td>🌟🌟🌟⬜⬜⬜⬜⬜⬜⬜⬜⬜⬜⬜⬜⬜⬜⬜⬜⬜⬜⬜⬜⬜⬜</td>\n",
       "    </tr>\n",
       "  </tbody>\n",
       "</table>\n",
       "</div>"
      ]
     },
     "metadata": {},
     "output_type": "display_data"
    }
   ],
   "execution_count": 2
  },
  {
   "cell_type": "code",
   "id": "aa546508bbc9f31",
   "metadata": {
    "ExecuteTime": {
     "end_time": "2024-12-04T07:23:24.484554Z",
     "start_time": "2024-12-04T07:23:24.483119Z"
    }
   },
   "source": [],
   "outputs": [],
   "execution_count": null
  }
 ],
 "metadata": {
  "kernelspec": {
   "display_name": "Python 3",
   "language": "python",
   "name": "python3"
  },
  "language_info": {
   "codemirror_mode": {
    "name": "ipython",
    "version": 3
   },
   "file_extension": ".py",
   "mimetype": "text/x-python",
   "name": "python",
   "nbconvert_exporter": "python",
   "pygments_lexer": "ipython3",
   "version": "3.13.0"
  }
 },
 "nbformat": 4,
 "nbformat_minor": 5
}
