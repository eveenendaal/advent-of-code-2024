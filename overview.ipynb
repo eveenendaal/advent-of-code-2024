{
 "cells": [
  {
   "cell_type": "code",
   "id": "initial_id",
   "metadata": {
    "collapsed": true,
    "ExecuteTime": {
     "end_time": "2024-12-02T06:09:14.171434Z",
     "start_time": "2024-12-02T06:09:14.064840Z"
    }
   },
   "source": [
    "from aocd.models import default_user\n",
    "from dotenv import load_dotenv\n",
    "\n",
    "load_dotenv()\n",
    "user = default_user()\n",
    "\n",
    "stats = user.get_stats(2024)\n",
    "\n",
    "# create results dataframe\n",
    "import pandas as pd\n",
    "\n",
    "results = []\n",
    "\n",
    "\n",
    "class Part:\n",
    "    def __init__(self, data):\n",
    "        self.time = data['time'].total_seconds()\n",
    "        self.rank = data['rank']\n",
    "        self.score = data['score']\n",
    "\n",
    "\n",
    "for date, data in stats.items():\n",
    "    for key, value in data.items():\n",
    "        results.append({'day': date,\n",
    "                        'part': key.upper(),\n",
    "                        'time': value['time'],\n",
    "                        'rank': value['rank'],\n",
    "                        'score': value['score']\n",
    "                        })\n",
    "\n",
    "# create dataframe from results\n",
    "df = pd.DataFrame(results)\n",
    "\n",
    "display(df)\n"
   ],
   "outputs": [
    {
     "data": {
      "text/plain": [
       "       day part            time   rank  score\n",
       "0  2024/01    A 0 days 01:13:28  11034      0\n",
       "1  2024/01    B 0 days 01:21:03  10524      0\n",
       "2  2024/02    A 0 days 00:17:44   6086      0\n",
       "3  2024/02    B 0 days 00:43:49   6609      0"
      ],
      "text/html": [
       "<div>\n",
       "<style scoped>\n",
       "    .dataframe tbody tr th:only-of-type {\n",
       "        vertical-align: middle;\n",
       "    }\n",
       "\n",
       "    .dataframe tbody tr th {\n",
       "        vertical-align: top;\n",
       "    }\n",
       "\n",
       "    .dataframe thead th {\n",
       "        text-align: right;\n",
       "    }\n",
       "</style>\n",
       "<table border=\"1\" class=\"dataframe\">\n",
       "  <thead>\n",
       "    <tr style=\"text-align: right;\">\n",
       "      <th></th>\n",
       "      <th>day</th>\n",
       "      <th>part</th>\n",
       "      <th>time</th>\n",
       "      <th>rank</th>\n",
       "      <th>score</th>\n",
       "    </tr>\n",
       "  </thead>\n",
       "  <tbody>\n",
       "    <tr>\n",
       "      <th>0</th>\n",
       "      <td>2024/01</td>\n",
       "      <td>A</td>\n",
       "      <td>0 days 01:13:28</td>\n",
       "      <td>11034</td>\n",
       "      <td>0</td>\n",
       "    </tr>\n",
       "    <tr>\n",
       "      <th>1</th>\n",
       "      <td>2024/01</td>\n",
       "      <td>B</td>\n",
       "      <td>0 days 01:21:03</td>\n",
       "      <td>10524</td>\n",
       "      <td>0</td>\n",
       "    </tr>\n",
       "    <tr>\n",
       "      <th>2</th>\n",
       "      <td>2024/02</td>\n",
       "      <td>A</td>\n",
       "      <td>0 days 00:17:44</td>\n",
       "      <td>6086</td>\n",
       "      <td>0</td>\n",
       "    </tr>\n",
       "    <tr>\n",
       "      <th>3</th>\n",
       "      <td>2024/02</td>\n",
       "      <td>B</td>\n",
       "      <td>0 days 00:43:49</td>\n",
       "      <td>6609</td>\n",
       "      <td>0</td>\n",
       "    </tr>\n",
       "  </tbody>\n",
       "</table>\n",
       "</div>"
      ]
     },
     "metadata": {},
     "output_type": "display_data"
    }
   ],
   "execution_count": 24
  },
  {
   "metadata": {},
   "cell_type": "code",
   "outputs": [],
   "execution_count": null,
   "source": "",
   "id": "de03fb92b38e5a7b"
  }
 ],
 "metadata": {
  "kernelspec": {
   "display_name": "Python 3",
   "language": "python",
   "name": "python3"
  },
  "language_info": {
   "codemirror_mode": {
    "name": "ipython",
    "version": 2
   },
   "file_extension": ".py",
   "mimetype": "text/x-python",
   "name": "python",
   "nbconvert_exporter": "python",
   "pygments_lexer": "ipython2",
   "version": "2.7.6"
  }
 },
 "nbformat": 4,
 "nbformat_minor": 5
}
