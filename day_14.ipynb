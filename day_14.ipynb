{
 "cells": [
  {
   "cell_type": "code",
   "execution_count": 1,
   "id": "dec75b3898d7314f",
   "metadata": {
    "ExecuteTime": {
     "end_time": "2024-12-14T05:36:15.319017Z",
     "start_time": "2024-12-14T05:36:15.310484Z"
    }
   },
   "outputs": [
    {
     "data": {
      "text/markdown": [
       "# Restroom Redoubt"
      ],
      "text/plain": [
       "<IPython.core.display.Markdown object>"
      ]
     },
     "metadata": {},
     "output_type": "display_data"
    },
    {
     "data": {
      "text/markdown": [
       "[Open Website](https://adventofcode.com/2024/day/14)"
      ],
      "text/plain": [
       "<IPython.core.display.Markdown object>"
      ]
     },
     "metadata": {},
     "output_type": "display_data"
    }
   ],
   "source": [
    "\n",
    "\n",
    "from common.inputreader import InputReader, PuzzleWrapper\n",
    "\n",
    "puzzle = PuzzleWrapper(year=2024, day=int(\"14\"))\n",
    "\n",
    "puzzle.header()\n",
    "# example = get_code_block(puzzle, 5)"
   ]
  },
  {
   "cell_type": "code",
   "execution_count": 2,
   "id": "34dd2d43c40af29b",
   "metadata": {
    "ExecuteTime": {
     "end_time": "2024-12-14T05:36:15.799456Z",
     "start_time": "2024-12-14T05:36:15.789665Z"
    }
   },
   "outputs": [
    {
     "name": "stdout",
     "output_type": "stream",
     "text": [
      "Robot(position=(0, 4), velocity=(3, -3))\n",
      "Robot(position=(6, 3), velocity=(-1, -3))\n",
      "Robot(position=(10, 3), velocity=(-1, 2))\n",
      "Robot(position=(2, 0), velocity=(2, -1))\n",
      "Robot(position=(0, 0), velocity=(1, 3))\n",
      "Robot(position=(3, 0), velocity=(-2, -2))\n",
      "Robot(position=(7, 6), velocity=(-1, -3))\n",
      "Robot(position=(3, 0), velocity=(-1, -2))\n",
      "Robot(position=(9, 3), velocity=(2, 3))\n",
      "Robot(position=(7, 3), velocity=(-1, 2))\n",
      "Robot(position=(2, 4), velocity=(2, -3))\n",
      "Robot(position=(9, 5), velocity=(-3, -3))\n"
     ]
    }
   ],
   "source": [
    "import re\n",
    "\n",
    "\n",
    "class Robot:\n",
    "\n",
    "    def __init__(self, position: tuple, velocity: tuple):\n",
    "        self.position = (position[0], position[1])\n",
    "        self.velocity = (velocity[0], velocity[1])\n",
    "\n",
    "    def move(self, dimensions):\n",
    "        self.position = (self.position[0] + self.velocity[0], self.position[1] + self.velocity[1])\n",
    "        self.position = (self.position[0] % dimensions[0], self.position[1] % dimensions[1])\n",
    "\n",
    "    def __str__(self):\n",
    "        return f\"Robot(position={self.position}, velocity={self.velocity})\"\n",
    "\n",
    "\n",
    "# helper functions\n",
    "def domain_from_input(input: InputReader) -> list:\n",
    "    # create regex that matches on 0,4 or 3,-3\n",
    "    regex = re.compile(r\"(-?\\d+),(-?\\d+)\")\n",
    "\n",
    "    robots = []\n",
    "\n",
    "    lines = input.lines_as_strs()\n",
    "    for line in lines:\n",
    "        position_str = regex.findall(line[0])[0]\n",
    "        velocity_str = regex.findall(line[1])[0]\n",
    "        position = list(map(int, position_str))\n",
    "        velocity = list(map(int, velocity_str))\n",
    "        robot = Robot(position, velocity)\n",
    "        robots.append(robot)\n",
    "\n",
    "    return robots\n",
    "\n",
    "\n",
    "test_input = domain_from_input(puzzle.example(0))\n",
    "for robot in test_input:\n",
    "    print(robot)"
   ]
  },
  {
   "cell_type": "code",
   "execution_count": 3,
   "id": "6d23892a17117fed",
   "metadata": {
    "ExecuteTime": {
     "end_time": "2024-12-14T05:38:09.665462Z",
     "start_time": "2024-12-14T05:38:09.647889Z"
    }
   },
   "outputs": [
    {
     "name": "stdout",
     "output_type": "stream",
     "text": [
      ".....X#..#.\n",
      ".....X.....\n",
      "#....X.....\n",
      "XXXXXXXXXXX\n",
      ".....X.....\n",
      "...##X.....\n",
      ".#...X#....\n",
      "Robot(position=(3, 5), velocity=(3, -3))\n",
      "Robot(position=(5, 4), velocity=(-1, -3))\n",
      "Robot(position=(9, 0), velocity=(-1, 2))\n",
      "Robot(position=(4, 5), velocity=(2, -1))\n",
      "Robot(position=(1, 6), velocity=(1, 3))\n",
      "Robot(position=(1, 3), velocity=(-2, -2))\n",
      "Robot(position=(6, 0), velocity=(-1, -3))\n",
      "Robot(position=(2, 3), velocity=(-1, -2))\n",
      "Robot(position=(0, 2), velocity=(2, 3))\n",
      "Robot(position=(6, 0), velocity=(-1, 2))\n",
      "Robot(position=(4, 5), velocity=(2, -3))\n",
      "Robot(position=(6, 6), velocity=(-3, -3))\n"
     ]
    },
    {
     "data": {
      "text/plain": [
       "12"
      ]
     },
     "metadata": {},
     "output_type": "display_data"
    }
   ],
   "source": [
    "# test case (part 1)\n",
    "def part_1(reader: InputReader, dimensions=(101, 103), debug=False) -> int:\n",
    "    robots = domain_from_input(reader)\n",
    "    time = 100\n",
    "\n",
    "    # run simulation\n",
    "    while time > 0:\n",
    "        for robot in robots:\n",
    "            robot.move(dimensions)\n",
    "        time -= 1\n",
    "\n",
    "    # get positions\n",
    "    positions = {}\n",
    "    for robot in robots:\n",
    "        position = robot.position\n",
    "        positions[position] = positions.get(position, 0) + 1\n",
    "\n",
    "    quadrants = [0, 0, 0, 0]\n",
    "\n",
    "    rows = range(dimensions[1])\n",
    "    cols = range(dimensions[0])\n",
    "    middle_row = dimensions[1] // 2\n",
    "    middle_col = dimensions[0] // 2\n",
    "\n",
    "    # print the positions in a grid\n",
    "    for y in rows:\n",
    "        for x in cols:\n",
    "            if debug:\n",
    "                if y == middle_row or x == middle_col:\n",
    "                    print(\"X\", end=\"\")\n",
    "                elif (x, y) in positions:\n",
    "                    print(\"#\", end=\"\")\n",
    "                else:\n",
    "                    print(\".\", end=\"\")\n",
    "\n",
    "            if y == middle_row or x == middle_col:\n",
    "                continue\n",
    "\n",
    "            counts = positions.get((x, y), 0)\n",
    "            if x > middle_col:\n",
    "                if y > middle_row:\n",
    "                    quadrants[0] += counts\n",
    "                else:\n",
    "                    quadrants[2] += counts\n",
    "            else:\n",
    "                if y > middle_row:\n",
    "                    quadrants[1] += counts\n",
    "                else:\n",
    "                    quadrants[3] += counts\n",
    "\n",
    "        if debug:\n",
    "            print()\n",
    "\n",
    "    if debug:\n",
    "        for robot in robots:\n",
    "            print(robot)\n",
    "\n",
    "    return quadrants[0] * quadrants[1] * quadrants[2] * quadrants[3]\n",
    "\n",
    "\n",
    "result = part_1(puzzle.example(0), (11, 7), True)\n",
    "display(result)\n",
    "assert result == 12"
   ]
  },
  {
   "cell_type": "code",
   "execution_count": 66,
   "id": "66cab898e4711d42",
   "metadata": {
    "ExecuteTime": {
     "end_time": "2024-12-14T05:37:41.281706Z",
     "start_time": "2024-12-14T05:37:41.262995Z"
    }
   },
   "outputs": [
    {
     "data": {
      "text/plain": [
       "218619324"
      ]
     },
     "metadata": {},
     "output_type": "display_data"
    }
   ],
   "source": [
    "# real case (part 1)\n",
    "result = part_1(puzzle.input())\n",
    "display(result)"
   ]
  },
  {
   "cell_type": "code",
   "execution_count": 22,
   "id": "d2277c7db8ea0a5e",
   "metadata": {
    "ExecuteTime": {
     "end_time": "2024-12-14T06:11:27.082183Z",
     "start_time": "2024-12-14T06:11:27.044846Z"
    }
   },
   "outputs": [
    {
     "name": "stdout",
     "output_type": "stream",
     "text": [
      "Found candidate at count=6446\n"
     ]
    },
    {
     "data": {
      "text/plain": [
       "6446"
      ]
     },
     "metadata": {},
     "output_type": "display_data"
    }
   ],
   "source": [
    "def hash_positions(robots):\n",
    "    positions = {}\n",
    "    for robot in robots:\n",
    "        positions[robot.position] = positions.get(robot.position, 0) + 1\n",
    "    return positions\n",
    "\n",
    "\n",
    "def tree_candidate(positions, dimensions) -> bool:\n",
    "    # all the positions should be at most 1\n",
    "    for _, count in positions.items():\n",
    "        if count > 1:\n",
    "            return False\n",
    "    return True\n",
    "\n",
    "def print_positions(positions, dimensions):\n",
    "    rows = range(dimensions[1])\n",
    "    cols = range(dimensions[0])\n",
    "\n",
    "    # print the positions in a grid\n",
    "    for y in rows:\n",
    "        for x in cols:\n",
    "            height = positions.get((x, y), 0)\n",
    "            if height > 0:\n",
    "                print(f\"{height}\", end=\"\")\n",
    "            else:\n",
    "                print(\".\", end=\"\")\n",
    "\n",
    "        print()\n",
    "    print()\n",
    "\n",
    "def write_positions(count, positions, dimensions):\n",
    "    rows = range(dimensions[1])\n",
    "    cols = range(dimensions[0])\n",
    "\n",
    "    with open(\"output.txt\", \"a\") as f:\n",
    "        f.write(f\"Count: {count}\\n\")\n",
    "\n",
    "        # print the positions in a grid\n",
    "        for y in rows:\n",
    "            for x in cols:\n",
    "                height = positions.get((x, y), 0)\n",
    "                if height > 0:\n",
    "                    f.write(f\"*\")\n",
    "                else:\n",
    "                    f.write(\".\")\n",
    "\n",
    "            f.write(\"\\n\")\n",
    "        f.write(\"\\n\")\n",
    "\n",
    "# test case (part 2)\n",
    "def part_2(reader: InputReader, dimensions=(101, 103), debug=False) -> int:\n",
    "    robots = domain_from_input(reader)\n",
    "    limit = 10000\n",
    "    count = 0\n",
    "    solution = None\n",
    "    # delete output.txt\n",
    "    with open(\"output.txt\", \"w\") as f:\n",
    "        f.write(\"\")\n",
    "\n",
    "    # run simulation\n",
    "    while count < limit and solution is None:\n",
    "        count += 1\n",
    "        for robot in robots:\n",
    "            robot.move(dimensions)\n",
    "\n",
    "        positions = hash_positions(robots)\n",
    "        if tree_candidate(positions, dimensions):\n",
    "            print(f\"Found candidate at count={count}\")\n",
    "            if debug:\n",
    "                print_positions(positions, dimensions)\n",
    "                write_positions(count, positions, dimensions)\n",
    "            solution = count            \n",
    "\n",
    "    # print the positions in a grid\n",
    "    if debug:\n",
    "        for robot in robots:\n",
    "            print(robot)\n",
    "\n",
    "    return solution\n",
    "\n",
    "\n",
    "result = part_2(puzzle.input())\n",
    "display(result)\n",
    "assert result == 6446"
   ]
  },
  {
   "cell_type": "code",
   "execution_count": null,
   "id": "44e329cbb6ad2400",
   "metadata": {},
   "outputs": [],
   "source": [
    "# print easters eggs\n",
    "puzzle.print_easter_eggs()"
   ]
  }
 ],
 "metadata": {
  "kernelspec": {
   "display_name": ".venv",
   "language": "python",
   "name": "python3"
  },
  "language_info": {
   "codemirror_mode": {
    "name": "ipython",
    "version": 3
   },
   "file_extension": ".py",
   "mimetype": "text/x-python",
   "name": "python",
   "nbconvert_exporter": "python",
   "pygments_lexer": "ipython3",
   "version": "3.12.1"
  }
 },
 "nbformat": 4,
 "nbformat_minor": 5
}
