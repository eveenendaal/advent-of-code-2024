{
 "cells": [
  {
   "metadata": {
    "ExecuteTime": {
     "end_time": "2024-12-13T08:14:23.118023Z",
     "start_time": "2024-12-13T08:14:23.113582Z"
    }
   },
   "cell_type": "code",
   "source": [
    "import re\n",
    "\n",
    "from common.inputreader import InputReader, PuzzleWrapper\n",
    "\n",
    "puzzle = PuzzleWrapper(year=2024, day=int(\"13\"))\n",
    "\n",
    "puzzle.header()\n",
    "# example = get_code_block(puzzle, 5)"
   ],
   "id": "dec75b3898d7314f",
   "outputs": [
    {
     "data": {
      "text/plain": [
       "<IPython.core.display.Markdown object>"
      ],
      "text/markdown": "# Claw Contraption"
     },
     "metadata": {},
     "output_type": "display_data"
    },
    {
     "data": {
      "text/plain": [
       "<IPython.core.display.Markdown object>"
      ],
      "text/markdown": "[Open Website](https://adventofcode.com/2024/day/13)"
     },
     "metadata": {},
     "output_type": "display_data"
    }
   ],
   "execution_count": 22
  },
  {
   "metadata": {
    "ExecuteTime": {
     "end_time": "2024-12-13T08:14:23.136610Z",
     "start_time": "2024-12-13T08:14:23.127743Z"
    }
   },
   "cell_type": "code",
   "source": [
    "# helper functions\n",
    "class Arcade:\n",
    "\n",
    "    def __init__(self, a: tuple, b: tuple, goal: tuple):\n",
    "        self.a = a\n",
    "        self.b = b\n",
    "        self.goal = goal\n",
    "\n",
    "    def __str__(self):\n",
    "        return f\"A: {self.a}, B: {self.b}, Goal: {self.goal}\"\n",
    "\n",
    "\n",
    "def domain_from_input(input: InputReader) -> list:\n",
    "    lines = input.lines_as_strs()\n",
    "\n",
    "    pattern = re.compile(r\"\\d+\")\n",
    "\n",
    "    a = None\n",
    "    b = None\n",
    "    arcades = []\n",
    "\n",
    "    for line in lines:\n",
    "        if len(line) == 0:\n",
    "            continue\n",
    "\n",
    "        if line[0] == \"Button\":\n",
    "            x = int(pattern.findall(line[2]).pop())\n",
    "            y = int(pattern.findall(line[3]).pop())\n",
    "            value = (x, y)\n",
    "            if line[1] == \"A:\":\n",
    "                a = value\n",
    "            elif line[1] == \"B:\":\n",
    "                b = value\n",
    "        elif line[0] == \"Prize:\":\n",
    "            x = int(pattern.findall(line[1]).pop())\n",
    "            y = int(pattern.findall(line[2]).pop())\n",
    "            goal = (x, y)\n",
    "            arcades.append(Arcade(a, b, goal))\n",
    "            a, b, goal = None, None, None\n",
    "\n",
    "    return arcades\n",
    "\n",
    "\n",
    "test_input = domain_from_input(puzzle.example(0))\n",
    "for t in test_input:\n",
    "    print(t)"
   ],
   "id": "34dd2d43c40af29b",
   "outputs": [
    {
     "name": "stdout",
     "output_type": "stream",
     "text": [
      "A: (94, 34), B: (22, 67), Goal: (8400, 5400)\n",
      "A: (26, 66), B: (67, 21), Goal: (12748, 12176)\n",
      "A: (17, 86), B: (84, 37), Goal: (7870, 6450)\n",
      "A: (69, 23), B: (27, 71), Goal: (18641, 10279)\n"
     ]
    }
   ],
   "execution_count": 23
  },
  {
   "metadata": {
    "ExecuteTime": {
     "end_time": "2024-12-13T08:14:23.187915Z",
     "start_time": "2024-12-13T08:14:23.145100Z"
    }
   },
   "cell_type": "code",
   "source": [
    "# test case (part 1)\n",
    "def find_solutions(arcade: Arcade) -> list:\n",
    "    multiples = []\n",
    "    goal_x, goal_y = arcade.goal\n",
    "\n",
    "    x1, y1 = arcade.a\n",
    "    x2, y2 = arcade.b\n",
    "\n",
    "    max_a = max(goal_x // x1, goal_y // y1)\n",
    "    max_b = max(goal_x // x2, goal_y // y2)\n",
    "\n",
    "    for i in range(max_a + 1):\n",
    "        for j in range(max_b + 1):\n",
    "            if i * x1 + j * x2 == goal_x and i * y1 + j * y2 == goal_y:\n",
    "                multiples.append((i, j))\n",
    "\n",
    "    return multiples\n",
    "\n",
    "\n",
    "def find_cheapest_solution(arcade: Arcade) -> int:\n",
    "    solutions = find_solutions(arcade)\n",
    "    if len(solutions) == 0:\n",
    "        return 0\n",
    "\n",
    "    cheapest = None\n",
    "    for solution in solutions:\n",
    "        a, b = solution\n",
    "        cost = a * 3 + b\n",
    "        if cheapest is None or cost < cheapest:\n",
    "            cheapest = cost\n",
    "\n",
    "    return cheapest\n",
    "\n",
    "\n",
    "def part_1(reader: InputReader, debug: bool) -> int:\n",
    "    arcades = domain_from_input(reader)\n",
    "    total = 0\n",
    "    for arcade in arcades:\n",
    "        total += find_cheapest_solution(arcade)\n",
    "    return total\n",
    "\n",
    "\n",
    "result = part_1(puzzle.example(0), True)\n",
    "display(result)\n",
    "assert result == 480"
   ],
   "id": "6d23892a17117fed",
   "outputs": [
    {
     "data": {
      "text/plain": [
       "480"
      ]
     },
     "metadata": {},
     "output_type": "display_data"
    }
   ],
   "execution_count": 24
  },
  {
   "metadata": {
    "ExecuteTime": {
     "end_time": "2024-12-13T08:14:25.878298Z",
     "start_time": "2024-12-13T08:14:23.195214Z"
    }
   },
   "cell_type": "code",
   "source": [
    "# real case (part 1)\n",
    "result = part_1(puzzle.input(), False)\n",
    "display(result)"
   ],
   "id": "66cab898e4711d42",
   "outputs": [
    {
     "data": {
      "text/plain": [
       "35574"
      ]
     },
     "metadata": {},
     "output_type": "display_data"
    }
   ],
   "execution_count": 25
  },
  {
   "metadata": {
    "ExecuteTime": {
     "end_time": "2024-12-13T08:14:25.893274Z",
     "start_time": "2024-12-13T08:14:25.887542Z"
    }
   },
   "cell_type": "code",
   "source": [
    "# test case (part 2)\n",
    "def find_solution_2(arcade: Arcade, add: int) -> (int, int):\n",
    "    goal_x, goal_y = arcade.goal\n",
    "    goal_x += add\n",
    "    goal_y += add\n",
    "\n",
    "    x1, y1 = arcade.a\n",
    "    x2, y2 = arcade.b\n",
    "\n",
    "    # solve with linear algebra\n",
    "    y = (goal_y * x1 - goal_x * y1) / (x1 * y2 - y1 * x2)\n",
    "    x = (goal_x - x2 * y) / x1\n",
    "\n",
    "    if x.is_integer() and y.is_integer():\n",
    "        return int(x), int(y)\n",
    "    return None\n",
    "\n",
    "\n",
    "def part_2(reader: InputReader, debug: bool, goal=10000000000000) -> int:\n",
    "    arcades = domain_from_input(reader)\n",
    "    total = 0\n",
    "    for arcade in arcades:\n",
    "        solution = find_solution_2(arcade, goal)\n",
    "        if solution is not None:\n",
    "            a, b = solution\n",
    "            total += a * 3 + b\n",
    "    return total\n",
    "\n",
    "\n",
    "result = part_2(puzzle.example(0), True, 0)\n",
    "display(result)\n",
    "assert result == 480"
   ],
   "id": "d2277c7db8ea0a5e",
   "outputs": [
    {
     "data": {
      "text/plain": [
       "480"
      ]
     },
     "metadata": {},
     "output_type": "display_data"
    }
   ],
   "execution_count": 26
  },
  {
   "metadata": {
    "ExecuteTime": {
     "end_time": "2024-12-13T08:14:25.970487Z",
     "start_time": "2024-12-13T08:14:25.966026Z"
    }
   },
   "cell_type": "code",
   "source": [
    "# real case (part 2)\n",
    "result = part_2(puzzle.input(), False)\n",
    "display(result)\n",
    "assert result == 80882098756071"
   ],
   "id": "57c071f7c6d2914",
   "outputs": [
    {
     "data": {
      "text/plain": [
       "80882098756071"
      ]
     },
     "metadata": {},
     "output_type": "display_data"
    }
   ],
   "execution_count": 27
  },
  {
   "metadata": {
    "ExecuteTime": {
     "end_time": "2024-12-13T08:14:26.067647Z",
     "start_time": "2024-12-13T08:14:26.061564Z"
    }
   },
   "cell_type": "code",
   "source": [
    "# print easters eggs\n",
    "puzzle.print_easter_eggs()"
   ],
   "id": "44e329cbb6ad2400",
   "outputs": [
    {
     "data": {
      "text/plain": [
       "<IPython.core.display.Markdown object>"
      ],
      "text/markdown": "## Easter Eggs"
     },
     "metadata": {},
     "output_type": "display_data"
    },
    {
     "data": {
      "text/plain": [
       "<IPython.core.display.Markdown object>"
      ],
      "text/markdown": "<span title=\"Half A presses are not allowed.\"><code>A</code> presses</span> (Half A presses are not allowed.)"
     },
     "metadata": {},
     "output_type": "display_data"
    }
   ],
   "execution_count": 28
  },
  {
   "metadata": {
    "ExecuteTime": {
     "end_time": "2024-12-13T08:14:26.091515Z",
     "start_time": "2024-12-13T08:14:26.090001Z"
    }
   },
   "cell_type": "code",
   "source": "",
   "id": "d1998653140d2982",
   "outputs": [],
   "execution_count": null
  }
 ],
 "metadata": {
  "kernelspec": {
   "display_name": "Python 3",
   "language": "python",
   "name": "python3"
  },
  "language_info": {
   "codemirror_mode": {
    "name": "ipython",
    "version": 2
   },
   "file_extension": ".py",
   "mimetype": "text/x-python",
   "name": "python",
   "nbconvert_exporter": "python",
   "pygments_lexer": "ipython2",
   "version": "2.7.6"
  }
 },
 "nbformat": 4,
 "nbformat_minor": 5
}
