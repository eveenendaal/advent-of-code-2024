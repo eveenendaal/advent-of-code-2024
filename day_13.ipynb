{
 "cells": [
  {
   "metadata": {
    "ExecuteTime": {
     "end_time": "2024-12-13T05:44:18.235144Z",
     "start_time": "2024-12-13T05:44:18.222268Z"
    }
   },
   "cell_type": "code",
   "source": [
    "import re\n",
    "from tracemalloc import get_object_traceback\n",
    "\n",
    "from pyarrow import register_extension_type\n",
    "\n",
    "from common.inputreader import InputReader, PuzzleWrapper\n",
    "\n",
    "puzzle = PuzzleWrapper(year=2024, day=int(\"13\"))\n",
    "\n",
    "puzzle.header()\n",
    "# example = get_code_block(puzzle, 5)"
   ],
   "id": "dec75b3898d7314f",
   "outputs": [
    {
     "data": {
      "text/plain": [
       "<IPython.core.display.Markdown object>"
      ],
      "text/markdown": "# Claw Contraption"
     },
     "metadata": {},
     "output_type": "display_data"
    },
    {
     "data": {
      "text/plain": [
       "<IPython.core.display.Markdown object>"
      ],
      "text/markdown": "[Open Website](https://adventofcode.com/2024/day/13)"
     },
     "metadata": {},
     "output_type": "display_data"
    }
   ],
   "execution_count": 9
  },
  {
   "metadata": {
    "ExecuteTime": {
     "end_time": "2024-12-13T05:45:51.442369Z",
     "start_time": "2024-12-13T05:45:51.430616Z"
    }
   },
   "cell_type": "code",
   "source": [
    "# helper functions\n",
    "class Arcade:\n",
    "\n",
    "    def __init__(self, a: tuple, b: tuple, goal: tuple):\n",
    "        self.a = a\n",
    "        self.b = b\n",
    "        self.goal = goal\n",
    "\n",
    "    def __str__(self):\n",
    "        return f\"A: {self.a}, B: {self.b}, Goal: {self.goal}\"\n",
    "\n",
    "\n",
    "def domain_from_input(input: InputReader) -> list:\n",
    "    lines = input.lines_as_strs()\n",
    "\n",
    "    pattern = re.compile(r\"\\d+\")\n",
    "\n",
    "    a = None\n",
    "    b = None\n",
    "    arcades = []\n",
    "\n",
    "    for line in lines:\n",
    "        if len(line) == 0:\n",
    "            continue\n",
    "\n",
    "        if line[0] == \"Button\":\n",
    "            x = int(pattern.findall(line[2]).pop())\n",
    "            y = int(pattern.findall(line[3]).pop())\n",
    "            value = (x, y)\n",
    "            if line[1] == \"A:\":\n",
    "                a = value\n",
    "            elif line[1] == \"B:\":\n",
    "                b = value\n",
    "        elif line[0] == \"Prize:\":\n",
    "            x = int(pattern.findall(line[1]).pop())\n",
    "            y = int(pattern.findall(line[2]).pop())\n",
    "            goal = (x, y)\n",
    "            arcades.append(Arcade(a, b, goal))\n",
    "            a, b, goal = None, None, None\n",
    "\n",
    "    return arcades\n",
    "\n",
    "\n",
    "test_input = domain_from_input(puzzle.example(0))\n",
    "for t in test_input:\n",
    "    print(t)"
   ],
   "id": "34dd2d43c40af29b",
   "outputs": [
    {
     "name": "stdout",
     "output_type": "stream",
     "text": [
      "A: (94, 34), B: (22, 67), Goal: (8400, 5400)\n",
      "A: (26, 66), B: (67, 21), Goal: (12748, 12176)\n",
      "A: (17, 86), B: (84, 37), Goal: (7870, 6450)\n",
      "A: (69, 23), B: (27, 71), Goal: (18641, 10279)\n"
     ]
    }
   ],
   "execution_count": 15
  },
  {
   "metadata": {},
   "cell_type": "code",
   "source": [
    "# test case (part 1)\n",
    "def part_1(reader: InputReader, debug: bool) -> int:\n",
    "    lines = domain_from_input(reader)\n",
    "    if debug:\n",
    "        display(lines)\n",
    "    return 0\n",
    "\n",
    "\n",
    "result = part_1(puzzle.example(0), True)\n",
    "display(result)\n",
    "assert result == 480"
   ],
   "id": "6d23892a17117fed",
   "outputs": [],
   "execution_count": null
  },
  {
   "metadata": {},
   "cell_type": "code",
   "source": [
    "# real case (part 1)\n",
    "result = part_1(puzzle.input(), False)\n",
    "display(result)"
   ],
   "id": "66cab898e4711d42",
   "outputs": [],
   "execution_count": null
  },
  {
   "metadata": {},
   "cell_type": "code",
   "source": [
    "# test case (part 2)\n",
    "def part_2(reader: InputReader, debug: bool) -> int:\n",
    "    lines = domain_from_input(reader)\n",
    "    if debug:\n",
    "        display(lines)\n",
    "    return 0\n",
    "\n",
    "\n",
    "result = part_2(puzzle.example(0), True)\n",
    "display(result)\n",
    "assert result == 0"
   ],
   "id": "d2277c7db8ea0a5e",
   "outputs": [],
   "execution_count": null
  },
  {
   "metadata": {},
   "cell_type": "code",
   "source": [
    "# real case (part 2)\n",
    "result = part_2(puzzle.input(), False)\n",
    "display(result)"
   ],
   "id": "57c071f7c6d2914",
   "outputs": [],
   "execution_count": null
  },
  {
   "metadata": {},
   "cell_type": "code",
   "source": [
    "# print easters eggs\n",
    "puzzle.print_easter_eggs()"
   ],
   "id": "44e329cbb6ad2400",
   "outputs": [],
   "execution_count": null
  }
 ],
 "metadata": {
  "kernelspec": {
   "display_name": "Python 3",
   "language": "python",
   "name": "python3"
  },
  "language_info": {
   "codemirror_mode": {
    "name": "ipython",
    "version": 2
   },
   "file_extension": ".py",
   "mimetype": "text/x-python",
   "name": "python",
   "nbconvert_exporter": "python",
   "pygments_lexer": "ipython2",
   "version": "2.7.6"
  }
 },
 "nbformat": 4,
 "nbformat_minor": 5
}
