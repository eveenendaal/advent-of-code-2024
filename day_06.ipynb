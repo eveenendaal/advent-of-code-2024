{
 "cells": [
  {
   "metadata": {
    "ExecuteTime": {
     "end_time": "2024-12-06T09:01:41.063458Z",
     "start_time": "2024-12-06T09:01:40.988186Z"
    }
   },
   "cell_type": "code",
   "source": [
    "from IPython.core.display import Markdown\n",
    "from aocd.models import Puzzle\n",
    "\n",
    "from common.inputreader import InputReader\n",
    "from common.matrix import Direction, MatrixNavigator\n",
    "\n",
    "puzzle = Puzzle(year=2024, day=int(\"06\"))\n",
    "\n",
    "display(Markdown(f\"# {puzzle.title}\"))\n",
    "display(Markdown(f\"[Open Website]({puzzle.url})\"))\n",
    "\n",
    "direction_char_map = {\n",
    "    Direction.UP: \"^\",\n",
    "    Direction.DOWN: \"v\",\n",
    "    Direction.LEFT: \"<\",\n",
    "    Direction.RIGHT: \">\"\n",
    "}"
   ],
   "id": "dec75b3898d7314f",
   "outputs": [
    {
     "data": {
      "text/plain": [
       "<IPython.core.display.Markdown object>"
      ],
      "text/markdown": "# Guard Gallivant"
     },
     "metadata": {},
     "output_type": "display_data"
    },
    {
     "data": {
      "text/plain": [
       "<IPython.core.display.Markdown object>"
      ],
      "text/markdown": "[Open Website](https://adventofcode.com/2024/day/6)"
     },
     "metadata": {},
     "output_type": "display_data"
    }
   ],
   "execution_count": 9
  },
  {
   "metadata": {
    "ExecuteTime": {
     "end_time": "2024-12-06T09:01:41.076768Z",
     "start_time": "2024-12-06T09:01:41.067592Z"
    }
   },
   "cell_type": "code",
   "source": [
    "# test case (part 1)\n",
    "def part_1(input: InputReader, debug: bool) -> int:\n",
    "    matrix = input.matrix()\n",
    "\n",
    "    def find_guard() -> (MatrixNavigator, Direction):\n",
    "        for x, y, value in matrix:\n",
    "            for direction, char in direction_char_map.items():\n",
    "                if value == char:\n",
    "                    return MatrixNavigator(matrix, x, y), direction\n",
    "        return None, None\n",
    "\n",
    "    pointer, direction = find_guard()\n",
    "    positions = set()\n",
    "\n",
    "    while True:\n",
    "        positions.add(pointer.current_position)\n",
    "\n",
    "        if debug:\n",
    "            # matrix.print()\n",
    "            display(f\"x,y={pointer.current_position}, direction={direction_char_map[direction]}\")\n",
    "\n",
    "        ok, value = pointer.peek_value(direction)\n",
    "        if not ok:\n",
    "            # leaving the matrix\n",
    "            break\n",
    "\n",
    "        if value == \"#\":\n",
    "            # turn right\n",
    "            if direction == Direction.UP:\n",
    "                direction = Direction.RIGHT\n",
    "            elif direction == Direction.RIGHT:\n",
    "                direction = Direction.DOWN\n",
    "            elif direction == Direction.DOWN:\n",
    "                direction = Direction.LEFT\n",
    "            elif direction == Direction.LEFT:\n",
    "                direction = Direction.UP\n",
    "        else:\n",
    "            pointer.set_value(\".\")\n",
    "            pointer.move(direction)\n",
    "            pointer.set_value(direction_char_map[direction])\n",
    "\n",
    "    return len(positions)\n",
    "\n",
    "\n",
    "example = puzzle.examples[0]\n",
    "result = part_1(InputReader(example.input_data), False)\n",
    "assert result == 41"
   ],
   "id": "6d23892a17117fed",
   "outputs": [],
   "execution_count": 10
  },
  {
   "metadata": {
    "ExecuteTime": {
     "end_time": "2024-12-06T09:01:41.118589Z",
     "start_time": "2024-12-06T09:01:41.086431Z"
    }
   },
   "cell_type": "code",
   "source": [
    "# real case (part 1)\n",
    "result = part_1(InputReader(puzzle.input_data), False)\n",
    "display(result)\n",
    "assert result == 5409"
   ],
   "id": "66cab898e4711d42",
   "outputs": [
    {
     "data": {
      "text/plain": [
       "5409"
      ]
     },
     "metadata": {},
     "output_type": "display_data"
    }
   ],
   "execution_count": 11
  },
  {
   "metadata": {
    "ExecuteTime": {
     "end_time": "2024-12-06T09:01:41.147392Z",
     "start_time": "2024-12-06T09:01:41.130315Z"
    }
   },
   "cell_type": "code",
   "source": [
    "# test case (part 2)\n",
    "def part_2(input: InputReader, debug: bool) -> int:\n",
    "    matrix = input.matrix()\n",
    "\n",
    "    def find_guard() -> (MatrixNavigator, Direction):\n",
    "        for next_x, next_y, value in matrix:\n",
    "            for direction, char in direction_char_map.items():\n",
    "                if value == char:\n",
    "                    return MatrixNavigator(matrix, next_x, next_y), direction\n",
    "        return None, None\n",
    "\n",
    "    start_pointer, start_direction = find_guard()\n",
    "\n",
    "    def run_simulation(pointer, direction) -> (bool, set):\n",
    "        positions = set()\n",
    "        history = set()\n",
    "        limit = 10000\n",
    "\n",
    "        while limit > 0:\n",
    "            limit -= 1\n",
    "            positions.add(pointer.current_position)\n",
    "            x, y = pointer.current_position\n",
    "            vector = (x, y, direction)\n",
    "            if vector in history:\n",
    "                return True, positions\n",
    "            history.add(vector)\n",
    "\n",
    "            if debug:\n",
    "                # matrix.print()\n",
    "                display(f\"x,y={pointer.current_position}, direction={direction_char_map[direction]}\")\n",
    "\n",
    "            ok, value = pointer.peek_value(direction)\n",
    "            if not ok:\n",
    "                return False, positions\n",
    "\n",
    "            if value == \"#\":\n",
    "                # turn right\n",
    "                if direction == Direction.UP:\n",
    "                    direction = Direction.RIGHT\n",
    "                elif direction == Direction.RIGHT:\n",
    "                    direction = Direction.DOWN\n",
    "                elif direction == Direction.DOWN:\n",
    "                    direction = Direction.LEFT\n",
    "                elif direction == Direction.LEFT:\n",
    "                    direction = Direction.UP\n",
    "            else:\n",
    "                pointer.set_value(\".\")\n",
    "                pointer.move(direction)\n",
    "                pointer.set_value(direction_char_map[direction])\n",
    "\n",
    "        # throw error if the limit is reached\n",
    "        raise Exception(\"Limit reached\")\n",
    "\n",
    "    # run initial simulation\n",
    "    start_x, start_y = start_pointer.current_position\n",
    "    _, locations = run_simulation(MatrixNavigator(matrix, start_x, start_y), start_direction)\n",
    "    looping_positions = 0\n",
    "    # remove the starting position\n",
    "    locations.remove((start_x, start_y))\n",
    "\n",
    "    # loop over every position except the starting one\n",
    "    for x, y in list(locations):\n",
    "        # copy matrix\n",
    "        new_matrix = matrix.copy()\n",
    "\n",
    "        # modify the new matrix putting a wall at the next position\n",
    "        new_matrix.set_value(x, y, \"#\")\n",
    "\n",
    "        # run simulation\n",
    "        try:\n",
    "            is_loop, new_positions = run_simulation(MatrixNavigator(new_matrix, start_x, start_y), start_direction)\n",
    "        except Exception as e:\n",
    "            raise e\n",
    "\n",
    "        # if it's a loop add that to the looping positions\n",
    "        if is_loop:\n",
    "            looping_positions += 1\n",
    "\n",
    "    return looping_positions\n",
    "\n",
    "\n",
    "example = puzzle.examples[0]\n",
    "result = part_2(InputReader(example.input_data), False)\n",
    "assert result == 6"
   ],
   "id": "d2277c7db8ea0a5e",
   "outputs": [],
   "execution_count": 12
  },
  {
   "metadata": {
    "ExecuteTime": {
     "end_time": "2024-12-06T09:03:57.202036Z",
     "start_time": "2024-12-06T09:01:41.152343Z"
    }
   },
   "cell_type": "code",
   "source": [
    "# real case (part 2)\n",
    "result = part_2(InputReader(puzzle.input_data), False)\n",
    "display(result)\n",
    "assert result == 2022"
   ],
   "id": "57c071f7c6d2914",
   "outputs": [
    {
     "data": {
      "text/plain": [
       "2022"
      ]
     },
     "metadata": {},
     "output_type": "display_data"
    }
   ],
   "execution_count": 13
  },
  {
   "metadata": {
    "ExecuteTime": {
     "end_time": "2024-12-06T09:03:57.236479Z",
     "start_time": "2024-12-06T09:03:57.234669Z"
    }
   },
   "cell_type": "code",
   "source": "",
   "id": "d41d57b11165243f",
   "outputs": [],
   "execution_count": null
  }
 ],
 "metadata": {
  "kernelspec": {
   "display_name": "Python 3",
   "language": "python",
   "name": "python3"
  },
  "language_info": {
   "codemirror_mode": {
    "name": "ipython",
    "version": 2
   },
   "file_extension": ".py",
   "mimetype": "text/x-python",
   "name": "python",
   "nbconvert_exporter": "python",
   "pygments_lexer": "ipython2",
   "version": "2.7.6"
  }
 },
 "nbformat": 4,
 "nbformat_minor": 5
}
