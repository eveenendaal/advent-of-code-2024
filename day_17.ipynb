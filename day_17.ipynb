{
 "cells": [
  {
   "metadata": {
    "ExecuteTime": {
     "end_time": "2024-12-17T10:27:25.696766Z",
     "start_time": "2024-12-17T10:27:25.388009Z"
    }
   },
   "cell_type": "code",
   "source": [
    "from common.inputreader import InputReader, PuzzleWrapper\n",
    "\n",
    "puzzle = PuzzleWrapper(year=2024, day=int(\"17\"))\n",
    "\n",
    "puzzle.header()\n",
    "# example = get_code_block(puzzle, 5)"
   ],
   "id": "dec75b3898d7314f",
   "outputs": [
    {
     "data": {
      "text/plain": [
       "<IPython.core.display.Markdown object>"
      ],
      "text/markdown": "# Chronospatial Computer"
     },
     "metadata": {},
     "output_type": "display_data"
    },
    {
     "data": {
      "text/plain": [
       "<IPython.core.display.Markdown object>"
      ],
      "text/markdown": "[Open Website](https://adventofcode.com/2024/day/17)"
     },
     "metadata": {},
     "output_type": "display_data"
    }
   ],
   "execution_count": 1
  },
  {
   "metadata": {
    "ExecuteTime": {
     "end_time": "2024-12-17T10:30:01.792021Z",
     "start_time": "2024-12-17T10:30:01.763546Z"
    }
   },
   "cell_type": "code",
   "source": [
    "import re\n",
    "\n",
    "\n",
    "class Computer:\n",
    "    def __init__(self, registers=None, program=None):\n",
    "        if program is None:\n",
    "            program = []\n",
    "        if registers is None:\n",
    "            registers = {}\n",
    "        self.registers = registers\n",
    "        self.program = program\n",
    "        self.output = []\n",
    "        self.pointer = 0\n",
    "\n",
    "    def set(self, key: str, value: int):\n",
    "        self.registers[key.upper()] = value\n",
    "\n",
    "    def get(self, key) -> int:\n",
    "        return self.registers[key]\n",
    "\n",
    "    def increment(self):\n",
    "        self.pointer += 2\n",
    "\n",
    "    def get_opcode(self) -> int:\n",
    "        return self.program[self.pointer]\n",
    "\n",
    "    def get_operand(self) -> int:\n",
    "        return self.program[self.pointer + 1]\n",
    "\n",
    "    def get_combo(self) -> int:\n",
    "        operand = self.get_operand()\n",
    "        if operand < 4:\n",
    "            return operand\n",
    "        elif operand == 4:\n",
    "            return self.get(\"A\")\n",
    "        elif operand == 5:\n",
    "            return self.get(\"B\")\n",
    "        elif operand == 6:\n",
    "            return self.get(\"C\")\n",
    "        else:\n",
    "            raise Exception(f\"Unknown instruction {operand}\")\n",
    "\n",
    "    def is_done(self):\n",
    "        return self.pointer >= len(self.program)\n",
    "\n",
    "    def __iter__(self):\n",
    "        return iter(self.program)\n",
    "\n",
    "    def __str__(self):\n",
    "        return f\"Computer: {self.registers}, {self.program}\"\n",
    "\n",
    "    def result(self):\n",
    "        output_str = [str(x) for x in self.output]\n",
    "        return \",\".join(output_str)\n",
    "\n",
    "\n",
    "# helper functions\n",
    "def domain_from_input(input: InputReader) -> Computer:\n",
    "    lines = input.lines_as_strs()\n",
    "\n",
    "    computer = Computer()\n",
    "    regex = re.compile(r\"(\\w+)\")\n",
    "\n",
    "    reading_registers = True\n",
    "    for line in lines:\n",
    "        if reading_registers:\n",
    "            if len(line) == 0:\n",
    "                reading_registers = False\n",
    "                continue\n",
    "            # parse registers\n",
    "            key = regex.findall(line[1])[0]\n",
    "            # remove :\n",
    "            value = int(line[2])\n",
    "            computer.set(key, value)\n",
    "        else:\n",
    "            for number in line[1].split(\",\"):\n",
    "                computer.program.append(int(number))\n",
    "\n",
    "    return computer\n",
    "\n",
    "\n",
    "test_input = domain_from_input(puzzle.example(0))\n",
    "print(test_input)"
   ],
   "id": "34dd2d43c40af29b",
   "outputs": [
    {
     "name": "stdout",
     "output_type": "stream",
     "text": [
      "Computer: {'A': 729, 'B': 0, 'C': 0}, [0, 1, 5, 4, 3, 0]\n"
     ]
    }
   ],
   "execution_count": 11
  },
  {
   "metadata": {
    "ExecuteTime": {
     "end_time": "2024-12-17T10:32:13.508223Z",
     "start_time": "2024-12-17T10:32:13.478974Z"
    }
   },
   "cell_type": "code",
   "source": [
    "# test case (part 1)\n",
    "\n",
    "def execute(computer: Computer):\n",
    "    # calculate opcode\n",
    "    opcode = computer.get_opcode()\n",
    "    operand = computer.get_operand()\n",
    "\n",
    "    # perform operation\n",
    "    if opcode == 0:  # adv\n",
    "        numerator = computer.get(\"A\")\n",
    "        denominator = 2 ** computer.get_combo()\n",
    "        computer.set(\"A\", numerator // denominator)\n",
    "        computer.increment()\n",
    "    elif opcode == 1:  # bxl\n",
    "        computer.set(\"B\", computer.get(\"B\") ^ operand)\n",
    "        computer.increment()\n",
    "    elif opcode == 2:  # bst\n",
    "        computer.set(\"B\", computer.get_combo() % 8)\n",
    "        computer.increment()\n",
    "    elif opcode == 3:  # jnz\n",
    "        if computer.get(\"A\") != 0:\n",
    "            computer.pointer = operand\n",
    "        else:\n",
    "            computer.increment()\n",
    "    elif opcode == 4:  # bxc\n",
    "        computer.set(\"B\", computer.get(\"B\") ^ computer.get(\"C\"))\n",
    "        computer.increment()\n",
    "    elif opcode == 5:  # out\n",
    "        computer.output.append(computer.get_combo() % 8)\n",
    "        computer.increment()\n",
    "    elif opcode == 6:  # bdv\n",
    "        numerator = computer.get(\"A\")\n",
    "        denominator = 2 ** computer.get_combo()\n",
    "        computer.set(\"B\", numerator // denominator)\n",
    "        computer.increment()\n",
    "    elif opcode == 7:  # cdv\n",
    "        numerator = computer.get(\"A\")\n",
    "        denominator = 2 ** computer.get_combo()\n",
    "        computer.set(\"C\", numerator // denominator)\n",
    "        computer.increment()\n",
    "\n",
    "\n",
    "def run_program(a, b, c, instructions) -> Computer:\n",
    "    computer = Computer({\"A\": a, \"B\": b, \"C\": c}, instructions)\n",
    "    while not computer.is_done():\n",
    "        execute(computer)\n",
    "    return computer\n",
    "\n",
    "\n",
    "def part_1(reader: InputReader, debug: bool) -> str:\n",
    "    computer = domain_from_input(reader)\n",
    "    if debug:\n",
    "        print(computer)\n",
    "\n",
    "    while not computer.is_done():\n",
    "        execute(computer)\n",
    "\n",
    "    return computer.result()\n",
    "\n",
    "\n",
    "result = run_program(0, 0, 9, [2, 6])\n",
    "print(result.get(\"B\"))\n",
    "assert result.get(\"B\") == 1\n",
    "\n",
    "result = run_program(10, 0, 0, [5, 0, 5, 1, 5, 4])\n",
    "print(result.result())\n",
    "assert result.result() == \"0,1,2\"\n",
    "\n",
    "result = run_program(2024, 0, 0, [0, 1, 5, 4, 3, 0])\n",
    "print(result.result())\n",
    "assert result.result() == \"4,2,5,6,7,7,7,7,3,1,0\"\n",
    "print(result.get(\"A\"))\n",
    "assert result.get(\"A\") == 0\n",
    "\n",
    "result = run_program(0, 29, 0, [1, 7])\n",
    "print(result.get(\"B\"))\n",
    "assert result.get(\"B\") == 26\n",
    "\n",
    "result = run_program(0, 2024, 43690, [4, 0])\n",
    "print(result.get(\"B\"))\n",
    "assert result.get(\"B\") == 44354\n",
    "\n",
    "\n",
    "result = part_1(puzzle.example(0), True)\n",
    "display(result)\n",
    "assert result == \"4,6,3,5,6,3,5,2,1,0\""
   ],
   "id": "6d23892a17117fed",
   "outputs": [
    {
     "name": "stdout",
     "output_type": "stream",
     "text": [
      "1\n",
      "0,1,2\n",
      "4,2,5,6,7,7,7,7,3,1,0\n",
      "0\n",
      "26\n",
      "44354\n",
      "Computer: {'A': 729, 'B': 0, 'C': 0}, [0, 1, 5, 4, 3, 0]\n"
     ]
    },
    {
     "data": {
      "text/plain": [
       "'4,6,3,5,6,3,5,2,1,0'"
      ]
     },
     "metadata": {},
     "output_type": "display_data"
    }
   ],
   "execution_count": 15
  },
  {
   "metadata": {
    "ExecuteTime": {
     "end_time": "2024-12-17T10:32:21.972719Z",
     "start_time": "2024-12-17T10:32:21.963430Z"
    }
   },
   "cell_type": "code",
   "source": [
    "# real case (part 1)\n",
    "result = part_1(puzzle.input(), False)\n",
    "display(result)"
   ],
   "id": "66cab898e4711d42",
   "outputs": [
    {
     "data": {
      "text/plain": [
       "'3,6,7,0,5,7,3,1,4'"
      ]
     },
     "metadata": {},
     "output_type": "display_data"
    }
   ],
   "execution_count": 16
  },
  {
   "metadata": {},
   "cell_type": "code",
   "source": [
    "# test case (part 2)\n",
    "def part_2(reader: InputReader, debug: bool) -> int:\n",
    "    lines = domain_from_input(reader)\n",
    "    if debug:\n",
    "        display(lines)\n",
    "    return 0\n",
    "\n",
    "\n",
    "result = part_2(puzzle.example(0), True)\n",
    "display(result)\n",
    "assert result == 0"
   ],
   "id": "d2277c7db8ea0a5e",
   "outputs": [],
   "execution_count": null
  },
  {
   "metadata": {},
   "cell_type": "code",
   "source": [
    "# real case (part 2)\n",
    "result = part_2(puzzle.input(), False)\n",
    "display(result)"
   ],
   "id": "57c071f7c6d2914",
   "outputs": [],
   "execution_count": null
  },
  {
   "metadata": {},
   "cell_type": "code",
   "source": [
    "# print easters eggs\n",
    "puzzle.print_easter_eggs()"
   ],
   "id": "44e329cbb6ad2400",
   "outputs": [],
   "execution_count": null
  }
 ],
 "metadata": {
  "kernelspec": {
   "display_name": "Python 3",
   "language": "python",
   "name": "python3"
  },
  "language_info": {
   "codemirror_mode": {
    "name": "ipython",
    "version": 2
   },
   "file_extension": ".py",
   "mimetype": "text/x-python",
   "name": "python",
   "nbconvert_exporter": "python",
   "pygments_lexer": "ipython2",
   "version": "2.7.6"
  }
 },
 "nbformat": 4,
 "nbformat_minor": 5
}
