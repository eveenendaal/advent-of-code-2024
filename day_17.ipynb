{
 "cells": [
  {
   "cell_type": "code",
   "id": "dec75b3898d7314f",
   "metadata": {
    "ExecuteTime": {
     "end_time": "2024-12-17T16:10:35.179545Z",
     "start_time": "2024-12-17T16:10:34.760789Z"
    }
   },
   "source": [
    "from common.inputreader import InputReader, PuzzleWrapper\n",
    "\n",
    "puzzle = PuzzleWrapper(year=2024, day=int(\"17\"))\n",
    "\n",
    "puzzle.header()\n",
    "# example = get_code_block(puzzle, 5)"
   ],
   "outputs": [
    {
     "data": {
      "text/plain": [
       "<IPython.core.display.Markdown object>"
      ],
      "text/markdown": "# Chronospatial Computer"
     },
     "metadata": {},
     "output_type": "display_data"
    },
    {
     "data": {
      "text/plain": [
       "<IPython.core.display.Markdown object>"
      ],
      "text/markdown": "[Open Website](https://adventofcode.com/2024/day/17)"
     },
     "metadata": {},
     "output_type": "display_data"
    }
   ],
   "execution_count": 35
  },
  {
   "cell_type": "code",
   "id": "34dd2d43c40af29b",
   "metadata": {
    "ExecuteTime": {
     "end_time": "2024-12-17T16:10:35.200952Z",
     "start_time": "2024-12-17T16:10:35.190674Z"
    }
   },
   "source": [
    "import re\n",
    "\n",
    "\n",
    "class Computer:\n",
    "    def __init__(self, registers=None, program=None):\n",
    "        if program is None:\n",
    "            program = []\n",
    "        if registers is None:\n",
    "            registers = {}\n",
    "        self.registers = registers\n",
    "        self.program = program\n",
    "        self.output = []\n",
    "        self.pointer = 0\n",
    "\n",
    "    def set(self, key: str, value: int):\n",
    "        self.registers[key.upper()] = value\n",
    "\n",
    "    def get(self, key) -> int:\n",
    "        return self.registers[key]\n",
    "\n",
    "    def increment(self):\n",
    "        self.pointer += 2\n",
    "\n",
    "    def get_opcode(self) -> int:\n",
    "        return self.program[self.pointer]\n",
    "\n",
    "    def get_operand(self) -> int:\n",
    "        return self.program[self.pointer + 1]\n",
    "\n",
    "    def get_combo(self) -> int:\n",
    "        operand = self.get_operand()\n",
    "        if operand < 4:\n",
    "            return operand\n",
    "        elif operand == 4:\n",
    "            return self.get(\"A\")\n",
    "        elif operand == 5:\n",
    "            return self.get(\"B\")\n",
    "        elif operand == 6:\n",
    "            return self.get(\"C\")\n",
    "        else:\n",
    "            raise Exception(f\"Unknown instruction {operand}\")\n",
    "\n",
    "    def is_done(self):\n",
    "        return self.pointer >= len(self.program)\n",
    "\n",
    "    def __iter__(self):\n",
    "        return iter(self.program)\n",
    "\n",
    "    def __str__(self):\n",
    "        return f\"Computer: {self.registers}, {self.program}\"\n",
    "\n",
    "    def result(self):\n",
    "        output_str = [str(x) for x in self.output]\n",
    "        return \",\".join(output_str)\n",
    "\n",
    "\n",
    "# helper functions\n",
    "def domain_from_input(input: InputReader) -> Computer:\n",
    "    lines = input.lines_as_strs()\n",
    "\n",
    "    computer = Computer()\n",
    "    regex = re.compile(r\"(\\w+)\")\n",
    "\n",
    "    reading_registers = True\n",
    "    for line in lines:\n",
    "        if reading_registers:\n",
    "            if len(line) == 0:\n",
    "                reading_registers = False\n",
    "                continue\n",
    "            # parse registers\n",
    "            key = regex.findall(line[1])[0]\n",
    "            # remove :\n",
    "            value = int(line[2])\n",
    "            computer.set(key, value)\n",
    "        else:\n",
    "            for number in line[1].split(\",\"):\n",
    "                computer.program.append(int(number))\n",
    "\n",
    "    return computer\n",
    "\n",
    "\n",
    "test_input = domain_from_input(puzzle.example(0))\n",
    "print(test_input)"
   ],
   "outputs": [
    {
     "name": "stdout",
     "output_type": "stream",
     "text": [
      "Computer: {'A': 729, 'B': 0, 'C': 0}, [0, 1, 5, 4, 3, 0]\n"
     ]
    }
   ],
   "execution_count": 36
  },
  {
   "cell_type": "code",
   "id": "6d23892a17117fed",
   "metadata": {
    "ExecuteTime": {
     "end_time": "2024-12-17T16:10:35.220440Z",
     "start_time": "2024-12-17T16:10:35.209021Z"
    }
   },
   "source": [
    "# test case (part 1)\n",
    "\n",
    "def execute(computer: Computer):\n",
    "    def perform_division(register: str, operand: int):\n",
    "        numerator = computer.get(\"A\")\n",
    "        denominator = 2 ** operand\n",
    "        computer.set(register, numerator // denominator)\n",
    "\n",
    "    # calculate opcode\n",
    "    opcode = computer.get_opcode()\n",
    "    operand = computer.get_operand()\n",
    "\n",
    "    # perform operation\n",
    "    if opcode == 0:  # adv\n",
    "        perform_division(\"A\", computer.get_combo())\n",
    "        computer.increment()\n",
    "    elif opcode == 1:  # bxl\n",
    "        computer.set(\"B\", computer.get(\"B\") ^ operand)\n",
    "        computer.increment()\n",
    "    elif opcode == 2:  # bst\n",
    "        computer.set(\"B\", computer.get_combo() % 8)\n",
    "        computer.increment()\n",
    "    elif opcode == 3:  # jnz\n",
    "        if computer.get(\"A\") != 0:\n",
    "            computer.pointer = operand\n",
    "        else:\n",
    "            computer.increment()\n",
    "    elif opcode == 4:  # bxc\n",
    "        computer.set(\"B\", computer.get(\"B\") ^ computer.get(\"C\"))\n",
    "        computer.increment()\n",
    "    elif opcode == 5:  # out\n",
    "        computer.output.append(computer.get_combo() % 8)\n",
    "        computer.increment()\n",
    "    elif opcode == 6:  # bdv\n",
    "        perform_division(\"B\", computer.get_combo())\n",
    "        computer.increment()\n",
    "    elif opcode == 7:  # cdv\n",
    "        perform_division(\"C\", computer.get_combo())\n",
    "        computer.increment()\n",
    "\n",
    "\n",
    "def run_program(a, b, c, instructions) -> Computer:\n",
    "    computer = Computer({\"A\": a, \"B\": b, \"C\": c}, instructions)\n",
    "    while not computer.is_done():\n",
    "        execute(computer)\n",
    "    return computer\n",
    "\n",
    "\n",
    "def part_1(reader: InputReader, debug: bool) -> str:\n",
    "    computer = domain_from_input(reader)\n",
    "    if debug:\n",
    "        print(computer)\n",
    "\n",
    "    while not computer.is_done():\n",
    "        execute(computer)\n",
    "\n",
    "    return computer.result()\n",
    "\n",
    "\n",
    "result = run_program(0, 0, 9, [2, 6])\n",
    "print(result.get(\"B\"))\n",
    "assert result.get(\"B\") == 1\n",
    "\n",
    "result = run_program(10, 0, 0, [5, 0, 5, 1, 5, 4])\n",
    "print(result.result())\n",
    "assert result.result() == \"0,1,2\"\n",
    "\n",
    "result = run_program(2024, 0, 0, [0, 1, 5, 4, 3, 0])\n",
    "print(result.result())\n",
    "assert result.result() == \"4,2,5,6,7,7,7,7,3,1,0\"\n",
    "print(result.get(\"A\"))\n",
    "assert result.get(\"A\") == 0\n",
    "\n",
    "result = run_program(0, 29, 0, [1, 7])\n",
    "print(result.get(\"B\"))\n",
    "assert result.get(\"B\") == 26\n",
    "\n",
    "result = run_program(0, 2024, 43690, [4, 0])\n",
    "print(result.get(\"B\"))\n",
    "assert result.get(\"B\") == 44354\n",
    "\n",
    "result = part_1(puzzle.example(0), True)\n",
    "display(result)\n",
    "assert result == \"4,6,3,5,6,3,5,2,1,0\""
   ],
   "outputs": [
    {
     "name": "stdout",
     "output_type": "stream",
     "text": [
      "1\n",
      "0,1,2\n",
      "4,2,5,6,7,7,7,7,3,1,0\n",
      "0\n",
      "26\n",
      "44354\n",
      "Computer: {'A': 729, 'B': 0, 'C': 0}, [0, 1, 5, 4, 3, 0]\n"
     ]
    },
    {
     "data": {
      "text/plain": [
       "'4,6,3,5,6,3,5,2,1,0'"
      ]
     },
     "metadata": {},
     "output_type": "display_data"
    }
   ],
   "execution_count": 37
  },
  {
   "cell_type": "code",
   "id": "66cab898e4711d42",
   "metadata": {
    "ExecuteTime": {
     "end_time": "2024-12-17T16:10:35.331943Z",
     "start_time": "2024-12-17T16:10:35.227764Z"
    }
   },
   "source": [
    "# real case (part 1)\n",
    "result = part_1(puzzle.input(), False)\n",
    "display(result)\n",
    "assert result == \"3,6,7,0,5,7,3,1,4\""
   ],
   "outputs": [
    {
     "data": {
      "text/plain": [
       "'3,6,7,0,5,7,3,1,4'"
      ]
     },
     "metadata": {},
     "output_type": "display_data"
    }
   ],
   "execution_count": 38
  },
  {
   "cell_type": "code",
   "id": "d2277c7db8ea0a5e",
   "metadata": {
    "ExecuteTime": {
     "end_time": "2024-12-17T18:52:42.942910Z",
     "start_time": "2024-12-17T18:52:42.837987Z"
    }
   },
   "source": [
    "# test case (part 2)\n",
    "\n",
    "def part_2(reader: InputReader, debug: bool) -> int:\n",
    "    def run_with_a(new_value):\n",
    "        computer = domain_from_input(reader)\n",
    "        input = computer.program\n",
    "        computer.set(\"A\", new_value)\n",
    "\n",
    "        while not computer.is_done():\n",
    "            execute(computer)\n",
    "\n",
    "        return input, computer.output\n",
    "\n",
    "    original_computer = domain_from_input(reader)\n",
    "    program = original_computer.program\n",
    "    candidates = [0]\n",
    "\n",
    "    # eventually the program will output the same as the end of the program\n",
    "    for length in range(1, len(program) + 1):\n",
    "        out = []\n",
    "\n",
    "        # try all candidates\n",
    "        for next_candidate in candidates:\n",
    "            # start with 8 * num\n",
    "            start = 8 * next_candidate\n",
    "            # try all 3-bit combinations\n",
    "            for offset in range(8):\n",
    "                a = start + offset\n",
    "                # run program with a\n",
    "                _, output = run_with_a(a)\n",
    "                # get the end of the program\n",
    "                end = program[-length:]\n",
    "                # if output matches the end of the program\n",
    "                if output == end:\n",
    "                    out.append(a)\n",
    "\n",
    "        # the output that matches the end of the program, are the new candidates\n",
    "        candidates = out\n",
    "\n",
    "    # the smallest candidate from the last iteration is the answer\n",
    "    return min(candidates)\n",
    "\n",
    "\n",
    "result = part_2(puzzle.get_code_block(1), True)\n",
    "print(result)\n",
    "assert result == 117440"
   ],
   "outputs": [
    {
     "name": "stdout",
     "output_type": "stream",
     "text": [
      "117440\n"
     ]
    }
   ],
   "execution_count": 44
  },
  {
   "cell_type": "code",
   "id": "57c071f7c6d2914",
   "metadata": {
    "ExecuteTime": {
     "end_time": "2024-12-17T16:10:35.450549Z",
     "start_time": "2024-12-17T16:10:35.391240Z"
    }
   },
   "source": [
    "# real case (part 2)\n",
    "result = part_2(puzzle.input(), False)\n",
    "display(result)\n",
    "assert result == 164278496489149"
   ],
   "outputs": [
    {
     "data": {
      "text/plain": [
       "164278496489149"
      ]
     },
     "metadata": {},
     "output_type": "display_data"
    }
   ],
   "execution_count": 40
  },
  {
   "cell_type": "code",
   "id": "44e329cbb6ad2400",
   "metadata": {
    "ExecuteTime": {
     "end_time": "2024-12-17T16:10:35.478255Z",
     "start_time": "2024-12-17T16:10:35.467157Z"
    }
   },
   "source": [
    "# print easters eggs\n",
    "puzzle.print_easter_eggs()"
   ],
   "outputs": [
    {
     "data": {
      "text/plain": [
       "<IPython.core.display.Markdown object>"
      ],
      "text/markdown": "## Easter Eggs"
     },
     "metadata": {},
     "output_type": "display_data"
    },
    {
     "data": {
      "text/plain": [
       "<IPython.core.display.Markdown object>"
      ],
      "text/markdown": "<span title=\"The instruction does this using a little trampoline.\"><em>jumps</em></span> (The instruction does this using a little trampoline.)"
     },
     "metadata": {},
     "output_type": "display_data"
    }
   ],
   "execution_count": 41
  },
  {
   "cell_type": "code",
   "id": "666c01a0",
   "metadata": {
    "ExecuteTime": {
     "end_time": "2024-12-17T16:10:35.498799Z",
     "start_time": "2024-12-17T16:10:35.496260Z"
    }
   },
   "source": [],
   "outputs": [],
   "execution_count": null
  }
 ],
 "metadata": {
  "kernelspec": {
   "display_name": "Python 3",
   "language": "python",
   "name": "python3"
  },
  "language_info": {
   "codemirror_mode": {
    "name": "ipython",
    "version": 3
   },
   "file_extension": ".py",
   "mimetype": "text/x-python",
   "name": "python",
   "nbconvert_exporter": "python",
   "pygments_lexer": "ipython3",
   "version": "3.12.1"
  }
 },
 "nbformat": 4,
 "nbformat_minor": 5
}
