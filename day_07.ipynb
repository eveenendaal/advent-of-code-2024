{
 "cells": [
  {
   "metadata": {
    "ExecuteTime": {
     "end_time": "2024-12-08T20:27:18.055408Z",
     "start_time": "2024-12-08T20:27:18.038347Z"
    }
   },
   "cell_type": "code",
   "source": [
    "from IPython.core.display import Markdown\n",
    "from aocd.models import Puzzle\n",
    "\n",
    "from common.inputreader import InputReader, get_code_blocks, get_code_block, print_article, print_easter_eggs\n",
    "\n",
    "puzzle = Puzzle(year=2024, day=int(\"07\"))\n",
    "\n",
    "display(Markdown(f\"# {puzzle.title}\"))\n",
    "display(Markdown(f\"[Open Website]({puzzle.url})\"))"
   ],
   "id": "3997e2dac6ff9ec6",
   "outputs": [
    {
     "data": {
      "text/plain": [
       "<IPython.core.display.Markdown object>"
      ],
      "text/markdown": "# Bridge Repair"
     },
     "metadata": {},
     "output_type": "display_data"
    },
    {
     "data": {
      "text/plain": [
       "<IPython.core.display.Markdown object>"
      ],
      "text/markdown": "[Open Website](https://adventofcode.com/2024/day/7)"
     },
     "metadata": {},
     "output_type": "display_data"
    }
   ],
   "execution_count": 9
  },
  {
   "metadata": {
    "ExecuteTime": {
     "end_time": "2024-12-08T20:27:18.081417Z",
     "start_time": "2024-12-08T20:27:18.070348Z"
    }
   },
   "cell_type": "code",
   "source": [
    "# test case (part 1)\n",
    "def input_to_domain(input: str) -> tuple:\n",
    "    lines = input.lines_as_strs()\n",
    "\n",
    "    input = []\n",
    "\n",
    "    for line in lines:\n",
    "        # trim : from end of first element and convert to int\n",
    "        total = int(line[0][:-1])\n",
    "        # numbers are the rest converted to ints\n",
    "        numbers = list(map(int, line[1:]))\n",
    "\n",
    "        input.append((total, numbers))\n",
    "\n",
    "    return input\n",
    "\n",
    "\n",
    "def max_length_from_domain(input: list) -> int:\n",
    "    max_length = 0\n",
    "\n",
    "    for next_ops in input:\n",
    "        numbers = next_ops[1]\n",
    "        if len(numbers) > max_length:\n",
    "            max_length = len(numbers)\n",
    "\n",
    "    return max_length\n",
    "\n",
    "\n",
    "def part_1(input: InputReader, debug: bool) -> int:\n",
    "    input = input_to_domain(input)\n",
    "    max_length = max_length_from_domain(input)\n",
    "    result = 0\n",
    "\n",
    "    all_operations = []\n",
    "    # find every possible combinations to 2 numbers of length \"operations\"\n",
    "    for i in range(max_length - 1):\n",
    "        if i == 0:\n",
    "            all_operations.append([\n",
    "                [\"+\"],\n",
    "                [\"*\"]\n",
    "            ])\n",
    "        else:\n",
    "            all_operations.append([])\n",
    "            last = all_operations[i - 1]\n",
    "            for next_ops in last:\n",
    "                all_operations[i].append(next_ops + [\"+\"])\n",
    "                all_operations[i].append(next_ops + [\"*\"])\n",
    "\n",
    "    for next_ops in input:\n",
    "        operations = all_operations[len(next_ops[1]) - 2]\n",
    "        target = next_ops[0]\n",
    "        numbers = next_ops[1]\n",
    "\n",
    "        for ops in operations:\n",
    "            # display(ops)\n",
    "            # display(total)\n",
    "            # display(numbers)\n",
    "\n",
    "            local_numbers = numbers.copy()\n",
    "            local_total = local_numbers.pop(0)\n",
    "            for op in ops:\n",
    "                if op == \"+\":\n",
    "                    local_total += local_numbers.pop(0)\n",
    "                elif op == \"*\":\n",
    "                    local_total *= local_numbers.pop(0)\n",
    "\n",
    "            if target == local_total:\n",
    "                if debug:\n",
    "                    print(f'found solution {ops} = {target}')\n",
    "                result += target\n",
    "                break\n",
    "\n",
    "    return result\n",
    "\n",
    "\n",
    "example = puzzle.examples[0]\n",
    "result = part_1(InputReader(example.input_data), True)\n",
    "print(result)\n",
    "assert result == 3749"
   ],
   "id": "a5f9e2b8afa6e4ea",
   "outputs": [
    {
     "name": "stdout",
     "output_type": "stream",
     "text": [
      "found solution ['*'] = 190\n",
      "found solution ['+', '*'] = 3267\n",
      "found solution ['+', '*', '+'] = 292\n",
      "3749\n"
     ]
    }
   ],
   "execution_count": 10
  },
  {
   "metadata": {
    "ExecuteTime": {
     "end_time": "2024-12-08T20:27:18.241754Z",
     "start_time": "2024-12-08T20:27:18.088289Z"
    }
   },
   "cell_type": "code",
   "source": [
    "# real case (part 1)\n",
    "result = part_1(InputReader(puzzle.input_data), False)\n",
    "display(result)\n",
    "assert result == 5540634308362"
   ],
   "id": "dc1099d909bba7b9",
   "outputs": [
    {
     "data": {
      "text/plain": [
       "5540634308362"
      ]
     },
     "metadata": {},
     "output_type": "display_data"
    }
   ],
   "execution_count": 11
  },
  {
   "metadata": {
    "ExecuteTime": {
     "end_time": "2024-12-08T20:27:18.256752Z",
     "start_time": "2024-12-08T20:27:18.251259Z"
    }
   },
   "cell_type": "code",
   "source": [
    "# test case (part 2)\n",
    "def part_2(input: InputReader, debug: bool) -> int:\n",
    "    input = input_to_domain(input)\n",
    "    max_length = max_length_from_domain(input)\n",
    "    result = 0\n",
    "\n",
    "    all_operations = []\n",
    "    # find every possible combinations to 2 numbers of length \"operations\"\n",
    "    for i in range(max_length - 1):\n",
    "        if i == 0:\n",
    "            all_operations.append([\n",
    "                [\"+\"],\n",
    "                [\"*\"],\n",
    "                [\"||\"]\n",
    "            ])\n",
    "        else:\n",
    "            all_operations.append([])\n",
    "            last = all_operations[i - 1]\n",
    "            for next_ops in last:\n",
    "                all_operations[i].append(next_ops + [\"+\"])\n",
    "                all_operations[i].append(next_ops + [\"*\"])\n",
    "                all_operations[i].append(next_ops + [\"||\"])\n",
    "\n",
    "    for next_ops in input:\n",
    "        operations = all_operations[len(next_ops[1]) - 2]\n",
    "        target = next_ops[0]\n",
    "        numbers = next_ops[1]\n",
    "\n",
    "        for ops in operations:\n",
    "            local_numbers = numbers.copy()\n",
    "            local_total = local_numbers.pop(0)\n",
    "            for op in ops:\n",
    "                if op == \"+\":\n",
    "                    local_total += local_numbers.pop(0)\n",
    "                elif op == \"*\":\n",
    "                    local_total *= local_numbers.pop(0)\n",
    "                elif op == \"||\":\n",
    "                    local_total = int(str(local_total) + str(local_numbers.pop(0)))\n",
    "\n",
    "            if target == local_total:\n",
    "                if debug:\n",
    "                    print(f'found solution {ops} = {target}')\n",
    "                result += target\n",
    "                break\n",
    "\n",
    "    return result\n",
    "\n",
    "\n",
    "example = puzzle.examples[0]\n",
    "result = part_2(InputReader(example.input_data), True)\n",
    "print(result)\n",
    "assert result == 11387"
   ],
   "id": "b5ed391dfdde37cb",
   "outputs": [
    {
     "name": "stdout",
     "output_type": "stream",
     "text": [
      "found solution ['*'] = 190\n",
      "found solution ['+', '*'] = 3267\n",
      "found solution ['||'] = 156\n",
      "found solution ['*', '||', '*'] = 7290\n",
      "found solution ['||', '+'] = 192\n",
      "found solution ['+', '*', '+'] = 292\n",
      "11387\n"
     ]
    }
   ],
   "execution_count": 12
  },
  {
   "metadata": {
    "ExecuteTime": {
     "end_time": "2024-12-08T20:27:32.702022Z",
     "start_time": "2024-12-08T20:27:18.321678Z"
    }
   },
   "cell_type": "code",
   "source": [
    "# real case (part 2)\n",
    "result = part_2(InputReader(puzzle.input_data), False)\n",
    "display(result)\n",
    "assert result == 472290821152397"
   ],
   "id": "b5ec328a44a8a6cc",
   "outputs": [
    {
     "data": {
      "text/plain": [
       "472290821152397"
      ]
     },
     "metadata": {},
     "output_type": "display_data"
    }
   ],
   "execution_count": 13
  }
 ],
 "metadata": {
  "kernelspec": {
   "display_name": "Python 3",
   "language": "python",
   "name": "python3"
  },
  "language_info": {
   "codemirror_mode": {
    "name": "ipython",
    "version": 3
   },
   "file_extension": ".py",
   "mimetype": "text/x-python",
   "name": "python",
   "nbconvert_exporter": "python",
   "pygments_lexer": "ipython3",
   "version": "3.13.0"
  }
 },
 "nbformat": 4,
 "nbformat_minor": 5
}
