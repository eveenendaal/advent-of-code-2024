{
 "cells": [
  {
   "metadata": {
    "ExecuteTime": {
     "end_time": "2024-12-08T20:20:32.360536Z",
     "start_time": "2024-12-08T20:20:32.262969Z"
    }
   },
   "cell_type": "code",
   "source": [
    "from IPython.core.display import Markdown\n",
    "from aocd.models import Puzzle\n",
    "\n",
    "from common.inputreader import InputReader, get_code_blocks, get_code_block, print_article, print_easter_eggs\n",
    "\n",
    "puzzle = Puzzle(year=2024, day=int(\"07\"))\n",
    "\n",
    "display(Markdown(f\"# {puzzle.title}\"))\n",
    "display(Markdown(f\"[Open Website]({puzzle.url})\"))"
   ],
   "id": "3997e2dac6ff9ec6",
   "outputs": [
    {
     "data": {
      "text/plain": [
       "<IPython.core.display.Markdown object>"
      ],
      "text/markdown": "# Bridge Repair"
     },
     "metadata": {},
     "output_type": "display_data"
    },
    {
     "data": {
      "text/plain": [
       "<IPython.core.display.Markdown object>"
      ],
      "text/markdown": "[Open Website](https://adventofcode.com/2024/day/7)"
     },
     "metadata": {},
     "output_type": "display_data"
    }
   ],
   "execution_count": 1
  },
  {
   "metadata": {
    "ExecuteTime": {
     "end_time": "2024-12-08T20:20:32.371654Z",
     "start_time": "2024-12-08T20:20:32.365898Z"
    }
   },
   "cell_type": "code",
   "source": [
    "# print part 1\n",
    "print_article(puzzle, 0)"
   ],
   "id": "7d05b4ae378e8702",
   "outputs": [
    {
     "data": {
      "text/plain": [
       "<IPython.core.display.HTML object>"
      ],
      "text/html": [
       "<article class=\"day-desc\">\n",
       " <h2>\n",
       "  --- Day 7: Bridge Repair ---\n",
       " </h2>\n",
       " <p>\n",
       "  The Historians take you to a familiar\n",
       "  <a href=\"/2022/day/9\">\n",
       "   rope bridge\n",
       "  </a>\n",
       "  over a river in the middle of a jungle. The Chief isn't on this side of the bridge, though; maybe he's on the other side?\n",
       " </p>\n",
       " <p>\n",
       "  When you go to cross the bridge, you notice a group of engineers trying to repair it. (Apparently, it breaks pretty frequently.) You won't be able to cross until it's fixed.\n",
       " </p>\n",
       " <p>\n",
       "  You ask how long it'll take; the engineers tell you that it only needs final calibrations, but some young elephants were playing nearby and\n",
       "  <em>\n",
       "   stole all the operators\n",
       "  </em>\n",
       "  from their calibration equations! They could finish the calibrations if only someone could determine which test values could possibly be produced by placing any combination of operators into their calibration equations (your puzzle input).\n",
       " </p>\n",
       " <p>\n",
       "  For example:\n",
       " </p>\n",
       " <pre><code>190: 10 19\n",
       "3267: 81 40 27\n",
       "83: 17 5\n",
       "156: 15 6\n",
       "7290: 6 8 6 15\n",
       "161011: 16 10 13\n",
       "192: 17 8 14\n",
       "21037: 9 7 18 13\n",
       "292: 11 6 16 20\n",
       "</code></pre>\n",
       " <p>\n",
       "  Each line represents a single equation. The test value appears before the colon on each line; it is your job to determine whether the remaining numbers can be combined with operators to produce the test value.\n",
       " </p>\n",
       " <p>\n",
       "  Operators are\n",
       "  <em>\n",
       "   always evaluated left-to-right\n",
       "  </em>\n",
       "  ,\n",
       "  <em>\n",
       "   not\n",
       "  </em>\n",
       "  according to precedence rules. Furthermore, numbers in the equations cannot be rearranged. Glancing into the jungle, you can see elephants holding two different types of operators:\n",
       "  <em>\n",
       "   add\n",
       "  </em>\n",
       "  (\n",
       "  <code>\n",
       "   +\n",
       "  </code>\n",
       "  ) and\n",
       "  <em>\n",
       "   multiply\n",
       "  </em>\n",
       "  (\n",
       "  <code>\n",
       "   *\n",
       "  </code>\n",
       "  ).\n",
       " </p>\n",
       " <p>\n",
       "  Only three of the above equations can be made true by inserting operators:\n",
       " </p>\n",
       " <ul>\n",
       "  <li>\n",
       "   <code>\n",
       "    190: 10 19\n",
       "   </code>\n",
       "   has only one position that accepts an operator: between\n",
       "   <code>\n",
       "    10\n",
       "   </code>\n",
       "   and\n",
       "   <code>\n",
       "    19\n",
       "   </code>\n",
       "   . Choosing\n",
       "   <code>\n",
       "    +\n",
       "   </code>\n",
       "   would give\n",
       "   <code>\n",
       "    29\n",
       "   </code>\n",
       "   , but choosing\n",
       "   <code>\n",
       "    *\n",
       "   </code>\n",
       "   would give the test value (\n",
       "   <code>\n",
       "    10 * 19 = 190\n",
       "   </code>\n",
       "   ).\n",
       "  </li>\n",
       "  <li>\n",
       "   <code>\n",
       "    3267: 81 40 27\n",
       "   </code>\n",
       "   has two positions for operators. Of the four possible configurations of the operators,\n",
       "   <em>\n",
       "    two\n",
       "   </em>\n",
       "   cause the right side to match the test value:\n",
       "   <code>\n",
       "    81 + 40 * 27\n",
       "   </code>\n",
       "   and\n",
       "   <code>\n",
       "    81 * 40 + 27\n",
       "   </code>\n",
       "   both equal\n",
       "   <code>\n",
       "    3267\n",
       "   </code>\n",
       "   (when evaluated left-to-right)!\n",
       "  </li>\n",
       "  <li>\n",
       "   <code>\n",
       "    292: 11 6 16 20\n",
       "   </code>\n",
       "   can be solved in exactly one way:\n",
       "   <code>\n",
       "    11 + 6 * 16 + 20\n",
       "   </code>\n",
       "   .\n",
       "  </li>\n",
       " </ul>\n",
       " <p>\n",
       "  The engineers just need the\n",
       "  <em>\n",
       "   total calibration result\n",
       "  </em>\n",
       "  , which is the sum of the test values from just the equations that could possibly be true. In the above example, the sum of the test values for the three equations listed above is\n",
       "  <code>\n",
       "   <em>\n",
       "    3749\n",
       "   </em>\n",
       "  </code>\n",
       "  .\n",
       " </p>\n",
       " <p>\n",
       "  Determine which equations could possibly be true.\n",
       "  <em>\n",
       "   What is their total calibration result?\n",
       "  </em>\n",
       " </p>\n",
       "</article>\n"
      ]
     },
     "metadata": {},
     "output_type": "display_data"
    }
   ],
   "execution_count": 2
  },
  {
   "metadata": {
    "ExecuteTime": {
     "end_time": "2024-12-08T20:20:32.518407Z",
     "start_time": "2024-12-08T20:20:32.490725Z"
    }
   },
   "cell_type": "code",
   "source": [
    "# test case (part 1)\n",
    "def input_to_domain(input: str) -> tuple:\n",
    "    lines = input.lines_as_strs()\n",
    "\n",
    "    input = []\n",
    "\n",
    "    for line in lines:\n",
    "        # trim : from end of first element and convert to int\n",
    "        total = int(line[0][:-1])\n",
    "        # numbers are the rest converted to ints\n",
    "        numbers = list(map(int, line[1:]))\n",
    "\n",
    "        input.append((total, numbers))\n",
    "\n",
    "    return input\n",
    "\n",
    "\n",
    "def max_length_from_domain(input: list) -> int:\n",
    "    max_length = 0\n",
    "\n",
    "    for next_ops in input:\n",
    "        numbers = next_ops[1]\n",
    "        if len(numbers) > max_length:\n",
    "            max_length = len(numbers)\n",
    "\n",
    "    return max_length\n",
    "\n",
    "\n",
    "def part_1(input: InputReader, debug: bool) -> int:\n",
    "    input = input_to_domain(input)\n",
    "    max_length = max_length_from_domain(input)\n",
    "    result = 0\n",
    "\n",
    "    all_operations = []\n",
    "    # find every possible combinations to 2 numbers of length \"operations\"\n",
    "    for i in range(max_length - 1):\n",
    "        if i == 0:\n",
    "            all_operations.append([\n",
    "                [\"+\"],\n",
    "                [\"*\"]\n",
    "            ])\n",
    "        else:\n",
    "            all_operations.append([])\n",
    "            last = all_operations[i - 1]\n",
    "            for next_ops in last:\n",
    "                all_operations[i].append(next_ops + [\"+\"])\n",
    "                all_operations[i].append(next_ops + [\"*\"])\n",
    "\n",
    "    for next_ops in input:\n",
    "        operations = all_operations[len(next_ops[1]) - 2]\n",
    "        target = next_ops[0]\n",
    "        numbers = next_ops[1]\n",
    "\n",
    "        for ops in operations:\n",
    "            # display(ops)\n",
    "            # display(total)\n",
    "            # display(numbers)\n",
    "\n",
    "            local_numbers = numbers.copy()\n",
    "            local_total = local_numbers.pop(0)\n",
    "            for op in ops:\n",
    "                if op == \"+\":\n",
    "                    local_total += local_numbers.pop(0)\n",
    "                elif op == \"*\":\n",
    "                    local_total *= local_numbers.pop(0)\n",
    "\n",
    "            if target == local_total:\n",
    "                if debug:\n",
    "                    print(f'found solution {ops} = {target}')\n",
    "                result += target\n",
    "                break\n",
    "\n",
    "    return result\n",
    "\n",
    "\n",
    "example = puzzle.examples[0]\n",
    "result = part_1(InputReader(example.input_data), True)\n",
    "print(result)\n",
    "assert result == 3749"
   ],
   "id": "a5f9e2b8afa6e4ea",
   "outputs": [
    {
     "name": "stdout",
     "output_type": "stream",
     "text": [
      "found solution ['*'] = 190\n",
      "found solution ['+', '*'] = 3267\n",
      "found solution ['+', '*', '+'] = 292\n",
      "3749\n"
     ]
    }
   ],
   "execution_count": 3
  },
  {
   "metadata": {
    "ExecuteTime": {
     "end_time": "2024-12-08T20:20:32.685454Z",
     "start_time": "2024-12-08T20:20:32.525330Z"
    }
   },
   "cell_type": "code",
   "source": [
    "# real case (part 1)\n",
    "result = part_1(InputReader(puzzle.input_data), False)\n",
    "display(result)\n",
    "assert result == 5540634308362"
   ],
   "id": "dc1099d909bba7b9",
   "outputs": [
    {
     "data": {
      "text/plain": [
       "5540634308362"
      ]
     },
     "metadata": {},
     "output_type": "display_data"
    }
   ],
   "execution_count": 4
  },
  {
   "metadata": {
    "ExecuteTime": {
     "end_time": "2024-12-08T20:20:32.700666Z",
     "start_time": "2024-12-08T20:20:32.692766Z"
    }
   },
   "cell_type": "code",
   "source": [
    "# print part 2\n",
    "print_article(puzzle, 1)"
   ],
   "id": "17dd1d92a9ddcdb8",
   "outputs": [
    {
     "data": {
      "text/plain": [
       "<IPython.core.display.HTML object>"
      ],
      "text/html": [
       "<article class=\"day-desc\">\n",
       " <h2 id=\"part2\">\n",
       "  --- Part Two ---\n",
       " </h2>\n",
       " <p>\n",
       "  The engineers seem concerned; the total calibration result you gave them is nowhere close to being within safety tolerances. Just then, you spot your mistake: some well-hidden elephants are holding a\n",
       "  <em>\n",
       "   third type of operator\n",
       "  </em>\n",
       "  .\n",
       " </p>\n",
       " <p>\n",
       "  The\n",
       "  <a href=\"https://en.wikipedia.org/wiki/Concatenation\" target=\"_blank\">\n",
       "   concatenation\n",
       "  </a>\n",
       "  operator (\n",
       "  <code>\n",
       "   <span title='I think you mean \".\".'>\n",
       "    ||\n",
       "   </span>\n",
       "  </code>\n",
       "  ) combines the digits from its left and right inputs into a single number. For example,\n",
       "  <code>\n",
       "   12 || 345\n",
       "  </code>\n",
       "  would become\n",
       "  <code>\n",
       "   12345\n",
       "  </code>\n",
       "  . All operators are still evaluated left-to-right.\n",
       " </p>\n",
       " <p>\n",
       "  Now, apart from the three equations that could be made true using only addition and multiplication, the above example has three more equations that can be made true by inserting operators:\n",
       " </p>\n",
       " <ul>\n",
       "  <li>\n",
       "   <code>\n",
       "    156: 15 6\n",
       "   </code>\n",
       "   can be made true through a single concatenation:\n",
       "   <code>\n",
       "    15 || 6 = 156\n",
       "   </code>\n",
       "   .\n",
       "  </li>\n",
       "  <li>\n",
       "   <code>\n",
       "    7290: 6 8 6 15\n",
       "   </code>\n",
       "   can be made true using\n",
       "   <code>\n",
       "    6 * 8 || 6 * 15\n",
       "   </code>\n",
       "   .\n",
       "  </li>\n",
       "  <li>\n",
       "   <code>\n",
       "    192: 17 8 14\n",
       "   </code>\n",
       "   can be made true using\n",
       "   <code>\n",
       "    17 || 8 + 14\n",
       "   </code>\n",
       "   .\n",
       "  </li>\n",
       " </ul>\n",
       " <p>\n",
       "  Adding up all six test values (the three that could be made before using only\n",
       "  <code>\n",
       "   +\n",
       "  </code>\n",
       "  and\n",
       "  <code>\n",
       "   *\n",
       "  </code>\n",
       "  plus the new three that can now be made by also using\n",
       "  <code>\n",
       "   ||\n",
       "  </code>\n",
       "  ) produces the new\n",
       "  <em>\n",
       "   total calibration result\n",
       "  </em>\n",
       "  of\n",
       "  <code>\n",
       "   <em>\n",
       "    11387\n",
       "   </em>\n",
       "  </code>\n",
       "  .\n",
       " </p>\n",
       " <p>\n",
       "  Using your new knowledge of elephant hiding spots, determine which equations could possibly be true.\n",
       "  <em>\n",
       "   What is their total calibration result?\n",
       "  </em>\n",
       " </p>\n",
       "</article>\n"
      ]
     },
     "metadata": {},
     "output_type": "display_data"
    }
   ],
   "execution_count": 5
  },
  {
   "metadata": {
    "ExecuteTime": {
     "end_time": "2024-12-08T20:20:32.738859Z",
     "start_time": "2024-12-08T20:20:32.731785Z"
    }
   },
   "cell_type": "code",
   "source": [
    "# test case (part 2)\n",
    "def part_2(input: InputReader, debug: bool) -> int:\n",
    "    input = input_to_domain(input)\n",
    "    max_length = max_length_from_domain(input)\n",
    "    result = 0\n",
    "\n",
    "    all_operations = []\n",
    "    # find every possible combinations to 2 numbers of length \"operations\"\n",
    "    for i in range(max_length - 1):\n",
    "        if i == 0:\n",
    "            all_operations.append([\n",
    "                [\"+\"],\n",
    "                [\"*\"],\n",
    "                [\"||\"]\n",
    "            ])\n",
    "        else:\n",
    "            all_operations.append([])\n",
    "            last = all_operations[i - 1]\n",
    "            for next_ops in last:\n",
    "                all_operations[i].append(next_ops + [\"+\"])\n",
    "                all_operations[i].append(next_ops + [\"*\"])\n",
    "                all_operations[i].append(next_ops + [\"||\"])\n",
    "\n",
    "    for next_ops in input:\n",
    "        operations = all_operations[len(next_ops[1]) - 2]\n",
    "        target = next_ops[0]\n",
    "        numbers = next_ops[1]\n",
    "\n",
    "        for ops in operations:\n",
    "            local_numbers = numbers.copy()\n",
    "            local_total = local_numbers.pop(0)\n",
    "            for op in ops:\n",
    "                if op == \"+\":\n",
    "                    local_total += local_numbers.pop(0)\n",
    "                elif op == \"*\":\n",
    "                    local_total *= local_numbers.pop(0)\n",
    "                elif op == \"||\":\n",
    "                    local_total = int(str(local_total) + str(local_numbers.pop(0)))\n",
    "\n",
    "            if target == local_total:\n",
    "                if debug:\n",
    "                    print(f'found solution {ops} = {target}')\n",
    "                result += target\n",
    "                break\n",
    "\n",
    "    return result\n",
    "\n",
    "\n",
    "example = puzzle.examples[0]\n",
    "result = part_2(InputReader(example.input_data), True)\n",
    "print(result)\n",
    "assert result == 11387"
   ],
   "id": "b5ed391dfdde37cb",
   "outputs": [
    {
     "name": "stdout",
     "output_type": "stream",
     "text": [
      "found solution ['*'] = 190\n",
      "found solution ['+', '*'] = 3267\n",
      "found solution ['||'] = 156\n",
      "found solution ['*', '||', '*'] = 7290\n",
      "found solution ['||', '+'] = 192\n",
      "found solution ['+', '*', '+'] = 292\n",
      "11387\n"
     ]
    }
   ],
   "execution_count": 6
  },
  {
   "metadata": {
    "ExecuteTime": {
     "end_time": "2024-12-08T20:20:48.314047Z",
     "start_time": "2024-12-08T20:20:32.860203Z"
    }
   },
   "cell_type": "code",
   "source": [
    "# real case (part 2)\n",
    "result = part_2(InputReader(puzzle.input_data), False)\n",
    "display(result)\n",
    "assert result == 472290821152397"
   ],
   "id": "b5ec328a44a8a6cc",
   "outputs": [
    {
     "data": {
      "text/plain": [
       "472290821152397"
      ]
     },
     "metadata": {},
     "output_type": "display_data"
    }
   ],
   "execution_count": 7
  },
  {
   "metadata": {
    "ExecuteTime": {
     "end_time": "2024-12-08T20:20:48.386777Z",
     "start_time": "2024-12-08T20:20:48.381048Z"
    }
   },
   "cell_type": "code",
   "source": [
    "# print easters eggs\n",
    "print_easter_eggs(puzzle)"
   ],
   "id": "5e22c2f2a3b5679e",
   "outputs": [
    {
     "data": {
      "text/plain": [
       "<IPython.core.display.Markdown object>"
      ],
      "text/markdown": "## Easter Eggs"
     },
     "metadata": {},
     "output_type": "display_data"
    },
    {
     "data": {
      "text/plain": [
       "<IPython.core.display.Markdown object>"
      ],
      "text/markdown": "<span title='I think you mean \".\".'>||</span> (I think you mean \".\".)"
     },
     "metadata": {},
     "output_type": "display_data"
    }
   ],
   "execution_count": 8
  }
 ],
 "metadata": {
  "kernelspec": {
   "display_name": "Python 3",
   "language": "python",
   "name": "python3"
  },
  "language_info": {
   "codemirror_mode": {
    "name": "ipython",
    "version": 3
   },
   "file_extension": ".py",
   "mimetype": "text/x-python",
   "name": "python",
   "nbconvert_exporter": "python",
   "pygments_lexer": "ipython3",
   "version": "3.13.0"
  }
 },
 "nbformat": 4,
 "nbformat_minor": 5
}
