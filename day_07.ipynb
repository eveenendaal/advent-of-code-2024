{
 "cells": [
  {
   "cell_type": "code",
   "execution_count": 1,
   "id": "dec75b3898d7314f",
   "metadata": {
    "ExecuteTime": {
     "end_time": "2024-12-07T11:12:29.079658Z",
     "start_time": "2024-12-07T11:12:28.989865Z"
    },
    "execution": {
     "iopub.execute_input": "2024-12-08T05:47:30.558450Z",
     "iopub.status.busy": "2024-12-08T05:47:30.557981Z",
     "iopub.status.idle": "2024-12-08T05:47:30.668160Z",
     "shell.execute_reply": "2024-12-08T05:47:30.667913Z"
    }
   },
   "outputs": [
    {
     "data": {
      "text/markdown": [
       "# Bridge Repair"
      ],
      "text/plain": [
       "<IPython.core.display.Markdown object>"
      ]
     },
     "metadata": {},
     "output_type": "display_data"
    },
    {
     "data": {
      "text/markdown": [
       "[Open Website](https://adventofcode.com/2024/day/7)"
      ],
      "text/plain": [
       "<IPython.core.display.Markdown object>"
      ]
     },
     "metadata": {},
     "output_type": "display_data"
    }
   ],
   "source": [
    "from IPython.core.display import Markdown\n",
    "from aocd.models import Puzzle\n",
    "\n",
    "from common.inputreader import InputReader\n",
    "\n",
    "puzzle = Puzzle(year=2024, day=int(\"07\"))\n",
    "\n",
    "display(Markdown(f\"# {puzzle.title}\"))\n",
    "display(Markdown(f\"[Open Website]({puzzle.url})\"))"
   ]
  },
  {
   "cell_type": "code",
   "execution_count": 2,
   "id": "6d23892a17117fed",
   "metadata": {
    "ExecuteTime": {
     "end_time": "2024-12-07T11:12:29.130944Z",
     "start_time": "2024-12-07T11:12:29.091801Z"
    },
    "execution": {
     "iopub.execute_input": "2024-12-08T05:47:30.669389Z",
     "iopub.status.busy": "2024-12-08T05:47:30.669286Z",
     "iopub.status.idle": "2024-12-08T05:47:30.682861Z",
     "shell.execute_reply": "2024-12-08T05:47:30.682622Z"
    }
   },
   "outputs": [
    {
     "name": "stdout",
     "output_type": "stream",
     "text": [
      "found solution ['*'] = 190\n",
      "found solution ['+', '*'] = 3267\n",
      "found solution ['+', '*', '+'] = 292\n",
      "3749\n"
     ]
    }
   ],
   "source": [
    "# test case (part 1)\n",
    "def input_to_domain(input: str) -> tuple:\n",
    "    lines = input.lines_as_strs()\n",
    "\n",
    "    input = []\n",
    "\n",
    "    for line in lines:\n",
    "        # trim : from end of first element and convert to int\n",
    "        total = int(line[0][:-1])\n",
    "        # numbers are the rest converted to ints\n",
    "        numbers = list(map(int, line[1:]))\n",
    "\n",
    "        input.append((total, numbers))\n",
    "\n",
    "    return input\n",
    "\n",
    "\n",
    "def max_length_from_domain(input: list) -> int:\n",
    "    max_length = 0\n",
    "\n",
    "    for next_ops in input:\n",
    "        numbers = next_ops[1]\n",
    "        if len(numbers) > max_length:\n",
    "            max_length = len(numbers)\n",
    "\n",
    "    return max_length\n",
    "\n",
    "\n",
    "def part_1(input: InputReader, debug: bool) -> int:\n",
    "    input = input_to_domain(input)\n",
    "    max_length = max_length_from_domain(input)\n",
    "    result = 0\n",
    "\n",
    "    all_operations = []\n",
    "    # find every possible combinations to 2 numbers of length \"operations\"\n",
    "    for i in range(max_length - 1):\n",
    "        if i == 0:\n",
    "            all_operations.append([\n",
    "                [\"+\"],\n",
    "                [\"*\"]\n",
    "            ])\n",
    "        else:\n",
    "            all_operations.append([])\n",
    "            last = all_operations[i - 1]\n",
    "            for next_ops in last:\n",
    "                all_operations[i].append(next_ops + [\"+\"])\n",
    "                all_operations[i].append(next_ops + [\"*\"])\n",
    "\n",
    "    for next_ops in input:\n",
    "        operations = all_operations[len(next_ops[1]) - 2]\n",
    "        target = next_ops[0]\n",
    "        numbers = next_ops[1]\n",
    "\n",
    "        for ops in operations:\n",
    "            # display(ops)\n",
    "            # display(total)\n",
    "            # display(numbers)\n",
    "\n",
    "            local_numbers = numbers.copy()\n",
    "            local_total = local_numbers.pop(0)\n",
    "            for op in ops:\n",
    "                if op == \"+\":\n",
    "                    local_total += local_numbers.pop(0)\n",
    "                elif op == \"*\":\n",
    "                    local_total *= local_numbers.pop(0)\n",
    "\n",
    "            if target == local_total:\n",
    "                if debug:\n",
    "                    print(f'found solution {ops} = {target}')\n",
    "                result += target\n",
    "                break\n",
    "\n",
    "    return result\n",
    "\n",
    "\n",
    "example = puzzle.examples[0]\n",
    "result = part_1(InputReader(example.input_data), True)\n",
    "print(result)\n",
    "assert result == 3749"
   ]
  },
  {
   "cell_type": "code",
   "execution_count": 3,
   "id": "66cab898e4711d42",
   "metadata": {
    "ExecuteTime": {
     "end_time": "2024-12-07T11:12:29.371023Z",
     "start_time": "2024-12-07T11:12:29.218080Z"
    },
    "execution": {
     "iopub.execute_input": "2024-12-08T05:47:30.683964Z",
     "iopub.status.busy": "2024-12-08T05:47:30.683866Z",
     "iopub.status.idle": "2024-12-08T05:47:30.826169Z",
     "shell.execute_reply": "2024-12-08T05:47:30.825927Z"
    }
   },
   "outputs": [
    {
     "data": {
      "text/plain": [
       "5540634308362"
      ]
     },
     "metadata": {},
     "output_type": "display_data"
    }
   ],
   "source": [
    "# real case (part 1)\n",
    "result = part_1(InputReader(puzzle.input_data), False)\n",
    "display(result)\n",
    "assert result == 5540634308362"
   ]
  },
  {
   "cell_type": "code",
   "execution_count": 4,
   "id": "d2277c7db8ea0a5e",
   "metadata": {
    "ExecuteTime": {
     "end_time": "2024-12-07T11:12:29.388020Z",
     "start_time": "2024-12-07T11:12:29.381624Z"
    },
    "execution": {
     "iopub.execute_input": "2024-12-08T05:47:30.827377Z",
     "iopub.status.busy": "2024-12-08T05:47:30.827294Z",
     "iopub.status.idle": "2024-12-08T05:47:30.831623Z",
     "shell.execute_reply": "2024-12-08T05:47:30.831393Z"
    }
   },
   "outputs": [
    {
     "name": "stdout",
     "output_type": "stream",
     "text": [
      "found solution ['*'] = 190\n",
      "found solution ['+', '*'] = 3267\n",
      "found solution ['||'] = 156\n",
      "found solution ['*', '||', '*'] = 7290\n",
      "found solution ['||', '+'] = 192\n",
      "found solution ['+', '*', '+'] = 292\n",
      "11387\n"
     ]
    }
   ],
   "source": [
    "# test case (part 2)\n",
    "def part_2(input: InputReader, debug: bool) -> int:\n",
    "    input = input_to_domain(input)\n",
    "    max_length = max_length_from_domain(input)\n",
    "    result = 0\n",
    "\n",
    "    all_operations = []\n",
    "    # find every possible combinations to 2 numbers of length \"operations\"\n",
    "    for i in range(max_length - 1):\n",
    "        if i == 0:\n",
    "            all_operations.append([\n",
    "                [\"+\"],\n",
    "                [\"*\"],\n",
    "                [\"||\"]\n",
    "            ])\n",
    "        else:\n",
    "            all_operations.append([])\n",
    "            last = all_operations[i - 1]\n",
    "            for next_ops in last:\n",
    "                all_operations[i].append(next_ops + [\"+\"])\n",
    "                all_operations[i].append(next_ops + [\"*\"])\n",
    "                all_operations[i].append(next_ops + [\"||\"])\n",
    "\n",
    "    for next_ops in input:\n",
    "        operations = all_operations[len(next_ops[1]) - 2]\n",
    "        target = next_ops[0]\n",
    "        numbers = next_ops[1]\n",
    "\n",
    "        for ops in operations:\n",
    "            local_numbers = numbers.copy()\n",
    "            local_total = local_numbers.pop(0)\n",
    "            for op in ops:\n",
    "                if op == \"+\":\n",
    "                    local_total += local_numbers.pop(0)\n",
    "                elif op == \"*\":\n",
    "                    local_total *= local_numbers.pop(0)\n",
    "                elif op == \"||\":\n",
    "                    local_total = int(str(local_total) + str(local_numbers.pop(0)))\n",
    "\n",
    "            if target == local_total:\n",
    "                if debug:\n",
    "                    print(f'found solution {ops} = {target}')\n",
    "                result += target\n",
    "                break\n",
    "\n",
    "    return result\n",
    "\n",
    "\n",
    "example = puzzle.examples[0]\n",
    "result = part_2(InputReader(example.input_data), True)\n",
    "print(result)\n",
    "assert result == 11387"
   ]
  },
  {
   "cell_type": "code",
   "execution_count": 5,
   "id": "57c071f7c6d2914",
   "metadata": {
    "ExecuteTime": {
     "end_time": "2024-12-07T11:12:43.970867Z",
     "start_time": "2024-12-07T11:12:29.399128Z"
    },
    "execution": {
     "iopub.execute_input": "2024-12-08T05:47:30.832808Z",
     "iopub.status.busy": "2024-12-08T05:47:30.832727Z",
     "iopub.status.idle": "2024-12-08T05:47:44.890911Z",
     "shell.execute_reply": "2024-12-08T05:47:44.890654Z"
    }
   },
   "outputs": [
    {
     "data": {
      "text/plain": [
       "472290821152397"
      ]
     },
     "metadata": {},
     "output_type": "display_data"
    }
   ],
   "source": [
    "# real case (part 2)\n",
    "result = part_2(InputReader(puzzle.input_data), False)\n",
    "display(result)\n",
    "assert result == 472290821152397"
   ]
  },
  {
   "cell_type": "code",
   "execution_count": null,
   "id": "9094239ae7ff9412",
   "metadata": {
    "ExecuteTime": {
     "end_time": "2024-12-07T11:12:43.978884Z",
     "start_time": "2024-12-07T11:12:43.976916Z"
    }
   },
   "outputs": [],
   "source": []
  }
 ],
 "metadata": {
  "kernelspec": {
   "display_name": "Python 3",
   "language": "python",
   "name": "python3"
  },
  "language_info": {
   "codemirror_mode": {
    "name": "ipython",
    "version": 3
   },
   "file_extension": ".py",
   "mimetype": "text/x-python",
   "name": "python",
   "nbconvert_exporter": "python",
   "pygments_lexer": "ipython3",
   "version": "3.13.0"
  }
 },
 "nbformat": 4,
 "nbformat_minor": 5
}
