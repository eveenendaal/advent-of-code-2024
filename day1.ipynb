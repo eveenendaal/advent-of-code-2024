{
 "cells": [
  {
   "metadata": {
    "collapsed": true,
    "ExecuteTime": {
     "end_time": "2024-11-27T18:22:03.451539Z",
     "start_time": "2024-11-27T18:22:03.446853Z"
    }
   },
   "cell_type": "code",
   "source": [
    "# read text line by line from day1/input.txt\n",
    "with open('day1/test.txt') as f:\n",
    "    test_input = f.readlines()\n",
    "\n",
    "with open('day1/input.txt') as f:\n",
    "    real_input = f.readlines()"
   ],
   "id": "initial_id",
   "outputs": [],
   "execution_count": 2
  },
  {
   "metadata": {
    "ExecuteTime": {
     "end_time": "2024-11-27T18:22:03.467989Z",
     "start_time": "2024-11-27T18:22:03.462457Z"
    }
   },
   "cell_type": "code",
   "source": [
    "# test case\n",
    "display(test_input)"
   ],
   "id": "10bac90b39b09cc2",
   "outputs": [
    {
     "data": {
      "text/plain": [
       "[]"
      ]
     },
     "metadata": {},
     "output_type": "display_data"
    }
   ],
   "execution_count": 3
  },
  {
   "metadata": {
    "ExecuteTime": {
     "end_time": "2024-11-27T18:22:03.485877Z",
     "start_time": "2024-11-27T18:22:03.482414Z"
    }
   },
   "cell_type": "code",
   "source": [
    "# real case\n",
    "display(real_input)"
   ],
   "id": "66cab898e4711d42",
   "outputs": [
    {
     "data": {
      "text/plain": [
       "[]"
      ]
     },
     "metadata": {},
     "output_type": "display_data"
    }
   ],
   "execution_count": 4
  }
 ],
 "metadata": {
  "kernelspec": {
   "display_name": "Python 3",
   "language": "python",
   "name": "python3"
  },
  "language_info": {
   "codemirror_mode": {
    "name": "ipython",
    "version": 2
   },
   "file_extension": ".py",
   "mimetype": "text/x-python",
   "name": "python",
   "nbconvert_exporter": "python",
   "pygments_lexer": "ipython2",
   "version": "2.7.6"
  }
 },
 "nbformat": 4,
 "nbformat_minor": 5
}
