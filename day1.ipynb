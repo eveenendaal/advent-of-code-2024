{
 "cells": [
  {
   "metadata": {
    "collapsed": true,
    "ExecuteTime": {
     "end_time": "2024-12-01T11:30:11.107910Z",
     "start_time": "2024-12-01T11:30:11.015622Z"
    }
   },
   "cell_type": "code",
   "source": [
    "from aocd.models import Puzzle\n",
    "from dotenv import load_dotenv\n",
    "\n",
    "from common.inputreader import InputReader\n",
    "\n",
    "load_dotenv()\n",
    "puzzle = Puzzle(year=2024, day=1)"
   ],
   "id": "initial_id",
   "outputs": [],
   "execution_count": 1
  },
  {
   "metadata": {
    "ExecuteTime": {
     "end_time": "2024-12-01T11:30:11.146509Z",
     "start_time": "2024-12-01T11:30:11.111148Z"
    }
   },
   "cell_type": "code",
   "source": [
    "# test case (part 1)\n",
    "\n",
    "def part_1(input: InputReader):\n",
    "    lines = input.lines_as_ints()\n",
    "\n",
    "    left = []\n",
    "    right = []\n",
    "\n",
    "    # iterate over the lines and split the line by whitespace and append to left and right\n",
    "    for line in lines:\n",
    "        left.append(line[0])\n",
    "        right.append(line[1])\n",
    "\n",
    "    # sort the left and right lists\n",
    "    left.sort()\n",
    "    right.sort()\n",
    "\n",
    "    # iterate over the lists and calculate the difference\n",
    "    diff = 0\n",
    "    for i in range(len(left)):\n",
    "        diff += abs(int(left[i]) - int(right[i]))\n",
    "\n",
    "    return diff\n",
    "\n",
    "\n",
    "result = part_1(InputReader(puzzle.examples[0].input_data))\n",
    "\n",
    "assert result == 11\n"
   ],
   "id": "10bac90b39b09cc2",
   "outputs": [],
   "execution_count": 2
  },
  {
   "metadata": {
    "ExecuteTime": {
     "end_time": "2024-12-01T11:30:11.227636Z",
     "start_time": "2024-12-01T11:30:11.221785Z"
    }
   },
   "cell_type": "code",
   "source": [
    "# real case (part 1)\n",
    "\n",
    "result = part_1(InputReader(puzzle.input_data))\n",
    "\n",
    "display(result)"
   ],
   "id": "66cab898e4711d42",
   "outputs": [
    {
     "data": {
      "text/plain": [
       "1651298"
      ]
     },
     "metadata": {},
     "output_type": "display_data"
    }
   ],
   "execution_count": 3
  },
  {
   "metadata": {
    "ExecuteTime": {
     "end_time": "2024-12-01T11:30:11.236934Z",
     "start_time": "2024-12-01T11:30:11.232836Z"
    }
   },
   "cell_type": "code",
   "source": [
    "# test case (part 2)\n",
    "\n",
    "def part_2(input: InputReader):\n",
    "    lines = input.lines_as_ints()\n",
    "\n",
    "    left = []\n",
    "    right = []\n",
    "\n",
    "    # iterate over the lines and split the line by whitespace and append to left and right\n",
    "    for line in lines:\n",
    "        left.append(line[0])\n",
    "        right.append(line[1])\n",
    "\n",
    "    # iterate over the lists and calculate the difference\n",
    "    total = 0\n",
    "    for i in range(len(left)):\n",
    "        next_left = left[i]\n",
    "\n",
    "        # how many times does the next_left appear in the right list\n",
    "        count = right.count(next_left)\n",
    "\n",
    "        total += next_left * count\n",
    "\n",
    "    return total\n",
    "\n",
    "\n",
    "result = part_2(InputReader(puzzle.examples[0].input_data))\n",
    "\n",
    "assert result == 31\n"
   ],
   "id": "d2277c7db8ea0a5e",
   "outputs": [],
   "execution_count": 4
  },
  {
   "metadata": {
    "ExecuteTime": {
     "end_time": "2024-12-01T11:30:11.270682Z",
     "start_time": "2024-12-01T11:30:11.259604Z"
    }
   },
   "cell_type": "code",
   "source": [
    "# real case (part 2)\n",
    "\n",
    "result = part_2(InputReader(puzzle.input_data))\n",
    "\n",
    "display(result)"
   ],
   "id": "57c071f7c6d2914",
   "outputs": [
    {
     "data": {
      "text/plain": [
       "21306195"
      ]
     },
     "metadata": {},
     "output_type": "display_data"
    }
   ],
   "execution_count": 5
  },
  {
   "metadata": {
    "ExecuteTime": {
     "end_time": "2024-12-01T11:30:11.283707Z",
     "start_time": "2024-12-01T11:30:11.282306Z"
    }
   },
   "cell_type": "code",
   "source": "",
   "id": "6f56c505ddd3ef1f",
   "outputs": [],
   "execution_count": null
  }
 ],
 "metadata": {
  "kernelspec": {
   "display_name": "Python 3",
   "language": "python",
   "name": "python3"
  },
  "language_info": {
   "codemirror_mode": {
    "name": "ipython",
    "version": 2
   },
   "file_extension": ".py",
   "mimetype": "text/x-python",
   "name": "python",
   "nbconvert_exporter": "python",
   "pygments_lexer": "ipython2",
   "version": "2.7.6"
  }
 },
 "nbformat": 4,
 "nbformat_minor": 5
}
