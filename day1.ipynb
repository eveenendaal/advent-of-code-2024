{
 "cells": [
  {
   "metadata": {
    "collapsed": true,
    "ExecuteTime": {
     "end_time": "2024-11-30T10:03:39.281730Z",
     "start_time": "2024-11-30T10:03:39.277733Z"
    }
   },
   "cell_type": "code",
   "source": [
    "from common.fileutils import read_input\n",
    "\n",
    "# read text line by line from day1/input.txt\n",
    "test_input = read_input('day1/test.txt')\n",
    "real_input = read_input('day1/input.txt')"
   ],
   "id": "initial_id",
   "outputs": [],
   "execution_count": 3
  },
  {
   "metadata": {
    "ExecuteTime": {
     "end_time": "2024-11-30T10:03:39.379129Z",
     "start_time": "2024-11-30T10:03:39.376290Z"
    }
   },
   "cell_type": "code",
   "source": [
    "# test case (part 1)\n",
    "display(test_input)"
   ],
   "id": "10bac90b39b09cc2",
   "outputs": [
    {
     "data": {
      "text/plain": [
       "['1', '2', '3', '4']"
      ]
     },
     "metadata": {},
     "output_type": "display_data"
    }
   ],
   "execution_count": 4
  },
  {
   "metadata": {},
   "cell_type": "code",
   "source": [
    "# real case (part 1)\n",
    "display(real_input)"
   ],
   "id": "66cab898e4711d42",
   "outputs": [],
   "execution_count": null
  },
  {
   "metadata": {},
   "cell_type": "code",
   "outputs": [],
   "execution_count": null,
   "source": [
    "# test case (part 2)\n",
    "display(test_input)"
   ],
   "id": "d2277c7db8ea0a5e"
  },
  {
   "metadata": {},
   "cell_type": "code",
   "outputs": [],
   "execution_count": null,
   "source": [
    "# real case (part 2)\n",
    "display(real_input)"
   ],
   "id": "57c071f7c6d2914"
  }
 ],
 "metadata": {
  "kernelspec": {
   "display_name": "Python 3",
   "language": "python",
   "name": "python3"
  },
  "language_info": {
   "codemirror_mode": {
    "name": "ipython",
    "version": 2
   },
   "file_extension": ".py",
   "mimetype": "text/x-python",
   "name": "python",
   "nbconvert_exporter": "python",
   "pygments_lexer": "ipython2",
   "version": "2.7.6"
  }
 },
 "nbformat": 4,
 "nbformat_minor": 5
}
