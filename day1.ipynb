{
 "cells": [
  {
   "metadata": {
    "collapsed": true,
    "ExecuteTime": {
     "end_time": "2024-12-01T06:22:10.504776Z",
     "start_time": "2024-12-01T06:22:10.498805Z"
    }
   },
   "cell_type": "code",
   "source": [
    "from common.inputreader import InputReader\n",
    "\n",
    "test_input = InputReader('day1/test.txt')\n",
    "real_input = InputReader('day1/input.txt')"
   ],
   "id": "initial_id",
   "outputs": [],
   "execution_count": 6
  },
  {
   "metadata": {
    "ExecuteTime": {
     "end_time": "2024-12-01T06:22:10.518964Z",
     "start_time": "2024-12-01T06:22:10.514504Z"
    }
   },
   "cell_type": "code",
   "source": [
    "# test case (part 1)\n",
    "\n",
    "def part_1(input: InputReader):\n",
    "    lines = input.lines_as_ints()\n",
    "\n",
    "    left = []\n",
    "    right = []\n",
    "\n",
    "    # iterate over the lines and split the line by whitespace and append to left and right\n",
    "    for line in lines:\n",
    "        left.append(line[0])\n",
    "        right.append(line[1])\n",
    "\n",
    "    # sort the left and right lists\n",
    "    left.sort()\n",
    "    right.sort()\n",
    "\n",
    "    # iterate over the lists and calculate the difference\n",
    "    diff = 0\n",
    "    for i in range(len(left)):\n",
    "        diff += abs(int(left[i]) - int(right[i]))\n",
    "\n",
    "    return diff\n",
    "\n",
    "\n",
    "diff = part_1(test_input)\n",
    "\n",
    "assert diff == 11\n"
   ],
   "id": "10bac90b39b09cc2",
   "outputs": [],
   "execution_count": 7
  },
  {
   "metadata": {
    "ExecuteTime": {
     "end_time": "2024-12-01T06:22:10.531844Z",
     "start_time": "2024-12-01T06:22:10.526783Z"
    }
   },
   "cell_type": "code",
   "source": [
    "# real case (part 1)\n",
    "\n",
    "diff = part_1(real_input)\n",
    "\n",
    "print(diff)"
   ],
   "id": "66cab898e4711d42",
   "outputs": [
    {
     "name": "stdout",
     "output_type": "stream",
     "text": [
      "1651298\n"
     ]
    }
   ],
   "execution_count": 8
  },
  {
   "metadata": {
    "ExecuteTime": {
     "end_time": "2024-12-01T06:22:10.546523Z",
     "start_time": "2024-12-01T06:22:10.542815Z"
    }
   },
   "cell_type": "code",
   "source": [
    "# test case (part 2)\n",
    "\n",
    "def part_2(input: InputReader):\n",
    "    lines = input.lines_as_ints()\n",
    "\n",
    "    left = []\n",
    "    right = []\n",
    "\n",
    "    # iterate over the lines and split the line by whitespace and append to left and right\n",
    "    for line in lines:\n",
    "        left.append(line[0])\n",
    "        right.append(line[1])\n",
    "\n",
    "    # iterate over the lists and calculate the difference\n",
    "    total = 0\n",
    "    for i in range(len(left)):\n",
    "        next_left = left[i]\n",
    "\n",
    "        # how many times does the next_left appear in the right list\n",
    "        count = right.count(next_left)\n",
    "\n",
    "        total += next_left * count\n",
    "\n",
    "    return total\n",
    "\n",
    "\n",
    "diff = part_2(test_input)\n",
    "\n",
    "assert diff == 31\n"
   ],
   "id": "d2277c7db8ea0a5e",
   "outputs": [],
   "execution_count": 9
  },
  {
   "metadata": {
    "ExecuteTime": {
     "end_time": "2024-12-01T06:22:10.563608Z",
     "start_time": "2024-12-01T06:22:10.552864Z"
    }
   },
   "cell_type": "code",
   "source": [
    "# real case (part 2)\n",
    "\n",
    "total = part_2(real_input)\n",
    "\n",
    "print(total)"
   ],
   "id": "57c071f7c6d2914",
   "outputs": [
    {
     "name": "stdout",
     "output_type": "stream",
     "text": [
      "21306195\n"
     ]
    }
   ],
   "execution_count": 10
  },
  {
   "metadata": {
    "ExecuteTime": {
     "end_time": "2024-12-01T06:22:10.573523Z",
     "start_time": "2024-12-01T06:22:10.572284Z"
    }
   },
   "cell_type": "code",
   "source": "",
   "id": "6f56c505ddd3ef1f",
   "outputs": [],
   "execution_count": null
  }
 ],
 "metadata": {
  "kernelspec": {
   "display_name": "Python 3",
   "language": "python",
   "name": "python3"
  },
  "language_info": {
   "codemirror_mode": {
    "name": "ipython",
    "version": 2
   },
   "file_extension": ".py",
   "mimetype": "text/x-python",
   "name": "python",
   "nbconvert_exporter": "python",
   "pygments_lexer": "ipython2",
   "version": "2.7.6"
  }
 },
 "nbformat": 4,
 "nbformat_minor": 5
}
