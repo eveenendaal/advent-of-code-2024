{
 "cells": [
  {
   "cell_type": "code",
   "id": "initial_id",
   "metadata": {
    "collapsed": true,
    "ExecuteTime": {
     "end_time": "2024-11-27T18:20:50.358856Z",
     "start_time": "2024-11-27T18:20:50.356096Z"
    }
   },
   "source": [
    "# read text line by line from day1/input.txt\n",
    "with open('day1/test.txt') as f:\n",
    "    test_input = f.readlines()\n",
    "\n",
    "with open('day1/input.txt') as f:\n",
    "    real_input = f.readlines()"
   ],
   "outputs": [],
   "execution_count": 1
  },
  {
   "metadata": {
    "ExecuteTime": {
     "end_time": "2024-11-27T18:20:31.049620Z",
     "start_time": "2024-11-27T18:20:31.046144Z"
    }
   },
   "cell_type": "code",
   "source": "# test case",
   "id": "10bac90b39b09cc2",
   "outputs": [],
   "execution_count": 2
  },
  {
   "metadata": {},
   "cell_type": "code",
   "outputs": [],
   "execution_count": null,
   "source": "# real case",
   "id": "66cab898e4711d42"
  }
 ],
 "metadata": {
  "kernelspec": {
   "display_name": "Python 3",
   "language": "python",
   "name": "python3"
  },
  "language_info": {
   "codemirror_mode": {
    "name": "ipython",
    "version": 2
   },
   "file_extension": ".py",
   "mimetype": "text/x-python",
   "name": "python",
   "nbconvert_exporter": "python",
   "pygments_lexer": "ipython2",
   "version": "2.7.6"
  }
 },
 "nbformat": 4,
 "nbformat_minor": 5
}
