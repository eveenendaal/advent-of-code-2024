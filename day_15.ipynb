{
 "cells": [
  {
   "cell_type": "code",
   "id": "dec75b3898d7314f",
   "metadata": {
    "ExecuteTime": {
     "end_time": "2024-12-15T15:45:19.007212Z",
     "start_time": "2024-12-15T15:45:18.994163Z"
    }
   },
   "source": [
    "from typing import Any\n",
    "\n",
    "from common.inputreader import InputReader, PuzzleWrapper\n",
    "\n",
    "puzzle = PuzzleWrapper(year=2024, day=int(\"15\"))\n",
    "\n",
    "puzzle.header()\n",
    "# example = get_code_block(puzzle, 5)"
   ],
   "outputs": [
    {
     "data": {
      "text/plain": [
       "<IPython.core.display.Markdown object>"
      ],
      "text/markdown": "# Warehouse Woes"
     },
     "metadata": {},
     "output_type": "display_data"
    },
    {
     "data": {
      "text/plain": [
       "<IPython.core.display.Markdown object>"
      ],
      "text/markdown": "[Open Website](https://adventofcode.com/2024/day/15)"
     },
     "metadata": {},
     "output_type": "display_data"
    }
   ],
   "execution_count": 37
  },
  {
   "cell_type": "code",
   "id": "34dd2d43c40af29b",
   "metadata": {
    "ExecuteTime": {
     "end_time": "2024-12-15T15:45:19.051902Z",
     "start_time": "2024-12-15T15:45:19.041305Z"
    }
   },
   "source": [
    "from common.matrix import Matrix, MatrixNavigator\n",
    "\n",
    "\n",
    "# helper functions\n",
    "def domain_from_input(input: InputReader) -> (Matrix, list):\n",
    "    lines = input.lines_as_str()\n",
    "\n",
    "    matrix = []\n",
    "    instructions = []\n",
    "\n",
    "    # building map\n",
    "    building_map = True\n",
    "    for line in lines:\n",
    "        if building_map:\n",
    "            # split on characters\n",
    "            matrix.append(list(line))\n",
    "\n",
    "            if len(line) == 0:\n",
    "                building_map = False\n",
    "        else:\n",
    "            for next in line:\n",
    "                instructions.append(next)\n",
    "\n",
    "    return Matrix(matrix), instructions\n",
    "\n",
    "\n",
    "matrix, instructions = domain_from_input(puzzle.example(0))\n",
    "matrix.print()"
   ],
   "outputs": [
    {
     "name": "stdout",
     "output_type": "stream",
     "text": [
      "##########\n",
      "#..O..O.O#\n",
      "#......O.#\n",
      "#.OO..O.O#\n",
      "#..O@..O.#\n",
      "#O#..O...#\n",
      "#O..O..O.#\n",
      "#.OO.O.OO#\n",
      "#....O...#\n",
      "##########\n",
      "\n"
     ]
    }
   ],
   "execution_count": 38
  },
  {
   "cell_type": "code",
   "id": "6d23892a17117fed",
   "metadata": {
    "ExecuteTime": {
     "end_time": "2024-12-15T15:45:19.079847Z",
     "start_time": "2024-12-15T15:45:19.063219Z"
    }
   },
   "source": [
    "from common.matrix import Direction\n",
    "\n",
    "# test case (part 1)\n",
    "instructions_map = {\n",
    "    \">\": Direction.RIGHT,\n",
    "    \"<\": Direction.LEFT,\n",
    "    \"^\": Direction.UP,\n",
    "    \"v\": Direction.DOWN\n",
    "}\n",
    "\n",
    "\n",
    "def part_1(reader: InputReader, debug: bool) -> int:\n",
    "    matrix, instructions = domain_from_input(reader)\n",
    "\n",
    "    if debug:\n",
    "        matrix.print()\n",
    "\n",
    "    # find start\n",
    "    pointer = None\n",
    "    for x, y, value in matrix:\n",
    "        if value == \"@\":\n",
    "            pointer = MatrixNavigator(matrix, x, y)\n",
    "            break\n",
    "\n",
    "    # run through instructions\n",
    "    for instruction in instructions:\n",
    "        direction = instructions_map[instruction]\n",
    "        _, value = pointer.peek_value(direction)\n",
    "        if value == \".\":  # open\n",
    "            pointer.set_value(\".\")\n",
    "            pointer.move(direction)\n",
    "            pointer.set_value(\"@\")\n",
    "        elif value == \"O\":  # wall\n",
    "            # copy pointers\n",
    "            candidate = pointer.copy()\n",
    "            candidate.move(direction)\n",
    "            scout = candidate.copy()\n",
    "            done = False\n",
    "            while not done:\n",
    "                scout.move(direction)\n",
    "                value = scout.get_value()\n",
    "                if value == \".\":\n",
    "                    scout.set_value(\"O\")\n",
    "                    pointer.set_value(\".\")\n",
    "                    pointer.move(direction)\n",
    "                    pointer.set_value(\"@\")\n",
    "                    done = True\n",
    "                if value == \"#\":  # hit wall, stop\n",
    "                    done = True\n",
    "\n",
    "    total = 0\n",
    "    for x, y, value in matrix:\n",
    "        if value == \"O\":\n",
    "            total += y * 100 + x\n",
    "\n",
    "    return total\n",
    "\n",
    "\n",
    "result = part_1(puzzle.get_code_block(1), True)\n",
    "display(result)\n",
    "assert result == 2028\n",
    "\n",
    "result = part_1(puzzle.get_code_block(0), True)\n",
    "display(result)\n",
    "assert result == 10092"
   ],
   "outputs": [
    {
     "name": "stdout",
     "output_type": "stream",
     "text": [
      "########\n",
      "#..O.O.#\n",
      "##@.O..#\n",
      "#...O..#\n",
      "#.#.O..#\n",
      "#...O..#\n",
      "#......#\n",
      "########\n",
      "\n"
     ]
    },
    {
     "data": {
      "text/plain": [
       "2028"
      ]
     },
     "metadata": {},
     "output_type": "display_data"
    },
    {
     "name": "stdout",
     "output_type": "stream",
     "text": [
      "##########\n",
      "#..O..O.O#\n",
      "#......O.#\n",
      "#.OO..O.O#\n",
      "#..O@..O.#\n",
      "#O#..O...#\n",
      "#O..O..O.#\n",
      "#.OO.O.OO#\n",
      "#....O...#\n",
      "##########\n",
      "\n"
     ]
    },
    {
     "data": {
      "text/plain": [
       "10092"
      ]
     },
     "metadata": {},
     "output_type": "display_data"
    }
   ],
   "execution_count": 39
  },
  {
   "cell_type": "code",
   "id": "66cab898e4711d42",
   "metadata": {
    "ExecuteTime": {
     "end_time": "2024-12-15T15:45:19.114270Z",
     "start_time": "2024-12-15T15:45:19.093183Z"
    }
   },
   "source": [
    "# real case (part 1)\n",
    "result = part_1(puzzle.input(), False)\n",
    "display(result)\n",
    "assert result == 1442192"
   ],
   "outputs": [
    {
     "data": {
      "text/plain": [
       "1442192"
      ]
     },
     "metadata": {},
     "output_type": "display_data"
    }
   ],
   "execution_count": 40
  },
  {
   "cell_type": "code",
   "id": "d2277c7db8ea0a5e",
   "metadata": {
    "ExecuteTime": {
     "end_time": "2024-12-15T15:45:19.174966Z",
     "start_time": "2024-12-15T15:45:19.129393Z"
    }
   },
   "source": [
    "# test case (part 2)\n",
    "def convert_matrix(matrix: Matrix) -> Matrix:\n",
    "    new_matrix = []\n",
    "    row = []\n",
    "    last_y = -1\n",
    "    for _, y, value in matrix:\n",
    "        # if new row\n",
    "        if last_y != y:\n",
    "            if len(row) > 0:\n",
    "                new_matrix.append(row)\n",
    "            row = []\n",
    "        last_y = y\n",
    "\n",
    "        if value == \"#\":\n",
    "            row.append(\"#\")\n",
    "            row.append(\"#\")\n",
    "        elif value == \".\":\n",
    "            row.append(\".\")\n",
    "            row.append(\".\")\n",
    "        elif value == \"@\":\n",
    "            row.append(\"@\")\n",
    "            row.append(\".\")\n",
    "        elif value == \"O\":\n",
    "            row.append(\"[\")\n",
    "            row.append(\"]\")\n",
    "\n",
    "    if len(row) > 0:\n",
    "        new_matrix.append(row)\n",
    "\n",
    "    return Matrix(new_matrix)\n",
    "\n",
    "\n",
    "def find_box(boxes: list, position):\n",
    "    x, y = position\n",
    "    for box in boxes:\n",
    "        if (box[0] == x or box[0] + 1 == x) and box[1] == y:\n",
    "            return box\n",
    "    return None\n",
    "\n",
    "\n",
    "def can_box_move_horizontal(matrix: Matrix, box: list, direction: Direction) -> list:\n",
    "    boxes = find_boxes(matrix)\n",
    "    x, y = box\n",
    "    pointer = MatrixNavigator(matrix, x, y)\n",
    "    effected_boxes = [box]\n",
    "    while True:\n",
    "        pointer.move(direction)\n",
    "        value = pointer.get_value()\n",
    "        if value == \"#\":\n",
    "            return []  # hit wall, stop\n",
    "        elif value == \".\":\n",
    "            return effected_boxes\n",
    "        else:\n",
    "            box = find_box(boxes, pointer.current_position)\n",
    "            effected_boxes.append(box)\n",
    "\n",
    "\n",
    "def can_box_move_vertical(matrix: Matrix, box: list, direction: Direction) -> list:\n",
    "    boxes = find_boxes(matrix)\n",
    "    x, y = box\n",
    "    effected_boxes = [box]\n",
    "\n",
    "    # create two pointers\n",
    "    left_pointer = MatrixNavigator(matrix, x, y)\n",
    "    right_pointer = MatrixNavigator(matrix, x + 1, y)\n",
    "    left_pointer.move(direction)\n",
    "    right_pointer.move(direction)\n",
    "    left_value = left_pointer.get_value()\n",
    "    right_value = right_pointer.get_value()\n",
    "\n",
    "    if left_value == \"#\" or right_value == \"#\":\n",
    "        return []\n",
    "    elif left_value == \".\" and right_value == \".\":  # open\n",
    "        return effected_boxes\n",
    "    else:\n",
    "        if left_value == \"[\" or left_value == \"]\":\n",
    "            left_box = find_box(boxes, left_pointer.current_position)\n",
    "            effected_boxes.append(left_box)\n",
    "            new_boxes_left = can_box_move_vertical(matrix, left_box, direction)\n",
    "            if len(new_boxes_left) == 0:\n",
    "                return []\n",
    "            else:\n",
    "                for next_box in new_boxes_left:\n",
    "                    effected_boxes.append(next_box)\n",
    "\n",
    "        if right_value == \"[\":\n",
    "            right_box = find_box(boxes, right_pointer.current_position)\n",
    "            effected_boxes.append(right_box)\n",
    "            new_boxes_right = can_box_move_vertical(matrix, right_box, direction)\n",
    "            if len(new_boxes_right) == 0:\n",
    "                return []\n",
    "            else:\n",
    "                for next_box in new_boxes_right:\n",
    "                    effected_boxes.append(next_box)\n",
    "\n",
    "        return list(set(effected_boxes))\n",
    "\n",
    "\n",
    "def find_boxes(matrix: Matrix) -> list:\n",
    "    boxes = []\n",
    "    for x, y, value in matrix:\n",
    "        if value == \"[\":\n",
    "            boxes.append((x, y))\n",
    "    return boxes\n",
    "\n",
    "\n",
    "def part_2(reader: InputReader, debug: bool) -> int:\n",
    "    matrix, instructions = domain_from_input(reader)\n",
    "    matrix = convert_matrix(matrix)\n",
    "\n",
    "    # find start\n",
    "    pointer = None\n",
    "    for x, y, value in matrix:\n",
    "        if value == \"@\":\n",
    "            pointer = MatrixNavigator(matrix, x, y)\n",
    "            break\n",
    "\n",
    "    # clear output.txt\n",
    "    with open(\"output.txt\", \"w\") as f:\n",
    "        f.write(\"\")\n",
    "\n",
    "    def log_state(matrix: Matrix, instruction: str, count: int):\n",
    "        with open(\"output.txt\", \"a\") as f:\n",
    "            for line in matrix.get_lines():\n",
    "                f.write(f'{\"\".join(line)}\\n')\n",
    "            f.write(f'Instruction: {instruction} - {count}\\n')\n",
    "            f.write(\"\\n\")\n",
    "\n",
    "    # run through instructions\n",
    "    count = 0\n",
    "    for instruction in instructions:\n",
    "        if debug:\n",
    "            log_state(matrix, instruction, count)\n",
    "        count += 1\n",
    "\n",
    "        direction = instructions_map[instruction]\n",
    "        _, value = pointer.peek_value(direction)\n",
    "        if value == \".\":  # open\n",
    "            pointer.set_value(\".\")\n",
    "            pointer.move(direction)\n",
    "            pointer.set_value(\"@\")\n",
    "        elif value == \"[\" or value == \"]\":  # box\n",
    "            # Create new point and fix box\n",
    "            candidate = pointer.copy()\n",
    "            candidate.move(direction)\n",
    "            box = find_box(find_boxes(matrix), candidate.current_position)\n",
    "            if direction == Direction.LEFT or direction == Direction.RIGHT:\n",
    "                effected_boxes = can_box_move_horizontal(matrix, box, direction)\n",
    "            else:\n",
    "                effected_boxes = can_box_move_vertical(matrix, box, direction)\n",
    "            effected_boxes = list(set(effected_boxes))\n",
    "\n",
    "            # move all the effected boxes and redraw the matrix\n",
    "            for box in effected_boxes:\n",
    "                box_x, box_y = box\n",
    "                box_pointer = MatrixNavigator(matrix, box_x, box_y)\n",
    "                box_pointer.set_value(\".\")\n",
    "                box_pointer.move(direction.RIGHT)\n",
    "                box_pointer.set_value(\".\")\n",
    "\n",
    "            for box in effected_boxes:\n",
    "                box_x, box_y = box\n",
    "                box_pointer = MatrixNavigator(matrix, box_x, box_y)\n",
    "                box_pointer.move(direction)\n",
    "                box_pointer.set_value(\"[\")\n",
    "                box_pointer.move(direction.RIGHT)\n",
    "                box_pointer.set_value(\"]\")\n",
    "\n",
    "            if len(effected_boxes) > 0:\n",
    "                pointer.set_value(\".\")\n",
    "                pointer.move(direction)\n",
    "                pointer.set_value(\"@\")\n",
    "\n",
    "    if debug:\n",
    "        log_state(matrix, \"*\", count)\n",
    "        matrix.print()\n",
    "\n",
    "    total = 0\n",
    "    for x, y, value in matrix:\n",
    "        if value == \"[\":\n",
    "            total += y * 100 + x\n",
    "\n",
    "    return total\n",
    "\n",
    "\n",
    "result = part_2(puzzle.get_code_block(5), True)\n",
    "print(result)\n",
    "assert result == 618\n",
    "\n",
    "result = part_2(puzzle.get_code_block(0), True)\n",
    "print(result)\n",
    "assert result == 9021"
   ],
   "outputs": [
    {
     "name": "stdout",
     "output_type": "stream",
     "text": [
      "##############\n",
      "##...[].##..##\n",
      "##...@.[]...##\n",
      "##....[]....##\n",
      "##..........##\n",
      "##..........##\n",
      "##############\n",
      "618\n",
      "####################\n",
      "##[].......[].[][]##\n",
      "##[]...........[].##\n",
      "##[]........[][][]##\n",
      "##[]......[]....[]##\n",
      "##..##......[]....##\n",
      "##..[]............##\n",
      "##..@......[].[][]##\n",
      "##......[][]..[]..##\n",
      "####################\n",
      "9021\n"
     ]
    }
   ],
   "execution_count": 41
  },
  {
   "cell_type": "code",
   "id": "57c071f7c6d2914",
   "metadata": {
    "ExecuteTime": {
     "end_time": "2024-12-15T15:45:22.004458Z",
     "start_time": "2024-12-15T15:45:19.243886Z"
    }
   },
   "source": [
    "# real case (part 2)\n",
    "result = part_2(puzzle.input(), False)\n",
    "display(result)\n",
    "assert result == 1448458"
   ],
   "outputs": [
    {
     "data": {
      "text/plain": [
       "1448458"
      ]
     },
     "metadata": {},
     "output_type": "display_data"
    }
   ],
   "execution_count": 42
  },
  {
   "cell_type": "code",
   "id": "44e329cbb6ad2400",
   "metadata": {
    "ExecuteTime": {
     "end_time": "2024-12-15T15:45:22.024269Z",
     "start_time": "2024-12-15T15:45:22.018085Z"
    }
   },
   "source": [
    "# print easters eggs\n",
    "puzzle.print_easter_eggs()"
   ],
   "outputs": [
    {
     "data": {
      "text/plain": [
       "<IPython.core.display.Markdown object>"
      ],
      "text/markdown": "## Easter Eggs"
     },
     "metadata": {},
     "output_type": "display_data"
    },
    {
     "data": {
      "text/plain": [
       "<IPython.core.display.Markdown object>"
      ],
      "text/markdown": "<span title=\"Wesnoth players might solve their Warehouse Woes with a Warehouse Wose!\">amok</span> (Wesnoth players might solve their Warehouse Woes with a Warehouse Wose!)"
     },
     "metadata": {},
     "output_type": "display_data"
    }
   ],
   "execution_count": 43
  }
 ],
 "metadata": {
  "kernelspec": {
   "display_name": ".venv",
   "language": "python",
   "name": "python3"
  },
  "language_info": {
   "codemirror_mode": {
    "name": "ipython",
    "version": 3
   },
   "file_extension": ".py",
   "mimetype": "text/x-python",
   "name": "python",
   "nbconvert_exporter": "python",
   "pygments_lexer": "ipython3",
   "version": "3.12.1"
  }
 },
 "nbformat": 4,
 "nbformat_minor": 5
}
