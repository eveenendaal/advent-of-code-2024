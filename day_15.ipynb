{
 "cells": [
  {
   "metadata": {
    "ExecuteTime": {
     "end_time": "2024-12-15T05:55:42.042498Z",
     "start_time": "2024-12-15T05:55:41.939581Z"
    }
   },
   "cell_type": "code",
   "source": [
    "from common.inputreader import InputReader, PuzzleWrapper\n",
    "\n",
    "puzzle = PuzzleWrapper(year=2024, day=int(\"15\"))\n",
    "\n",
    "puzzle.header()\n",
    "# example = get_code_block(puzzle, 5)"
   ],
   "id": "dec75b3898d7314f",
   "outputs": [
    {
     "data": {
      "text/plain": [
       "<IPython.core.display.Markdown object>"
      ],
      "text/markdown": "# Warehouse Woes"
     },
     "metadata": {},
     "output_type": "display_data"
    },
    {
     "data": {
      "text/plain": [
       "<IPython.core.display.Markdown object>"
      ],
      "text/markdown": "[Open Website](https://adventofcode.com/2024/day/15)"
     },
     "metadata": {},
     "output_type": "display_data"
    }
   ],
   "execution_count": 1
  },
  {
   "metadata": {
    "ExecuteTime": {
     "end_time": "2024-12-15T05:55:42.168970Z",
     "start_time": "2024-12-15T05:55:42.145767Z"
    }
   },
   "cell_type": "code",
   "source": [
    "from common.matrix import Matrix, MatrixNavigator\n",
    "\n",
    "\n",
    "# helper functions\n",
    "def domain_from_input(input: InputReader) -> (Matrix, list):\n",
    "    lines = input.lines_as_str()\n",
    "\n",
    "    matrix = []\n",
    "    instructions = []\n",
    "\n",
    "    # building map\n",
    "    building_map = True\n",
    "    for line in lines:\n",
    "        if building_map:\n",
    "            # split on characters\n",
    "            matrix.append(list(line))\n",
    "\n",
    "            if len(line) == 0:\n",
    "                building_map = False\n",
    "        else:\n",
    "            for next in line:\n",
    "                instructions.append(next)\n",
    "\n",
    "    return Matrix(matrix), instructions\n",
    "\n",
    "\n",
    "matrix, instructions = domain_from_input(puzzle.example(0))\n",
    "matrix.print()\n",
    "print(instructions)"
   ],
   "id": "34dd2d43c40af29b",
   "outputs": [
    {
     "name": "stdout",
     "output_type": "stream",
     "text": [
      "##########\n",
      "#..O..O.O#\n",
      "#......O.#\n",
      "#.OO..O.O#\n",
      "#..O@..O.#\n",
      "#O#..O...#\n",
      "#O..O..O.#\n",
      "#.OO.O.OO#\n",
      "#....O...#\n",
      "##########\n",
      "\n",
      "['<', 'v', 'v', '>', '^', '<', 'v', '^', '>', 'v', '>', '^', 'v', 'v', '^', 'v', '>', 'v', '<', '>', 'v', '^', 'v', '<', 'v', '<', '^', 'v', 'v', '<', '<', '<', '^', '>', '<', '<', '>', '<', '>', '>', 'v', '<', 'v', 'v', 'v', '<', '>', '^', 'v', '^', '>', '^', '<', '<', '<', '>', '<', '<', 'v', '<', '<', '<', 'v', '^', 'v', 'v', '^', 'v', '>', '^', 'v', 'v', 'v', '<', '<', '^', '>', '^', 'v', '^', '^', '>', '<', '<', '>', '>', '>', '<', '>', '^', '<', '<', '>', '<', '^', 'v', 'v', '^', '^', '<', '>', 'v', 'v', 'v', '<', '>', '>', '<', '^', '^', 'v', '>', '^', '>', 'v', 'v', '<', '>', 'v', '<', '<', '<', '<', 'v', '<', '^', 'v', '>', '^', '<', '^', '^', '>', '>', '>', '^', '<', 'v', '<', 'v', '>', '<', '>', 'v', 'v', '>', 'v', '^', 'v', '^', '<', '>', '>', '<', '>', '>', '>', '>', '<', '^', '^', '>', 'v', 'v', '>', 'v', '<', '^', '^', '^', '>', '>', 'v', '^', 'v', '^', '<', '^', '^', '>', 'v', '^', '^', '>', 'v', '^', '<', '^', 'v', '>', 'v', '<', '>', '>', 'v', '^', 'v', '^', '<', 'v', '>', 'v', '^', '^', '<', '^', '^', 'v', 'v', '<', '<', '<', 'v', '<', '^', '>', '>', '^', '^', '^', '^', '>', '>', '>', 'v', '^', '<', '>', 'v', 'v', 'v', '^', '>', '<', 'v', '<', '<', '<', '>', '^', '^', '^', 'v', 'v', '^', '<', 'v', 'v', 'v', '>', '^', '>', 'v', '<', '^', '^', '^', '^', 'v', '<', '>', '^', '>', 'v', 'v', 'v', 'v', '>', '<', '>', '>', 'v', '^', '<', '<', '^', '^', '^', '^', '^', '^', '>', '<', '^', '>', '<', '>', '>', '>', '<', '>', '^', '^', '<', '<', '^', '^', 'v', '>', '>', '>', '<', '^', '<', 'v', '>', '^', '<', 'v', 'v', '>', '>', 'v', '>', '>', '>', '^', 'v', '>', '<', '>', '^', 'v', '>', '<', '<', '<', '<', 'v', '>', '>', 'v', '<', 'v', '<', 'v', '>', 'v', 'v', 'v', '>', '^', '<', '>', '<', '<', '>', '^', '>', '<', '^', '>', '>', '<', '>', '^', 'v', '<', '>', '<', '^', 'v', 'v', 'v', '<', '^', '^', '<', '>', '<', 'v', '<', '<', '<', '<', '<', '>', '<', '^', 'v', '<', '<', '<', '>', '<', '<', '<', '^', '^', '<', 'v', '<', '^', '^', '^', '>', '<', '^', '>', '>', '^', '<', 'v', '^', '>', '<', '<', '<', '^', '>', '>', '^', 'v', '<', 'v', '^', 'v', '<', 'v', '^', '>', '^', '>', '>', '^', 'v', '>', 'v', 'v', '>', '^', '<', '<', '^', 'v', '<', '>', '>', '<', '<', '>', '<', '<', 'v', '<', '<', 'v', '>', '<', '>', 'v', '<', '^', 'v', 'v', '<', '<', '<', '>', '^', '^', 'v', '^', '>', '^', '^', '>', '>', '>', '<', '<', '^', 'v', '>', '>', 'v', '^', 'v', '>', '<', '^', '^', '>', '>', '^', '<', '>', 'v', 'v', '^', '<', '>', '<', '^', '^', '>', '^', '^', '^', '<', '>', '<', 'v', 'v', 'v', 'v', 'v', '^', 'v', '<', 'v', '<', '<', '>', '^', 'v', '<', 'v', '>', 'v', '<', '<', '^', '>', '<', '<', '>', '<', '<', '>', '<', '<', '<', '^', '^', '<', '<', '<', '^', '<', '<', '>', '>', '<', '<', '>', '<', '^', '^', '^', '>', '^', '^', '<', '>', '^', '>', 'v', '<', '>', '^', '^', '>', 'v', 'v', '<', '^', 'v', '^', 'v', '<', 'v', 'v', '>', '^', '<', '>', '<', 'v', '<', '^', 'v', '>', '^', '^', '^', '>', '>', '>', '^', '^', 'v', 'v', 'v', '^', '>', 'v', 'v', 'v', '<', '>', '>', '>', '^', '<', '^', '>', '>', '>', '>', '>', '^', '<', '<', '^', 'v', '>', '^', 'v', 'v', 'v', '<', '>', '^', '<', '>', '<', '<', 'v', '>', 'v', '^', '^', '>', '>', '>', '<', '<', '^', '^', '<', '>', '>', '^', 'v', '^', '<', 'v', '^', 'v', 'v', '<', '>', 'v', '^', '<', '<', '>', '^', '<', '^', 'v', '^', 'v', '>', '<', '^', '<', '<', '<', '>', '<', '<', '^', '<', 'v', '>', '<', 'v', '<', '>', 'v', 'v', '>', '>', 'v', '>', '<', 'v', '^', '<', 'v', 'v', '<', '>', 'v', '^', '<', '<', '^']\n"
     ]
    }
   ],
   "execution_count": 2
  },
  {
   "metadata": {
    "ExecuteTime": {
     "end_time": "2024-12-15T05:56:21.860365Z",
     "start_time": "2024-12-15T05:56:21.840877Z"
    }
   },
   "cell_type": "code",
   "source": [
    "from common.matrix import Direction\n",
    "\n",
    "# test case (part 1)\n",
    "instructions_map = {\n",
    "    \">\": Direction.RIGHT,\n",
    "    \"<\": Direction.LEFT,\n",
    "    \"^\": Direction.UP,\n",
    "    \"v\": Direction.DOWN\n",
    "}\n",
    "\n",
    "\n",
    "def part_1(reader: InputReader, debug: bool) -> int:\n",
    "    matrix, instructions = domain_from_input(reader)\n",
    "\n",
    "    if debug:\n",
    "        matrix.print()\n",
    "\n",
    "    # find start\n",
    "    pointer = None\n",
    "    for x, y, value in matrix:\n",
    "        if value == \"@\":\n",
    "            pointer = MatrixNavigator(matrix, x, y)\n",
    "            break\n",
    "\n",
    "    # run through instructions\n",
    "    for instruction in instructions:\n",
    "        direction = instructions_map[instruction]\n",
    "        _, value = pointer.peek_value(direction)\n",
    "        if value == \".\":  # open\n",
    "            pointer.set_value(\".\")\n",
    "            pointer.move(direction)\n",
    "            pointer.set_value(\"@\")\n",
    "        elif value == \"O\":  # wall\n",
    "            # copy pointers\n",
    "            candidate = pointer.copy()\n",
    "            candidate.move(direction)\n",
    "            scout = candidate.copy()\n",
    "            done = False\n",
    "            while not done:\n",
    "                scout.move(direction)\n",
    "                value = scout.get_value()\n",
    "                if value == \".\":\n",
    "                    scout.set_value(\"O\")\n",
    "                    pointer.set_value(\".\")\n",
    "                    pointer.move(direction)\n",
    "                    pointer.set_value(\"@\")\n",
    "                    done = True\n",
    "                if value == \"#\":  # hit wall, stop\n",
    "                    done = True\n",
    "\n",
    "    total = 0\n",
    "    for x, y, value in matrix:\n",
    "        if value == \"O\":\n",
    "            total += y* 100 + x\n",
    "\n",
    "    return total\n",
    "\n",
    "\n",
    "result = part_1(puzzle.get_code_block(1), True)\n",
    "display(result)\n",
    "assert result == 2028\n",
    "\n",
    "result = part_1(puzzle.get_code_block(0), True)\n",
    "display(result)\n",
    "assert result == 10092"
   ],
   "id": "6d23892a17117fed",
   "outputs": [
    {
     "name": "stdout",
     "output_type": "stream",
     "text": [
      "########\n",
      "#..O.O.#\n",
      "##@.O..#\n",
      "#...O..#\n",
      "#.#.O..#\n",
      "#...O..#\n",
      "#......#\n",
      "########\n",
      "\n"
     ]
    },
    {
     "data": {
      "text/plain": [
       "2028"
      ]
     },
     "metadata": {},
     "output_type": "display_data"
    },
    {
     "name": "stdout",
     "output_type": "stream",
     "text": [
      "##########\n",
      "#..O..O.O#\n",
      "#......O.#\n",
      "#.OO..O.O#\n",
      "#..O@..O.#\n",
      "#O#..O...#\n",
      "#O..O..O.#\n",
      "#.OO.O.OO#\n",
      "#....O...#\n",
      "##########\n",
      "\n"
     ]
    },
    {
     "data": {
      "text/plain": [
       "10092"
      ]
     },
     "metadata": {},
     "output_type": "display_data"
    }
   ],
   "execution_count": 6
  },
  {
   "metadata": {
    "ExecuteTime": {
     "end_time": "2024-12-15T05:56:25.460944Z",
     "start_time": "2024-12-15T05:56:24.985129Z"
    }
   },
   "cell_type": "code",
   "source": [
    "# real case (part 1)\n",
    "result = part_1(puzzle.input(), False)\n",
    "display(result)"
   ],
   "id": "66cab898e4711d42",
   "outputs": [
    {
     "data": {
      "text/plain": [
       "1442192"
      ]
     },
     "metadata": {},
     "output_type": "display_data"
    }
   ],
   "execution_count": 7
  },
  {
   "metadata": {},
   "cell_type": "code",
   "source": [
    "# test case (part 2)\n",
    "def part_2(reader: InputReader, debug: bool) -> int:\n",
    "    lines = domain_from_input(reader)\n",
    "    if debug:\n",
    "        display(lines)\n",
    "    return 0\n",
    "\n",
    "\n",
    "result = part_2(puzzle.example(0), True)\n",
    "display(result)\n",
    "assert result == 0"
   ],
   "id": "d2277c7db8ea0a5e",
   "outputs": [],
   "execution_count": null
  },
  {
   "metadata": {},
   "cell_type": "code",
   "source": [
    "# real case (part 2)\n",
    "result = part_2(puzzle.input(), False)\n",
    "display(result)"
   ],
   "id": "57c071f7c6d2914",
   "outputs": [],
   "execution_count": null
  },
  {
   "metadata": {},
   "cell_type": "code",
   "source": [
    "# print easters eggs\n",
    "puzzle.print_easter_eggs()"
   ],
   "id": "44e329cbb6ad2400",
   "outputs": [],
   "execution_count": null
  }
 ],
 "metadata": {
  "kernelspec": {
   "display_name": "Python 3",
   "language": "python",
   "name": "python3"
  },
  "language_info": {
   "codemirror_mode": {
    "name": "ipython",
    "version": 2
   },
   "file_extension": ".py",
   "mimetype": "text/x-python",
   "name": "python",
   "nbconvert_exporter": "python",
   "pygments_lexer": "ipython2",
   "version": "2.7.6"
  }
 },
 "nbformat": 4,
 "nbformat_minor": 5
}
