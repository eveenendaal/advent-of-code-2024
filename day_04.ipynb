{
 "cells": [
  {
   "metadata": {
    "ExecuteTime": {
     "end_time": "2024-12-04T05:11:47.554512Z",
     "start_time": "2024-12-04T05:11:47.540772Z"
    }
   },
   "cell_type": "code",
   "source": [
    "from IPython.core.display import Markdown\n",
    "from aocd.models import Puzzle\n",
    "\n",
    "from common.inputreader import InputReader\n",
    "\n",
    "puzzle = Puzzle(year=2024, day=int(\"04\"))\n",
    "\n",
    "display(Markdown(f\"# {puzzle.title}\"))\n",
    "display(Markdown(f\"[Open Website]({puzzle.url})\"))\n",
    "\n",
    "example = \"\"\"MMMSXXMASM\n",
    "MSAMXMSMSA\n",
    "AMXSXMAAMM\n",
    "MSAMASMSMX\n",
    "XMASAMXAMM\n",
    "XXAMMXXAMA\n",
    "SMSMSASXSS\n",
    "SAXAMASAAA\n",
    "MAMMMXMMMM\n",
    "MXMXAXMASX\"\"\""
   ],
   "id": "dec75b3898d7314f",
   "outputs": [
    {
     "data": {
      "text/plain": [
       "<IPython.core.display.Markdown object>"
      ],
      "text/markdown": "# Ceres Search"
     },
     "metadata": {},
     "output_type": "display_data"
    },
    {
     "data": {
      "text/plain": [
       "<IPython.core.display.Markdown object>"
      ],
      "text/markdown": "[Open Website](https://adventofcode.com/2024/day/4)"
     },
     "metadata": {},
     "output_type": "display_data"
    }
   ],
   "execution_count": 10
  },
  {
   "metadata": {
    "ExecuteTime": {
     "end_time": "2024-12-04T05:11:48.130014Z",
     "start_time": "2024-12-04T05:11:48.117568Z"
    }
   },
   "cell_type": "code",
   "source": [
    "# test case (part 1)\n",
    "def part_1(input: InputReader, debug: bool) -> int:\n",
    "    lines = input.grid()\n",
    "    if debug:\n",
    "        display(lines)\n",
    "\n",
    "    starts = []\n",
    "    xmas_count = 0\n",
    "\n",
    "    def get_value(x, y):\n",
    "        if 0 <= x < len(lines[0]) and 0 <= y < len(lines):\n",
    "            return lines[y][x]\n",
    "        return None\n",
    "\n",
    "    # find all the X's\n",
    "    for y, line in enumerate(lines):\n",
    "        for x, cell in enumerate(line):\n",
    "            if cell == \"X\":\n",
    "                starts.append((x, y))\n",
    "                if debug:\n",
    "                    print(f\"X found at {x}, {y}\")\n",
    "\n",
    "    # find all the M's within one cell of an X\n",
    "    for start in starts:\n",
    "        x, y = start\n",
    "        for i in range(-1, 2):\n",
    "            for j in range(-1, 2):\n",
    "                if get_value(x + i, y + j) == \"M\":\n",
    "                    if debug:\n",
    "                        print(f\"M found at {x + i}, {y + j}\")\n",
    "                    if (get_value(x + 2 * i, y + 2 * j) == \"A\") and (get_value(x + 3 * i, y + 3 * j) == \"S\"):\n",
    "                        if debug:\n",
    "                            print(f\"XMAS found at {x + 2 * i}, {y + 2 * j}\")\n",
    "                        xmas_count += 1\n",
    "\n",
    "    return xmas_count\n",
    "\n",
    "\n",
    "result = part_1(InputReader(example), True)\n",
    "assert result == 18"
   ],
   "id": "6d23892a17117fed",
   "outputs": [
    {
     "data": {
      "text/plain": [
       "[['M', 'M', 'M', 'S', 'X', 'X', 'M', 'A', 'S', 'M'],\n",
       " ['M', 'S', 'A', 'M', 'X', 'M', 'S', 'M', 'S', 'A'],\n",
       " ['A', 'M', 'X', 'S', 'X', 'M', 'A', 'A', 'M', 'M'],\n",
       " ['M', 'S', 'A', 'M', 'A', 'S', 'M', 'S', 'M', 'X'],\n",
       " ['X', 'M', 'A', 'S', 'A', 'M', 'X', 'A', 'M', 'M'],\n",
       " ['X', 'X', 'A', 'M', 'M', 'X', 'X', 'A', 'M', 'A'],\n",
       " ['S', 'M', 'S', 'M', 'S', 'A', 'S', 'X', 'S', 'S'],\n",
       " ['S', 'A', 'X', 'A', 'M', 'A', 'S', 'A', 'A', 'A'],\n",
       " ['M', 'A', 'M', 'M', 'M', 'X', 'M', 'M', 'M', 'M'],\n",
       " ['M', 'X', 'M', 'X', 'A', 'X', 'M', 'A', 'S', 'X']]"
      ]
     },
     "metadata": {},
     "output_type": "display_data"
    },
    {
     "name": "stdout",
     "output_type": "stream",
     "text": [
      "X found at 4, 0\n",
      "X found at 5, 0\n",
      "X found at 4, 1\n",
      "X found at 2, 2\n",
      "X found at 4, 2\n",
      "X found at 9, 3\n",
      "X found at 0, 4\n",
      "X found at 6, 4\n",
      "X found at 0, 5\n",
      "X found at 1, 5\n",
      "X found at 5, 5\n",
      "X found at 6, 5\n",
      "X found at 7, 6\n",
      "X found at 2, 7\n",
      "X found at 5, 8\n",
      "X found at 1, 9\n",
      "X found at 3, 9\n",
      "X found at 5, 9\n",
      "X found at 9, 9\n",
      "M found at 3, 1\n",
      "M found at 5, 1\n",
      "XMAS found at 6, 2\n",
      "M found at 5, 1\n",
      "M found at 6, 0\n",
      "XMAS found at 7, 0\n",
      "M found at 3, 1\n",
      "XMAS found at 2, 1\n",
      "M found at 5, 1\n",
      "M found at 5, 2\n",
      "M found at 1, 2\n",
      "M found at 3, 1\n",
      "M found at 3, 3\n",
      "M found at 3, 1\n",
      "M found at 3, 3\n",
      "M found at 5, 1\n",
      "M found at 5, 2\n",
      "M found at 8, 2\n",
      "M found at 8, 3\n",
      "M found at 8, 4\n",
      "XMAS found at 7, 5\n",
      "M found at 9, 2\n",
      "M found at 9, 4\n",
      "XMAS found at 9, 5\n",
      "M found at 0, 3\n",
      "M found at 1, 4\n",
      "XMAS found at 2, 4\n",
      "M found at 5, 4\n",
      "XMAS found at 4, 4\n",
      "M found at 6, 3\n",
      "XMAS found at 6, 2\n",
      "M found at 1, 4\n",
      "XMAS found at 2, 3\n",
      "M found at 1, 6\n",
      "M found at 1, 4\n",
      "M found at 1, 6\n",
      "M found at 4, 5\n",
      "M found at 5, 4\n",
      "M found at 5, 4\n",
      "XMAS found at 4, 3\n",
      "M found at 8, 5\n",
      "M found at 1, 6\n",
      "M found at 2, 8\n",
      "M found at 3, 6\n",
      "M found at 3, 8\n",
      "M found at 4, 7\n",
      "M found at 4, 8\n",
      "M found at 6, 8\n",
      "M found at 6, 9\n",
      "M found at 0, 8\n",
      "M found at 0, 9\n",
      "M found at 2, 8\n",
      "XMAS found at 3, 7\n",
      "M found at 2, 9\n",
      "M found at 2, 8\n",
      "XMAS found at 1, 7\n",
      "M found at 2, 9\n",
      "M found at 3, 8\n",
      "M found at 4, 8\n",
      "XMAS found at 5, 7\n",
      "M found at 4, 8\n",
      "XMAS found at 3, 7\n",
      "M found at 6, 8\n",
      "XMAS found at 7, 7\n",
      "M found at 6, 9\n",
      "XMAS found at 7, 9\n",
      "M found at 8, 8\n",
      "XMAS found at 7, 7\n",
      "M found at 9, 8\n",
      "XMAS found at 9, 7\n"
     ]
    }
   ],
   "execution_count": 11
  },
  {
   "metadata": {
    "ExecuteTime": {
     "end_time": "2024-12-04T05:11:50.861237Z",
     "start_time": "2024-12-04T05:11:50.835992Z"
    }
   },
   "cell_type": "code",
   "source": [
    "# real case (part 1)\n",
    "result = part_1(InputReader(puzzle.input_data), False)\n",
    "display(result)"
   ],
   "id": "66cab898e4711d42",
   "outputs": [
    {
     "data": {
      "text/plain": [
       "2536"
      ]
     },
     "metadata": {},
     "output_type": "display_data"
    }
   ],
   "execution_count": 12
  },
  {
   "metadata": {
    "ExecuteTime": {
     "end_time": "2024-12-04T05:15:11.710520Z",
     "start_time": "2024-12-04T05:15:11.698282Z"
    }
   },
   "cell_type": "code",
   "source": [
    "# test case (part 2)\n",
    "def part_2(input: InputReader, debug: bool) -> int:\n",
    "    lines = input.grid()\n",
    "    if debug:\n",
    "        display(lines)\n",
    "\n",
    "    starts = []\n",
    "    xmas_count = 0\n",
    "\n",
    "    def get_value(x, y):\n",
    "        if 0 <= x < len(lines[0]) and 0 <= y < len(lines):\n",
    "            return lines[y][x]\n",
    "        return None\n",
    "\n",
    "    # find all the M's\n",
    "    for y, line in enumerate(lines):\n",
    "        for x, cell in enumerate(line):\n",
    "            if cell == \"M\":\n",
    "                starts.append((x, y))\n",
    "                if debug:\n",
    "                    print(f\"M found at {x}, {y}\")\n",
    "\n",
    "    # find all the M's within one cell of an X\n",
    "    for start in starts:\n",
    "        x, y = start\n",
    "        # check in the diagonal directions\n",
    "        if get_value(x + 1, y + 1) == \"A\" and get_value(x + 2, y + 2) == \"S\" and get_value(x + 2, y) == \"M\" and get_value(x, y + 2) == \"S\":\n",
    "            xmas_count += 1\n",
    "        elif get_value(x - 1, y + 1) == \"A\" and get_value(x - 2, y + 2) == \"S\" and get_value(x - 2, y) == \"M\" and get_value(x, y + 2) == \"S\":\n",
    "            xmas_count += 1\n",
    "        elif get_value(x + 1, y - 1) == \"A\" and get_value(x + 2, y - 2) == \"S\" and get_value(x + 2, y) == \"M\" and get_value(x, y - 2) == \"S\":\n",
    "            xmas_count += 1\n",
    "        elif get_value(x - 1, y - 1) == \"A\" and get_value(x - 2, y - 2) == \"S\" and get_value(x - 2, y) == \"M\" and get_value(x, y - 2) == \"S\":\n",
    "            xmas_count += 1\n",
    "\n",
    "    return xmas_count\n",
    "\n",
    "\n",
    "result = part_2(InputReader(example), True)\n",
    "assert result == 9"
   ],
   "id": "d2277c7db8ea0a5e",
   "outputs": [
    {
     "data": {
      "text/plain": [
       "[['M', 'M', 'M', 'S', 'X', 'X', 'M', 'A', 'S', 'M'],\n",
       " ['M', 'S', 'A', 'M', 'X', 'M', 'S', 'M', 'S', 'A'],\n",
       " ['A', 'M', 'X', 'S', 'X', 'M', 'A', 'A', 'M', 'M'],\n",
       " ['M', 'S', 'A', 'M', 'A', 'S', 'M', 'S', 'M', 'X'],\n",
       " ['X', 'M', 'A', 'S', 'A', 'M', 'X', 'A', 'M', 'M'],\n",
       " ['X', 'X', 'A', 'M', 'M', 'X', 'X', 'A', 'M', 'A'],\n",
       " ['S', 'M', 'S', 'M', 'S', 'A', 'S', 'X', 'S', 'S'],\n",
       " ['S', 'A', 'X', 'A', 'M', 'A', 'S', 'A', 'A', 'A'],\n",
       " ['M', 'A', 'M', 'M', 'M', 'X', 'M', 'M', 'M', 'M'],\n",
       " ['M', 'X', 'M', 'X', 'A', 'X', 'M', 'A', 'S', 'X']]"
      ]
     },
     "metadata": {},
     "output_type": "display_data"
    },
    {
     "name": "stdout",
     "output_type": "stream",
     "text": [
      "M found at 0, 0\n",
      "M found at 1, 0\n",
      "M found at 2, 0\n",
      "M found at 6, 0\n",
      "M found at 9, 0\n",
      "M found at 0, 1\n",
      "M found at 3, 1\n",
      "M found at 5, 1\n",
      "M found at 7, 1\n",
      "M found at 1, 2\n",
      "M found at 5, 2\n",
      "M found at 8, 2\n",
      "M found at 9, 2\n",
      "M found at 0, 3\n",
      "M found at 3, 3\n",
      "M found at 6, 3\n",
      "M found at 8, 3\n",
      "M found at 1, 4\n",
      "M found at 5, 4\n",
      "M found at 8, 4\n",
      "M found at 9, 4\n",
      "M found at 3, 5\n",
      "M found at 4, 5\n",
      "M found at 8, 5\n",
      "M found at 1, 6\n",
      "M found at 3, 6\n",
      "M found at 4, 7\n",
      "M found at 0, 8\n",
      "M found at 2, 8\n",
      "M found at 3, 8\n",
      "M found at 4, 8\n",
      "M found at 6, 8\n",
      "M found at 7, 8\n",
      "M found at 8, 8\n",
      "M found at 9, 8\n",
      "M found at 0, 9\n",
      "M found at 2, 9\n",
      "M found at 6, 9\n"
     ]
    }
   ],
   "execution_count": 15
  },
  {
   "metadata": {
    "ExecuteTime": {
     "end_time": "2024-12-04T05:15:14.884389Z",
     "start_time": "2024-12-04T05:15:14.866914Z"
    }
   },
   "cell_type": "code",
   "source": [
    "# real case (part 2)\n",
    "result = part_2(InputReader(puzzle.input_data), False)\n",
    "display(result)"
   ],
   "id": "57c071f7c6d2914",
   "outputs": [
    {
     "data": {
      "text/plain": [
       "1541"
      ]
     },
     "metadata": {},
     "output_type": "display_data"
    }
   ],
   "execution_count": 16
  },
  {
   "metadata": {},
   "cell_type": "code",
   "outputs": [],
   "execution_count": null,
   "source": "",
   "id": "5d887cef4a859a03"
  }
 ],
 "metadata": {
  "kernelspec": {
   "display_name": "Python 3",
   "language": "python",
   "name": "python3"
  },
  "language_info": {
   "codemirror_mode": {
    "name": "ipython",
    "version": 2
   },
   "file_extension": ".py",
   "mimetype": "text/x-python",
   "name": "python",
   "nbconvert_exporter": "python",
   "pygments_lexer": "ipython2",
   "version": "2.7.6"
  }
 },
 "nbformat": 4,
 "nbformat_minor": 5
}
