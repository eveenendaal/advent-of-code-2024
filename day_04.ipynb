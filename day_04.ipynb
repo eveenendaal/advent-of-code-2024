{
 "cells": [
  {
   "metadata": {
    "ExecuteTime": {
     "end_time": "2024-12-05T16:09:54.938962Z",
     "start_time": "2024-12-05T16:09:54.915466Z"
    }
   },
   "cell_type": "code",
   "source": [
    "from IPython.core.display import Markdown\n",
    "from aocd.models import Puzzle\n",
    "\n",
    "from common.inputreader import InputReader, PuzzleWrapper\n",
    "\n",
    "puzzle = Puzzle(year=2024, day=int(\"04\"))\n",
    "\n",
    "display(Markdown(f\"# {puzzle.title}\"))\n",
    "display(Markdown(f\"[Open Website]({puzzle.url})\"))\n",
    "\n",
    "example = PuzzleWrapper(puzzle).get_code_block(1, min_length=30)"
   ],
   "id": "48967b98c69a7147",
   "outputs": [
    {
     "data": {
      "text/plain": [
       "<IPython.core.display.Markdown object>"
      ],
      "text/markdown": "# Ceres Search"
     },
     "metadata": {},
     "output_type": "display_data"
    },
    {
     "data": {
      "text/plain": [
       "<IPython.core.display.Markdown object>"
      ],
      "text/markdown": "[Open Website](https://adventofcode.com/2024/day/4)"
     },
     "metadata": {},
     "output_type": "display_data"
    }
   ],
   "execution_count": 8
  },
  {
   "metadata": {
    "ExecuteTime": {
     "end_time": "2024-12-05T16:09:54.958398Z",
     "start_time": "2024-12-05T16:09:54.952556Z"
    }
   },
   "cell_type": "code",
   "source": [
    "from common.matrix import Direction, MatrixNavigator\n",
    "\n",
    "\n",
    "# test case (part 1)\n",
    "def part_1(input: InputReader, debug: bool) -> int:\n",
    "    matrix = input.matrix()\n",
    "\n",
    "    if debug:\n",
    "        print(str(matrix))\n",
    "\n",
    "    starts = []\n",
    "    xmas_count = 0\n",
    "\n",
    "    # find all the X's\n",
    "    for y, line in enumerate(matrix.get_lines()):\n",
    "        for x, cell in enumerate(line):\n",
    "            if cell == \"X\":\n",
    "                starts.append((x, y))\n",
    "\n",
    "    # find all the M's within one cell of an X\n",
    "    for start in starts:\n",
    "        x, y = start\n",
    "        pointer = MatrixNavigator(matrix, x, y)\n",
    "\n",
    "        # iterate over the directions\n",
    "        for direction in Direction:\n",
    "            if pointer.move(direction) and pointer.get_value() == \"M\":\n",
    "                if pointer.move(direction) and pointer.get_value() == \"A\":\n",
    "                    if pointer.move(direction) and pointer.get_value() == \"S\":\n",
    "                        xmas_count += 1\n",
    "            pointer.set_position(x, y)\n",
    "\n",
    "    return xmas_count\n",
    "\n",
    "\n",
    "result = part_1(InputReader(example), True)\n",
    "assert result == 18"
   ],
   "id": "e02f8af223f05675",
   "outputs": [
    {
     "name": "stdout",
     "output_type": "stream",
     "text": [
      "MMMSXXMASM\n",
      "MSAMXMSMSA\n",
      "AMXSXMAAMM\n",
      "MSAMASMSMX\n",
      "XMASAMXAMM\n",
      "XXAMMXXAMA\n",
      "SMSMSASXSS\n",
      "SAXAMASAAA\n",
      "MAMMMXMMMM\n",
      "MXMXAXMASX\n"
     ]
    }
   ],
   "execution_count": 9
  },
  {
   "metadata": {
    "ExecuteTime": {
     "end_time": "2024-12-05T16:09:54.995060Z",
     "start_time": "2024-12-05T16:09:54.969904Z"
    }
   },
   "cell_type": "code",
   "source": [
    "# real case (part 1)\n",
    "result = part_1(InputReader(puzzle.input_data), False)\n",
    "assert result == 2536"
   ],
   "id": "67ce8435138f0acf",
   "outputs": [],
   "execution_count": 10
  },
  {
   "metadata": {
    "ExecuteTime": {
     "end_time": "2024-12-05T16:09:55.007498Z",
     "start_time": "2024-12-05T16:09:55.000071Z"
    }
   },
   "cell_type": "code",
   "source": [
    "# test case (part 2)\n",
    "def part_2(input: InputReader, debug: bool) -> int:\n",
    "    matrix = input.matrix()\n",
    "    if debug:\n",
    "        print(matrix)\n",
    "\n",
    "    starts = []\n",
    "    xmas_count = 0\n",
    "\n",
    "    # find all the A's\n",
    "    for y, line in enumerate(matrix.get_lines()):\n",
    "        for x, cell in enumerate(line):\n",
    "            if cell == \"A\":\n",
    "                starts.append((x, y))\n",
    "\n",
    "    # find all the M's within one cell of an X\n",
    "    for start in starts:\n",
    "        pointer = MatrixNavigator(matrix, *start)\n",
    "        a = []\n",
    "        b = []\n",
    "\n",
    "        # check in the diagonal directions\n",
    "        for direction in [Direction.UP_LEFT, Direction.DOWN_RIGHT]:\n",
    "            ok, value = pointer.peek_value(direction)\n",
    "            if not ok:\n",
    "                continue\n",
    "            a.append(value)\n",
    "\n",
    "        for direction in [Direction.UP_RIGHT, Direction.DOWN_LEFT]:\n",
    "            ok, value = pointer.peek_value(direction)\n",
    "            if not ok:\n",
    "                continue\n",
    "            b.append(value)\n",
    "\n",
    "        # if a and b both contain M and S, then we have an MAS\n",
    "        if \"M\" in a and \"S\" in a and \"M\" in b and \"S\" in b:\n",
    "            xmas_count += 1\n",
    "\n",
    "    return xmas_count\n",
    "\n",
    "\n",
    "result = part_2(InputReader(example), True)\n",
    "assert result == 9"
   ],
   "id": "de53f808dd4e9ceb",
   "outputs": [
    {
     "name": "stdout",
     "output_type": "stream",
     "text": [
      "MMMSXXMASM\n",
      "MSAMXMSMSA\n",
      "AMXSXMAAMM\n",
      "MSAMASMSMX\n",
      "XMASAMXAMM\n",
      "XXAMMXXAMA\n",
      "SMSMSASXSS\n",
      "SAXAMASAAA\n",
      "MAMMMXMMMM\n",
      "MXMXAXMASX\n"
     ]
    }
   ],
   "execution_count": 11
  },
  {
   "metadata": {
    "ExecuteTime": {
     "end_time": "2024-12-05T16:09:55.031606Z",
     "start_time": "2024-12-05T16:09:55.015555Z"
    }
   },
   "cell_type": "code",
   "source": [
    "# real case (part 2)\n",
    "result = part_2(InputReader(puzzle.input_data), False)\n",
    "display(result)\n",
    "assert result == 1875"
   ],
   "id": "3d97ca0e95216441",
   "outputs": [
    {
     "data": {
      "text/plain": [
       "1875"
      ]
     },
     "metadata": {},
     "output_type": "display_data"
    }
   ],
   "execution_count": 12
  },
  {
   "metadata": {
    "ExecuteTime": {
     "end_time": "2024-12-05T16:09:55.050893Z",
     "start_time": "2024-12-05T16:09:55.049426Z"
    }
   },
   "cell_type": "code",
   "source": "",
   "id": "c80f41b4c7771583",
   "outputs": [],
   "execution_count": null
  }
 ],
 "metadata": {
  "kernelspec": {
   "display_name": "Python 3",
   "language": "python",
   "name": "python3"
  },
  "language_info": {
   "codemirror_mode": {
    "name": "ipython",
    "version": 2
   },
   "file_extension": ".py",
   "mimetype": "text/x-python",
   "name": "python",
   "nbconvert_exporter": "python",
   "pygments_lexer": "ipython2",
   "version": "2.7.6"
  }
 },
 "nbformat": 4,
 "nbformat_minor": 5
}
