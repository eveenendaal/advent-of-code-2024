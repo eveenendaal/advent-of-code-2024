{
 "cells": [
  {
   "cell_type": "code",
   "execution_count": 1,
   "id": "7dbe8d23321ca17f",
   "metadata": {
    "ExecuteTime": {
     "end_time": "2024-12-05T18:07:58.728673Z",
     "start_time": "2024-12-05T18:07:58.709212Z"
    },
    "execution": {
     "iopub.execute_input": "2024-12-08T05:46:53.100946Z",
     "iopub.status.busy": "2024-12-08T05:46:53.100456Z",
     "iopub.status.idle": "2024-12-08T05:46:53.201732Z",
     "shell.execute_reply": "2024-12-08T05:46:53.201471Z"
    }
   },
   "outputs": [
    {
     "data": {
      "text/markdown": [
       "# Ceres Search"
      ],
      "text/plain": [
       "<IPython.core.display.Markdown object>"
      ]
     },
     "metadata": {},
     "output_type": "display_data"
    },
    {
     "data": {
      "text/markdown": [
       "[Open Website](https://adventofcode.com/2024/day/4)"
      ],
      "text/plain": [
       "<IPython.core.display.Markdown object>"
      ]
     },
     "metadata": {},
     "output_type": "display_data"
    }
   ],
   "source": [
    "from IPython.core.display import Markdown\n",
    "from aocd.models import Puzzle\n",
    "\n",
    "from common.inputreader import InputReader, get_code_block\n",
    "\n",
    "puzzle = Puzzle(year=2024, day=int(\"04\"))\n",
    "\n",
    "display(Markdown(f\"# {puzzle.title}\"))\n",
    "display(Markdown(f\"[Open Website]({puzzle.url})\"))\n",
    "\n",
    "example = get_code_block(puzzle, 1)"
   ]
  },
  {
   "cell_type": "code",
   "execution_count": 2,
   "id": "7c53b6554f4f79d5",
   "metadata": {
    "ExecuteTime": {
     "end_time": "2024-12-05T18:07:58.742029Z",
     "start_time": "2024-12-05T18:07:58.736453Z"
    },
    "execution": {
     "iopub.execute_input": "2024-12-08T05:46:53.202928Z",
     "iopub.status.busy": "2024-12-08T05:46:53.202821Z",
     "iopub.status.idle": "2024-12-08T05:46:53.206088Z",
     "shell.execute_reply": "2024-12-08T05:46:53.205853Z"
    }
   },
   "outputs": [
    {
     "name": "stdout",
     "output_type": "stream",
     "text": [
      "<common.matrix.Matrix object at 0x1063ab230>\n"
     ]
    }
   ],
   "source": [
    "from common.matrix import Direction, MatrixNavigator\n",
    "\n",
    "\n",
    "# test case (part 1)\n",
    "def part_1(input: InputReader, debug: bool) -> int:\n",
    "    matrix = input.matrix()\n",
    "\n",
    "    if debug:\n",
    "        print(str(matrix))\n",
    "\n",
    "    starts = []\n",
    "    xmas_count = 0\n",
    "\n",
    "    # find all the X's\n",
    "    for y, line in enumerate(matrix.get_lines()):\n",
    "        for x, cell in enumerate(line):\n",
    "            if cell == \"X\":\n",
    "                starts.append((x, y))\n",
    "\n",
    "    # find all the M's within one cell of an X\n",
    "    for start in starts:\n",
    "        x, y = start\n",
    "        pointer = MatrixNavigator(matrix, x, y)\n",
    "\n",
    "        # iterate over the directions\n",
    "        for direction in Direction:\n",
    "            if pointer.move(direction) and pointer.get_value() == \"M\":\n",
    "                if pointer.move(direction) and pointer.get_value() == \"A\":\n",
    "                    if pointer.move(direction) and pointer.get_value() == \"S\":\n",
    "                        xmas_count += 1\n",
    "            pointer.set_position(x, y)\n",
    "\n",
    "    return xmas_count\n",
    "\n",
    "\n",
    "result = part_1(InputReader(example), True)\n",
    "assert result == 18"
   ]
  },
  {
   "cell_type": "code",
   "execution_count": 3,
   "id": "136df1b61e1d23f4",
   "metadata": {
    "ExecuteTime": {
     "end_time": "2024-12-05T18:07:58.779424Z",
     "start_time": "2024-12-05T18:07:58.749703Z"
    },
    "execution": {
     "iopub.execute_input": "2024-12-08T05:46:53.207285Z",
     "iopub.status.busy": "2024-12-08T05:46:53.207203Z",
     "iopub.status.idle": "2024-12-08T05:46:53.229359Z",
     "shell.execute_reply": "2024-12-08T05:46:53.229103Z"
    }
   },
   "outputs": [],
   "source": [
    "# real case (part 1)\n",
    "result = part_1(InputReader(puzzle.input_data), False)\n",
    "assert result == 2536"
   ]
  },
  {
   "cell_type": "code",
   "execution_count": 4,
   "id": "de53f808dd4e9ceb",
   "metadata": {
    "ExecuteTime": {
     "end_time": "2024-12-05T18:07:58.788032Z",
     "start_time": "2024-12-05T18:07:58.784117Z"
    },
    "execution": {
     "iopub.execute_input": "2024-12-08T05:46:53.230544Z",
     "iopub.status.busy": "2024-12-08T05:46:53.230467Z",
     "iopub.status.idle": "2024-12-08T05:46:53.233548Z",
     "shell.execute_reply": "2024-12-08T05:46:53.233320Z"
    }
   },
   "outputs": [
    {
     "name": "stdout",
     "output_type": "stream",
     "text": [
      "<common.matrix.Matrix object at 0x10639a710>\n"
     ]
    }
   ],
   "source": [
    "# test case (part 2)\n",
    "def part_2(input: InputReader, debug: bool) -> int:\n",
    "    matrix = input.matrix()\n",
    "    if debug:\n",
    "        print(matrix)\n",
    "\n",
    "    starts = []\n",
    "    xmas_count = 0\n",
    "\n",
    "    # find all the A's\n",
    "    for y, line in enumerate(matrix.get_lines()):\n",
    "        for x, cell in enumerate(line):\n",
    "            if cell == \"A\":\n",
    "                starts.append((x, y))\n",
    "\n",
    "    # find all the M's within one cell of an X\n",
    "    for start in starts:\n",
    "        pointer = MatrixNavigator(matrix, *start)\n",
    "        a = []\n",
    "        b = []\n",
    "\n",
    "        # check in the diagonal directions\n",
    "        for direction in [Direction.UP_LEFT, Direction.DOWN_RIGHT]:\n",
    "            ok, value = pointer.peek_value(direction)\n",
    "            if not ok:\n",
    "                continue\n",
    "            a.append(value)\n",
    "\n",
    "        for direction in [Direction.UP_RIGHT, Direction.DOWN_LEFT]:\n",
    "            ok, value = pointer.peek_value(direction)\n",
    "            if not ok:\n",
    "                continue\n",
    "            b.append(value)\n",
    "\n",
    "        # if a and b both contain M and S, then we have an MAS\n",
    "        if \"M\" in a and \"S\" in a and \"M\" in b and \"S\" in b:\n",
    "            xmas_count += 1\n",
    "\n",
    "    return xmas_count\n",
    "\n",
    "\n",
    "result = part_2(InputReader(example), True)\n",
    "assert result == 9"
   ]
  },
  {
   "cell_type": "code",
   "execution_count": 5,
   "id": "3d97ca0e95216441",
   "metadata": {
    "ExecuteTime": {
     "end_time": "2024-12-05T18:07:58.820691Z",
     "start_time": "2024-12-05T18:07:58.804667Z"
    },
    "execution": {
     "iopub.execute_input": "2024-12-08T05:46:53.234663Z",
     "iopub.status.busy": "2024-12-08T05:46:53.234583Z",
     "iopub.status.idle": "2024-12-08T05:46:53.248037Z",
     "shell.execute_reply": "2024-12-08T05:46:53.247820Z"
    }
   },
   "outputs": [
    {
     "data": {
      "text/plain": [
       "1875"
      ]
     },
     "metadata": {},
     "output_type": "display_data"
    }
   ],
   "source": [
    "# real case (part 2)\n",
    "result = part_2(InputReader(puzzle.input_data), False)\n",
    "display(result)\n",
    "assert result == 1875"
   ]
  },
  {
   "cell_type": "code",
   "execution_count": null,
   "id": "c80f41b4c7771583",
   "metadata": {
    "ExecuteTime": {
     "end_time": "2024-12-05T18:07:58.853098Z",
     "start_time": "2024-12-05T18:07:58.851709Z"
    }
   },
   "outputs": [],
   "source": []
  }
 ],
 "metadata": {
  "kernelspec": {
   "display_name": "Python 3",
   "language": "python",
   "name": "python3"
  },
  "language_info": {
   "codemirror_mode": {
    "name": "ipython",
    "version": 3
   },
   "file_extension": ".py",
   "mimetype": "text/x-python",
   "name": "python",
   "nbconvert_exporter": "python",
   "pygments_lexer": "ipython3",
   "version": "3.13.0"
  }
 },
 "nbformat": 4,
 "nbformat_minor": 5
}
