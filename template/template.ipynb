{
 "cells": [
  {
   "metadata": {},
   "cell_type": "code",
   "outputs": [],
   "execution_count": null,
   "source": [
    "from common.inputreader import InputReader\n",
    "\n",
    "test_input = InputReader('<<NAME>>/test.txt')\n",
    "real_input = InputReader('<<NAME>>/input.txt')"
   ],
   "id": "dec75b3898d7314f"
  },
  {
   "metadata": {},
   "cell_type": "code",
   "outputs": [],
   "execution_count": null,
   "source": [
    "# test case (part 1)\n",
    "def part_1(input: InputReader, debug: bool) -> int:\n",
    "    lines = input.lines_as_str()\n",
    "    if debug:\n",
    "        display(lines)\n",
    "    return 0\n",
    "\n",
    "result = part_1(test_input, True)\n",
    "assert result == 0"
   ],
   "id": "6d23892a17117fed"
  },
  {
   "metadata": {},
   "cell_type": "code",
   "source": [
    "# real case (part 1)\n",
    "result = part_1(real_input, False)\n",
    "display(result)"
   ],
   "id": "66cab898e4711d42",
   "outputs": [],
   "execution_count": null
  },
  {
   "metadata": {},
   "cell_type": "code",
   "outputs": [],
   "execution_count": null,
   "source": [
    "# test case (part 2)\n",
    "def part_2(input: InputReader, debug: bool) -> int:\n",
    "    lines = input.lines_as_str()\n",
    "    if debug:\n",
    "        display(lines)\n",
    "    return 0\n",
    "\n",
    "result = part_2(test_input, True)\n",
    "assert result == 0"
   ],
   "id": "d2277c7db8ea0a5e"
  },
  {
   "metadata": {},
   "cell_type": "code",
   "outputs": [],
   "execution_count": null,
   "source": [
    "# real case (part 2)\n",
    "result = part_2(real_input, False)\n",
    "display(result)"
   ],
   "id": "57c071f7c6d2914"
  }
 ],
 "metadata": {
  "kernelspec": {
   "display_name": "Python 3",
   "language": "python",
   "name": "python3"
  },
  "language_info": {
   "codemirror_mode": {
    "name": "ipython",
    "version": 2
   },
   "file_extension": ".py",
   "mimetype": "text/x-python",
   "name": "python",
   "nbconvert_exporter": "python",
   "pygments_lexer": "ipython2",
   "version": "2.7.6"
  }
 },
 "nbformat": 4,
 "nbformat_minor": 5
}
