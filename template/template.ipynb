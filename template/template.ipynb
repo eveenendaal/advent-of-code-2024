{
 "cells": [
  {
   "metadata": {},
   "cell_type": "code",
   "outputs": [],
   "execution_count": null,
   "source": [
    "from common.inputreader import InputReader\n",
    "\n",
    "test_input = InputReader('day1/test.txt')\n",
    "real_input = InputReader('day1/input.txt')"
   ],
   "id": "dec75b3898d7314f"
  },
  {
   "metadata": {},
   "cell_type": "code",
   "outputs": [],
   "execution_count": null,
   "source": [
    "# test case (part 1)\n",
    "display(test_input)"
   ],
   "id": "6d23892a17117fed"
  },
  {
   "metadata": {},
   "cell_type": "code",
   "source": [
    "# real case (part 1)\n",
    "display(real_input)"
   ],
   "id": "66cab898e4711d42",
   "outputs": [],
   "execution_count": null
  },
  {
   "metadata": {},
   "cell_type": "code",
   "outputs": [],
   "execution_count": null,
   "source": [
    "# test case (part 2)\n",
    "display(test_input)"
   ],
   "id": "d2277c7db8ea0a5e"
  },
  {
   "metadata": {},
   "cell_type": "code",
   "outputs": [],
   "execution_count": null,
   "source": [
    "# real case (part 2)\n",
    "display(real_input)"
   ],
   "id": "57c071f7c6d2914"
  }
 ],
 "metadata": {
  "kernelspec": {
   "display_name": "Python 3",
   "language": "python",
   "name": "python3"
  },
  "language_info": {
   "codemirror_mode": {
    "name": "ipython",
    "version": 2
   },
   "file_extension": ".py",
   "mimetype": "text/x-python",
   "name": "python",
   "nbconvert_exporter": "python",
   "pygments_lexer": "ipython2",
   "version": "2.7.6"
  }
 },
 "nbformat": 4,
 "nbformat_minor": 5
}
