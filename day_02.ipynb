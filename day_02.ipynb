{
 "cells": [
  {
   "cell_type": "code",
   "id": "dec75b3898d7314f",
   "metadata": {
    "execution": {
     "iopub.execute_input": "2024-12-08T05:46:50.414076Z",
     "iopub.status.busy": "2024-12-08T05:46:50.413773Z",
     "iopub.status.idle": "2024-12-08T05:46:50.508567Z",
     "shell.execute_reply": "2024-12-08T05:46:50.508288Z"
    },
    "ExecuteTime": {
     "end_time": "2024-12-08T08:23:09.280038Z",
     "start_time": "2024-12-08T08:23:09.184713Z"
    }
   },
   "source": [
    "from IPython.core.display import Markdown\n",
    "from aocd.models import Puzzle\n",
    "\n",
    "from common.inputreader import InputReader\n",
    "\n",
    "puzzle = Puzzle(year=2024, day=int(\"02\"))\n",
    "\n",
    "display(Markdown(f\"# {puzzle.title}\"))\n",
    "display(Markdown(f\"[Open Website]({puzzle.url})\"))"
   ],
   "outputs": [
    {
     "data": {
      "text/plain": [
       "<IPython.core.display.Markdown object>"
      ],
      "text/markdown": "# Red-Nosed Reports"
     },
     "metadata": {},
     "output_type": "display_data"
    },
    {
     "data": {
      "text/plain": [
       "<IPython.core.display.Markdown object>"
      ],
      "text/markdown": "[Open Website](https://adventofcode.com/2024/day/2)"
     },
     "metadata": {},
     "output_type": "display_data"
    }
   ],
   "execution_count": 1
  },
  {
   "metadata": {
    "ExecuteTime": {
     "end_time": "2024-12-08T08:23:09.402537Z",
     "start_time": "2024-12-08T08:23:09.397065Z"
    }
   },
   "cell_type": "code",
   "source": [
    "display(Markdown(f\"## Easter Eggs\"))\n",
    "for next in puzzle.easter_eggs:\n",
    "    display(Markdown(f\"{next.attrs['title']}\"))"
   ],
   "id": "86ef7d79eb33ce6a",
   "outputs": [
    {
     "data": {
      "text/plain": [
       "<IPython.core.display.Markdown object>"
      ],
      "text/markdown": "## Easter Eggs"
     },
     "metadata": {},
     "output_type": "display_data"
    },
    {
     "data": {
      "text/plain": [
       "<IPython.core.display.Markdown object>"
      ],
      "text/markdown": "I need to get one of these!"
     },
     "metadata": {},
     "output_type": "display_data"
    }
   ],
   "execution_count": 2
  },
  {
   "cell_type": "code",
   "execution_count": 2,
   "id": "6d23892a17117fed",
   "metadata": {
    "ExecuteTime": {
     "end_time": "2024-12-05T18:06:35.004034Z",
     "start_time": "2024-12-05T18:06:34.967804Z"
    },
    "execution": {
     "iopub.execute_input": "2024-12-08T05:46:50.509821Z",
     "iopub.status.busy": "2024-12-08T05:46:50.509707Z",
     "iopub.status.idle": "2024-12-08T05:46:50.528236Z",
     "shell.execute_reply": "2024-12-08T05:46:50.528028Z"
    }
   },
   "outputs": [
    {
     "data": {
      "text/plain": [
       "[7, 6, 4, 2, 1]"
      ]
     },
     "metadata": {},
     "output_type": "display_data"
    },
    {
     "data": {
      "text/plain": [
       "'min_diff: 1, max_diff: 2'"
      ]
     },
     "metadata": {},
     "output_type": "display_data"
    },
    {
     "data": {
      "text/plain": [
       "'increases: 0, decreases: 4, unsafe: False'"
      ]
     },
     "metadata": {},
     "output_type": "display_data"
    },
    {
     "data": {
      "text/plain": [
       "[1, 2, 7, 8, 9]"
      ]
     },
     "metadata": {},
     "output_type": "display_data"
    },
    {
     "data": {
      "text/plain": [
       "'min_diff: 1, max_diff: 5'"
      ]
     },
     "metadata": {},
     "output_type": "display_data"
    },
    {
     "data": {
      "text/plain": [
       "'increases: 4, decreases: 0, unsafe: True'"
      ]
     },
     "metadata": {},
     "output_type": "display_data"
    },
    {
     "data": {
      "text/plain": [
       "[9, 7, 6, 2, 1]"
      ]
     },
     "metadata": {},
     "output_type": "display_data"
    },
    {
     "data": {
      "text/plain": [
       "'min_diff: 1, max_diff: 4'"
      ]
     },
     "metadata": {},
     "output_type": "display_data"
    },
    {
     "data": {
      "text/plain": [
       "'increases: 0, decreases: 4, unsafe: True'"
      ]
     },
     "metadata": {},
     "output_type": "display_data"
    },
    {
     "data": {
      "text/plain": [
       "[1, 3, 2, 4, 5]"
      ]
     },
     "metadata": {},
     "output_type": "display_data"
    },
    {
     "data": {
      "text/plain": [
       "'min_diff: 1, max_diff: 2'"
      ]
     },
     "metadata": {},
     "output_type": "display_data"
    },
    {
     "data": {
      "text/plain": [
       "'increases: 3, decreases: 1, unsafe: True'"
      ]
     },
     "metadata": {},
     "output_type": "display_data"
    },
    {
     "data": {
      "text/plain": [
       "[8, 6, 4, 4, 1]"
      ]
     },
     "metadata": {},
     "output_type": "display_data"
    },
    {
     "data": {
      "text/plain": [
       "'min_diff: 0, max_diff: 3'"
      ]
     },
     "metadata": {},
     "output_type": "display_data"
    },
    {
     "data": {
      "text/plain": [
       "'increases: 0, decreases: 3, unsafe: True'"
      ]
     },
     "metadata": {},
     "output_type": "display_data"
    },
    {
     "data": {
      "text/plain": [
       "[1, 3, 6, 7, 9]"
      ]
     },
     "metadata": {},
     "output_type": "display_data"
    },
    {
     "data": {
      "text/plain": [
       "'min_diff: 1, max_diff: 3'"
      ]
     },
     "metadata": {},
     "output_type": "display_data"
    },
    {
     "data": {
      "text/plain": [
       "'increases: 4, decreases: 0, unsafe: False'"
      ]
     },
     "metadata": {},
     "output_type": "display_data"
    }
   ],
   "source": [
    "# test case (part 1)\n",
    "def part_1(input: InputReader, debug: bool) -> int:\n",
    "    lines = input.lines_as_ints()\n",
    "    safes = 0\n",
    "\n",
    "    for line in lines:\n",
    "        diffs = []\n",
    "        abs_diffs = []\n",
    "        pairs = []\n",
    "        increases = 0\n",
    "        decreases = 0\n",
    "\n",
    "        # split into pairs\n",
    "        for i in range(len(line) - 1):\n",
    "            pairs.append((line[i], line[i + 1]))\n",
    "        # calculate differences\n",
    "        for pair in pairs:\n",
    "            diffs.append(pair[1] - pair[0])\n",
    "            abs_diffs.append(abs(pair[1] - pair[0]))\n",
    "\n",
    "        unsafe = False\n",
    "\n",
    "        min_diff = min(abs_diffs)\n",
    "        max_diff = max(abs_diffs)\n",
    "\n",
    "        # if any of the diffs are greater than 2, it's unsafe\n",
    "        for diff in diffs:\n",
    "            if diff > 0:\n",
    "                increases += 1\n",
    "            elif diff < 0:\n",
    "                decreases += 1\n",
    "\n",
    "        # it's a mix of increases and decreases, it's unsafe\n",
    "        if increases > 0 and decreases > 0:\n",
    "            unsafe = True\n",
    "\n",
    "        if min_diff < 1 or max_diff > 3:\n",
    "            unsafe = True\n",
    "\n",
    "        if not unsafe:\n",
    "            safes += 1\n",
    "\n",
    "        if debug:\n",
    "            display(line)\n",
    "            display(f\"min_diff: {min_diff}, max_diff: {max_diff}\")\n",
    "            display(f\"increases: {increases}, decreases: {decreases}, unsafe: {unsafe}\")\n",
    "\n",
    "    return safes\n",
    "\n",
    "\n",
    "example = puzzle.examples[0]\n",
    "result = part_1(InputReader(example.input_data), True)\n",
    "assert result == int(example.answer_a)"
   ]
  },
  {
   "cell_type": "code",
   "execution_count": 3,
   "id": "66cab898e4711d42",
   "metadata": {
    "ExecuteTime": {
     "end_time": "2024-12-05T18:06:35.113852Z",
     "start_time": "2024-12-05T18:06:35.107294Z"
    },
    "execution": {
     "iopub.execute_input": "2024-12-08T05:46:50.529347Z",
     "iopub.status.busy": "2024-12-08T05:46:50.529268Z",
     "iopub.status.idle": "2024-12-08T05:46:50.533499Z",
     "shell.execute_reply": "2024-12-08T05:46:50.533291Z"
    }
   },
   "outputs": [
    {
     "data": {
      "text/plain": [
       "524"
      ]
     },
     "metadata": {},
     "output_type": "display_data"
    }
   ],
   "source": [
    "# real case (part 1)\n",
    "result = part_1(InputReader(puzzle.input_data), False)\n",
    "display(result)\n",
    "assert result == 524"
   ]
  },
  {
   "cell_type": "code",
   "execution_count": 4,
   "id": "d2277c7db8ea0a5e",
   "metadata": {
    "ExecuteTime": {
     "end_time": "2024-12-05T18:06:35.171761Z",
     "start_time": "2024-12-05T18:06:35.145470Z"
    },
    "execution": {
     "iopub.execute_input": "2024-12-08T05:46:50.534605Z",
     "iopub.status.busy": "2024-12-08T05:46:50.534528Z",
     "iopub.status.idle": "2024-12-08T05:46:50.551801Z",
     "shell.execute_reply": "2024-12-08T05:46:50.551596Z"
    }
   },
   "outputs": [
    {
     "data": {
      "text/plain": [
       "[7, 6, 4, 2, 1]"
      ]
     },
     "metadata": {},
     "output_type": "display_data"
    },
    {
     "data": {
      "text/plain": [
       "'min_diff: 1, max_diff: 2'"
      ]
     },
     "metadata": {},
     "output_type": "display_data"
    },
    {
     "data": {
      "text/plain": [
       "'increases: 0, decreases: 4'"
      ]
     },
     "metadata": {},
     "output_type": "display_data"
    },
    {
     "data": {
      "text/plain": [
       "'line is safe'"
      ]
     },
     "metadata": {},
     "output_type": "display_data"
    },
    {
     "data": {
      "text/plain": [
       "[1, 2, 7, 8, 9]"
      ]
     },
     "metadata": {},
     "output_type": "display_data"
    },
    {
     "data": {
      "text/plain": [
       "'min_diff: 1, max_diff: 5'"
      ]
     },
     "metadata": {},
     "output_type": "display_data"
    },
    {
     "data": {
      "text/plain": [
       "'increases: 4, decreases: 0'"
      ]
     },
     "metadata": {},
     "output_type": "display_data"
    },
    {
     "data": {
      "text/plain": [
       "[2, 7, 8, 9]"
      ]
     },
     "metadata": {},
     "output_type": "display_data"
    },
    {
     "data": {
      "text/plain": [
       "[1, 7, 8, 9]"
      ]
     },
     "metadata": {},
     "output_type": "display_data"
    },
    {
     "data": {
      "text/plain": [
       "[1, 2, 8, 9]"
      ]
     },
     "metadata": {},
     "output_type": "display_data"
    },
    {
     "data": {
      "text/plain": [
       "[1, 2, 7, 9]"
      ]
     },
     "metadata": {},
     "output_type": "display_data"
    },
    {
     "data": {
      "text/plain": [
       "[1, 2, 7, 8]"
      ]
     },
     "metadata": {},
     "output_type": "display_data"
    },
    {
     "data": {
      "text/plain": [
       "[9, 7, 6, 2, 1]"
      ]
     },
     "metadata": {},
     "output_type": "display_data"
    },
    {
     "data": {
      "text/plain": [
       "'min_diff: 1, max_diff: 4'"
      ]
     },
     "metadata": {},
     "output_type": "display_data"
    },
    {
     "data": {
      "text/plain": [
       "'increases: 0, decreases: 4'"
      ]
     },
     "metadata": {},
     "output_type": "display_data"
    },
    {
     "data": {
      "text/plain": [
       "[7, 6, 2, 1]"
      ]
     },
     "metadata": {},
     "output_type": "display_data"
    },
    {
     "data": {
      "text/plain": [
       "[9, 6, 2, 1]"
      ]
     },
     "metadata": {},
     "output_type": "display_data"
    },
    {
     "data": {
      "text/plain": [
       "[9, 7, 2, 1]"
      ]
     },
     "metadata": {},
     "output_type": "display_data"
    },
    {
     "data": {
      "text/plain": [
       "[9, 7, 6, 1]"
      ]
     },
     "metadata": {},
     "output_type": "display_data"
    },
    {
     "data": {
      "text/plain": [
       "[9, 7, 6, 2]"
      ]
     },
     "metadata": {},
     "output_type": "display_data"
    },
    {
     "data": {
      "text/plain": [
       "[1, 3, 2, 4, 5]"
      ]
     },
     "metadata": {},
     "output_type": "display_data"
    },
    {
     "data": {
      "text/plain": [
       "'min_diff: 1, max_diff: 2'"
      ]
     },
     "metadata": {},
     "output_type": "display_data"
    },
    {
     "data": {
      "text/plain": [
       "'increases: 3, decreases: 1'"
      ]
     },
     "metadata": {},
     "output_type": "display_data"
    },
    {
     "data": {
      "text/plain": [
       "[3, 2, 4, 5]"
      ]
     },
     "metadata": {},
     "output_type": "display_data"
    },
    {
     "data": {
      "text/plain": [
       "[1, 2, 4, 5]"
      ]
     },
     "metadata": {},
     "output_type": "display_data"
    },
    {
     "data": {
      "text/plain": [
       "[8, 6, 4, 4, 1]"
      ]
     },
     "metadata": {},
     "output_type": "display_data"
    },
    {
     "data": {
      "text/plain": [
       "'min_diff: 0, max_diff: 3'"
      ]
     },
     "metadata": {},
     "output_type": "display_data"
    },
    {
     "data": {
      "text/plain": [
       "'increases: 0, decreases: 3'"
      ]
     },
     "metadata": {},
     "output_type": "display_data"
    },
    {
     "data": {
      "text/plain": [
       "[6, 4, 4, 1]"
      ]
     },
     "metadata": {},
     "output_type": "display_data"
    },
    {
     "data": {
      "text/plain": [
       "[8, 4, 4, 1]"
      ]
     },
     "metadata": {},
     "output_type": "display_data"
    },
    {
     "data": {
      "text/plain": [
       "[8, 6, 4, 1]"
      ]
     },
     "metadata": {},
     "output_type": "display_data"
    },
    {
     "data": {
      "text/plain": [
       "[1, 3, 6, 7, 9]"
      ]
     },
     "metadata": {},
     "output_type": "display_data"
    },
    {
     "data": {
      "text/plain": [
       "'min_diff: 1, max_diff: 3'"
      ]
     },
     "metadata": {},
     "output_type": "display_data"
    },
    {
     "data": {
      "text/plain": [
       "'increases: 4, decreases: 0'"
      ]
     },
     "metadata": {},
     "output_type": "display_data"
    },
    {
     "data": {
      "text/plain": [
       "'line is safe'"
      ]
     },
     "metadata": {},
     "output_type": "display_data"
    }
   ],
   "source": [
    "# test case (part 2)\n",
    "def line_safe(line: list, debug: bool) -> bool:\n",
    "    diffs = []\n",
    "    abs_diffs = []\n",
    "    pairs = []\n",
    "    increases = 0\n",
    "    decreases = 0\n",
    "\n",
    "    # split into pairs\n",
    "    for i in range(len(line) - 1):\n",
    "        pairs.append((line[i], line[i + 1]))\n",
    "    # calculate differences\n",
    "    for pair in pairs:\n",
    "        diffs.append(pair[1] - pair[0])\n",
    "        abs_diffs.append(abs(pair[1] - pair[0]))\n",
    "\n",
    "    min_diff = min(abs_diffs)\n",
    "    max_diff = max(abs_diffs)\n",
    "\n",
    "    # if any of the diffs are greater than 2, it's unsafe\n",
    "    for diff in diffs:\n",
    "        if diff > 0:\n",
    "            increases += 1\n",
    "        elif diff < 0:\n",
    "            decreases += 1\n",
    "\n",
    "    if debug:\n",
    "        display(f\"min_diff: {min_diff}, max_diff: {max_diff}\")\n",
    "        display(f\"increases: {increases}, decreases: {decreases}\")\n",
    "\n",
    "    # it's a mix of increases and decreases, it's unsafe\n",
    "    if increases > 0 and decreases > 0:\n",
    "        return False\n",
    "\n",
    "    if min_diff < 1 or max_diff > 3:\n",
    "        return False\n",
    "\n",
    "    return True\n",
    "\n",
    "\n",
    "def part_2(input: InputReader, debug: bool) -> int:\n",
    "    lines = input.lines_as_ints()\n",
    "    safes = 0\n",
    "\n",
    "    for line in lines:\n",
    "        if debug:\n",
    "            display(line)\n",
    "\n",
    "        if line_safe(line, debug):\n",
    "            safes += 1\n",
    "            if debug:\n",
    "                display(\"line is safe\")\n",
    "            continue\n",
    "\n",
    "        # try removing one element at a time\n",
    "        for i in range(len(line)):\n",
    "            new_line = line.copy()\n",
    "            new_line.pop(i)\n",
    "            if debug:\n",
    "                display(new_line)\n",
    "            if line_safe(new_line, False):\n",
    "                safes += 1\n",
    "                break\n",
    "\n",
    "    return safes\n",
    "\n",
    "\n",
    "example = puzzle.examples[0]\n",
    "result = part_2(InputReader(example.input_data), True)\n",
    "assert result == int(example.answer_b)"
   ]
  },
  {
   "cell_type": "code",
   "execution_count": 5,
   "id": "57c071f7c6d2914",
   "metadata": {
    "ExecuteTime": {
     "end_time": "2024-12-05T18:06:35.478133Z",
     "start_time": "2024-12-05T18:06:35.468843Z"
    },
    "execution": {
     "iopub.execute_input": "2024-12-08T05:46:50.553071Z",
     "iopub.status.busy": "2024-12-08T05:46:50.552996Z",
     "iopub.status.idle": "2024-12-08T05:46:50.560445Z",
     "shell.execute_reply": "2024-12-08T05:46:50.560217Z"
    }
   },
   "outputs": [
    {
     "data": {
      "text/plain": [
       "569"
      ]
     },
     "metadata": {},
     "output_type": "display_data"
    }
   ],
   "source": [
    "# real case (part 2)\n",
    "result = part_2(InputReader(puzzle.input_data), False)\n",
    "display(result)\n",
    "assert result == 569"
   ]
  },
  {
   "cell_type": "code",
   "execution_count": null,
   "id": "6c883b51d0037a51",
   "metadata": {
    "ExecuteTime": {
     "end_time": "2024-12-05T18:06:35.517871Z",
     "start_time": "2024-12-05T18:06:35.516245Z"
    }
   },
   "outputs": [],
   "source": []
  }
 ],
 "metadata": {
  "kernelspec": {
   "display_name": "Python 3",
   "language": "python",
   "name": "python3"
  },
  "language_info": {
   "codemirror_mode": {
    "name": "ipython",
    "version": 3
   },
   "file_extension": ".py",
   "mimetype": "text/x-python",
   "name": "python",
   "nbconvert_exporter": "python",
   "pygments_lexer": "ipython3",
   "version": "3.13.0"
  }
 },
 "nbformat": 4,
 "nbformat_minor": 5
}
