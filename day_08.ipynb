{
 "cells": [
  {
   "metadata": {
    "ExecuteTime": {
     "end_time": "2024-12-08T05:33:04.368338Z",
     "start_time": "2024-12-08T05:33:04.357908Z"
    }
   },
   "cell_type": "code",
   "source": [
    "from IPython.core.display import Markdown\n",
    "from aocd.models import Puzzle\n",
    "\n",
    "from common.inputreader import InputReader, get_code_blocks, get_code_block\n",
    "from common.matrix import Direction, MatrixNavigator\n",
    "\n",
    "puzzle = Puzzle(year=2024, day=int(\"08\"))\n",
    "\n",
    "display(Markdown(f\"# {puzzle.title}\"))\n",
    "display(Markdown(f\"[Open Website]({puzzle.url})\"))\n",
    "\n",
    "# example = get_code_block(puzzle, 5)"
   ],
   "id": "dec75b3898d7314f",
   "outputs": [
    {
     "data": {
      "text/plain": [
       "<IPython.core.display.Markdown object>"
      ],
      "text/markdown": "# Resonant Collinearity"
     },
     "metadata": {},
     "output_type": "display_data"
    },
    {
     "data": {
      "text/plain": [
       "<IPython.core.display.Markdown object>"
      ],
      "text/markdown": "[Open Website](https://adventofcode.com/2024/day/8)"
     },
     "metadata": {},
     "output_type": "display_data"
    }
   ],
   "execution_count": 10
  },
  {
   "metadata": {
    "ExecuteTime": {
     "end_time": "2024-12-08T05:33:04.411881Z",
     "start_time": "2024-12-08T05:33:04.401528Z"
    }
   },
   "cell_type": "code",
   "source": [
    "# test case (part 1)\n",
    "def domain_from_input(input: InputReader) -> list:\n",
    "    matrix = input.matrix()\n",
    "\n",
    "    return matrix\n",
    "\n",
    "\n",
    "def part_1(reader: InputReader, debug: bool) -> int:\n",
    "    matrix = domain_from_input(reader)\n",
    "\n",
    "    letters = set()\n",
    "    # find all the letters\n",
    "    for x, y, value in matrix:\n",
    "        if value != \".\":\n",
    "            letters.add(value)\n",
    "\n",
    "    # make groups of each letter\n",
    "    groups = {}\n",
    "    for letter in letters:\n",
    "        groups[letter] = []\n",
    "        for x, y, value in matrix:\n",
    "            if value == letter:\n",
    "                groups[letter].append((x, y))\n",
    "\n",
    "    if debug:\n",
    "        display(groups)\n",
    "\n",
    "    antinodes = set()\n",
    "\n",
    "    # iterate over each group\n",
    "    for letter, points in groups.items():\n",
    "        # find every pair of points\n",
    "        pairs = []\n",
    "        for i, point1 in enumerate(points):\n",
    "            for j, point2 in enumerate(points):\n",
    "                if i != j:\n",
    "                    pairs.append((point1, point2))\n",
    "\n",
    "        for pair in pairs:\n",
    "            # calculate delta between points\n",
    "            x1, y1 = pair[0]\n",
    "            x2, y2 = pair[1]\n",
    "            dx = x2 - x1\n",
    "            dy = y2 - y1\n",
    "            # apply delta to end point\n",
    "            x3 = x2 + dx\n",
    "            y3 = y2 + dy\n",
    "            # is the point in the matrix?\n",
    "            if matrix.pos_exists(x3, y3):\n",
    "                antinodes.add((x3, y3))\n",
    "\n",
    "    return len(antinodes)\n",
    "\n",
    "\n",
    "example = puzzle.examples[0]\n",
    "result = part_1(InputReader(example.input_data), True)\n",
    "display(result)\n",
    "assert result == 14"
   ],
   "id": "6d23892a17117fed",
   "outputs": [
    {
     "data": {
      "text/plain": [
       "{'0': [(8, 1), (5, 2), (7, 3), (4, 4)], 'A': [(6, 5), (8, 8), (9, 9)]}"
      ]
     },
     "metadata": {},
     "output_type": "display_data"
    },
    {
     "data": {
      "text/plain": [
       "14"
      ]
     },
     "metadata": {},
     "output_type": "display_data"
    }
   ],
   "execution_count": 11
  },
  {
   "metadata": {
    "ExecuteTime": {
     "end_time": "2024-12-08T05:33:04.508071Z",
     "start_time": "2024-12-08T05:33:04.497599Z"
    }
   },
   "cell_type": "code",
   "source": [
    "# real case (part 1)\n",
    "result = part_1(InputReader(puzzle.input_data), False)\n",
    "display(result)\n",
    "assert result == 228"
   ],
   "id": "66cab898e4711d42",
   "outputs": [
    {
     "data": {
      "text/plain": [
       "228"
      ]
     },
     "metadata": {},
     "output_type": "display_data"
    }
   ],
   "execution_count": 12
  },
  {
   "metadata": {
    "ExecuteTime": {
     "end_time": "2024-12-08T05:33:04.532332Z",
     "start_time": "2024-12-08T05:33:04.525898Z"
    }
   },
   "cell_type": "code",
   "source": [
    "# test case (part 2)\n",
    "def part_2(reader: InputReader, debug: bool) -> int:\n",
    "    matrix = domain_from_input(reader)\n",
    "\n",
    "    letters = set()\n",
    "    # find all the letters\n",
    "    for x, y, value in matrix:\n",
    "        if value != \".\":\n",
    "            letters.add(value)\n",
    "\n",
    "    # make groups of each letter\n",
    "    groups = {}\n",
    "    for letter in letters:\n",
    "        groups[letter] = []\n",
    "        for x, y, value in matrix:\n",
    "            if value == letter:\n",
    "                groups[letter].append((x, y))\n",
    "\n",
    "    if debug:\n",
    "        display(groups)\n",
    "\n",
    "    antinodes = set()\n",
    "\n",
    "    # iterate over each group\n",
    "    for letter, points in groups.items():\n",
    "        # find every pair of points\n",
    "        pairs = []\n",
    "        for i, point1 in enumerate(points):\n",
    "            antinodes.add(point1)\n",
    "            for j, point2 in enumerate(points):\n",
    "                if i != j:\n",
    "                    pairs.append((point1, point2))\n",
    "\n",
    "        for pair in pairs:\n",
    "            # calculate delta between points\n",
    "            x1, y1 = pair[0]\n",
    "            x2, y2 = pair[1]\n",
    "            dx = x2 - x1\n",
    "            dy = y2 - y1\n",
    "            # apply delta to end point\n",
    "            x3 = x2 + dx\n",
    "            y3 = y2 + dy\n",
    "            # repeat until we hit the edge of the matrix\n",
    "            while matrix.pos_exists(x3, y3):\n",
    "                antinodes.add((x3, y3))\n",
    "                x3 = x3 + dx\n",
    "                y3 = y3 + dy\n",
    "\n",
    "    # print the matrix with the antinodes added\n",
    "    if debug:\n",
    "        for x, y in antinodes:\n",
    "            matrix.set_value(x, y, \"#\")\n",
    "        matrix.print()\n",
    "\n",
    "    return len(antinodes)\n",
    "\n",
    "example = puzzle.examples[0]\n",
    "result = part_2(InputReader(example.input_data), True)\n",
    "display(result)\n",
    "assert result == 34"
   ],
   "id": "d2277c7db8ea0a5e",
   "outputs": [
    {
     "data": {
      "text/plain": [
       "{'0': [(8, 1), (5, 2), (7, 3), (4, 4)], 'A': [(6, 5), (8, 8), (9, 9)]}"
      ]
     },
     "metadata": {},
     "output_type": "display_data"
    },
    {
     "name": "stdout",
     "output_type": "stream",
     "text": [
      "##....#....#\n",
      ".#.#....#...\n",
      "..#.##....#.\n",
      "..##...#....\n",
      "....#....#..\n",
      ".#...##....#\n",
      "...#..#.....\n",
      "#....#.#....\n",
      "..#.....#...\n",
      "....#....#..\n",
      ".#........#.\n",
      "...#......##\n"
     ]
    },
    {
     "data": {
      "text/plain": [
       "34"
      ]
     },
     "metadata": {},
     "output_type": "display_data"
    }
   ],
   "execution_count": 13
  },
  {
   "metadata": {
    "ExecuteTime": {
     "end_time": "2024-12-08T05:33:04.561803Z",
     "start_time": "2024-12-08T05:33:04.552246Z"
    }
   },
   "cell_type": "code",
   "source": [
    "# real case (part 2)\n",
    "result = part_2(InputReader(puzzle.input_data), False)\n",
    "display(result)\n",
    "assert result == 766"
   ],
   "id": "57c071f7c6d2914",
   "outputs": [
    {
     "data": {
      "text/plain": [
       "766"
      ]
     },
     "metadata": {},
     "output_type": "display_data"
    }
   ],
   "execution_count": 14
  },
  {
   "metadata": {
    "ExecuteTime": {
     "end_time": "2024-12-08T05:33:04.569815Z",
     "start_time": "2024-12-08T05:33:04.568448Z"
    }
   },
   "cell_type": "code",
   "source": "",
   "id": "1255526a066d5119",
   "outputs": [],
   "execution_count": null
  }
 ],
 "metadata": {
  "kernelspec": {
   "display_name": "Python 3",
   "language": "python",
   "name": "python3"
  },
  "language_info": {
   "codemirror_mode": {
    "name": "ipython",
    "version": 2
   },
   "file_extension": ".py",
   "mimetype": "text/x-python",
   "name": "python",
   "nbconvert_exporter": "python",
   "pygments_lexer": "ipython2",
   "version": "2.7.6"
  }
 },
 "nbformat": 4,
 "nbformat_minor": 5
}
