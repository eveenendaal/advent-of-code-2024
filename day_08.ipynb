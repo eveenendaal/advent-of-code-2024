{
 "cells": [
  {
   "cell_type": "code",
   "id": "dec75b3898d7314f",
   "metadata": {
    "execution": {
     "iopub.execute_input": "2024-12-08T05:47:46.237289Z",
     "iopub.status.busy": "2024-12-08T05:47:46.236821Z",
     "iopub.status.idle": "2024-12-08T05:47:46.343772Z",
     "shell.execute_reply": "2024-12-08T05:47:46.343539Z"
    },
    "ExecuteTime": {
     "end_time": "2024-12-08T08:23:39.506688Z",
     "start_time": "2024-12-08T08:23:39.484663Z"
    }
   },
   "source": [
    "from IPython.core.display import Markdown\n",
    "from aocd.models import Puzzle\n",
    "\n",
    "from common.inputreader import InputReader\n",
    "\n",
    "puzzle = Puzzle(year=2024, day=int(\"08\"))\n",
    "\n",
    "display(Markdown(f\"# {puzzle.title}\"))\n",
    "display(Markdown(f\"[Open Website]({puzzle.url})\"))"
   ],
   "outputs": [
    {
     "data": {
      "text/plain": [
       "<IPython.core.display.Markdown object>"
      ],
      "text/markdown": "# Resonant Collinearity"
     },
     "metadata": {},
     "output_type": "display_data"
    },
    {
     "data": {
      "text/plain": [
       "<IPython.core.display.Markdown object>"
      ],
      "text/markdown": "[Open Website](https://adventofcode.com/2024/day/8)"
     },
     "metadata": {},
     "output_type": "display_data"
    }
   ],
   "execution_count": 29
  },
  {
   "metadata": {
    "ExecuteTime": {
     "end_time": "2024-12-08T08:23:39.610105Z",
     "start_time": "2024-12-08T08:23:39.603045Z"
    }
   },
   "cell_type": "code",
   "source": [
    "display(Markdown(f\"## Easter Eggs\"))\n",
    "for next in puzzle.easter_eggs:\n",
    "    display(Markdown(f\"{next.attrs['title']}\"))"
   ],
   "id": "b51b8c03e1fde7b4",
   "outputs": [
    {
     "data": {
      "text/plain": [
       "<IPython.core.display.Markdown object>"
      ],
      "text/markdown": "## Easter Eggs"
     },
     "metadata": {},
     "output_type": "display_data"
    },
    {
     "data": {
      "text/plain": [
       "<IPython.core.display.Markdown object>"
      ],
      "text/markdown": "They could have imitated delicious chocolate, but the mediocre chocolate is WAY easier to imitate."
     },
     "metadata": {},
     "output_type": "display_data"
    }
   ],
   "execution_count": 30
  },
  {
   "cell_type": "code",
   "id": "6d23892a17117fed",
   "metadata": {
    "execution": {
     "iopub.execute_input": "2024-12-08T05:47:46.345005Z",
     "iopub.status.busy": "2024-12-08T05:47:46.344901Z",
     "iopub.status.idle": "2024-12-08T05:47:46.357959Z",
     "shell.execute_reply": "2024-12-08T05:47:46.357735Z"
    },
    "ExecuteTime": {
     "end_time": "2024-12-08T08:19:02.590870Z",
     "start_time": "2024-12-08T08:19:02.583172Z"
    }
   },
   "source": [
    "# test case (part 1)\n",
    "def domain_from_input(input: InputReader) -> list:\n",
    "    matrix = input.matrix()\n",
    "\n",
    "    return matrix\n",
    "\n",
    "\n",
    "def part_1(reader: InputReader, debug: bool) -> int:\n",
    "    matrix = domain_from_input(reader)\n",
    "\n",
    "    letters = set()\n",
    "    # find all the letters\n",
    "    for x, y, value in matrix:\n",
    "        if value != \".\":\n",
    "            letters.add(value)\n",
    "\n",
    "    # make groups of each letter\n",
    "    groups = {}\n",
    "    for letter in letters:\n",
    "        groups[letter] = []\n",
    "        for x, y, value in matrix:\n",
    "            if value == letter:\n",
    "                groups[letter].append((x, y))\n",
    "\n",
    "    if debug:\n",
    "        display(groups)\n",
    "\n",
    "    antinodes = set()\n",
    "\n",
    "    # iterate over each group\n",
    "    for letter, points in groups.items():\n",
    "        # find every pair of points\n",
    "        pairs = []\n",
    "        for i, point1 in enumerate(points):\n",
    "            for j, point2 in enumerate(points):\n",
    "                if i != j:\n",
    "                    pairs.append((point1, point2))\n",
    "\n",
    "        for pair in pairs:\n",
    "            # calculate delta between points\n",
    "            x1, y1 = pair[0]\n",
    "            x2, y2 = pair[1]\n",
    "            dx = x2 - x1\n",
    "            dy = y2 - y1\n",
    "            # apply delta to end point\n",
    "            x3 = x2 + dx\n",
    "            y3 = y2 + dy\n",
    "            # is the point in the matrix?\n",
    "            if matrix.pos_exists(x3, y3):\n",
    "                antinodes.add((x3, y3))\n",
    "\n",
    "    return len(antinodes)\n",
    "\n",
    "\n",
    "example = puzzle.examples[0]\n",
    "result = part_1(InputReader(example.input_data), True)\n",
    "display(result)\n",
    "assert result == 14"
   ],
   "outputs": [
    {
     "data": {
      "text/plain": [
       "{'0': [(8, 1), (5, 2), (7, 3), (4, 4)], 'A': [(6, 5), (8, 8), (9, 9)]}"
      ]
     },
     "metadata": {},
     "output_type": "display_data"
    },
    {
     "data": {
      "text/plain": [
       "14"
      ]
     },
     "metadata": {},
     "output_type": "display_data"
    }
   ],
   "execution_count": 24
  },
  {
   "cell_type": "code",
   "id": "66cab898e4711d42",
   "metadata": {
    "execution": {
     "iopub.execute_input": "2024-12-08T05:47:46.359008Z",
     "iopub.status.busy": "2024-12-08T05:47:46.358905Z",
     "iopub.status.idle": "2024-12-08T05:47:46.367201Z",
     "shell.execute_reply": "2024-12-08T05:47:46.367001Z"
    },
    "ExecuteTime": {
     "end_time": "2024-12-08T08:19:02.611458Z",
     "start_time": "2024-12-08T08:19:02.601435Z"
    }
   },
   "source": [
    "# real case (part 1)\n",
    "result = part_1(InputReader(puzzle.input_data), False)\n",
    "display(result)\n",
    "assert result == 228"
   ],
   "outputs": [
    {
     "data": {
      "text/plain": [
       "228"
      ]
     },
     "metadata": {},
     "output_type": "display_data"
    }
   ],
   "execution_count": 25
  },
  {
   "cell_type": "code",
   "id": "d2277c7db8ea0a5e",
   "metadata": {
    "execution": {
     "iopub.execute_input": "2024-12-08T05:47:46.368243Z",
     "iopub.status.busy": "2024-12-08T05:47:46.368154Z",
     "iopub.status.idle": "2024-12-08T05:47:46.373244Z",
     "shell.execute_reply": "2024-12-08T05:47:46.373023Z"
    },
    "ExecuteTime": {
     "end_time": "2024-12-08T08:19:02.622617Z",
     "start_time": "2024-12-08T08:19:02.615896Z"
    }
   },
   "source": [
    "# test case (part 2)\n",
    "def part_2(reader: InputReader, debug: bool) -> int:\n",
    "    matrix = domain_from_input(reader)\n",
    "\n",
    "    letters = set()\n",
    "    # find all the letters\n",
    "    for x, y, value in matrix:\n",
    "        if value != \".\":\n",
    "            letters.add(value)\n",
    "\n",
    "    # make groups of each letter\n",
    "    groups = {}\n",
    "    for letter in letters:\n",
    "        groups[letter] = []\n",
    "        for x, y, value in matrix:\n",
    "            if value == letter:\n",
    "                groups[letter].append((x, y))\n",
    "\n",
    "    if debug:\n",
    "        display(groups)\n",
    "\n",
    "    antinodes = set()\n",
    "\n",
    "    # iterate over each group\n",
    "    for letter, points in groups.items():\n",
    "        # find every pair of points\n",
    "        pairs = []\n",
    "        for i, point1 in enumerate(points):\n",
    "            antinodes.add(point1)\n",
    "            for j, point2 in enumerate(points):\n",
    "                if i != j:\n",
    "                    pairs.append((point1, point2))\n",
    "\n",
    "        for pair in pairs:\n",
    "            # calculate delta between points\n",
    "            x1, y1 = pair[0]\n",
    "            x2, y2 = pair[1]\n",
    "            dx = x2 - x1\n",
    "            dy = y2 - y1\n",
    "            # apply delta to end point\n",
    "            x3 = x2 + dx\n",
    "            y3 = y2 + dy\n",
    "            # repeat until we hit the edge of the matrix\n",
    "            while matrix.pos_exists(x3, y3):\n",
    "                antinodes.add((x3, y3))\n",
    "                x3 = x3 + dx\n",
    "                y3 = y3 + dy\n",
    "\n",
    "    # print the matrix with the antinodes added\n",
    "    if debug:\n",
    "        for x, y in antinodes:\n",
    "            matrix.set_value(x, y, \"#\")\n",
    "        matrix.print()\n",
    "\n",
    "    return len(antinodes)\n",
    "\n",
    "example = puzzle.examples[0]\n",
    "result = part_2(InputReader(example.input_data), True)\n",
    "display(result)\n",
    "assert result == 34"
   ],
   "outputs": [
    {
     "data": {
      "text/plain": [
       "{'0': [(8, 1), (5, 2), (7, 3), (4, 4)], 'A': [(6, 5), (8, 8), (9, 9)]}"
      ]
     },
     "metadata": {},
     "output_type": "display_data"
    },
    {
     "name": "stdout",
     "output_type": "stream",
     "text": [
      "##....#....#\n",
      ".#.#....#...\n",
      "..#.##....#.\n",
      "..##...#....\n",
      "....#....#..\n",
      ".#...##....#\n",
      "...#..#.....\n",
      "#....#.#....\n",
      "..#.....#...\n",
      "....#....#..\n",
      ".#........#.\n",
      "...#......##\n"
     ]
    },
    {
     "data": {
      "text/plain": [
       "34"
      ]
     },
     "metadata": {},
     "output_type": "display_data"
    }
   ],
   "execution_count": 26
  },
  {
   "cell_type": "code",
   "id": "57c071f7c6d2914",
   "metadata": {
    "execution": {
     "iopub.execute_input": "2024-12-08T05:47:46.374344Z",
     "iopub.status.busy": "2024-12-08T05:47:46.374258Z",
     "iopub.status.idle": "2024-12-08T05:47:46.382502Z",
     "shell.execute_reply": "2024-12-08T05:47:46.382274Z"
    },
    "ExecuteTime": {
     "end_time": "2024-12-08T08:19:02.645869Z",
     "start_time": "2024-12-08T08:19:02.636188Z"
    }
   },
   "source": [
    "# real case (part 2)\n",
    "result = part_2(InputReader(puzzle.input_data), False)\n",
    "display(result)\n",
    "assert result == 766"
   ],
   "outputs": [
    {
     "data": {
      "text/plain": [
       "766"
      ]
     },
     "metadata": {},
     "output_type": "display_data"
    }
   ],
   "execution_count": 27
  },
  {
   "cell_type": "code",
   "id": "1255526a066d5119",
   "metadata": {
    "ExecuteTime": {
     "end_time": "2024-12-08T08:19:02.687632Z",
     "start_time": "2024-12-08T08:19:02.686341Z"
    }
   },
   "source": [],
   "outputs": [],
   "execution_count": null
  }
 ],
 "metadata": {
  "kernelspec": {
   "display_name": "Python 3",
   "language": "python",
   "name": "python3"
  },
  "language_info": {
   "codemirror_mode": {
    "name": "ipython",
    "version": 3
   },
   "file_extension": ".py",
   "mimetype": "text/x-python",
   "name": "python",
   "nbconvert_exporter": "python",
   "pygments_lexer": "ipython3",
   "version": "3.13.0"
  }
 },
 "nbformat": 4,
 "nbformat_minor": 5
}
