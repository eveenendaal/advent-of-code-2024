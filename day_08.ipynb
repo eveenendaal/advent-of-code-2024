{
 "cells": [
  {
   "cell_type": "code",
   "id": "dec75b3898d7314f",
   "metadata": {
    "execution": {
     "iopub.execute_input": "2024-12-08T05:47:46.237289Z",
     "iopub.status.busy": "2024-12-08T05:47:46.236821Z",
     "iopub.status.idle": "2024-12-08T05:47:46.343772Z",
     "shell.execute_reply": "2024-12-08T05:47:46.343539Z"
    },
    "ExecuteTime": {
     "end_time": "2024-12-08T20:20:39.608988Z",
     "start_time": "2024-12-08T20:20:39.451870Z"
    }
   },
   "source": [
    "from IPython.core.display import Markdown\n",
    "from aocd.models import Puzzle\n",
    "\n",
    "from common.inputreader import InputReader, print_article, print_easter_eggs\n",
    "\n",
    "puzzle = Puzzle(year=2024, day=int(\"08\"))\n",
    "\n",
    "display(Markdown(f\"# {puzzle.title}\"))\n",
    "display(Markdown(f\"[Open Website]({puzzle.url})\"))"
   ],
   "outputs": [
    {
     "data": {
      "text/plain": [
       "<IPython.core.display.Markdown object>"
      ],
      "text/markdown": "# Resonant Collinearity"
     },
     "metadata": {},
     "output_type": "display_data"
    },
    {
     "data": {
      "text/plain": [
       "<IPython.core.display.Markdown object>"
      ],
      "text/markdown": "[Open Website](https://adventofcode.com/2024/day/8)"
     },
     "metadata": {},
     "output_type": "display_data"
    }
   ],
   "execution_count": 1
  },
  {
   "metadata": {
    "ExecuteTime": {
     "end_time": "2024-12-08T20:20:39.636432Z",
     "start_time": "2024-12-08T20:20:39.620123Z"
    }
   },
   "cell_type": "code",
   "source": "print_article(puzzle, 0)",
   "id": "b51b8c03e1fde7b4",
   "outputs": [
    {
     "data": {
      "text/plain": [
       "<IPython.core.display.HTML object>"
      ],
      "text/html": [
       "<article class=\"day-desc\">\n",
       " <h2>\n",
       "  --- Day 8: Resonant Collinearity ---\n",
       " </h2>\n",
       " <p>\n",
       "  You find yourselves on the\n",
       "  <a href=\"/2016/day/25\">\n",
       "   roof\n",
       "  </a>\n",
       "  of a top-secret Easter Bunny installation.\n",
       " </p>\n",
       " <p>\n",
       "  While The Historians do their thing, you take a look at the familiar\n",
       "  <em>\n",
       "   huge antenna\n",
       "  </em>\n",
       "  . Much to your surprise, it seems to have been reconfigured to emit a signal that makes people 0.1% more likely to buy Easter Bunny brand\n",
       "  <span title=\"They could have imitated delicious chocolate, but the mediocre chocolate is WAY easier to imitate.\">\n",
       "   Imitation Mediocre\n",
       "  </span>\n",
       "  Chocolate as a Christmas gift! Unthinkable!\n",
       " </p>\n",
       " <p>\n",
       "  Scanning across the city, you find that there are actually many such antennas. Each antenna is tuned to a specific\n",
       "  <em>\n",
       "   frequency\n",
       "  </em>\n",
       "  indicated by a single lowercase letter, uppercase letter, or digit. You create a map (your puzzle input) of these antennas. For example:\n",
       " </p>\n",
       " <pre><code>............\n",
       "........0...\n",
       ".....0......\n",
       ".......0....\n",
       "....0.......\n",
       "......A.....\n",
       "............\n",
       "............\n",
       "........A...\n",
       ".........A..\n",
       "............\n",
       "............\n",
       "</code></pre>\n",
       " <p>\n",
       "  The signal only applies its nefarious effect at specific\n",
       "  <em>\n",
       "   antinodes\n",
       "  </em>\n",
       "  based on the resonant frequencies of the antennas. In particular, an antinode occurs at any point that is perfectly in line with two antennas of the same frequency - but only when one of the antennas is twice as far away as the other. This means that for any pair of antennas with the same frequency, there are two antinodes, one on either side of them.\n",
       " </p>\n",
       " <p>\n",
       "  So, for these two antennas with frequency\n",
       "  <code>\n",
       "   a\n",
       "  </code>\n",
       "  , they create the two antinodes marked with\n",
       "  <code>\n",
       "   #\n",
       "  </code>\n",
       "  :\n",
       " </p>\n",
       " <pre><code>..........\n",
       "...#......\n",
       "..........\n",
       "....a.....\n",
       "..........\n",
       ".....a....\n",
       "..........\n",
       "......#...\n",
       "..........\n",
       "..........\n",
       "</code></pre>\n",
       " <p>\n",
       "  Adding a third antenna with the same frequency creates several more antinodes. It would ideally add four antinodes, but two are off the right side of the map, so instead it adds only two:\n",
       " </p>\n",
       " <pre><code>..........\n",
       "...#......\n",
       "#.........\n",
       "....a.....\n",
       "........a.\n",
       ".....a....\n",
       "..#.......\n",
       "......#...\n",
       "..........\n",
       "..........\n",
       "</code></pre>\n",
       " <p>\n",
       "  Antennas with different frequencies don't create antinodes;\n",
       "  <code>\n",
       "   A\n",
       "  </code>\n",
       "  and\n",
       "  <code>\n",
       "   a\n",
       "  </code>\n",
       "  count as different frequencies. However, antinodes\n",
       "  <em>\n",
       "   can\n",
       "  </em>\n",
       "  occur at locations that contain antennas. In this diagram, the lone antenna with frequency capital\n",
       "  <code>\n",
       "   A\n",
       "  </code>\n",
       "  creates no antinodes but has a lowercase-\n",
       "  <code>\n",
       "   a\n",
       "  </code>\n",
       "  -frequency antinode at its location:\n",
       " </p>\n",
       " <pre><code>..........\n",
       "...#......\n",
       "#.........\n",
       "....a.....\n",
       "........a.\n",
       ".....a....\n",
       "..#.......\n",
       "......A...\n",
       "..........\n",
       "..........\n",
       "</code></pre>\n",
       " <p>\n",
       "  The first example has antennas with two different frequencies, so the antinodes they create look like this, plus an antinode overlapping the topmost\n",
       "  <code>\n",
       "   A\n",
       "  </code>\n",
       "  -frequency antenna:\n",
       " </p>\n",
       " <pre><code>......#....#\n",
       "...#....0...\n",
       "....#0....#.\n",
       "..#....0....\n",
       "....0....#..\n",
       ".#....A.....\n",
       "...#........\n",
       "#......#....\n",
       "........A...\n",
       ".........A..\n",
       "..........#.\n",
       "..........#.\n",
       "</code></pre>\n",
       " <p>\n",
       "  Because the topmost\n",
       "  <code>\n",
       "   A\n",
       "  </code>\n",
       "  -frequency antenna overlaps with a\n",
       "  <code>\n",
       "   0\n",
       "  </code>\n",
       "  -frequency antinode, there are\n",
       "  <code>\n",
       "   <em>\n",
       "    14\n",
       "   </em>\n",
       "  </code>\n",
       "  total unique locations that contain an antinode within the bounds of the map.\n",
       " </p>\n",
       " <p>\n",
       "  Calculate the impact of the signal.\n",
       "  <em>\n",
       "   How many unique locations within the bounds of the map contain an antinode?\n",
       "  </em>\n",
       " </p>\n",
       "</article>\n"
      ]
     },
     "metadata": {},
     "output_type": "display_data"
    }
   ],
   "execution_count": 2
  },
  {
   "cell_type": "code",
   "id": "6d23892a17117fed",
   "metadata": {
    "execution": {
     "iopub.execute_input": "2024-12-08T05:47:46.345005Z",
     "iopub.status.busy": "2024-12-08T05:47:46.344901Z",
     "iopub.status.idle": "2024-12-08T05:47:46.357959Z",
     "shell.execute_reply": "2024-12-08T05:47:46.357735Z"
    },
    "ExecuteTime": {
     "end_time": "2024-12-08T20:20:39.776325Z",
     "start_time": "2024-12-08T20:20:39.738622Z"
    }
   },
   "source": [
    "# test case (part 1)\n",
    "def domain_from_input(input: InputReader) -> list:\n",
    "    matrix = input.matrix()\n",
    "\n",
    "    return matrix\n",
    "\n",
    "\n",
    "def part_1(reader: InputReader, debug: bool) -> int:\n",
    "    matrix = domain_from_input(reader)\n",
    "\n",
    "    letters = set()\n",
    "    # find all the letters\n",
    "    for x, y, value in matrix:\n",
    "        if value != \".\":\n",
    "            letters.add(value)\n",
    "\n",
    "    # make groups of each letter\n",
    "    groups = {}\n",
    "    for letter in letters:\n",
    "        groups[letter] = []\n",
    "        for x, y, value in matrix:\n",
    "            if value == letter:\n",
    "                groups[letter].append((x, y))\n",
    "\n",
    "    if debug:\n",
    "        display(groups)\n",
    "\n",
    "    antinodes = set()\n",
    "\n",
    "    # iterate over each group\n",
    "    for letter, points in groups.items():\n",
    "        # find every pair of points\n",
    "        pairs = []\n",
    "        for i, point1 in enumerate(points):\n",
    "            for j, point2 in enumerate(points):\n",
    "                if i != j:\n",
    "                    pairs.append((point1, point2))\n",
    "\n",
    "        for pair in pairs:\n",
    "            # calculate delta between points\n",
    "            x1, y1 = pair[0]\n",
    "            x2, y2 = pair[1]\n",
    "            dx = x2 - x1\n",
    "            dy = y2 - y1\n",
    "            # apply delta to end point\n",
    "            x3 = x2 + dx\n",
    "            y3 = y2 + dy\n",
    "            # is the point in the matrix?\n",
    "            if matrix.pos_exists(x3, y3):\n",
    "                antinodes.add((x3, y3))\n",
    "\n",
    "    return len(antinodes)\n",
    "\n",
    "\n",
    "example = puzzle.examples[0]\n",
    "result = part_1(InputReader(example.input_data), True)\n",
    "display(result)\n",
    "assert result == 14"
   ],
   "outputs": [
    {
     "data": {
      "text/plain": [
       "{'0': [(8, 1), (5, 2), (7, 3), (4, 4)], 'A': [(6, 5), (8, 8), (9, 9)]}"
      ]
     },
     "metadata": {},
     "output_type": "display_data"
    },
    {
     "data": {
      "text/plain": [
       "14"
      ]
     },
     "metadata": {},
     "output_type": "display_data"
    }
   ],
   "execution_count": 3
  },
  {
   "metadata": {
    "ExecuteTime": {
     "end_time": "2024-12-08T20:20:39.805304Z",
     "start_time": "2024-12-08T20:20:39.796856Z"
    }
   },
   "cell_type": "code",
   "source": "print_article(puzzle, 1)",
   "id": "882e86d00ddc5bc9",
   "outputs": [
    {
     "data": {
      "text/plain": [
       "<IPython.core.display.HTML object>"
      ],
      "text/html": [
       "<article class=\"day-desc\">\n",
       " <h2 id=\"part2\">\n",
       "  --- Part Two ---\n",
       " </h2>\n",
       " <p>\n",
       "  Watching over your shoulder as you work, one of The Historians asks if you took the effects of resonant harmonics into your calculations.\n",
       " </p>\n",
       " <p>\n",
       "  Whoops!\n",
       " </p>\n",
       " <p>\n",
       "  After updating your model, it turns out that an antinode occurs at\n",
       "  <em>\n",
       "   any grid position\n",
       "  </em>\n",
       "  exactly in line with at least two antennas of the same frequency, regardless of distance. This means that some of the new antinodes will occur at the position of each antenna (unless that antenna is the only one of its frequency).\n",
       " </p>\n",
       " <p>\n",
       "  So, these three\n",
       "  <code>\n",
       "   T\n",
       "  </code>\n",
       "  -frequency antennas now create many antinodes:\n",
       " </p>\n",
       " <pre><code>T....#....\n",
       "...T......\n",
       ".T....#...\n",
       ".........#\n",
       "..#.......\n",
       "..........\n",
       "...#......\n",
       "..........\n",
       "....#.....\n",
       "..........\n",
       "</code></pre>\n",
       " <p>\n",
       "  In fact, the three\n",
       "  <code>\n",
       "   T\n",
       "  </code>\n",
       "  -frequency antennas are all exactly in line with two antennas, so they are all also antinodes! This brings the total number of antinodes in the above example to\n",
       "  <code>\n",
       "   <em>\n",
       "    9\n",
       "   </em>\n",
       "  </code>\n",
       "  .\n",
       " </p>\n",
       " <p>\n",
       "  The original example now has\n",
       "  <code>\n",
       "   <em>\n",
       "    34\n",
       "   </em>\n",
       "  </code>\n",
       "  antinodes, including the antinodes that appear on every antenna:\n",
       " </p>\n",
       " <pre><code>##....#....#\n",
       ".#.#....0...\n",
       "..#.#0....#.\n",
       "..##...0....\n",
       "....0....#..\n",
       ".#...#A....#\n",
       "...#..#.....\n",
       "#....#.#....\n",
       "..#.....A...\n",
       "....#....A..\n",
       ".#........#.\n",
       "...#......##\n",
       "</code></pre>\n",
       " <p>\n",
       "  Calculate the impact of the signal using this updated model.\n",
       "  <em>\n",
       "   How many unique locations within the bounds of the map contain an antinode?\n",
       "  </em>\n",
       " </p>\n",
       "</article>\n"
      ]
     },
     "metadata": {},
     "output_type": "display_data"
    }
   ],
   "execution_count": 4
  },
  {
   "cell_type": "code",
   "id": "66cab898e4711d42",
   "metadata": {
    "execution": {
     "iopub.execute_input": "2024-12-08T05:47:46.359008Z",
     "iopub.status.busy": "2024-12-08T05:47:46.358905Z",
     "iopub.status.idle": "2024-12-08T05:47:46.367201Z",
     "shell.execute_reply": "2024-12-08T05:47:46.367001Z"
    },
    "ExecuteTime": {
     "end_time": "2024-12-08T20:20:39.860675Z",
     "start_time": "2024-12-08T20:20:39.844982Z"
    }
   },
   "source": [
    "# real case (part 1)\n",
    "result = part_1(InputReader(puzzle.input_data), False)\n",
    "display(result)\n",
    "assert result == 228"
   ],
   "outputs": [
    {
     "data": {
      "text/plain": [
       "228"
      ]
     },
     "metadata": {},
     "output_type": "display_data"
    }
   ],
   "execution_count": 5
  },
  {
   "cell_type": "code",
   "id": "d2277c7db8ea0a5e",
   "metadata": {
    "execution": {
     "iopub.execute_input": "2024-12-08T05:47:46.368243Z",
     "iopub.status.busy": "2024-12-08T05:47:46.368154Z",
     "iopub.status.idle": "2024-12-08T05:47:46.373244Z",
     "shell.execute_reply": "2024-12-08T05:47:46.373023Z"
    },
    "ExecuteTime": {
     "end_time": "2024-12-08T20:20:39.897194Z",
     "start_time": "2024-12-08T20:20:39.885623Z"
    }
   },
   "source": [
    "# test case (part 2)\n",
    "def part_2(reader: InputReader, debug: bool) -> int:\n",
    "    matrix = domain_from_input(reader)\n",
    "\n",
    "    letters = set()\n",
    "    # find all the letters\n",
    "    for x, y, value in matrix:\n",
    "        if value != \".\":\n",
    "            letters.add(value)\n",
    "\n",
    "    # make groups of each letter\n",
    "    groups = {}\n",
    "    for letter in letters:\n",
    "        groups[letter] = []\n",
    "        for x, y, value in matrix:\n",
    "            if value == letter:\n",
    "                groups[letter].append((x, y))\n",
    "\n",
    "    if debug:\n",
    "        display(groups)\n",
    "\n",
    "    antinodes = set()\n",
    "\n",
    "    # iterate over each group\n",
    "    for letter, points in groups.items():\n",
    "        # find every pair of points\n",
    "        pairs = []\n",
    "        for i, point1 in enumerate(points):\n",
    "            antinodes.add(point1)\n",
    "            for j, point2 in enumerate(points):\n",
    "                if i != j:\n",
    "                    pairs.append((point1, point2))\n",
    "\n",
    "        for pair in pairs:\n",
    "            # calculate delta between points\n",
    "            x1, y1 = pair[0]\n",
    "            x2, y2 = pair[1]\n",
    "            dx = x2 - x1\n",
    "            dy = y2 - y1\n",
    "            # apply delta to end point\n",
    "            x3 = x2 + dx\n",
    "            y3 = y2 + dy\n",
    "            # repeat until we hit the edge of the matrix\n",
    "            while matrix.pos_exists(x3, y3):\n",
    "                antinodes.add((x3, y3))\n",
    "                x3 = x3 + dx\n",
    "                y3 = y3 + dy\n",
    "\n",
    "    # print the matrix with the antinodes added\n",
    "    if debug:\n",
    "        for x, y in antinodes:\n",
    "            matrix.set_value(x, y, \"#\")\n",
    "        matrix.print()\n",
    "\n",
    "    return len(antinodes)\n",
    "\n",
    "example = puzzle.examples[0]\n",
    "result = part_2(InputReader(example.input_data), True)\n",
    "display(result)\n",
    "assert result == 34"
   ],
   "outputs": [
    {
     "data": {
      "text/plain": [
       "{'0': [(8, 1), (5, 2), (7, 3), (4, 4)], 'A': [(6, 5), (8, 8), (9, 9)]}"
      ]
     },
     "metadata": {},
     "output_type": "display_data"
    },
    {
     "name": "stdout",
     "output_type": "stream",
     "text": [
      "##....#....#\n",
      ".#.#....#...\n",
      "..#.##....#.\n",
      "..##...#....\n",
      "....#....#..\n",
      ".#...##....#\n",
      "...#..#.....\n",
      "#....#.#....\n",
      "..#.....#...\n",
      "....#....#..\n",
      ".#........#.\n",
      "...#......##\n"
     ]
    },
    {
     "data": {
      "text/plain": [
       "34"
      ]
     },
     "metadata": {},
     "output_type": "display_data"
    }
   ],
   "execution_count": 6
  },
  {
   "cell_type": "code",
   "id": "57c071f7c6d2914",
   "metadata": {
    "execution": {
     "iopub.execute_input": "2024-12-08T05:47:46.374344Z",
     "iopub.status.busy": "2024-12-08T05:47:46.374258Z",
     "iopub.status.idle": "2024-12-08T05:47:46.382502Z",
     "shell.execute_reply": "2024-12-08T05:47:46.382274Z"
    },
    "ExecuteTime": {
     "end_time": "2024-12-08T20:20:39.989686Z",
     "start_time": "2024-12-08T20:20:39.961238Z"
    }
   },
   "source": [
    "# real case (part 2)\n",
    "result = part_2(InputReader(puzzle.input_data), False)\n",
    "display(result)\n",
    "assert result == 766"
   ],
   "outputs": [
    {
     "data": {
      "text/plain": [
       "766"
      ]
     },
     "metadata": {},
     "output_type": "display_data"
    }
   ],
   "execution_count": 7
  },
  {
   "cell_type": "code",
   "id": "1255526a066d5119",
   "metadata": {
    "ExecuteTime": {
     "end_time": "2024-12-08T20:20:40.013938Z",
     "start_time": "2024-12-08T20:20:40.009959Z"
    }
   },
   "source": "print_easter_eggs(puzzle)",
   "outputs": [
    {
     "data": {
      "text/plain": [
       "<IPython.core.display.Markdown object>"
      ],
      "text/markdown": "## Easter Eggs"
     },
     "metadata": {},
     "output_type": "display_data"
    },
    {
     "data": {
      "text/plain": [
       "<IPython.core.display.Markdown object>"
      ],
      "text/markdown": "<span title=\"They could have imitated delicious chocolate, but the mediocre chocolate is WAY easier to imitate.\">Imitation Mediocre</span> (They could have imitated delicious chocolate, but the mediocre chocolate is WAY easier to imitate.)"
     },
     "metadata": {},
     "output_type": "display_data"
    }
   ],
   "execution_count": 8
  },
  {
   "metadata": {
    "ExecuteTime": {
     "end_time": "2024-12-08T20:20:40.044655Z",
     "start_time": "2024-12-08T20:20:40.042877Z"
    }
   },
   "cell_type": "code",
   "source": "",
   "id": "392f0fd4ec35a853",
   "outputs": [],
   "execution_count": null
  }
 ],
 "metadata": {
  "kernelspec": {
   "display_name": "Python 3",
   "language": "python",
   "name": "python3"
  },
  "language_info": {
   "codemirror_mode": {
    "name": "ipython",
    "version": 3
   },
   "file_extension": ".py",
   "mimetype": "text/x-python",
   "name": "python",
   "nbconvert_exporter": "python",
   "pygments_lexer": "ipython3",
   "version": "3.13.0"
  }
 },
 "nbformat": 4,
 "nbformat_minor": 5
}
