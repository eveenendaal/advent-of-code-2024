{
 "cells": [
  {
   "cell_type": "code",
   "id": "dec75b3898d7314f",
   "metadata": {
    "ExecuteTime": {
     "end_time": "2024-12-20T10:16:41.297950Z",
     "start_time": "2024-12-20T10:16:41.175847Z"
    }
   },
   "source": [
    "from common.inputreader import InputReader, PuzzleWrapper\n",
    "\n",
    "puzzle = PuzzleWrapper(year=2024, day=int(\"20\"))\n",
    "\n",
    "puzzle.header()"
   ],
   "outputs": [
    {
     "data": {
      "text/plain": [
       "<IPython.core.display.Markdown object>"
      ],
      "text/markdown": "# Race Condition"
     },
     "metadata": {},
     "output_type": "display_data"
    },
    {
     "data": {
      "text/plain": [
       "<IPython.core.display.Markdown object>"
      ],
      "text/markdown": "[Open Website](https://adventofcode.com/2024/day/20)"
     },
     "metadata": {},
     "output_type": "display_data"
    }
   ],
   "execution_count": 1
  },
  {
   "cell_type": "code",
   "id": "34dd2d43c40af29b",
   "metadata": {
    "ExecuteTime": {
     "end_time": "2024-12-20T10:16:41.588262Z",
     "start_time": "2024-12-20T10:16:41.516790Z"
    }
   },
   "source": [
    "# helper functions\n",
    "def domain_from_input(input: InputReader) -> (list, list, list):\n",
    "    matrix = input.matrix()\n",
    "\n",
    "    # find start\n",
    "    start = None\n",
    "    for x, y, value in matrix:\n",
    "        if value == 'S':\n",
    "            start = (x, y)\n",
    "            break\n",
    "\n",
    "    # find end\n",
    "    end = None\n",
    "    for x, y, value in matrix:\n",
    "        if value == 'E':\n",
    "            end = (x, y)\n",
    "            break\n",
    "\n",
    "    return matrix, start, end\n",
    "\n",
    "\n",
    "test_input, _, _ = domain_from_input(puzzle.example(0))\n",
    "test_input.print()"
   ],
   "outputs": [
    {
     "name": "stdout",
     "output_type": "stream",
     "text": [
      "###############\n",
      "#...#...#.....#\n",
      "#.#.#.#.#.###.#\n",
      "#S#...#.#.#...#\n",
      "#######.#.#.###\n",
      "#######.#.#...#\n",
      "#######.#.###.#\n",
      "###..E#...#...#\n",
      "###.#######.###\n",
      "#...###...#...#\n",
      "#.#####.#.###.#\n",
      "#.#...#.#.#...#\n",
      "#.#.#.#.#.#.###\n",
      "#...#...#...###\n",
      "###############\n"
     ]
    }
   ],
   "execution_count": 2
  },
  {
   "cell_type": "code",
   "id": "6d23892a17117fed",
   "metadata": {
    "ExecuteTime": {
     "end_time": "2024-12-20T10:20:27.907331Z",
     "start_time": "2024-12-20T10:20:27.894502Z"
    }
   },
   "source": [
    "\n",
    "# test case (part 1)\n",
    "from common.matrix import Matrix, MatrixNavigator, Direction\n",
    "from collections import deque\n",
    "\n",
    "directions = [\n",
    "    Direction.UP,\n",
    "    Direction.DOWN,\n",
    "    Direction.LEFT,\n",
    "    Direction.RIGHT\n",
    "]\n",
    "\n",
    "\n",
    "def available_options(matrix: Matrix, point: tuple, with_cheat: bool, cache: dict) -> list:\n",
    "    key = (point, with_cheat)\n",
    "    if key in cache:\n",
    "        return cache[key]\n",
    "\n",
    "    pointer = MatrixNavigator(matrix, point[0], point[1])\n",
    "    options = []\n",
    "    for direction in directions:\n",
    "        ok, value = pointer.peek_value(direction)\n",
    "        if ok:\n",
    "            if with_cheat or value != '#':\n",
    "                new_pointer = pointer.copy()\n",
    "                new_pointer.move(direction)\n",
    "                options.append(new_pointer.get_position())\n",
    "\n",
    "    cache[key] = options\n",
    "    return options\n",
    "\n",
    "\n",
    "def find_shortest_path(matrix: Matrix, start: tuple, end: tuple, cache: dict) -> list:\n",
    "    if start in cache:\n",
    "        return cache[start]\n",
    "\n",
    "    queue = deque([(start, [start])])\n",
    "    visited = set()\n",
    "    visited.add(start)\n",
    "\n",
    "    while queue:\n",
    "        current_point, path = queue.popleft()\n",
    "        if current_point == end:\n",
    "            cache[start] = path\n",
    "            return path\n",
    "\n",
    "        for next_point in available_options(matrix, current_point, False, cache):\n",
    "            if next_point not in visited:\n",
    "                visited.add(next_point)\n",
    "                queue.append((next_point, path + [next_point]))\n",
    "\n",
    "    return []  # Return an empty list if no path is found\n",
    "\n",
    "\n",
    "def find_shortest_path_count(matrix: Matrix, start: tuple, end: tuple, cache: dict) -> int:\n",
    "    if start in cache:\n",
    "        return cache[start]\n",
    "\n",
    "    queue = deque([(start, 0)])\n",
    "    visited = set()\n",
    "    visited.add(start)\n",
    "\n",
    "    while queue:\n",
    "        current_point, path_length = queue.popleft()\n",
    "        if current_point == end:\n",
    "            cache[start] = path_length\n",
    "            return path_length\n",
    "\n",
    "        for next_point in available_options(matrix, current_point, False, cache):\n",
    "            if next_point not in visited:\n",
    "                visited.add(next_point)\n",
    "                queue.append((next_point, path_length + 1))\n",
    "\n",
    "    return -1  # Return -1 if no path is found\n",
    "\n",
    "\n",
    "def part_1(reader: InputReader, min_savings: int, debug: bool) -> int:\n",
    "    path_cache = {}\n",
    "    path_count_cache = {}\n",
    "    options_cache = {}\n",
    "\n",
    "    matrix, start, end = domain_from_input(reader)\n",
    "    initial_solution = find_shortest_path(matrix, start, end, path_cache)\n",
    "    initial_solution_length = len(initial_solution)\n",
    "\n",
    "    solutions = {}\n",
    "\n",
    "    for point in initial_solution:\n",
    "        new_starts = []\n",
    "        steps = initial_solution.index(point)\n",
    "\n",
    "        # find all \".\" within two steps\n",
    "        for point_1 in available_options(matrix, point, True, options_cache):\n",
    "            for point_2 in available_options(matrix, point_1, False, options_cache):\n",
    "                new_starts.append(point_2)\n",
    "\n",
    "        steps += 2\n",
    "\n",
    "        for new_start in new_starts:\n",
    "            # if there's a solution\n",
    "            solution_length = find_shortest_path_count(matrix, new_start, end, path_count_cache)\n",
    "            if solution_length > -1:\n",
    "                new_total = solution_length + steps\n",
    "                if new_total < initial_solution_length:\n",
    "                    solutions[new_total] = solutions.get(new_total, 0) + 1\n",
    "\n",
    "    total = 0\n",
    "\n",
    "    if debug:\n",
    "        matrix.print()\n",
    "        print()\n",
    "\n",
    "    for key in sorted(solutions.keys(), reverse=True):\n",
    "        savings = initial_solution_length - key\n",
    "        if savings >= min_savings:\n",
    "            total += solutions[key]\n",
    "        if debug:\n",
    "            print(f\"There are {solutions[key]} cheats that save {savings} picoseconds\")\n",
    "\n",
    "    if debug:\n",
    "        print()\n",
    "\n",
    "    return total\n",
    "\n",
    "\n",
    "result = part_1(puzzle.example(0), 20, True)\n",
    "display(result)\n",
    "assert result == 5"
   ],
   "outputs": [
    {
     "name": "stdout",
     "output_type": "stream",
     "text": [
      "###############\n",
      "#...#...#.....#\n",
      "#.#.#.#.#.###.#\n",
      "#S#...#.#.#...#\n",
      "#######.#.#.###\n",
      "#######.#.#...#\n",
      "#######.#.###.#\n",
      "###..E#...#...#\n",
      "###.#######.###\n",
      "#...###...#...#\n",
      "#.#####.#.###.#\n",
      "#.#...#.#.#...#\n",
      "#.#.#.#.#.#.###\n",
      "#...#...#...###\n",
      "###############\n",
      "\n",
      "There are 116 cheats that save 1 picoseconds\n",
      "There are 14 cheats that save 3 picoseconds\n",
      "There are 14 cheats that save 5 picoseconds\n",
      "There are 2 cheats that save 7 picoseconds\n",
      "There are 4 cheats that save 9 picoseconds\n",
      "There are 2 cheats that save 11 picoseconds\n",
      "There are 3 cheats that save 13 picoseconds\n",
      "There are 1 cheats that save 21 picoseconds\n",
      "There are 1 cheats that save 37 picoseconds\n",
      "There are 1 cheats that save 39 picoseconds\n",
      "There are 1 cheats that save 41 picoseconds\n",
      "There are 1 cheats that save 65 picoseconds\n",
      "\n"
     ]
    },
    {
     "data": {
      "text/plain": [
       "5"
      ]
     },
     "metadata": {},
     "output_type": "display_data"
    }
   ],
   "execution_count": 8
  },
  {
   "cell_type": "code",
   "id": "66cab898e4711d42",
   "metadata": {
    "ExecuteTime": {
     "end_time": "2024-12-20T10:20:54.175849Z",
     "start_time": "2024-12-20T10:20:29.752565Z"
    }
   },
   "source": [
    "# real case (part 1)\n",
    "result = part_1(puzzle.input(), 100, False)\n",
    "display(result)"
   ],
   "outputs": [
    {
     "data": {
      "text/plain": [
       "1497"
      ]
     },
     "metadata": {},
     "output_type": "display_data"
    }
   ],
   "execution_count": 9
  },
  {
   "cell_type": "code",
   "execution_count": null,
   "id": "d2277c7db8ea0a5e",
   "metadata": {},
   "outputs": [],
   "source": [
    "# test case (part 2)\n",
    "def part_2(reader: InputReader, debug: bool) -> int:\n",
    "    lines = domain_from_input(reader)\n",
    "    if debug:\n",
    "        display(lines)\n",
    "    return 0\n",
    "\n",
    "\n",
    "result = part_2(puzzle.example(0), True)\n",
    "display(result)\n",
    "assert result == 0"
   ]
  },
  {
   "cell_type": "code",
   "execution_count": null,
   "id": "57c071f7c6d2914",
   "metadata": {},
   "outputs": [],
   "source": [
    "# real case (part 2)\n",
    "result = part_2(puzzle.input(), False)\n",
    "display(result)"
   ]
  },
  {
   "cell_type": "code",
   "execution_count": null,
   "id": "44e329cbb6ad2400",
   "metadata": {},
   "outputs": [],
   "source": [
    "# print easters eggs\n",
    "puzzle.print_easter_eggs()"
   ]
  }
 ],
 "metadata": {
  "kernelspec": {
   "display_name": "Python 3",
   "language": "python",
   "name": "python3"
  },
  "language_info": {
   "codemirror_mode": {
    "name": "ipython",
    "version": 3
   },
   "file_extension": ".py",
   "mimetype": "text/x-python",
   "name": "python",
   "nbconvert_exporter": "python",
   "pygments_lexer": "ipython3",
   "version": "3.12.1"
  }
 },
 "nbformat": 4,
 "nbformat_minor": 5
}
