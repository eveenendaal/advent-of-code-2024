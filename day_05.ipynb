{
 "cells": [
  {
   "metadata": {
    "ExecuteTime": {
     "end_time": "2024-12-05T07:43:53.546080Z",
     "start_time": "2024-12-05T07:43:52.804620Z"
    }
   },
   "cell_type": "code",
   "source": [
    "from IPython.core.display import Markdown\n",
    "from aocd.models import Puzzle\n",
    "\n",
    "from common.inputreader import InputReader\n",
    "\n",
    "puzzle = Puzzle(year=2024, day=int(\"05\"))\n",
    "\n",
    "display(Markdown(f\"# {puzzle.title}\"))\n",
    "display(Markdown(f\"[Open Website]({puzzle.url})\"))"
   ],
   "id": "dec75b3898d7314f",
   "outputs": [
    {
     "data": {
      "text/plain": [
       "<IPython.core.display.Markdown object>"
      ],
      "text/markdown": "# Print Queue"
     },
     "metadata": {},
     "output_type": "display_data"
    },
    {
     "data": {
      "text/plain": [
       "<IPython.core.display.Markdown object>"
      ],
      "text/markdown": "[Open Website](https://adventofcode.com/2024/day/5)"
     },
     "metadata": {},
     "output_type": "display_data"
    }
   ],
   "execution_count": 1
  },
  {
   "metadata": {
    "ExecuteTime": {
     "end_time": "2024-12-05T07:43:53.614093Z",
     "start_time": "2024-12-05T07:43:53.560430Z"
    }
   },
   "cell_type": "code",
   "source": [
    "# test case (part 1)\n",
    "def check_task(task: list, rules: list) -> bool:\n",
    "    rules_subset = []\n",
    "    # find rules for numbers in task\n",
    "    for rule in rules:\n",
    "        if rule[0] in task and rule[1] in task:\n",
    "            rules_subset.append(rule)\n",
    "\n",
    "    for number in task:\n",
    "        relevant_rules = find_rules(rules_subset, number)\n",
    "        for rule in relevant_rules:\n",
    "            # find position of numbers in rules\n",
    "            left = task.index(rule[0])\n",
    "            right = task.index(rule[1])\n",
    "            if left > right:\n",
    "                return False\n",
    "    return True\n",
    "\n",
    "\n",
    "def find_rules(rules: list, page: int) -> list:\n",
    "    found_rules = []\n",
    "    for rule in rules:\n",
    "        if page in rule:\n",
    "            found_rules.append(rule)\n",
    "    return found_rules\n",
    "\n",
    "\n",
    "def part_1(input: InputReader, debug: bool) -> int:\n",
    "    lines = input.lines_as_str()\n",
    "\n",
    "    # iterate over the lines and group them by before and after the empty lines\n",
    "    order_rules = []\n",
    "    tasks = []\n",
    "    first_flag = True\n",
    "    for line in lines:\n",
    "        if len(line) == 0 and first_flag:\n",
    "            first_flag = False\n",
    "        elif first_flag:\n",
    "            pages = line.split(\"|\")\n",
    "            pages = [int(page) for page in pages]\n",
    "            order_rules.append(pages)\n",
    "        else:\n",
    "            pages = line.split(\",\")\n",
    "            pages = [int(page) for page in pages]\n",
    "            tasks.append(pages)\n",
    "\n",
    "    total = 0\n",
    "\n",
    "    for task in tasks:\n",
    "        if check_task(task, order_rules):\n",
    "            length = len(task)\n",
    "            position = int((length) / 2)\n",
    "            median_page = task[position]\n",
    "            total += median_page\n",
    "            if debug:\n",
    "                print(task)\n",
    "                print(median_page)\n",
    "\n",
    "    if debug:\n",
    "        print(total)\n",
    "\n",
    "    return total\n",
    "\n",
    "\n",
    "example = puzzle.examples[0]\n",
    "result = part_1(InputReader(example.input_data), True)\n",
    "assert result == 143"
   ],
   "id": "6d23892a17117fed",
   "outputs": [
    {
     "name": "stdout",
     "output_type": "stream",
     "text": [
      "[75, 47, 61, 53, 29]\n",
      "61\n",
      "[97, 61, 53, 29, 13]\n",
      "53\n",
      "[75, 29, 13]\n",
      "29\n",
      "143\n"
     ]
    }
   ],
   "execution_count": 2
  },
  {
   "metadata": {
    "ExecuteTime": {
     "end_time": "2024-12-05T07:43:59.684992Z",
     "start_time": "2024-12-05T07:43:59.634773Z"
    }
   },
   "cell_type": "code",
   "source": [
    "# real case (part 1)\n",
    "result = part_1(InputReader(puzzle.input_data), False)\n",
    "display(result)\n",
    "assert result == 5588"
   ],
   "id": "66cab898e4711d42",
   "outputs": [
    {
     "data": {
      "text/plain": [
       "5588"
      ]
     },
     "metadata": {},
     "output_type": "display_data"
    }
   ],
   "execution_count": 4
  },
  {
   "metadata": {
    "ExecuteTime": {
     "end_time": "2024-12-05T08:07:33.015708Z",
     "start_time": "2024-12-05T08:07:33.008183Z"
    }
   },
   "cell_type": "code",
   "source": [
    "\n",
    "def fix_task(task: list, rules: list, debug: bool) -> int:\n",
    "    rules_subset = []\n",
    "    # find rules for numbers in task\n",
    "    for rule in rules:\n",
    "        if rule[0] in task and rule[1] in task:\n",
    "            rules_subset.append(rule)\n",
    "\n",
    "    if debug:\n",
    "        print(task)\n",
    "        # print(rules_subset)\n",
    "\n",
    "    while not check_task(task, rules_subset):\n",
    "        for number in task:\n",
    "            relevant_rules = find_rules(rules_subset, number)\n",
    "            for rule in relevant_rules:\n",
    "                # find position of numbers in rules\n",
    "                left = task.index(rule[0])\n",
    "                right = task.index(rule[1])\n",
    "                if left > right:\n",
    "                    if debug:\n",
    "                        print(f\"Rule broken rule: {rule} on {number}\")\n",
    "                    # move right number left and break the loop\n",
    "                    task.remove(rule[1])\n",
    "                    task.insert(left, rule[1])\n",
    "                    break\n",
    "\n",
    "    length = len(task)\n",
    "    position = int(length / 2)\n",
    "    median_page = task[position]\n",
    "    return median_page\n",
    "\n",
    "\n",
    "# test case (part 2)\n",
    "def part_2(input: InputReader, debug: bool) -> int:\n",
    "    lines = input.lines_as_str()\n",
    "\n",
    "    # iterate over the lines and group them by before and after the empty lines\n",
    "    order_rules = []\n",
    "    tasks = []\n",
    "    first_flag = True\n",
    "    for line in lines:\n",
    "        if len(line) == 0 and first_flag:\n",
    "            first_flag = False\n",
    "        elif first_flag:\n",
    "            pages = line.split(\"|\")\n",
    "            pages = [int(page) for page in pages]\n",
    "            order_rules.append(pages)\n",
    "        else:\n",
    "            pages = line.split(\",\")\n",
    "            pages = [int(page) for page in pages]\n",
    "            tasks.append(pages)\n",
    "\n",
    "    total = 0\n",
    "\n",
    "    for task in tasks:\n",
    "        if not check_task(task, order_rules):\n",
    "            total += fix_task(task, order_rules, debug)\n",
    "\n",
    "    if debug:\n",
    "        print(total)\n",
    "\n",
    "    return total\n",
    "\n",
    "\n",
    "example = puzzle.examples[0]\n",
    "result = part_2(InputReader(example.input_data), True)\n",
    "assert result == 123"
   ],
   "id": "d2277c7db8ea0a5e",
   "outputs": [
    {
     "name": "stdout",
     "output_type": "stream",
     "text": [
      "[75, 97, 47, 61, 53]\n",
      "Rule broken rule: [97, 75] on 75\n",
      "[61, 13, 29]\n",
      "Rule broken rule: [29, 13] on 13\n",
      "[97, 13, 75, 29, 47]\n",
      "Rule broken rule: [29, 13] on 13\n",
      "Rule broken rule: [47, 29] on 29\n",
      "Rule broken rule: [47, 13] on 47\n",
      "Rule broken rule: [29, 13] on 29\n",
      "123\n"
     ]
    }
   ],
   "execution_count": 12
  },
  {
   "metadata": {
    "ExecuteTime": {
     "end_time": "2024-12-05T08:07:36.365075Z",
     "start_time": "2024-12-05T08:07:36.249070Z"
    }
   },
   "cell_type": "code",
   "source": [
    "# real case (part 2)\n",
    "result = part_2(InputReader(puzzle.input_data), False)\n",
    "display(result)"
   ],
   "id": "57c071f7c6d2914",
   "outputs": [
    {
     "data": {
      "text/plain": [
       "5331"
      ]
     },
     "metadata": {},
     "output_type": "display_data"
    }
   ],
   "execution_count": 13
  },
  {
   "metadata": {},
   "cell_type": "code",
   "outputs": [],
   "execution_count": null,
   "source": "",
   "id": "be0444dec4014a2e"
  }
 ],
 "metadata": {
  "kernelspec": {
   "display_name": "Python 3",
   "language": "python",
   "name": "python3"
  },
  "language_info": {
   "codemirror_mode": {
    "name": "ipython",
    "version": 2
   },
   "file_extension": ".py",
   "mimetype": "text/x-python",
   "name": "python",
   "nbconvert_exporter": "python",
   "pygments_lexer": "ipython2",
   "version": "2.7.6"
  }
 },
 "nbformat": 4,
 "nbformat_minor": 5
}
