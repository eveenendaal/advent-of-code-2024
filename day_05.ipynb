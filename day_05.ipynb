{
 "cells": [
  {
   "cell_type": "code",
   "execution_count": 1,
   "id": "dec75b3898d7314f",
   "metadata": {
    "ExecuteTime": {
     "end_time": "2024-12-08T08:22:31.799682Z",
     "start_time": "2024-12-08T08:22:31.708543Z"
    },
    "execution": {
     "iopub.execute_input": "2024-12-08T05:46:54.449162Z",
     "iopub.status.busy": "2024-12-08T05:46:54.448730Z",
     "iopub.status.idle": "2024-12-08T05:46:54.548308Z",
     "shell.execute_reply": "2024-12-08T05:46:54.548064Z"
    }
   },
   "outputs": [
    {
     "data": {
      "text/markdown": [
       "# Print Queue"
      ],
      "text/plain": [
       "<IPython.core.display.Markdown object>"
      ]
     },
     "metadata": {},
     "output_type": "display_data"
    },
    {
     "data": {
      "text/markdown": [
       "[Open Website](https://adventofcode.com/2024/day/5)"
      ],
      "text/plain": [
       "<IPython.core.display.Markdown object>"
      ]
     },
     "metadata": {},
     "output_type": "display_data"
    }
   ],
   "source": [
    "from IPython.core.display import Markdown\n",
    "from aocd.models import Puzzle\n",
    "\n",
    "from common.inputreader import InputReader\n",
    "\n",
    "puzzle = Puzzle(year=2024, day=int(\"05\"))\n",
    "\n",
    "display(Markdown(f\"# {puzzle.title}\"))\n",
    "display(Markdown(f\"[Open Website]({puzzle.url})\"))"
   ]
  },
  {
   "cell_type": "code",
   "execution_count": 2,
   "id": "e657439cf5931b4a",
   "metadata": {
    "ExecuteTime": {
     "end_time": "2024-12-08T08:22:31.811710Z",
     "start_time": "2024-12-08T08:22:31.804876Z"
    }
   },
   "outputs": [
    {
     "data": {
      "text/markdown": [
       "## Easter Eggs"
      ],
      "text/plain": [
       "<IPython.core.display.Markdown object>"
      ]
     },
     "metadata": {},
     "output_type": "display_data"
    },
    {
     "data": {
      "text/markdown": [
       "<span title=\"Specifically, the surely-stationary stationery stacks.\">stationery</span> (Specifically, the surely-stationary stationery stacks.)"
      ],
      "text/plain": [
       "<IPython.core.display.Markdown object>"
      ]
     },
     "metadata": {},
     "output_type": "display_data"
    }
   ],
   "source": [
    "from common.inputreader import print_easter_eggs\n",
    "print_easter_eggs(puzzle)"
   ]
  },
  {
   "cell_type": "code",
   "execution_count": 3,
   "id": "6d23892a17117fed",
   "metadata": {
    "ExecuteTime": {
     "end_time": "2024-12-08T08:23:22.966963Z",
     "start_time": "2024-12-08T08:23:22.903026Z"
    },
    "execution": {
     "iopub.execute_input": "2024-12-08T05:46:54.549607Z",
     "iopub.status.busy": "2024-12-08T05:46:54.549507Z",
     "iopub.status.idle": "2024-12-08T05:46:54.562429Z",
     "shell.execute_reply": "2024-12-08T05:46:54.562185Z"
    }
   },
   "outputs": [
    {
     "name": "stdout",
     "output_type": "stream",
     "text": [
      "[75, 47, 61, 53, 29]\n",
      "61\n",
      "[97, 61, 53, 29, 13]\n",
      "53\n",
      "[75, 29, 13]\n",
      "29\n",
      "143\n"
     ]
    }
   ],
   "source": [
    "# test case (part 1)\n",
    "def check_task(task: list, rules: list) -> bool:\n",
    "    rules_subset = []\n",
    "    # find rules for numbers in task\n",
    "    for rule in rules:\n",
    "        if rule[0] in task and rule[1] in task:\n",
    "            rules_subset.append(rule)\n",
    "\n",
    "    for number in task:\n",
    "        relevant_rules = find_rules(rules_subset, number)\n",
    "        for rule in relevant_rules:\n",
    "            # find position of numbers in rules\n",
    "            left = task.index(rule[0])\n",
    "            right = task.index(rule[1])\n",
    "            if left > right:\n",
    "                return False\n",
    "    return True\n",
    "\n",
    "\n",
    "def find_rules(rules: list, page: int) -> list:\n",
    "    found_rules = []\n",
    "    for rule in rules:\n",
    "        if page in rule:\n",
    "            found_rules.append(rule)\n",
    "    return found_rules\n",
    "\n",
    "\n",
    "def part_1(input: InputReader, debug: bool) -> int:\n",
    "    lines = input.lines_as_str()\n",
    "\n",
    "    # iterate over the lines and group them by before and after the empty lines\n",
    "    order_rules = []\n",
    "    tasks = []\n",
    "    first_flag = True\n",
    "    for line in lines:\n",
    "        if len(line) == 0 and first_flag:\n",
    "            first_flag = False\n",
    "        elif first_flag:\n",
    "            pages = line.split(\"|\")\n",
    "            pages = [int(page) for page in pages]\n",
    "            order_rules.append(pages)\n",
    "        else:\n",
    "            pages = line.split(\",\")\n",
    "            pages = [int(page) for page in pages]\n",
    "            tasks.append(pages)\n",
    "\n",
    "    total = 0\n",
    "\n",
    "    for task in tasks:\n",
    "        if check_task(task, order_rules):\n",
    "            length = len(task)\n",
    "            position = int((length) / 2)\n",
    "            median_page = task[position]\n",
    "            total += median_page\n",
    "            if debug:\n",
    "                print(task)\n",
    "                print(median_page)\n",
    "\n",
    "    if debug:\n",
    "        print(total)\n",
    "\n",
    "    return total\n",
    "\n",
    "\n",
    "example = puzzle.examples[0]\n",
    "result = part_1(InputReader(example.input_data), True)\n",
    "assert result == 143"
   ]
  },
  {
   "cell_type": "code",
   "execution_count": 4,
   "id": "66cab898e4711d42",
   "metadata": {
    "ExecuteTime": {
     "end_time": "2024-12-08T08:23:23.099539Z",
     "start_time": "2024-12-08T08:23:23.049720Z"
    },
    "execution": {
     "iopub.execute_input": "2024-12-08T05:46:54.563614Z",
     "iopub.status.busy": "2024-12-08T05:46:54.563522Z",
     "iopub.status.idle": "2024-12-08T05:46:54.607474Z",
     "shell.execute_reply": "2024-12-08T05:46:54.607238Z"
    }
   },
   "outputs": [
    {
     "data": {
      "text/plain": [
       "5588"
      ]
     },
     "metadata": {},
     "output_type": "display_data"
    }
   ],
   "source": [
    "# real case (part 1)\n",
    "result = part_1(InputReader(puzzle.input_data), False)\n",
    "display(result)\n",
    "assert result == 5588"
   ]
  },
  {
   "cell_type": "code",
   "execution_count": 4,
   "id": "d2277c7db8ea0a5e",
   "metadata": {
    "ExecuteTime": {
     "end_time": "2024-12-05T18:08:56.204244Z",
     "start_time": "2024-12-05T18:08:56.198008Z"
    },
    "execution": {
     "iopub.execute_input": "2024-12-08T05:46:54.608645Z",
     "iopub.status.busy": "2024-12-08T05:46:54.608563Z",
     "iopub.status.idle": "2024-12-08T05:46:54.613632Z",
     "shell.execute_reply": "2024-12-08T05:46:54.613390Z"
    }
   },
   "outputs": [
    {
     "name": "stdout",
     "output_type": "stream",
     "text": [
      "[75, 97, 47, 61, 53]\n",
      "Rule broken rule: [97, 75] on 75\n",
      "[61, 13, 29]\n",
      "Rule broken rule: [29, 13] on 13\n",
      "[97, 13, 75, 29, 47]\n",
      "Rule broken rule: [29, 13] on 13\n",
      "Rule broken rule: [47, 29] on 29\n",
      "Rule broken rule: [47, 13] on 47\n",
      "Rule broken rule: [29, 13] on 29\n",
      "123\n"
     ]
    }
   ],
   "source": [
    "\n",
    "def fix_task(task: list, rules: list, debug: bool) -> int:\n",
    "    rules_subset = []\n",
    "    # find rules for numbers in task\n",
    "    for rule in rules:\n",
    "        if rule[0] in task and rule[1] in task:\n",
    "            rules_subset.append(rule)\n",
    "\n",
    "    if debug:\n",
    "        print(task)\n",
    "        # print(rules_subset)\n",
    "\n",
    "    while not check_task(task, rules_subset):\n",
    "        for number in task:\n",
    "            relevant_rules = find_rules(rules_subset, number)\n",
    "            for rule in relevant_rules:\n",
    "                # find position of numbers in rules\n",
    "                left = task.index(rule[0])\n",
    "                right = task.index(rule[1])\n",
    "                if left > right:\n",
    "                    if debug:\n",
    "                        print(f\"Rule broken rule: {rule} on {number}\")\n",
    "                    # move right number left and break the loop\n",
    "                    task.remove(rule[1])\n",
    "                    task.insert(left, rule[1])\n",
    "                    break\n",
    "\n",
    "    length = len(task)\n",
    "    position = int(length / 2)\n",
    "    median_page = task[position]\n",
    "    return median_page\n",
    "\n",
    "\n",
    "# test case (part 2)\n",
    "def part_2(input: InputReader, debug: bool) -> int:\n",
    "    lines = input.lines_as_str()\n",
    "\n",
    "    # iterate over the lines and group them by before and after the empty lines\n",
    "    order_rules = []\n",
    "    tasks = []\n",
    "    first_flag = True\n",
    "    for line in lines:\n",
    "        if len(line) == 0 and first_flag:\n",
    "            first_flag = False\n",
    "        elif first_flag:\n",
    "            pages = line.split(\"|\")\n",
    "            pages = [int(page) for page in pages]\n",
    "            order_rules.append(pages)\n",
    "        else:\n",
    "            pages = line.split(\",\")\n",
    "            pages = [int(page) for page in pages]\n",
    "            tasks.append(pages)\n",
    "\n",
    "    total = 0\n",
    "\n",
    "    for task in tasks:\n",
    "        if not check_task(task, order_rules):\n",
    "            total += fix_task(task, order_rules, debug)\n",
    "\n",
    "    if debug:\n",
    "        print(total)\n",
    "\n",
    "    return total\n",
    "\n",
    "\n",
    "example = puzzle.examples[0]\n",
    "result = part_2(InputReader(example.input_data), True)\n",
    "assert result == 123"
   ]
  },
  {
   "cell_type": "code",
   "execution_count": 5,
   "id": "57c071f7c6d2914",
   "metadata": {
    "ExecuteTime": {
     "end_time": "2024-12-05T18:08:56.328505Z",
     "start_time": "2024-12-05T18:08:56.215431Z"
    },
    "execution": {
     "iopub.execute_input": "2024-12-08T05:46:54.614732Z",
     "iopub.status.busy": "2024-12-08T05:46:54.614653Z",
     "iopub.status.idle": "2024-12-08T05:46:54.726084Z",
     "shell.execute_reply": "2024-12-08T05:46:54.725834Z"
    }
   },
   "outputs": [
    {
     "data": {
      "text/plain": [
       "5331"
      ]
     },
     "metadata": {},
     "output_type": "display_data"
    }
   ],
   "source": [
    "# real case (part 2)\n",
    "result = part_2(InputReader(puzzle.input_data), False)\n",
    "display(result)\n",
    "assert result == 5331"
   ]
  },
  {
   "cell_type": "code",
   "execution_count": null,
   "id": "be0444dec4014a2e",
   "metadata": {
    "ExecuteTime": {
     "end_time": "2024-12-05T18:08:56.340653Z",
     "start_time": "2024-12-05T18:08:56.339240Z"
    }
   },
   "outputs": [],
   "source": []
  }
 ],
 "metadata": {
  "kernelspec": {
   "display_name": "Python 3",
   "language": "python",
   "name": "python3"
  },
  "language_info": {
   "codemirror_mode": {
    "name": "ipython",
    "version": 3
   },
   "file_extension": ".py",
   "mimetype": "text/x-python",
   "name": "python",
   "nbconvert_exporter": "python",
   "pygments_lexer": "ipython3",
   "version": "3.12.1"
  }
 },
 "nbformat": 4,
 "nbformat_minor": 5
}
