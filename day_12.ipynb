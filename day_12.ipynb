{
 "cells": [
  {
   "metadata": {
    "ExecuteTime": {
     "end_time": "2024-12-12T10:31:18.737824Z",
     "start_time": "2024-12-12T10:31:18.728148Z"
    }
   },
   "cell_type": "code",
   "source": [
    "from contourpy.array import concat_points_or_none\n",
    "\n",
    "from common.inputreader import InputReader, PuzzleWrapper\n",
    "from common.matrix import MatrixNavigator\n",
    "\n",
    "puzzle = PuzzleWrapper(year=2024, day=int(\"12\"))\n",
    "\n",
    "puzzle.header()\n",
    "# example = get_code_block(puzzle, 5)"
   ],
   "id": "dec75b3898d7314f",
   "outputs": [
    {
     "data": {
      "text/plain": [
       "<IPython.core.display.Markdown object>"
      ],
      "text/markdown": "# Garden Groups"
     },
     "metadata": {},
     "output_type": "display_data"
    },
    {
     "data": {
      "text/plain": [
       "<IPython.core.display.Markdown object>"
      ],
      "text/markdown": "[Open Website](https://adventofcode.com/2024/day/12)"
     },
     "metadata": {},
     "output_type": "display_data"
    }
   ],
   "execution_count": 22
  },
  {
   "metadata": {
    "ExecuteTime": {
     "end_time": "2024-12-12T10:31:19.178540Z",
     "start_time": "2024-12-12T10:31:19.167321Z"
    }
   },
   "cell_type": "code",
   "source": [
    "# helper functions\n",
    "def domain_from_input(input: InputReader) -> list:\n",
    "    lines = input.matrix()\n",
    "\n",
    "    return lines\n",
    "\n",
    "\n",
    "test_input = domain_from_input(puzzle.get_code_block(2))\n",
    "test_input.print()"
   ],
   "id": "34dd2d43c40af29b",
   "outputs": [
    {
     "name": "stdout",
     "output_type": "stream",
     "text": [
      "RRRRIICCFF\n",
      "RRRRIICCCF\n",
      "VVRRRCCFFF\n",
      "VVRCCCJFFF\n",
      "VVVVCJJCFE\n",
      "VVIVCCJJEE\n",
      "VVIIICJJEE\n",
      "MIIIIIJJEE\n",
      "MIIISIJEEE\n",
      "MMMISSJEEE\n"
     ]
    }
   ],
   "execution_count": 23
  },
  {
   "metadata": {
    "ExecuteTime": {
     "end_time": "2024-12-12T10:31:19.526152Z",
     "start_time": "2024-12-12T10:31:19.502089Z"
    }
   },
   "cell_type": "code",
   "source": [
    "from common.matrix import Direction, MatrixNavigator\n",
    "\n",
    "\n",
    "class Plot:\n",
    "    def __init__(self, letter: str):\n",
    "        self.letter = letter\n",
    "        self.positions = []\n",
    "\n",
    "    def add(self, pos):\n",
    "        self.positions.append(pos)\n",
    "\n",
    "    def total_positions(self):\n",
    "        return len(self.positions)\n",
    "\n",
    "    def total_perimeter(self):\n",
    "        # iterate over positions\n",
    "        perimeter = 0\n",
    "        for x, y in self.positions:\n",
    "            for direction in [(0, 1), (0, -1), (1, 0), (-1, 0)]:\n",
    "                x1 = x + direction[0]\n",
    "                y1 = y + direction[1]\n",
    "                if (x1, y1) not in self.positions:\n",
    "                    perimeter += 1\n",
    "        return perimeter\n",
    "\n",
    "    def __str__(self):\n",
    "        return f\"Plot: {self.letter} - {self.positions}\"\n",
    "\n",
    "\n",
    "# test case (part 1)\n",
    "def part_1(reader: InputReader, debug: bool) -> int:\n",
    "    matrix = domain_from_input(reader)\n",
    "\n",
    "    # find all the letters\n",
    "    letters = set()\n",
    "    for x, y, letter in matrix:\n",
    "        letters.add(letter)\n",
    "\n",
    "    directions = [\n",
    "        Direction.UP,\n",
    "        Direction.DOWN,\n",
    "        Direction.LEFT,\n",
    "        Direction.RIGHT\n",
    "    ]\n",
    "\n",
    "    def find_plot(initial_start: MatrixNavigator) -> Plot:\n",
    "        plot = Plot(initial_start.get_value())\n",
    "        plot.add(initial_start.current_position)\n",
    "\n",
    "        candidates = [initial_start.current_position]\n",
    "\n",
    "        # loop through candidates\n",
    "        while candidates:\n",
    "            start = candidates.pop()\n",
    "            start_pointer = MatrixNavigator(matrix, start[0], start[1])\n",
    "            for direction in directions:\n",
    "                pointer = start_pointer.copy()\n",
    "                ok = pointer.move(direction)\n",
    "                if ok and pointer.get_value() == plot.letter:\n",
    "                    if pointer.current_position not in plot.positions:\n",
    "                        plot.add(pointer.current_position)\n",
    "                        candidates.append(pointer.current_position)\n",
    "\n",
    "        return plot\n",
    "\n",
    "    history = set()\n",
    "    plots = []\n",
    "\n",
    "    for x, y, letter in matrix:\n",
    "        pointer = MatrixNavigator(matrix, x, y)\n",
    "        if pointer.current_position in history:\n",
    "            continue\n",
    "\n",
    "        plot = find_plot(pointer)\n",
    "        plots.append(plot)\n",
    "        for position in plot.positions:\n",
    "            history.add(position)\n",
    "\n",
    "    total = 0\n",
    "\n",
    "    for plot in plots:\n",
    "        if debug:\n",
    "            print(plot)\n",
    "            print(f\"total positions: {plot.total_positions()} total perimeter: {plot.total_perimeter()}\")\n",
    "        total += plot.total_positions() * plot.total_perimeter()\n",
    "\n",
    "    if debug:\n",
    "        matrix.print()\n",
    "    return total\n",
    "\n",
    "\n",
    "result = part_1(puzzle.get_code_block(2), True)\n",
    "display(result)\n",
    "assert result == 1930"
   ],
   "id": "6d23892a17117fed",
   "outputs": [
    {
     "name": "stdout",
     "output_type": "stream",
     "text": [
      "Plot: R - [(0, 0), (0, 1), (1, 0), (1, 1), (2, 0), (2, 1), (3, 0), (3, 1), (3, 2), (2, 2), (4, 2), (2, 3)]\n",
      "total positions: 12 total perimeter: 18\n",
      "Plot: I - [(4, 0), (4, 1), (5, 0), (5, 1)]\n",
      "total positions: 4 total perimeter: 8\n",
      "Plot: C - [(6, 0), (6, 1), (7, 0), (7, 1), (8, 1), (6, 2), (5, 2), (5, 3), (4, 3), (4, 4), (3, 3), (4, 5), (5, 5), (5, 6)]\n",
      "total positions: 14 total perimeter: 28\n",
      "Plot: F - [(8, 0), (9, 0), (9, 1), (9, 2), (9, 3), (8, 2), (8, 3), (7, 2), (7, 3), (8, 4)]\n",
      "total positions: 10 total perimeter: 18\n",
      "Plot: V - [(0, 2), (0, 3), (1, 2), (1, 3), (1, 4), (1, 5), (0, 4), (2, 4), (3, 4), (3, 5), (0, 5), (0, 6), (1, 6)]\n",
      "total positions: 13 total perimeter: 20\n",
      "Plot: J - [(6, 3), (6, 4), (6, 5), (5, 4), (6, 6), (7, 5), (7, 6), (7, 7), (6, 7), (6, 8), (6, 9)]\n",
      "total positions: 11 total perimeter: 20\n",
      "Plot: C - [(7, 4)]\n",
      "total positions: 1 total perimeter: 4\n",
      "Plot: E - [(9, 4), (9, 5), (9, 6), (8, 5), (8, 6), (8, 7), (8, 8), (9, 7), (9, 8), (9, 9), (8, 9), (7, 9), (7, 8)]\n",
      "total positions: 13 total perimeter: 18\n",
      "Plot: I - [(2, 5), (2, 6), (2, 7), (3, 6), (3, 7), (4, 6), (4, 7), (5, 7), (5, 8), (3, 8), (3, 9), (2, 8), (1, 8), (1, 7)]\n",
      "total positions: 14 total perimeter: 22\n",
      "Plot: M - [(0, 7), (0, 8), (0, 9), (1, 9), (2, 9)]\n",
      "total positions: 5 total perimeter: 12\n",
      "Plot: S - [(4, 8), (4, 9), (5, 9)]\n",
      "total positions: 3 total perimeter: 8\n",
      "RRRRIICCFF\n",
      "RRRRIICCCF\n",
      "VVRRRCCFFF\n",
      "VVRCCCJFFF\n",
      "VVVVCJJCFE\n",
      "VVIVCCJJEE\n",
      "VVIIICJJEE\n",
      "MIIIIIJJEE\n",
      "MIIISIJEEE\n",
      "MMMISSJEEE\n"
     ]
    },
    {
     "data": {
      "text/plain": [
       "1930"
      ]
     },
     "metadata": {},
     "output_type": "display_data"
    }
   ],
   "execution_count": 24
  },
  {
   "metadata": {
    "ExecuteTime": {
     "end_time": "2024-12-12T10:31:21.544114Z",
     "start_time": "2024-12-12T10:31:21.270002Z"
    }
   },
   "cell_type": "code",
   "source": [
    "# real case (part 1)\n",
    "result = part_1(puzzle.input(), False)\n",
    "display(result)\n",
    "assert 1319878 == result"
   ],
   "id": "66cab898e4711d42",
   "outputs": [
    {
     "data": {
      "text/plain": [
       "1319878"
      ]
     },
     "metadata": {},
     "output_type": "display_data"
    }
   ],
   "execution_count": 25
  },
  {
   "metadata": {
    "ExecuteTime": {
     "end_time": "2024-12-12T10:33:43.942139Z",
     "start_time": "2024-12-12T10:33:43.917838Z"
    }
   },
   "cell_type": "code",
   "source": [
    "# test case (part 2)\n",
    "class Plot2:\n",
    "    def __init__(self, letter: str):\n",
    "        self.letter = letter\n",
    "        self.positions = []\n",
    "\n",
    "    def add(self, pos):\n",
    "        self.positions.append(pos)\n",
    "\n",
    "    def total_positions(self):\n",
    "        return len(self.positions)\n",
    "\n",
    "    def get_edges(self):\n",
    "        edges = []\n",
    "        for x, y in self.positions:\n",
    "            neighbors = self.find_neighbors(x, y, self.positions)\n",
    "            if len(neighbors) < 4:\n",
    "                edges.append((x, y))\n",
    "        return edges\n",
    "\n",
    "    @staticmethod\n",
    "    def find_neighbors(x, y, positions):\n",
    "        neighbors = []\n",
    "        for direction in [(-1, 0), (0, 1), (1, 0), (0, -1)]:\n",
    "            x1 = x + direction[0]\n",
    "            y1 = y + direction[1]\n",
    "            if (x1, y1) in positions:\n",
    "                neighbors.append((x1, y1))\n",
    "        return neighbors\n",
    "\n",
    "    def total_sides(self):\n",
    "        edges = 0\n",
    "        points = self.positions\n",
    "        min_x = min(x for x, _ in points)\n",
    "        max_x = max(x for x, _ in points)\n",
    "        min_y = min(y for _, y in points)\n",
    "        max_y = max(y for _, y in points)\n",
    "\n",
    "        # create iterators\n",
    "        range_y = range(min_y, max_y + 1)\n",
    "        range_x = range(min_x, max_x + 1)\n",
    "\n",
    "        for y in range_y:\n",
    "            top_was_edge = False\n",
    "            bottom_was_edge = False\n",
    "            for x in range_x:\n",
    "                top_is_edge = False\n",
    "                bottom_is_edge = False\n",
    "\n",
    "                if (x, y) in points:\n",
    "                    neighbors = self.find_neighbors(x, y, self.positions)\n",
    "                    top_is_edge = (x, y - 1) not in neighbors\n",
    "                    bottom_is_edge = (x, y + 1) not in neighbors\n",
    "\n",
    "                    if top_is_edge and not top_was_edge:\n",
    "                        edges += 1\n",
    "                    if bottom_is_edge and not bottom_was_edge:\n",
    "                        edges += 1\n",
    "\n",
    "                top_was_edge = top_is_edge\n",
    "                bottom_was_edge = bottom_is_edge\n",
    "\n",
    "        for x in range_x:\n",
    "            left_was_edge = False\n",
    "            right_was_edge = False\n",
    "            for y in range_y:\n",
    "                left_is_edge = False\n",
    "                right_is_edge = False\n",
    "\n",
    "                if (x, y) in points:\n",
    "                    neighbors = self.find_neighbors(x, y, self.positions)\n",
    "                    left_is_edge = (x - 1, y) not in neighbors\n",
    "                    right_is_edge = (x + 1, y) not in neighbors\n",
    "\n",
    "                    if left_is_edge and not left_was_edge:\n",
    "                        edges += 1\n",
    "                    if right_is_edge and not right_was_edge:\n",
    "                        edges += 1\n",
    "\n",
    "                left_was_edge = left_is_edge\n",
    "                right_was_edge = right_is_edge\n",
    "\n",
    "        return edges\n",
    "\n",
    "    def __str__(self):\n",
    "        return f\"Plot: {self.letter} - {self.positions}\"\n",
    "\n",
    "\n",
    "def part_2(reader: InputReader, debug: bool) -> int:\n",
    "    matrix = domain_from_input(reader)\n",
    "\n",
    "    # find all the letters\n",
    "    letters = set()\n",
    "    for x, y, letter in matrix:\n",
    "        letters.add(letter)\n",
    "\n",
    "    directions = [\n",
    "        Direction.UP,\n",
    "        Direction.DOWN,\n",
    "        Direction.LEFT,\n",
    "        Direction.RIGHT\n",
    "    ]\n",
    "\n",
    "    def find_plot(initial_start: MatrixNavigator) -> Plot2:\n",
    "        plot = Plot2(initial_start.get_value())\n",
    "        plot.add(initial_start.current_position)\n",
    "\n",
    "        candidates = [initial_start.current_position]\n",
    "\n",
    "        # loop through candidates\n",
    "        while candidates:\n",
    "            start = candidates.pop()\n",
    "            start_pointer = MatrixNavigator(matrix, start[0], start[1])\n",
    "            for direction in directions:\n",
    "                pointer = start_pointer.copy()\n",
    "                ok = pointer.move(direction)\n",
    "                if ok and pointer.get_value() == plot.letter:\n",
    "                    if pointer.current_position not in plot.positions:\n",
    "                        plot.add(pointer.current_position)\n",
    "                        candidates.append(pointer.current_position)\n",
    "\n",
    "        return plot\n",
    "\n",
    "    history = set()\n",
    "    plots = []\n",
    "\n",
    "    for x, y, letter in matrix:\n",
    "        pointer = MatrixNavigator(matrix, x, y)\n",
    "        if pointer.current_position in history:\n",
    "            continue\n",
    "\n",
    "        plot = find_plot(pointer)\n",
    "        plots.append(plot)\n",
    "        for position in plot.positions:\n",
    "            history.add(position)\n",
    "\n",
    "    total = 0\n",
    "\n",
    "    for plot in plots:\n",
    "        if debug:\n",
    "            print(plot)\n",
    "            print(f\"total positions: {plot.total_positions()} total perimeter: {plot.total_sides()}\")\n",
    "        total += plot.total_positions() * plot.total_sides()\n",
    "\n",
    "    if debug:\n",
    "        matrix.print()\n",
    "    return total\n",
    "\n",
    "\n",
    "result = part_2(puzzle.get_code_block(2), True)\n",
    "display(result)\n",
    "assert result == 1206"
   ],
   "id": "d2277c7db8ea0a5e",
   "outputs": [
    {
     "name": "stdout",
     "output_type": "stream",
     "text": [
      "Plot: R - [(0, 0), (0, 1), (1, 0), (1, 1), (2, 0), (2, 1), (3, 0), (3, 1), (3, 2), (2, 2), (4, 2), (2, 3)]\n",
      "total positions: 12 total perimeter: 10\n",
      "Plot: I - [(4, 0), (4, 1), (5, 0), (5, 1)]\n",
      "total positions: 4 total perimeter: 4\n",
      "Plot: C - [(6, 0), (6, 1), (7, 0), (7, 1), (8, 1), (6, 2), (5, 2), (5, 3), (4, 3), (4, 4), (3, 3), (4, 5), (5, 5), (5, 6)]\n",
      "total positions: 14 total perimeter: 22\n",
      "Plot: F - [(8, 0), (9, 0), (9, 1), (9, 2), (9, 3), (8, 2), (8, 3), (7, 2), (7, 3), (8, 4)]\n",
      "total positions: 10 total perimeter: 12\n",
      "Plot: V - [(0, 2), (0, 3), (1, 2), (1, 3), (1, 4), (1, 5), (0, 4), (2, 4), (3, 4), (3, 5), (0, 5), (0, 6), (1, 6)]\n",
      "total positions: 13 total perimeter: 10\n",
      "Plot: J - [(6, 3), (6, 4), (6, 5), (5, 4), (6, 6), (7, 5), (7, 6), (7, 7), (6, 7), (6, 8), (6, 9)]\n",
      "total positions: 11 total perimeter: 12\n",
      "Plot: C - [(7, 4)]\n",
      "total positions: 1 total perimeter: 4\n",
      "Plot: E - [(9, 4), (9, 5), (9, 6), (8, 5), (8, 6), (8, 7), (8, 8), (9, 7), (9, 8), (9, 9), (8, 9), (7, 9), (7, 8)]\n",
      "total positions: 13 total perimeter: 8\n",
      "Plot: I - [(2, 5), (2, 6), (2, 7), (3, 6), (3, 7), (4, 6), (4, 7), (5, 7), (5, 8), (3, 8), (3, 9), (2, 8), (1, 8), (1, 7)]\n",
      "total positions: 14 total perimeter: 16\n",
      "Plot: M - [(0, 7), (0, 8), (0, 9), (1, 9), (2, 9)]\n",
      "total positions: 5 total perimeter: 6\n",
      "Plot: S - [(4, 8), (4, 9), (5, 9)]\n",
      "total positions: 3 total perimeter: 6\n",
      "RRRRIICCFF\n",
      "RRRRIICCCF\n",
      "VVRRRCCFFF\n",
      "VVRCCCJFFF\n",
      "VVVVCJJCFE\n",
      "VVIVCCJJEE\n",
      "VVIIICJJEE\n",
      "MIIIIIJJEE\n",
      "MIIISIJEEE\n",
      "MMMISSJEEE\n"
     ]
    },
    {
     "data": {
      "text/plain": [
       "1206"
      ]
     },
     "metadata": {},
     "output_type": "display_data"
    }
   ],
   "execution_count": 28
  },
  {
   "metadata": {
    "ExecuteTime": {
     "end_time": "2024-12-12T10:33:46.672211Z",
     "start_time": "2024-12-12T10:33:46.366947Z"
    }
   },
   "cell_type": "code",
   "source": [
    "# real case (part 2)\n",
    "result = part_2(puzzle.input(), False)\n",
    "display(result)\n",
    "assert result == 784982"
   ],
   "id": "57c071f7c6d2914",
   "outputs": [
    {
     "data": {
      "text/plain": [
       "784982"
      ]
     },
     "metadata": {},
     "output_type": "display_data"
    }
   ],
   "execution_count": 29
  },
  {
   "metadata": {
    "ExecuteTime": {
     "end_time": "2024-12-12T10:22:59.499617Z",
     "start_time": "2024-12-12T09:33:09.313170Z"
    }
   },
   "cell_type": "code",
   "source": [
    "# print easters eggs\n",
    "puzzle.print_easter_eggs()"
   ],
   "id": "44e329cbb6ad2400",
   "outputs": [
    {
     "data": {
      "text/plain": [
       "<IPython.core.display.Markdown object>"
      ],
      "text/markdown": "## Easter Eggs"
     },
     "metadata": {},
     "output_type": "display_data"
    },
    {
     "data": {
      "text/plain": [
       "<IPython.core.display.Markdown object>"
      ],
      "text/markdown": "<span title='I originally wanted to title this puzzle \"Fencepost Problem\", but I was afraid someone would then try to count fenceposts by mistake and experience a fencepost problem.'>fences</span> (I originally wanted to title this puzzle \"Fencepost Problem\", but I was afraid someone would then try to count fenceposts by mistake and experience a fencepost problem.)"
     },
     "metadata": {},
     "output_type": "display_data"
    }
   ],
   "execution_count": 21
  }
 ],
 "metadata": {
  "kernelspec": {
   "display_name": "Python 3",
   "language": "python",
   "name": "python3"
  },
  "language_info": {
   "codemirror_mode": {
    "name": "ipython",
    "version": 2
   },
   "file_extension": ".py",
   "mimetype": "text/x-python",
   "name": "python",
   "nbconvert_exporter": "python",
   "pygments_lexer": "ipython2",
   "version": "2.7.6"
  }
 },
 "nbformat": 4,
 "nbformat_minor": 5
}
